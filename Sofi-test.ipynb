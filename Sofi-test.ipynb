{
 "cells": [
  {
   "cell_type": "code",
   "execution_count": 26,
   "metadata": {},
   "outputs": [],
   "source": [
    "import pandas as pd\n",
    "import pprint as pp\n",
    "import numpy as np\n",
    "import streamlit as st\n",
    "import requests\n",
    "from requests import post, get\n",
    "import base64\n",
    "import urllib\n",
    "import os\n",
    "import json\n",
    "from dotenv import load_dotenv\n",
    "import plotly.express as px\n",
    "import plotly.offline as pyo\n",
    "import plotly.graph_objs as go\n",
    "import plotly.express as px"
   ]
  },
  {
   "cell_type": "code",
   "execution_count": 2,
   "metadata": {},
   "outputs": [
    {
     "data": {
      "text/html": [
       "<div>\n",
       "<style scoped>\n",
       "    .dataframe tbody tr th:only-of-type {\n",
       "        vertical-align: middle;\n",
       "    }\n",
       "\n",
       "    .dataframe tbody tr th {\n",
       "        vertical-align: top;\n",
       "    }\n",
       "\n",
       "    .dataframe thead th {\n",
       "        text-align: right;\n",
       "    }\n",
       "</style>\n",
       "<table border=\"1\" class=\"dataframe\">\n",
       "  <thead>\n",
       "    <tr style=\"text-align: right;\">\n",
       "      <th></th>\n",
       "      <th>country</th>\n",
       "      <th>capital</th>\n",
       "      <th>cap_lat</th>\n",
       "      <th>cap_lon</th>\n",
       "      <th>country_code</th>\n",
       "      <th>continent</th>\n",
       "    </tr>\n",
       "  </thead>\n",
       "  <tbody>\n",
       "    <tr>\n",
       "      <th>0</th>\n",
       "      <td>Palestine</td>\n",
       "      <td>Jerusalem</td>\n",
       "      <td>31.766667</td>\n",
       "      <td>35.233333</td>\n",
       "      <td>PS</td>\n",
       "      <td>Asia</td>\n",
       "    </tr>\n",
       "    <tr>\n",
       "      <th>1</th>\n",
       "      <td>Nauru</td>\n",
       "      <td>Yaren</td>\n",
       "      <td>-0.547700</td>\n",
       "      <td>166.920867</td>\n",
       "      <td>NR</td>\n",
       "      <td>Australia</td>\n",
       "    </tr>\n",
       "  </tbody>\n",
       "</table>\n",
       "</div>"
      ],
      "text/plain": [
       "     country    capital    cap_lat     cap_lon country_code  continent\n",
       "0  Palestine  Jerusalem  31.766667   35.233333           PS       Asia\n",
       "1      Nauru      Yaren  -0.547700  166.920867           NR  Australia"
      ]
     },
     "execution_count": 2,
     "metadata": {},
     "output_type": "execute_result"
    }
   ],
   "source": [
    "df= pd.read_excel(r'C:\\Users\\sofia\\OneDrive\\Documentos\\GitHub\\bigdataproject\\app\\data\\country-available-final.xlsx')\n",
    "df.head(2)"
   ]
  },
  {
   "cell_type": "code",
   "execution_count": 3,
   "metadata": {},
   "outputs": [],
   "source": [
    "# Spotify Developer Dashboard details\n",
    "load_dotenv()\n",
    "client_id = os.getenv(\"CLIENT_ID\")\n",
    "client_secret = os.getenv(\"CLIENT_SECRET\")\n",
    "\n",
    "# We first request a token to the Spotify Accounts Service, which will be used later on to access the Spotify Web API\n",
    "# To get our access token, we need to pass our client ID, client Secret and grant_type\n",
    "def get_token():\n",
    "    auth_string = client_id + ':' + client_secret\n",
    "    auth_bytes = auth_string.encode(\"utf-8\")\n",
    "    # Spotify requests to encode the client ID and client secret using base64\n",
    "    auth_base64 = str(base64.b64encode(auth_bytes), \"utf-8\")\n",
    "\n",
    "    url = \"https://accounts.spotify.com/api/token\"\n",
    "    headers = {\n",
    "        \"Authorization\": \"Basic \" + auth_base64,\n",
    "        \"Content-Type\": \"application/x-www-form-urlencoded\"\n",
    "    }\n",
    "    data = {\"grant_type\": \"client_credentials\"}\n",
    "    # Make the request\n",
    "    result = post(url,headers= headers, data= data)\n",
    "    # Convert the result (json) into a python dictionary\n",
    "    json_result = json.loads(result.content) \n",
    "    token = json_result[\"access_token\"]\n",
    "    return token"
   ]
  },
  {
   "cell_type": "code",
   "execution_count": 4,
   "metadata": {},
   "outputs": [],
   "source": [
    "token= get_token()"
   ]
  },
  {
   "cell_type": "code",
   "execution_count": 5,
   "metadata": {},
   "outputs": [],
   "source": [
    "# Function to construct the header to send a request\n",
    "def get_auth_header(token):\n",
    "    return{\"Authorization\": \"Bearer \" + token}"
   ]
  },
  {
   "cell_type": "code",
   "execution_count": 6,
   "metadata": {},
   "outputs": [],
   "source": [
    "# Get new releases\n",
    "def get_new_releases(country):\n",
    "    # Find the country code for the given country name\n",
    "    row = df[df['country'] == country]\n",
    "    country_code = row.iloc[0]['country_code']\n",
    "    url= f\"https://api.spotify.com/v1/browse/new-releases?country={country_code}&limit=1\"\n",
    "    headers = get_auth_header(token)\n",
    "    result = get(url, headers=headers)\n",
    "    json_result = json.loads(result.content)['albums']['items'][0]['name']\n",
    "    return json_result"
   ]
  },
  {
   "cell_type": "code",
   "execution_count": 13,
   "metadata": {},
   "outputs": [],
   "source": [
    "# Get new releases artist\n",
    "def get_artist_new_releases(country):\n",
    "    # Find the country code for the given country name\n",
    "    row = df[df['country'] == country]\n",
    "    country_code = row.iloc[0]['country_code']\n",
    "    url= f\"https://api.spotify.com/v1/browse/new-releases?country={country_code}&limit=1\"\n",
    "    headers = get_auth_header(token)\n",
    "    result = get(url, headers=headers)\n",
    "    json_result = json.loads(result.content)['albums']['items'][0]['artists'][0]['name']\n",
    "    return json_result"
   ]
  },
  {
   "cell_type": "code",
   "execution_count": 14,
   "metadata": {},
   "outputs": [
    {
     "data": {
      "text/plain": [
       "'Barbi Recanati'"
      ]
     },
     "execution_count": 14,
     "metadata": {},
     "output_type": "execute_result"
    }
   ],
   "source": [
    "get_artist_new_releases('Argentina')"
   ]
  },
  {
   "cell_type": "code",
   "execution_count": 44,
   "metadata": {},
   "outputs": [],
   "source": [
    "# Get the new release ID, so that later we can search for the tracks\n",
    "def get_new_releases_id(country):\n",
    "    # Find the country code for the given country name\n",
    "    row = df[df['country'] == country]\n",
    "    country_code = row.iloc[0]['country_code']\n",
    "    url= f\"https://api.spotify.com/v1/browse/new-releases?country={country_code}&limit=1\"\n",
    "    headers = get_auth_header(token)\n",
    "    result = get(url, headers=headers)\n",
    "    json_result = json.loads(result.content)['albums']['items'][0]['id']\n",
    "    return json_result"
   ]
  },
  {
   "cell_type": "code",
   "execution_count": 45,
   "metadata": {},
   "outputs": [],
   "source": [
    "# With the ID, get the tracks of that album\n",
    "def tracks_from_album(country):\n",
    "    album_id= get_new_releases_id(country)\n",
    "    url= f\"https://api.spotify.com/v1/albums/{album_id}/tracks?limit=15\"\n",
    "    headers = get_auth_header(token)\n",
    "    result = get(url, headers=headers)\n",
    "    json_result = json.loads(result.content)\n",
    "    for item in json_result['items']:\n",
    "        name=item['name']\n",
    "        number= item['track_number']\n",
    "        print(number,name)\n",
    "    #return print(number,name)"
   ]
  },
  {
   "cell_type": "code",
   "execution_count": 47,
   "metadata": {},
   "outputs": [
    {
     "name": "stdout",
     "output_type": "stream",
     "text": [
      "1 MIENTRAS ME CURO DEL CORA\n",
      "2 X SI VOLVEMOS\n",
      "3 PERO TÚ\n",
      "4 BESTIES\n",
      "5 GUCCI LOS PAÑOS\n",
      "6 TQG\n",
      "7 TUS GAFITAS\n",
      "8 OJOS FERRARI\n",
      "9 MERCURIO\n",
      "10 GATÚBELA\n",
      "11 KÁRMIKA\n",
      "12 PROVENZA\n",
      "13 CAROLINA\n",
      "14 DAÑAMOS LA AMISTAD\n",
      "15 AMARGURA\n"
     ]
    }
   ],
   "source": [
    "test= tracks_from_album('Spain')\n",
    "test"
   ]
  },
  {
   "attachments": {},
   "cell_type": "markdown",
   "metadata": {},
   "source": [
    "# Map"
   ]
  },
  {
   "cell_type": "code",
   "execution_count": 7,
   "metadata": {},
   "outputs": [
    {
     "data": {
      "text/plain": [
       "nan"
      ]
     },
     "execution_count": 7,
     "metadata": {},
     "output_type": "execute_result"
    }
   ],
   "source": [
    "df.iloc[115,4]"
   ]
  },
  {
   "cell_type": "code",
   "execution_count": 8,
   "metadata": {},
   "outputs": [],
   "source": [
    "df.iloc[115,4]='NA'"
   ]
  },
  {
   "cell_type": "code",
   "execution_count": 9,
   "metadata": {},
   "outputs": [
    {
     "data": {
      "text/plain": [
       "country           Namibia\n",
       "capital          Windhoek\n",
       "cap_lat        -22.566667\n",
       "cap_lon         17.083333\n",
       "country_code           NA\n",
       "continent          Africa\n",
       "Name: 115, dtype: object"
      ]
     },
     "execution_count": 9,
     "metadata": {},
     "output_type": "execute_result"
    }
   ],
   "source": [
    "df.iloc[115,:]"
   ]
  },
  {
   "cell_type": "code",
   "execution_count": 10,
   "metadata": {},
   "outputs": [],
   "source": [
    "df['new_releases']= [get_new_releases(df.loc[index,'country']) for index in range(len(df))]"
   ]
  },
  {
   "cell_type": "code",
   "execution_count": 16,
   "metadata": {},
   "outputs": [],
   "source": [
    "df['artist']= [get_artist_new_releases(df.loc[index,'country']) for index in range(len(df))]"
   ]
  },
  {
   "cell_type": "code",
   "execution_count": 11,
   "metadata": {},
   "outputs": [
    {
     "data": {
      "text/html": [
       "<div>\n",
       "<style scoped>\n",
       "    .dataframe tbody tr th:only-of-type {\n",
       "        vertical-align: middle;\n",
       "    }\n",
       "\n",
       "    .dataframe tbody tr th {\n",
       "        vertical-align: top;\n",
       "    }\n",
       "\n",
       "    .dataframe thead th {\n",
       "        text-align: right;\n",
       "    }\n",
       "</style>\n",
       "<table border=\"1\" class=\"dataframe\">\n",
       "  <thead>\n",
       "    <tr style=\"text-align: right;\">\n",
       "      <th></th>\n",
       "      <th>country</th>\n",
       "      <th>capital</th>\n",
       "      <th>cap_lat</th>\n",
       "      <th>cap_lon</th>\n",
       "      <th>country_code</th>\n",
       "      <th>continent</th>\n",
       "      <th>new_releases</th>\n",
       "    </tr>\n",
       "  </thead>\n",
       "  <tbody>\n",
       "    <tr>\n",
       "      <th>0</th>\n",
       "      <td>Palestine</td>\n",
       "      <td>Jerusalem</td>\n",
       "      <td>31.766667</td>\n",
       "      <td>35.233333</td>\n",
       "      <td>PS</td>\n",
       "      <td>Asia</td>\n",
       "      <td>TUYA</td>\n",
       "    </tr>\n",
       "    <tr>\n",
       "      <th>1</th>\n",
       "      <td>Nauru</td>\n",
       "      <td>Yaren</td>\n",
       "      <td>-0.547700</td>\n",
       "      <td>166.920867</td>\n",
       "      <td>NR</td>\n",
       "      <td>Australia</td>\n",
       "      <td>BLONDE16</td>\n",
       "    </tr>\n",
       "    <tr>\n",
       "      <th>2</th>\n",
       "      <td>Albania</td>\n",
       "      <td>Tirana</td>\n",
       "      <td>41.316667</td>\n",
       "      <td>19.816667</td>\n",
       "      <td>AL</td>\n",
       "      <td>Europe</td>\n",
       "      <td>Ku Je Ti (feat. Ricky Rich &amp; Dafina Zeqiri)</td>\n",
       "    </tr>\n",
       "    <tr>\n",
       "      <th>3</th>\n",
       "      <td>Algeria</td>\n",
       "      <td>Algiers</td>\n",
       "      <td>36.750000</td>\n",
       "      <td>3.050000</td>\n",
       "      <td>DZ</td>\n",
       "      <td>Africa</td>\n",
       "      <td>YA LE3DOUWA</td>\n",
       "    </tr>\n",
       "    <tr>\n",
       "      <th>4</th>\n",
       "      <td>Andorra</td>\n",
       "      <td>Andorra la Vella</td>\n",
       "      <td>42.500000</td>\n",
       "      <td>1.516667</td>\n",
       "      <td>AD</td>\n",
       "      <td>Europe</td>\n",
       "      <td>Drapeau Blanc</td>\n",
       "    </tr>\n",
       "  </tbody>\n",
       "</table>\n",
       "</div>"
      ],
      "text/plain": [
       "     country           capital    cap_lat     cap_lon country_code  continent  \\\n",
       "0  Palestine         Jerusalem  31.766667   35.233333           PS       Asia   \n",
       "1      Nauru             Yaren  -0.547700  166.920867           NR  Australia   \n",
       "2    Albania            Tirana  41.316667   19.816667           AL     Europe   \n",
       "3    Algeria           Algiers  36.750000    3.050000           DZ     Africa   \n",
       "4    Andorra  Andorra la Vella  42.500000    1.516667           AD     Europe   \n",
       "\n",
       "                                  new_releases  \n",
       "0                                         TUYA  \n",
       "1                                     BLONDE16  \n",
       "2  Ku Je Ti (feat. Ricky Rich & Dafina Zeqiri)  \n",
       "3                                  YA LE3DOUWA  \n",
       "4                                Drapeau Blanc  "
      ]
     },
     "execution_count": 11,
     "metadata": {},
     "output_type": "execute_result"
    }
   ],
   "source": [
    "df.head()"
   ]
  },
  {
   "cell_type": "code",
   "execution_count": 29,
   "metadata": {},
   "outputs": [
    {
     "data": {
      "application/vnd.plotly.v1+json": {
       "config": {
        "plotlyServerURL": "https://plot.ly"
       },
       "data": [
        {
         "customdata": [
          [
           31.7666666666666,
           35.233333,
           "ROSALÍA",
           "Palestine"
          ]
         ],
         "geo": "geo",
         "hovertemplate": "<b>%{hovertext}</b><br><br>country=%{customdata[3]}<br>artist=%{customdata[2]}<extra></extra>",
         "hovertext": [
          "TUYA"
         ],
         "lat": [
          31.7666666666666
         ],
         "legendgroup": "Palestine",
         "lon": [
          35.233333
         ],
         "marker": {
          "color": "#000001",
          "symbol": "circle"
         },
         "mode": "markers",
         "name": "Palestine",
         "showlegend": true,
         "type": "scattergeo"
        },
        {
         "customdata": [
          [
           -0.5477,
           166.920867,
           "Miliyah",
           "Nauru"
          ]
         ],
         "geo": "geo",
         "hovertemplate": "<b>%{hovertext}</b><br><br>country=%{customdata[3]}<br>artist=%{customdata[2]}<extra></extra>",
         "hovertext": [
          "BLONDE16"
         ],
         "lat": [
          -0.5477
         ],
         "legendgroup": "Nauru",
         "lon": [
          166.920867
         ],
         "marker": {
          "color": "#000002",
          "symbol": "circle"
         },
         "mode": "markers",
         "name": "Nauru",
         "showlegend": true,
         "type": "scattergeo"
        },
        {
         "customdata": [
          [
           41.3166666666666,
           19.816667,
           "DYSTINCT",
           "Albania"
          ]
         ],
         "geo": "geo",
         "hovertemplate": "<b>%{hovertext}</b><br><br>country=%{customdata[3]}<br>artist=%{customdata[2]}<extra></extra>",
         "hovertext": [
          "Ku Je Ti (feat. Ricky Rich & Dafina Zeqiri)"
         ],
         "lat": [
          41.3166666666666
         ],
         "legendgroup": "Albania",
         "lon": [
          19.816667
         ],
         "marker": {
          "color": "#000003",
          "symbol": "circle"
         },
         "mode": "markers",
         "name": "Albania",
         "showlegend": true,
         "type": "scattergeo"
        },
        {
         "customdata": [
          [
           36.75,
           3.05,
           "Zouhair Bahaoui",
           "Algeria"
          ]
         ],
         "geo": "geo",
         "hovertemplate": "<b>%{hovertext}</b><br><br>country=%{customdata[3]}<br>artist=%{customdata[2]}<extra></extra>",
         "hovertext": [
          "YA LE3DOUWA"
         ],
         "lat": [
          36.75
         ],
         "legendgroup": "Algeria",
         "lon": [
          3.05
         ],
         "marker": {
          "color": "#000004",
          "symbol": "circle"
         },
         "mode": "markers",
         "name": "Algeria",
         "showlegend": true,
         "type": "scattergeo"
        },
        {
         "customdata": [
          [
           42.5,
           1.516667,
           "Benab",
           "Andorra"
          ]
         ],
         "geo": "geo",
         "hovertemplate": "<b>%{hovertext}</b><br><br>country=%{customdata[3]}<br>artist=%{customdata[2]}<extra></extra>",
         "hovertext": [
          "Drapeau Blanc"
         ],
         "lat": [
          42.5
         ],
         "legendgroup": "Andorra",
         "lon": [
          1.516667
         ],
         "marker": {
          "color": "#000005",
          "symbol": "circle"
         },
         "mode": "markers",
         "name": "Andorra",
         "showlegend": true,
         "type": "scattergeo"
        },
        {
         "customdata": [
          [
           -8.83333333333333,
           13.216667,
           "Harry Styles",
           "Angola"
          ]
         ],
         "geo": "geo",
         "hovertemplate": "<b>%{hovertext}</b><br><br>country=%{customdata[3]}<br>artist=%{customdata[2]}<extra></extra>",
         "hovertext": [
          "Harry's House"
         ],
         "lat": [
          -8.83333333333333
         ],
         "legendgroup": "Angola",
         "lon": [
          13.216667
         ],
         "marker": {
          "color": "#000006",
          "symbol": "circle"
         },
         "mode": "markers",
         "name": "Angola",
         "showlegend": true,
         "type": "scattergeo"
        },
        {
         "customdata": [
          [
           17.1166666666666,
           -61.85,
           "Harry Styles",
           "Antigua and Barbuda"
          ]
         ],
         "geo": "geo",
         "hovertemplate": "<b>%{hovertext}</b><br><br>country=%{customdata[3]}<br>artist=%{customdata[2]}<extra></extra>",
         "hovertext": [
          "Harry's House"
         ],
         "lat": [
          17.1166666666666
         ],
         "legendgroup": "Antigua and Barbuda",
         "lon": [
          -61.85
         ],
         "marker": {
          "color": "#000007",
          "symbol": "circle"
         },
         "mode": "markers",
         "name": "Antigua and Barbuda",
         "showlegend": true,
         "type": "scattergeo"
        },
        {
         "customdata": [
          [
           -34.5833333333333,
           -58.666667,
           "Barbi Recanati",
           "Argentina"
          ]
         ],
         "geo": "geo",
         "hovertemplate": "<b>%{hovertext}</b><br><br>country=%{customdata[3]}<br>artist=%{customdata[2]}<extra></extra>",
         "hovertext": [
          "El Final de Las Cosas"
         ],
         "lat": [
          -34.5833333333333
         ],
         "legendgroup": "Argentina",
         "lon": [
          -58.666667
         ],
         "marker": {
          "color": "#000008",
          "symbol": "circle"
         },
         "mode": "markers",
         "name": "Argentina",
         "showlegend": true,
         "type": "scattergeo"
        },
        {
         "customdata": [
          [
           40.1666666666666,
           44.5,
           "Harry Styles",
           "Armenia"
          ]
         ],
         "geo": "geo",
         "hovertemplate": "<b>%{hovertext}</b><br><br>country=%{customdata[3]}<br>artist=%{customdata[2]}<extra></extra>",
         "hovertext": [
          "Harry's House"
         ],
         "lat": [
          40.1666666666666
         ],
         "legendgroup": "Armenia",
         "lon": [
          44.5
         ],
         "marker": {
          "color": "#000009",
          "symbol": "circle"
         },
         "mode": "markers",
         "name": "Armenia",
         "showlegend": true,
         "type": "scattergeo"
        },
        {
         "customdata": [
          [
           -35.2666666666666,
           149.133333,
           "The Teskey Brothers",
           "Australia"
          ]
         ],
         "geo": "geo",
         "hovertemplate": "<b>%{hovertext}</b><br><br>country=%{customdata[3]}<br>artist=%{customdata[2]}<extra></extra>",
         "hovertext": [
          "The Winding Way"
         ],
         "lat": [
          -35.2666666666666
         ],
         "legendgroup": "Australia",
         "lon": [
          149.133333
         ],
         "marker": {
          "color": "#000010",
          "symbol": "circle"
         },
         "mode": "markers",
         "name": "Australia",
         "showlegend": true,
         "type": "scattergeo"
        },
        {
         "customdata": [
          [
           48.2,
           16.366667,
           "Montez",
           "Austria"
          ]
         ],
         "geo": "geo",
         "hovertemplate": "<b>%{hovertext}</b><br><br>country=%{customdata[3]}<br>artist=%{customdata[2]}<extra></extra>",
         "hovertext": [
          "LIEBE IN GEFAHR"
         ],
         "lat": [
          48.2
         ],
         "legendgroup": "Austria",
         "lon": [
          16.366667
         ],
         "marker": {
          "color": "#000001",
          "symbol": "circle"
         },
         "mode": "markers",
         "name": "Austria",
         "showlegend": true,
         "type": "scattergeo"
        },
        {
         "customdata": [
          [
           40.3833333333333,
           49.866667,
           "Ed Sheeran",
           "Azerbaijan"
          ]
         ],
         "geo": "geo",
         "hovertemplate": "<b>%{hovertext}</b><br><br>country=%{customdata[3]}<br>artist=%{customdata[2]}<extra></extra>",
         "hovertext": [
          "F64"
         ],
         "lat": [
          40.3833333333333
         ],
         "legendgroup": "Azerbaijan",
         "lon": [
          49.866667
         ],
         "marker": {
          "color": "#000002",
          "symbol": "circle"
         },
         "mode": "markers",
         "name": "Azerbaijan",
         "showlegend": true,
         "type": "scattergeo"
        },
        {
         "customdata": [
          [
           25.0833333333333,
           -77.35,
           "Harry Styles",
           "Bahamas"
          ]
         ],
         "geo": "geo",
         "hovertemplate": "<b>%{hovertext}</b><br><br>country=%{customdata[3]}<br>artist=%{customdata[2]}<extra></extra>",
         "hovertext": [
          "Harry's House"
         ],
         "lat": [
          25.0833333333333
         ],
         "legendgroup": "Bahamas",
         "lon": [
          -77.35
         ],
         "marker": {
          "color": "#000003",
          "symbol": "circle"
         },
         "mode": "markers",
         "name": "Bahamas",
         "showlegend": true,
         "type": "scattergeo"
        },
        {
         "customdata": [
          [
           26.2333333333333,
           50.566667,
           "Doja Cat",
           "Bahrain"
          ]
         ],
         "geo": "geo",
         "hovertemplate": "<b>%{hovertext}</b><br><br>country=%{customdata[3]}<br>artist=%{customdata[2]}<extra></extra>",
         "hovertext": [
          "Attention"
         ],
         "lat": [
          26.2333333333333
         ],
         "legendgroup": "Bahrain",
         "lon": [
          50.566667
         ],
         "marker": {
          "color": "#000004",
          "symbol": "circle"
         },
         "mode": "markers",
         "name": "Bahrain",
         "showlegend": true,
         "type": "scattergeo"
        },
        {
         "customdata": [
          [
           23.7166666666666,
           90.4,
           "Sohan Rahman",
           "Bangladesh"
          ]
         ],
         "geo": "geo",
         "hovertemplate": "<b>%{hovertext}</b><br><br>country=%{customdata[3]}<br>artist=%{customdata[2]}<extra></extra>",
         "hovertext": [
          "Tomar Goli"
         ],
         "lat": [
          23.7166666666666
         ],
         "legendgroup": "Bangladesh",
         "lon": [
          90.4
         ],
         "marker": {
          "color": "#000005",
          "symbol": "circle"
         },
         "mode": "markers",
         "name": "Bangladesh",
         "showlegend": true,
         "type": "scattergeo"
        },
        {
         "customdata": [
          [
           13.1,
           -59.616667,
           "Harry Styles",
           "Barbados"
          ]
         ],
         "geo": "geo",
         "hovertemplate": "<b>%{hovertext}</b><br><br>country=%{customdata[3]}<br>artist=%{customdata[2]}<extra></extra>",
         "hovertext": [
          "Harry's House"
         ],
         "lat": [
          13.1
         ],
         "legendgroup": "Barbados",
         "lon": [
          -59.616667
         ],
         "marker": {
          "color": "#000006",
          "symbol": "circle"
         },
         "mode": "markers",
         "name": "Barbados",
         "showlegend": true,
         "type": "scattergeo"
        },
        {
         "customdata": [
          [
           53.9,
           27.566667,
           "Rauf & Faik",
           "Belarus"
          ]
         ],
         "geo": "geo",
         "hovertemplate": "<b>%{hovertext}</b><br><br>country=%{customdata[3]}<br>artist=%{customdata[2]}<extra></extra>",
         "hovertext": [
          "Rubicon"
         ],
         "lat": [
          53.9
         ],
         "legendgroup": "Belarus",
         "lon": [
          27.566667
         ],
         "marker": {
          "color": "#000007",
          "symbol": "circle"
         },
         "mode": "markers",
         "name": "Belarus",
         "showlegend": true,
         "type": "scattergeo"
        },
        {
         "customdata": [
          [
           50.8333333333333,
           4.333333,
           "Tom Grennan",
           "Belgium"
          ]
         ],
         "geo": "geo",
         "hovertemplate": "<b>%{hovertext}</b><br><br>country=%{customdata[3]}<br>artist=%{customdata[2]}<extra></extra>",
         "hovertext": [
          "What Ifs & Maybes"
         ],
         "lat": [
          50.8333333333333
         ],
         "legendgroup": "Belgium",
         "lon": [
          4.333333
         ],
         "marker": {
          "color": "#000008",
          "symbol": "circle"
         },
         "mode": "markers",
         "name": "Belgium",
         "showlegend": true,
         "type": "scattergeo"
        },
        {
         "customdata": [
          [
           17.25,
           -88.766667,
           "RM",
           "Belize"
          ]
         ],
         "geo": "geo",
         "hovertemplate": "<b>%{hovertext}</b><br><br>country=%{customdata[3]}<br>artist=%{customdata[2]}<extra></extra>",
         "hovertext": [
          "Indigo"
         ],
         "lat": [
          17.25
         ],
         "legendgroup": "Belize",
         "lon": [
          -88.766667
         ],
         "marker": {
          "color": "#000009",
          "symbol": "circle"
         },
         "mode": "markers",
         "name": "Belize",
         "showlegend": true,
         "type": "scattergeo"
        },
        {
         "customdata": [
          [
           6.48333333333333,
           2.616667,
           "Harry Styles",
           "Benin"
          ]
         ],
         "geo": "geo",
         "hovertemplate": "<b>%{hovertext}</b><br><br>country=%{customdata[3]}<br>artist=%{customdata[2]}<extra></extra>",
         "hovertext": [
          "Harry's House"
         ],
         "lat": [
          6.48333333333333
         ],
         "legendgroup": "Benin",
         "lon": [
          2.616667
         ],
         "marker": {
          "color": "#000010",
          "symbol": "circle"
         },
         "mode": "markers",
         "name": "Benin",
         "showlegend": true,
         "type": "scattergeo"
        },
        {
         "customdata": [
          [
           27.4666666666666,
           89.633333,
           "ONF",
           "Bhutan"
          ]
         ],
         "geo": "geo",
         "hovertemplate": "<b>%{hovertext}</b><br><br>country=%{customdata[3]}<br>artist=%{customdata[2]}<extra></extra>",
         "hovertext": [
          "6TH MINI ALBUM [Goosebumps]"
         ],
         "lat": [
          27.4666666666666
         ],
         "legendgroup": "Bhutan",
         "lon": [
          89.633333
         ],
         "marker": {
          "color": "#000001",
          "symbol": "circle"
         },
         "mode": "markers",
         "name": "Bhutan",
         "showlegend": true,
         "type": "scattergeo"
        },
        {
         "customdata": [
          [
           -16.5,
           -68.15,
           "Barbi Recanati",
           "Bolivia"
          ]
         ],
         "geo": "geo",
         "hovertemplate": "<b>%{hovertext}</b><br><br>country=%{customdata[3]}<br>artist=%{customdata[2]}<extra></extra>",
         "hovertext": [
          "El Final de Las Cosas"
         ],
         "lat": [
          -16.5
         ],
         "legendgroup": "Bolivia",
         "lon": [
          -68.15
         ],
         "marker": {
          "color": "#000002",
          "symbol": "circle"
         },
         "mode": "markers",
         "name": "Bolivia",
         "showlegend": true,
         "type": "scattergeo"
        },
        {
         "customdata": [
          [
           43.8666666666666,
           18.416667,
           "Harry Styles",
           "Bosnia and Herzegovina"
          ]
         ],
         "geo": "geo",
         "hovertemplate": "<b>%{hovertext}</b><br><br>country=%{customdata[3]}<br>artist=%{customdata[2]}<extra></extra>",
         "hovertext": [
          "Harry's House"
         ],
         "lat": [
          43.8666666666666
         ],
         "legendgroup": "Bosnia and Herzegovina",
         "lon": [
          18.416667
         ],
         "marker": {
          "color": "#000003",
          "symbol": "circle"
         },
         "mode": "markers",
         "name": "Bosnia and Herzegovina",
         "showlegend": true,
         "type": "scattergeo"
        },
        {
         "customdata": [
          [
           -24.6333333333333,
           25.9,
           "Mthandazo Gatya",
           "Botswana"
          ]
         ],
         "geo": "geo",
         "hovertemplate": "<b>%{hovertext}</b><br><br>country=%{customdata[3]}<br>artist=%{customdata[2]}<extra></extra>",
         "hovertext": [
          "Journey To Infinity"
         ],
         "lat": [
          -24.6333333333333
         ],
         "legendgroup": "Botswana",
         "lon": [
          25.9
         ],
         "marker": {
          "color": "#000004",
          "symbol": "circle"
         },
         "mode": "markers",
         "name": "Botswana",
         "showlegend": true,
         "type": "scattergeo"
        },
        {
         "customdata": [
          [
           -15.7833333333333,
           -47.916667,
           "Marcelo D2",
           "Brazil"
          ]
         ],
         "geo": "geo",
         "hovertemplate": "<b>%{hovertext}</b><br><br>country=%{customdata[3]}<br>artist=%{customdata[2]}<extra></extra>",
         "hovertext": [
          "IBORU"
         ],
         "lat": [
          -15.7833333333333
         ],
         "legendgroup": "Brazil",
         "lon": [
          -47.916667
         ],
         "marker": {
          "color": "#000005",
          "symbol": "circle"
         },
         "mode": "markers",
         "name": "Brazil",
         "showlegend": true,
         "type": "scattergeo"
        },
        {
         "customdata": [
          [
           4.88333333333333,
           114.933333,
           "ONF",
           "Brunei Darussalam"
          ]
         ],
         "geo": "geo",
         "hovertemplate": "<b>%{hovertext}</b><br><br>country=%{customdata[3]}<br>artist=%{customdata[2]}<extra></extra>",
         "hovertext": [
          "6TH MINI ALBUM [Goosebumps]"
         ],
         "lat": [
          4.88333333333333
         ],
         "legendgroup": "Brunei Darussalam",
         "lon": [
          114.933333
         ],
         "marker": {
          "color": "#000006",
          "symbol": "circle"
         },
         "mode": "markers",
         "name": "Brunei Darussalam",
         "showlegend": true,
         "type": "scattergeo"
        },
        {
         "customdata": [
          [
           42.6833333333333,
           23.316667,
           "RM",
           "Bulgaria"
          ]
         ],
         "geo": "geo",
         "hovertemplate": "<b>%{hovertext}</b><br><br>country=%{customdata[3]}<br>artist=%{customdata[2]}<extra></extra>",
         "hovertext": [
          "Indigo"
         ],
         "lat": [
          42.6833333333333
         ],
         "legendgroup": "Bulgaria",
         "lon": [
          23.316667
         ],
         "marker": {
          "color": "#000007",
          "symbol": "circle"
         },
         "mode": "markers",
         "name": "Bulgaria",
         "showlegend": true,
         "type": "scattergeo"
        },
        {
         "customdata": [
          [
           12.3666666666666,
           -1.516667,
           "Harry Styles",
           "Burkina Faso"
          ]
         ],
         "geo": "geo",
         "hovertemplate": "<b>%{hovertext}</b><br><br>country=%{customdata[3]}<br>artist=%{customdata[2]}<extra></extra>",
         "hovertext": [
          "Harry's House"
         ],
         "lat": [
          12.3666666666666
         ],
         "legendgroup": "Burkina Faso",
         "lon": [
          -1.516667
         ],
         "marker": {
          "color": "#000008",
          "symbol": "circle"
         },
         "mode": "markers",
         "name": "Burkina Faso",
         "showlegend": true,
         "type": "scattergeo"
        },
        {
         "customdata": [
          [
           -3.36666666666666,
           29.35,
           "Burna Boy",
           "Burundi"
          ]
         ],
         "geo": "geo",
         "hovertemplate": "<b>%{hovertext}</b><br><br>country=%{customdata[3]}<br>artist=%{customdata[2]}<extra></extra>",
         "hovertext": [
          "Love, Damini"
         ],
         "lat": [
          -3.36666666666666
         ],
         "legendgroup": "Burundi",
         "lon": [
          29.35
         ],
         "marker": {
          "color": "#000009",
          "symbol": "circle"
         },
         "mode": "markers",
         "name": "Burundi",
         "showlegend": true,
         "type": "scattergeo"
        },
        {
         "customdata": [
          [
           11.55,
           104.916667,
           "ONF",
           "Cambodia"
          ]
         ],
         "geo": "geo",
         "hovertemplate": "<b>%{hovertext}</b><br><br>country=%{customdata[3]}<br>artist=%{customdata[2]}<extra></extra>",
         "hovertext": [
          "6TH MINI ALBUM [Goosebumps]"
         ],
         "lat": [
          11.55
         ],
         "legendgroup": "Cambodia",
         "lon": [
          104.916667
         ],
         "marker": {
          "color": "#000010",
          "symbol": "circle"
         },
         "mode": "markers",
         "name": "Cambodia",
         "showlegend": true,
         "type": "scattergeo"
        },
        {
         "customdata": [
          [
           3.86666666666666,
           11.516667,
           "Harry Styles",
           "Cameroon"
          ]
         ],
         "geo": "geo",
         "hovertemplate": "<b>%{hovertext}</b><br><br>country=%{customdata[3]}<br>artist=%{customdata[2]}<extra></extra>",
         "hovertext": [
          "Harry's House"
         ],
         "lat": [
          3.86666666666666
         ],
         "legendgroup": "Cameroon",
         "lon": [
          11.516667
         ],
         "marker": {
          "color": "#000001",
          "symbol": "circle"
         },
         "mode": "markers",
         "name": "Cameroon",
         "showlegend": true,
         "type": "scattergeo"
        },
        {
         "customdata": [
          [
           45.4166666666666,
           -75.7,
           "Doja Cat",
           "Canada"
          ]
         ],
         "geo": "geo",
         "hovertemplate": "<b>%{hovertext}</b><br><br>country=%{customdata[3]}<br>artist=%{customdata[2]}<extra></extra>",
         "hovertext": [
          "Attention"
         ],
         "lat": [
          45.4166666666666
         ],
         "legendgroup": "Canada",
         "lon": [
          -75.7
         ],
         "marker": {
          "color": "#000002",
          "symbol": "circle"
         },
         "mode": "markers",
         "name": "Canada",
         "showlegend": true,
         "type": "scattergeo"
        },
        {
         "customdata": [
          [
           14.9166666666666,
           -23.516667,
           "Harry Styles",
           "Cape Verde"
          ]
         ],
         "geo": "geo",
         "hovertemplate": "<b>%{hovertext}</b><br><br>country=%{customdata[3]}<br>artist=%{customdata[2]}<extra></extra>",
         "hovertext": [
          "Harry's House"
         ],
         "lat": [
          14.9166666666666
         ],
         "legendgroup": "Cape Verde",
         "lon": [
          -23.516667
         ],
         "marker": {
          "color": "#000003",
          "symbol": "circle"
         },
         "mode": "markers",
         "name": "Cape Verde",
         "showlegend": true,
         "type": "scattergeo"
        },
        {
         "customdata": [
          [
           12.1,
           15.033333,
           "Harry Styles",
           "Chad"
          ]
         ],
         "geo": "geo",
         "hovertemplate": "<b>%{hovertext}</b><br><br>country=%{customdata[3]}<br>artist=%{customdata[2]}<extra></extra>",
         "hovertext": [
          "Harry's House"
         ],
         "lat": [
          12.1
         ],
         "legendgroup": "Chad",
         "lon": [
          15.033333
         ],
         "marker": {
          "color": "#000004",
          "symbol": "circle"
         },
         "mode": "markers",
         "name": "Chad",
         "showlegend": true,
         "type": "scattergeo"
        },
        {
         "customdata": [
          [
           -33.45,
           -70.666667,
           "Barbi Recanati",
           "Chile"
          ]
         ],
         "geo": "geo",
         "hovertemplate": "<b>%{hovertext}</b><br><br>country=%{customdata[3]}<br>artist=%{customdata[2]}<extra></extra>",
         "hovertext": [
          "El Final de Las Cosas"
         ],
         "lat": [
          -33.45
         ],
         "legendgroup": "Chile",
         "lon": [
          -70.666667
         ],
         "marker": {
          "color": "#000005",
          "symbol": "circle"
         },
         "mode": "markers",
         "name": "Chile",
         "showlegend": true,
         "type": "scattergeo"
        },
        {
         "customdata": [
          [
           4.6,
           -74.083333,
           "Juan Pablo Vega",
           "Colombia"
          ]
         ],
         "geo": "geo",
         "hovertemplate": "<b>%{hovertext}</b><br><br>country=%{customdata[3]}<br>artist=%{customdata[2]}<extra></extra>",
         "hovertext": [
          "Despídeme De Todxs"
         ],
         "lat": [
          4.6
         ],
         "legendgroup": "Colombia",
         "lon": [
          -74.083333
         ],
         "marker": {
          "color": "#000006",
          "symbol": "circle"
         },
         "mode": "markers",
         "name": "Colombia",
         "showlegend": true,
         "type": "scattergeo"
        },
        {
         "customdata": [
          [
           -11.7,
           43.233333,
           "Harry Styles",
           "Comoros"
          ]
         ],
         "geo": "geo",
         "hovertemplate": "<b>%{hovertext}</b><br><br>country=%{customdata[3]}<br>artist=%{customdata[2]}<extra></extra>",
         "hovertext": [
          "Harry's House"
         ],
         "lat": [
          -11.7
         ],
         "legendgroup": "Comoros",
         "lon": [
          43.233333
         ],
         "marker": {
          "color": "#000007",
          "symbol": "circle"
         },
         "mode": "markers",
         "name": "Comoros",
         "showlegend": true,
         "type": "scattergeo"
        },
        {
         "customdata": [
          [
           -4.31666666666666,
           15.3,
           "Harry Styles",
           "Democratic Republic of the Congo"
          ]
         ],
         "geo": "geo",
         "hovertemplate": "<b>%{hovertext}</b><br><br>country=%{customdata[3]}<br>artist=%{customdata[2]}<extra></extra>",
         "hovertext": [
          "Harry's House"
         ],
         "lat": [
          -4.31666666666666
         ],
         "legendgroup": "Democratic Republic of the Congo",
         "lon": [
          15.3
         ],
         "marker": {
          "color": "#000008",
          "symbol": "circle"
         },
         "mode": "markers",
         "name": "Democratic Republic of the Congo",
         "showlegend": true,
         "type": "scattergeo"
        },
        {
         "customdata": [
          [
           -4.25,
           15.283333,
           "Harry Styles",
           "Republic of Congo"
          ]
         ],
         "geo": "geo",
         "hovertemplate": "<b>%{hovertext}</b><br><br>country=%{customdata[3]}<br>artist=%{customdata[2]}<extra></extra>",
         "hovertext": [
          "Harry's House"
         ],
         "lat": [
          -4.25
         ],
         "legendgroup": "Republic of Congo",
         "lon": [
          15.283333
         ],
         "marker": {
          "color": "#000009",
          "symbol": "circle"
         },
         "mode": "markers",
         "name": "Republic of Congo",
         "showlegend": true,
         "type": "scattergeo"
        },
        {
         "customdata": [
          [
           9.93333333333333,
           -84.083333,
           "RM",
           "Costa Rica"
          ]
         ],
         "geo": "geo",
         "hovertemplate": "<b>%{hovertext}</b><br><br>country=%{customdata[3]}<br>artist=%{customdata[2]}<extra></extra>",
         "hovertext": [
          "Indigo"
         ],
         "lat": [
          9.93333333333333
         ],
         "legendgroup": "Costa Rica",
         "lon": [
          -84.083333
         ],
         "marker": {
          "color": "#000010",
          "symbol": "circle"
         },
         "mode": "markers",
         "name": "Costa Rica",
         "showlegend": true,
         "type": "scattergeo"
        },
        {
         "customdata": [
          [
           6.81666666666666,
           -5.266667,
           "Harry Styles",
           "Cote d'Ivoire"
          ]
         ],
         "geo": "geo",
         "hovertemplate": "<b>%{hovertext}</b><br><br>country=%{customdata[3]}<br>artist=%{customdata[2]}<extra></extra>",
         "hovertext": [
          "Harry's House"
         ],
         "lat": [
          6.81666666666666
         ],
         "legendgroup": "Cote d'Ivoire",
         "lon": [
          -5.266667
         ],
         "marker": {
          "color": "#000001",
          "symbol": "circle"
         },
         "mode": "markers",
         "name": "Cote d'Ivoire",
         "showlegend": true,
         "type": "scattergeo"
        },
        {
         "customdata": [
          [
           45.8,
           16,
           "RM",
           "Croatia"
          ]
         ],
         "geo": "geo",
         "hovertemplate": "<b>%{hovertext}</b><br><br>country=%{customdata[3]}<br>artist=%{customdata[2]}<extra></extra>",
         "hovertext": [
          "Indigo"
         ],
         "lat": [
          45.8
         ],
         "legendgroup": "Croatia",
         "lon": [
          16
         ],
         "marker": {
          "color": "#000002",
          "symbol": "circle"
         },
         "mode": "markers",
         "name": "Croatia",
         "showlegend": true,
         "type": "scattergeo"
        },
        {
         "customdata": [
          [
           12.1,
           -68.916667,
           "Harry Styles",
           "CuraÃ§ao"
          ]
         ],
         "geo": "geo",
         "hovertemplate": "<b>%{hovertext}</b><br><br>country=%{customdata[3]}<br>artist=%{customdata[2]}<extra></extra>",
         "hovertext": [
          "Harry's House"
         ],
         "lat": [
          12.1
         ],
         "legendgroup": "CuraÃ§ao",
         "lon": [
          -68.916667
         ],
         "marker": {
          "color": "#000003",
          "symbol": "circle"
         },
         "mode": "markers",
         "name": "CuraÃ§ao",
         "showlegend": true,
         "type": "scattergeo"
        },
        {
         "customdata": [
          [
           35.1666666666666,
           33.366667,
           "RM",
           "Cyprus"
          ]
         ],
         "geo": "geo",
         "hovertemplate": "<b>%{hovertext}</b><br><br>country=%{customdata[3]}<br>artist=%{customdata[2]}<extra></extra>",
         "hovertext": [
          "Indigo"
         ],
         "lat": [
          35.1666666666666
         ],
         "legendgroup": "Cyprus",
         "lon": [
          33.366667
         ],
         "marker": {
          "color": "#000004",
          "symbol": "circle"
         },
         "mode": "markers",
         "name": "Cyprus",
         "showlegend": true,
         "type": "scattergeo"
        },
        {
         "customdata": [
          [
           50.0833333333333,
           14.466667,
           "Majk Spirit",
           "Czech Republic"
          ]
         ],
         "geo": "geo",
         "hovertemplate": "<b>%{hovertext}</b><br><br>country=%{customdata[3]}<br>artist=%{customdata[2]}<extra></extra>",
         "hovertext": [
          "PLAYLIST"
         ],
         "lat": [
          50.0833333333333
         ],
         "legendgroup": "Czech Republic",
         "lon": [
          14.466667
         ],
         "marker": {
          "color": "#000005",
          "symbol": "circle"
         },
         "mode": "markers",
         "name": "Czech Republic",
         "showlegend": true,
         "type": "scattergeo"
        },
        {
         "customdata": [
          [
           55.6666666666666,
           12.583333,
           "KESI",
           "Denmark"
          ]
         ],
         "geo": "geo",
         "hovertemplate": "<b>%{hovertext}</b><br><br>country=%{customdata[3]}<br>artist=%{customdata[2]}<extra></extra>",
         "hovertext": [
          "Hjem/Videre"
         ],
         "lat": [
          55.6666666666666
         ],
         "legendgroup": "Denmark",
         "lon": [
          12.583333
         ],
         "marker": {
          "color": "#000006",
          "symbol": "circle"
         },
         "mode": "markers",
         "name": "Denmark",
         "showlegend": true,
         "type": "scattergeo"
        },
        {
         "customdata": [
          [
           11.5833333333333,
           43.15,
           "Harry Styles",
           "Djibouti"
          ]
         ],
         "geo": "geo",
         "hovertemplate": "<b>%{hovertext}</b><br><br>country=%{customdata[3]}<br>artist=%{customdata[2]}<extra></extra>",
         "hovertext": [
          "Harry's House"
         ],
         "lat": [
          11.5833333333333
         ],
         "legendgroup": "Djibouti",
         "lon": [
          43.15
         ],
         "marker": {
          "color": "#000007",
          "symbol": "circle"
         },
         "mode": "markers",
         "name": "Djibouti",
         "showlegend": true,
         "type": "scattergeo"
        },
        {
         "customdata": [
          [
           15.3,
           -61.4,
           "Harry Styles",
           "Dominica"
          ]
         ],
         "geo": "geo",
         "hovertemplate": "<b>%{hovertext}</b><br><br>country=%{customdata[3]}<br>artist=%{customdata[2]}<extra></extra>",
         "hovertext": [
          "Harry's House"
         ],
         "lat": [
          15.3
         ],
         "legendgroup": "Dominica",
         "lon": [
          -61.4
         ],
         "marker": {
          "color": "#000008",
          "symbol": "circle"
         },
         "mode": "markers",
         "name": "Dominica",
         "showlegend": true,
         "type": "scattergeo"
        },
        {
         "customdata": [
          [
           18.4666666666666,
           -69.9,
           "RM",
           "Dominican Republic"
          ]
         ],
         "geo": "geo",
         "hovertemplate": "<b>%{hovertext}</b><br><br>country=%{customdata[3]}<br>artist=%{customdata[2]}<extra></extra>",
         "hovertext": [
          "Indigo"
         ],
         "lat": [
          18.4666666666666
         ],
         "legendgroup": "Dominican Republic",
         "lon": [
          -69.9
         ],
         "marker": {
          "color": "#000009",
          "symbol": "circle"
         },
         "mode": "markers",
         "name": "Dominican Republic",
         "showlegend": true,
         "type": "scattergeo"
        },
        {
         "customdata": [
          [
           -0.216666666666666,
           -78.5,
           "RM",
           "Ecuador"
          ]
         ],
         "geo": "geo",
         "hovertemplate": "<b>%{hovertext}</b><br><br>country=%{customdata[3]}<br>artist=%{customdata[2]}<extra></extra>",
         "hovertext": [
          "Indigo"
         ],
         "lat": [
          -0.216666666666666
         ],
         "legendgroup": "Ecuador",
         "lon": [
          -78.5
         ],
         "marker": {
          "color": "#000010",
          "symbol": "circle"
         },
         "mode": "markers",
         "name": "Ecuador",
         "showlegend": true,
         "type": "scattergeo"
        },
        {
         "customdata": [
          [
           30.05,
           31.25,
           "Samira Said",
           "Egypt"
          ]
         ],
         "geo": "geo",
         "hovertemplate": "<b>%{hovertext}</b><br><br>country=%{customdata[3]}<br>artist=%{customdata[2]}<extra></extra>",
         "hovertext": [
          "Ensan 2ali"
         ],
         "lat": [
          30.05
         ],
         "legendgroup": "Egypt",
         "lon": [
          31.25
         ],
         "marker": {
          "color": "#000001",
          "symbol": "circle"
         },
         "mode": "markers",
         "name": "Egypt",
         "showlegend": true,
         "type": "scattergeo"
        },
        {
         "customdata": [
          [
           13.7,
           -89.2,
           "RM",
           "El Salvador"
          ]
         ],
         "geo": "geo",
         "hovertemplate": "<b>%{hovertext}</b><br><br>country=%{customdata[3]}<br>artist=%{customdata[2]}<extra></extra>",
         "hovertext": [
          "Indigo"
         ],
         "lat": [
          13.7
         ],
         "legendgroup": "El Salvador",
         "lon": [
          -89.2
         ],
         "marker": {
          "color": "#000002",
          "symbol": "circle"
         },
         "mode": "markers",
         "name": "El Salvador",
         "showlegend": true,
         "type": "scattergeo"
        },
        {
         "customdata": [
          [
           3.75,
           8.783333,
           "Harry Styles",
           "Equatorial Guinea"
          ]
         ],
         "geo": "geo",
         "hovertemplate": "<b>%{hovertext}</b><br><br>country=%{customdata[3]}<br>artist=%{customdata[2]}<extra></extra>",
         "hovertext": [
          "Harry's House"
         ],
         "lat": [
          3.75
         ],
         "legendgroup": "Equatorial Guinea",
         "lon": [
          8.783333
         ],
         "marker": {
          "color": "#000003",
          "symbol": "circle"
         },
         "mode": "markers",
         "name": "Equatorial Guinea",
         "showlegend": true,
         "type": "scattergeo"
        },
        {
         "customdata": [
          [
           59.4333333333333,
           24.716667,
           "RM",
           "Estonia"
          ]
         ],
         "geo": "geo",
         "hovertemplate": "<b>%{hovertext}</b><br><br>country=%{customdata[3]}<br>artist=%{customdata[2]}<extra></extra>",
         "hovertext": [
          "Indigo"
         ],
         "lat": [
          59.4333333333333
         ],
         "legendgroup": "Estonia",
         "lon": [
          24.716667
         ],
         "marker": {
          "color": "#000004",
          "symbol": "circle"
         },
         "mode": "markers",
         "name": "Estonia",
         "showlegend": true,
         "type": "scattergeo"
        },
        {
         "customdata": [
          [
           9.03333333333333,
           38.7,
           "Bensoul",
           "Ethiopia"
          ]
         ],
         "geo": "geo",
         "hovertemplate": "<b>%{hovertext}</b><br><br>country=%{customdata[3]}<br>artist=%{customdata[2]}<extra></extra>",
         "hovertext": [
          "Aibu"
         ],
         "lat": [
          9.03333333333333
         ],
         "legendgroup": "Ethiopia",
         "lon": [
          38.7
         ],
         "marker": {
          "color": "#000005",
          "symbol": "circle"
         },
         "mode": "markers",
         "name": "Ethiopia",
         "showlegend": true,
         "type": "scattergeo"
        },
        {
         "customdata": [
          [
           -18.1333333333333,
           178.416667,
           "Miliyah",
           "Fiji"
          ]
         ],
         "geo": "geo",
         "hovertemplate": "<b>%{hovertext}</b><br><br>country=%{customdata[3]}<br>artist=%{customdata[2]}<extra></extra>",
         "hovertext": [
          "BLONDE16"
         ],
         "lat": [
          -18.1333333333333
         ],
         "legendgroup": "Fiji",
         "lon": [
          178.416667
         ],
         "marker": {
          "color": "#000006",
          "symbol": "circle"
         },
         "mode": "markers",
         "name": "Fiji",
         "showlegend": true,
         "type": "scattergeo"
        },
        {
         "customdata": [
          [
           60.1666666666666,
           24.933333,
           "Antti Tuisku",
           "Finland"
          ]
         ],
         "geo": "geo",
         "hovertemplate": "<b>%{hovertext}</b><br><br>country=%{customdata[3]}<br>artist=%{customdata[2]}<extra></extra>",
         "hovertext": [
          "Sisään ja ulos"
         ],
         "lat": [
          60.1666666666666
         ],
         "legendgroup": "Finland",
         "lon": [
          24.933333
         ],
         "marker": {
          "color": "#000007",
          "symbol": "circle"
         },
         "mode": "markers",
         "name": "Finland",
         "showlegend": true,
         "type": "scattergeo"
        },
        {
         "customdata": [
          [
           48.8666666666666,
           2.333333,
           "Benab",
           "France"
          ]
         ],
         "geo": "geo",
         "hovertemplate": "<b>%{hovertext}</b><br><br>country=%{customdata[3]}<br>artist=%{customdata[2]}<extra></extra>",
         "hovertext": [
          "Drapeau Blanc"
         ],
         "lat": [
          48.8666666666666
         ],
         "legendgroup": "France",
         "lon": [
          2.333333
         ],
         "marker": {
          "color": "#000008",
          "symbol": "circle"
         },
         "mode": "markers",
         "name": "France",
         "showlegend": true,
         "type": "scattergeo"
        },
        {
         "customdata": [
          [
           0.383333333333333,
           9.45,
           "Spiritbox",
           "Gabon"
          ]
         ],
         "geo": "geo",
         "hovertemplate": "<b>%{hovertext}</b><br><br>country=%{customdata[3]}<br>artist=%{customdata[2]}<extra></extra>",
         "hovertext": [
          "Eternal Blue"
         ],
         "lat": [
          0.383333333333333
         ],
         "legendgroup": "Gabon",
         "lon": [
          9.45
         ],
         "marker": {
          "color": "#000009",
          "symbol": "circle"
         },
         "mode": "markers",
         "name": "Gabon",
         "showlegend": true,
         "type": "scattergeo"
        },
        {
         "customdata": [
          [
           13.45,
           -16.566667,
           "Harry Styles",
           "The Gambia"
          ]
         ],
         "geo": "geo",
         "hovertemplate": "<b>%{hovertext}</b><br><br>country=%{customdata[3]}<br>artist=%{customdata[2]}<extra></extra>",
         "hovertext": [
          "Harry's House"
         ],
         "lat": [
          13.45
         ],
         "legendgroup": "The Gambia",
         "lon": [
          -16.566667
         ],
         "marker": {
          "color": "#000010",
          "symbol": "circle"
         },
         "mode": "markers",
         "name": "The Gambia",
         "showlegend": true,
         "type": "scattergeo"
        },
        {
         "customdata": [
          [
           41.6833333333333,
           44.833333,
           "Harry Styles",
           "Georgia"
          ]
         ],
         "geo": "geo",
         "hovertemplate": "<b>%{hovertext}</b><br><br>country=%{customdata[3]}<br>artist=%{customdata[2]}<extra></extra>",
         "hovertext": [
          "Harry's House"
         ],
         "lat": [
          41.6833333333333
         ],
         "legendgroup": "Georgia",
         "lon": [
          44.833333
         ],
         "marker": {
          "color": "#000001",
          "symbol": "circle"
         },
         "mode": "markers",
         "name": "Georgia",
         "showlegend": true,
         "type": "scattergeo"
        },
        {
         "customdata": [
          [
           52.5166666666666,
           13.4,
           "Montez",
           "Germany"
          ]
         ],
         "geo": "geo",
         "hovertemplate": "<b>%{hovertext}</b><br><br>country=%{customdata[3]}<br>artist=%{customdata[2]}<extra></extra>",
         "hovertext": [
          "LIEBE IN GEFAHR"
         ],
         "lat": [
          52.5166666666666
         ],
         "legendgroup": "Germany",
         "lon": [
          13.4
         ],
         "marker": {
          "color": "#000002",
          "symbol": "circle"
         },
         "mode": "markers",
         "name": "Germany",
         "showlegend": true,
         "type": "scattergeo"
        },
        {
         "customdata": [
          [
           5.55,
           -0.216667,
           "Bnxn",
           "Ghana"
          ]
         ],
         "geo": "geo",
         "hovertemplate": "<b>%{hovertext}</b><br><br>country=%{customdata[3]}<br>artist=%{customdata[2]}<extra></extra>",
         "hovertext": [
          "Kenkele"
         ],
         "lat": [
          5.55
         ],
         "legendgroup": "Ghana",
         "lon": [
          -0.216667
         ],
         "marker": {
          "color": "#000003",
          "symbol": "circle"
         },
         "mode": "markers",
         "name": "Ghana",
         "showlegend": true,
         "type": "scattergeo"
        },
        {
         "customdata": [
          [
           37.9833333333333,
           23.733333,
           "P!nk",
           "Greece"
          ]
         ],
         "geo": "geo",
         "hovertemplate": "<b>%{hovertext}</b><br><br>country=%{customdata[3]}<br>artist=%{customdata[2]}<extra></extra>",
         "hovertext": [
          "TRUSTFALL"
         ],
         "lat": [
          37.9833333333333
         ],
         "legendgroup": "Greece",
         "lon": [
          23.733333
         ],
         "marker": {
          "color": "#000004",
          "symbol": "circle"
         },
         "mode": "markers",
         "name": "Greece",
         "showlegend": true,
         "type": "scattergeo"
        },
        {
         "customdata": [
          [
           12.05,
           -61.75,
           "Harry Styles",
           "Grenada"
          ]
         ],
         "geo": "geo",
         "hovertemplate": "<b>%{hovertext}</b><br><br>country=%{customdata[3]}<br>artist=%{customdata[2]}<extra></extra>",
         "hovertext": [
          "Harry's House"
         ],
         "lat": [
          12.05
         ],
         "legendgroup": "Grenada",
         "lon": [
          -61.75
         ],
         "marker": {
          "color": "#000005",
          "symbol": "circle"
         },
         "mode": "markers",
         "name": "Grenada",
         "showlegend": true,
         "type": "scattergeo"
        },
        {
         "customdata": [
          [
           14.6166666666666,
           -90.516667,
           "RM",
           "Guatemala"
          ]
         ],
         "geo": "geo",
         "hovertemplate": "<b>%{hovertext}</b><br><br>country=%{customdata[3]}<br>artist=%{customdata[2]}<extra></extra>",
         "hovertext": [
          "Indigo"
         ],
         "lat": [
          14.6166666666666
         ],
         "legendgroup": "Guatemala",
         "lon": [
          -90.516667
         ],
         "marker": {
          "color": "#000006",
          "symbol": "circle"
         },
         "mode": "markers",
         "name": "Guatemala",
         "showlegend": true,
         "type": "scattergeo"
        },
        {
         "customdata": [
          [
           9.5,
           -13.7,
           "Harry Styles",
           "Guinea"
          ]
         ],
         "geo": "geo",
         "hovertemplate": "<b>%{hovertext}</b><br><br>country=%{customdata[3]}<br>artist=%{customdata[2]}<extra></extra>",
         "hovertext": [
          "Harry's House"
         ],
         "lat": [
          9.5
         ],
         "legendgroup": "Guinea",
         "lon": [
          -13.7
         ],
         "marker": {
          "color": "#000007",
          "symbol": "circle"
         },
         "mode": "markers",
         "name": "Guinea",
         "showlegend": true,
         "type": "scattergeo"
        },
        {
         "customdata": [
          [
           11.85,
           -15.583333,
           "Harry Styles",
           "Guinea-Bissau"
          ]
         ],
         "geo": "geo",
         "hovertemplate": "<b>%{hovertext}</b><br><br>country=%{customdata[3]}<br>artist=%{customdata[2]}<extra></extra>",
         "hovertext": [
          "Harry's House"
         ],
         "lat": [
          11.85
         ],
         "legendgroup": "Guinea-Bissau",
         "lon": [
          -15.583333
         ],
         "marker": {
          "color": "#000008",
          "symbol": "circle"
         },
         "mode": "markers",
         "name": "Guinea-Bissau",
         "showlegend": true,
         "type": "scattergeo"
        },
        {
         "customdata": [
          [
           6.8,
           -58.15,
           "Harry Styles",
           "Guyana"
          ]
         ],
         "geo": "geo",
         "hovertemplate": "<b>%{hovertext}</b><br><br>country=%{customdata[3]}<br>artist=%{customdata[2]}<extra></extra>",
         "hovertext": [
          "Harry's House"
         ],
         "lat": [
          6.8
         ],
         "legendgroup": "Guyana",
         "lon": [
          -58.15
         ],
         "marker": {
          "color": "#000009",
          "symbol": "circle"
         },
         "mode": "markers",
         "name": "Guyana",
         "showlegend": true,
         "type": "scattergeo"
        },
        {
         "customdata": [
          [
           18.5333333333333,
           -72.333333,
           "Harry Styles",
           "Haiti"
          ]
         ],
         "geo": "geo",
         "hovertemplate": "<b>%{hovertext}</b><br><br>country=%{customdata[3]}<br>artist=%{customdata[2]}<extra></extra>",
         "hovertext": [
          "Harry's House"
         ],
         "lat": [
          18.5333333333333
         ],
         "legendgroup": "Haiti",
         "lon": [
          -72.333333
         ],
         "marker": {
          "color": "#000010",
          "symbol": "circle"
         },
         "mode": "markers",
         "name": "Haiti",
         "showlegend": true,
         "type": "scattergeo"
        },
        {
         "customdata": [
          [
           14.1,
           -87.216667,
           "RM",
           "Honduras"
          ]
         ],
         "geo": "geo",
         "hovertemplate": "<b>%{hovertext}</b><br><br>country=%{customdata[3]}<br>artist=%{customdata[2]}<extra></extra>",
         "hovertext": [
          "Indigo"
         ],
         "lat": [
          14.1
         ],
         "legendgroup": "Honduras",
         "lon": [
          -87.216667
         ],
         "marker": {
          "color": "#000001",
          "symbol": "circle"
         },
         "mode": "markers",
         "name": "Honduras",
         "showlegend": true,
         "type": "scattergeo"
        },
        {
         "customdata": [
          [
           47.5,
           19.083333,
           "BLACKPINK",
           "Hungary"
          ]
         ],
         "geo": "geo",
         "hovertemplate": "<b>%{hovertext}</b><br><br>country=%{customdata[3]}<br>artist=%{customdata[2]}<extra></extra>",
         "hovertext": [
          "BORN PINK"
         ],
         "lat": [
          47.5
         ],
         "legendgroup": "Hungary",
         "lon": [
          19.083333
         ],
         "marker": {
          "color": "#000002",
          "symbol": "circle"
         },
         "mode": "markers",
         "name": "Hungary",
         "showlegend": true,
         "type": "scattergeo"
        },
        {
         "customdata": [
          [
           64.15,
           -21.95,
           "Doja Cat",
           "Iceland"
          ]
         ],
         "geo": "geo",
         "hovertemplate": "<b>%{hovertext}</b><br><br>country=%{customdata[3]}<br>artist=%{customdata[2]}<extra></extra>",
         "hovertext": [
          "Attention"
         ],
         "lat": [
          64.15
         ],
         "legendgroup": "Iceland",
         "lon": [
          -21.95
         ],
         "marker": {
          "color": "#000003",
          "symbol": "circle"
         },
         "mode": "markers",
         "name": "Iceland",
         "showlegend": true,
         "type": "scattergeo"
        },
        {
         "customdata": [
          [
           28.6,
           77.2,
           "Pritam",
           "India"
          ]
         ],
         "geo": "geo",
         "hovertemplate": "<b>%{hovertext}</b><br><br>country=%{customdata[3]}<br>artist=%{customdata[2]}<extra></extra>",
         "hovertext": [
          "Tu Jhoothi Main Makkaar"
         ],
         "lat": [
          28.6
         ],
         "legendgroup": "India",
         "lon": [
          77.2
         ],
         "marker": {
          "color": "#000004",
          "symbol": "circle"
         },
         "mode": "markers",
         "name": "India",
         "showlegend": true,
         "type": "scattergeo"
        },
        {
         "customdata": [
          [
           -6.16666666666666,
           106.816667,
           "Laufey",
           "Indonesia"
          ]
         ],
         "geo": "geo",
         "hovertemplate": "<b>%{hovertext}</b><br><br>country=%{customdata[3]}<br>artist=%{customdata[2]}<extra></extra>",
         "hovertext": [
          "Promise"
         ],
         "lat": [
          -6.16666666666666
         ],
         "legendgroup": "Indonesia",
         "lon": [
          106.816667
         ],
         "marker": {
          "color": "#000005",
          "symbol": "circle"
         },
         "mode": "markers",
         "name": "Indonesia",
         "showlegend": true,
         "type": "scattergeo"
        },
        {
         "customdata": [
          [
           33.3333333333333,
           44.4,
           "Doja Cat",
           "Iraq"
          ]
         ],
         "geo": "geo",
         "hovertemplate": "<b>%{hovertext}</b><br><br>country=%{customdata[3]}<br>artist=%{customdata[2]}<extra></extra>",
         "hovertext": [
          "Attention"
         ],
         "lat": [
          33.3333333333333
         ],
         "legendgroup": "Iraq",
         "lon": [
          44.4
         ],
         "marker": {
          "color": "#000006",
          "symbol": "circle"
         },
         "mode": "markers",
         "name": "Iraq",
         "showlegend": true,
         "type": "scattergeo"
        },
        {
         "customdata": [
          [
           53.3166666666666,
           -6.233333,
           "Tom Grennan",
           "Ireland"
          ]
         ],
         "geo": "geo",
         "hovertemplate": "<b>%{hovertext}</b><br><br>country=%{customdata[3]}<br>artist=%{customdata[2]}<extra></extra>",
         "hovertext": [
          "What Ifs & Maybes"
         ],
         "lat": [
          53.3166666666666
         ],
         "legendgroup": "Ireland",
         "lon": [
          -6.233333
         ],
         "marker": {
          "color": "#000007",
          "symbol": "circle"
         },
         "mode": "markers",
         "name": "Ireland",
         "showlegend": true,
         "type": "scattergeo"
        },
        {
         "customdata": [
          [
           31.7666666666666,
           35.233333,
           "Peer Tasi",
           "Israel"
          ]
         ],
         "geo": "geo",
         "hovertemplate": "<b>%{hovertext}</b><br><br>country=%{customdata[3]}<br>artist=%{customdata[2]}<extra></extra>",
         "hovertext": [
          "רדיו שטח"
         ],
         "lat": [
          31.7666666666666
         ],
         "legendgroup": "Israel",
         "lon": [
          35.233333
         ],
         "marker": {
          "color": "#000008",
          "symbol": "circle"
         },
         "mode": "markers",
         "name": "Israel",
         "showlegend": true,
         "type": "scattergeo"
        },
        {
         "customdata": [
          [
           41.9,
           12.483333,
           "Shiva",
           "Italy"
          ]
         ],
         "geo": "geo",
         "hovertemplate": "<b>%{hovertext}</b><br><br>country=%{customdata[3]}<br>artist=%{customdata[2]}<extra></extra>",
         "hovertext": [
          "Santana Season"
         ],
         "lat": [
          41.9
         ],
         "legendgroup": "Italy",
         "lon": [
          12.483333
         ],
         "marker": {
          "color": "#000009",
          "symbol": "circle"
         },
         "mode": "markers",
         "name": "Italy",
         "showlegend": true,
         "type": "scattergeo"
        },
        {
         "customdata": [
          [
           18,
           -76.8,
           "Harry Styles",
           "Jamaica"
          ]
         ],
         "geo": "geo",
         "hovertemplate": "<b>%{hovertext}</b><br><br>country=%{customdata[3]}<br>artist=%{customdata[2]}<extra></extra>",
         "hovertext": [
          "Harry's House"
         ],
         "lat": [
          18
         ],
         "legendgroup": "Jamaica",
         "lon": [
          -76.8
         ],
         "marker": {
          "color": "#000010",
          "symbol": "circle"
         },
         "mode": "markers",
         "name": "Jamaica",
         "showlegend": true,
         "type": "scattergeo"
        },
        {
         "customdata": [
          [
           35.6833333333333,
           139.75,
           "natori",
           "Japan"
          ]
         ],
         "geo": "geo",
         "hovertemplate": "<b>%{hovertext}</b><br><br>country=%{customdata[3]}<br>artist=%{customdata[2]}<extra></extra>",
         "hovertext": [
          "エウレカ"
         ],
         "lat": [
          35.6833333333333
         ],
         "legendgroup": "Japan",
         "lon": [
          139.75
         ],
         "marker": {
          "color": "#000001",
          "symbol": "circle"
         },
         "mode": "markers",
         "name": "Japan",
         "showlegend": true,
         "type": "scattergeo"
        },
        {
         "customdata": [
          [
           31.95,
           35.933333,
           "ROSALÍA",
           "Jordan"
          ]
         ],
         "geo": "geo",
         "hovertemplate": "<b>%{hovertext}</b><br><br>country=%{customdata[3]}<br>artist=%{customdata[2]}<extra></extra>",
         "hovertext": [
          "TUYA"
         ],
         "lat": [
          31.95
         ],
         "legendgroup": "Jordan",
         "lon": [
          35.933333
         ],
         "marker": {
          "color": "#000002",
          "symbol": "circle"
         },
         "mode": "markers",
         "name": "Jordan",
         "showlegend": true,
         "type": "scattergeo"
        },
        {
         "customdata": [
          [
           51.1666666666666,
           71.416667,
           "Xcho",
           "Kazakhstan"
          ]
         ],
         "geo": "geo",
         "hovertemplate": "<b>%{hovertext}</b><br><br>country=%{customdata[3]}<br>artist=%{customdata[2]}<extra></extra>",
         "hovertext": [
          "Январь"
         ],
         "lat": [
          51.1666666666666
         ],
         "legendgroup": "Kazakhstan",
         "lon": [
          71.416667
         ],
         "marker": {
          "color": "#000003",
          "symbol": "circle"
         },
         "mode": "markers",
         "name": "Kazakhstan",
         "showlegend": true,
         "type": "scattergeo"
        },
        {
         "customdata": [
          [
           -1.28333333333333,
           36.816667,
           "Bussa J",
           "Kenya"
          ]
         ],
         "geo": "geo",
         "hovertemplate": "<b>%{hovertext}</b><br><br>country=%{customdata[3]}<br>artist=%{customdata[2]}<extra></extra>",
         "hovertext": [
          "Fikiria"
         ],
         "lat": [
          -1.28333333333333
         ],
         "legendgroup": "Kenya",
         "lon": [
          36.816667
         ],
         "marker": {
          "color": "#000004",
          "symbol": "circle"
         },
         "mode": "markers",
         "name": "Kenya",
         "showlegend": true,
         "type": "scattergeo"
        },
        {
         "customdata": [
          [
           -0.883333333333333,
           169.533333,
           "Miliyah",
           "Kiribati"
          ]
         ],
         "geo": "geo",
         "hovertemplate": "<b>%{hovertext}</b><br><br>country=%{customdata[3]}<br>artist=%{customdata[2]}<extra></extra>",
         "hovertext": [
          "BLONDE16"
         ],
         "lat": [
          -0.883333333333333
         ],
         "legendgroup": "Kiribati",
         "lon": [
          169.533333
         ],
         "marker": {
          "color": "#000005",
          "symbol": "circle"
         },
         "mode": "markers",
         "name": "Kiribati",
         "showlegend": true,
         "type": "scattergeo"
        },
        {
         "customdata": [
          [
           37.55,
           126.983333,
           "Laufey",
           "South Korea"
          ]
         ],
         "geo": "geo",
         "hovertemplate": "<b>%{hovertext}</b><br><br>country=%{customdata[3]}<br>artist=%{customdata[2]}<extra></extra>",
         "hovertext": [
          "Promise"
         ],
         "lat": [
          37.55
         ],
         "legendgroup": "South Korea",
         "lon": [
          126.983333
         ],
         "marker": {
          "color": "#000006",
          "symbol": "circle"
         },
         "mode": "markers",
         "name": "South Korea",
         "showlegend": true,
         "type": "scattergeo"
        },
        {
         "customdata": [
          [
           29.3666666666666,
           47.966667,
           "Doja Cat",
           "Kuwait"
          ]
         ],
         "geo": "geo",
         "hovertemplate": "<b>%{hovertext}</b><br><br>country=%{customdata[3]}<br>artist=%{customdata[2]}<extra></extra>",
         "hovertext": [
          "Attention"
         ],
         "lat": [
          29.3666666666666
         ],
         "legendgroup": "Kuwait",
         "lon": [
          47.966667
         ],
         "marker": {
          "color": "#000007",
          "symbol": "circle"
         },
         "mode": "markers",
         "name": "Kuwait",
         "showlegend": true,
         "type": "scattergeo"
        },
        {
         "customdata": [
          [
           42.8666666666666,
           74.6,
           "Harry Styles",
           "Kyrgyzstan"
          ]
         ],
         "geo": "geo",
         "hovertemplate": "<b>%{hovertext}</b><br><br>country=%{customdata[3]}<br>artist=%{customdata[2]}<extra></extra>",
         "hovertext": [
          "Harry's House"
         ],
         "lat": [
          42.8666666666666
         ],
         "legendgroup": "Kyrgyzstan",
         "lon": [
          74.6
         ],
         "marker": {
          "color": "#000008",
          "symbol": "circle"
         },
         "mode": "markers",
         "name": "Kyrgyzstan",
         "showlegend": true,
         "type": "scattergeo"
        },
        {
         "customdata": [
          [
           17.9666666666666,
           102.6,
           "ONF",
           "Laos"
          ]
         ],
         "geo": "geo",
         "hovertemplate": "<b>%{hovertext}</b><br><br>country=%{customdata[3]}<br>artist=%{customdata[2]}<extra></extra>",
         "hovertext": [
          "6TH MINI ALBUM [Goosebumps]"
         ],
         "lat": [
          17.9666666666666
         ],
         "legendgroup": "Laos",
         "lon": [
          102.6
         ],
         "marker": {
          "color": "#000009",
          "symbol": "circle"
         },
         "mode": "markers",
         "name": "Laos",
         "showlegend": true,
         "type": "scattergeo"
        },
        {
         "customdata": [
          [
           56.95,
           24.1,
           "RM",
           "Latvia"
          ]
         ],
         "geo": "geo",
         "hovertemplate": "<b>%{hovertext}</b><br><br>country=%{customdata[3]}<br>artist=%{customdata[2]}<extra></extra>",
         "hovertext": [
          "Indigo"
         ],
         "lat": [
          56.95
         ],
         "legendgroup": "Latvia",
         "lon": [
          24.1
         ],
         "marker": {
          "color": "#000010",
          "symbol": "circle"
         },
         "mode": "markers",
         "name": "Latvia",
         "showlegend": true,
         "type": "scattergeo"
        },
        {
         "customdata": [
          [
           33.8666666666666,
           35.5,
           "ROSALÍA",
           "Lebanon"
          ]
         ],
         "geo": "geo",
         "hovertemplate": "<b>%{hovertext}</b><br><br>country=%{customdata[3]}<br>artist=%{customdata[2]}<extra></extra>",
         "hovertext": [
          "TUYA"
         ],
         "lat": [
          33.8666666666666
         ],
         "legendgroup": "Lebanon",
         "lon": [
          35.5
         ],
         "marker": {
          "color": "#000001",
          "symbol": "circle"
         },
         "mode": "markers",
         "name": "Lebanon",
         "showlegend": true,
         "type": "scattergeo"
        },
        {
         "customdata": [
          [
           -29.3166666666666,
           27.483333,
           "Mthandazo Gatya",
           "Lesotho"
          ]
         ],
         "geo": "geo",
         "hovertemplate": "<b>%{hovertext}</b><br><br>country=%{customdata[3]}<br>artist=%{customdata[2]}<extra></extra>",
         "hovertext": [
          "Journey To Infinity"
         ],
         "lat": [
          -29.3166666666666
         ],
         "legendgroup": "Lesotho",
         "lon": [
          27.483333
         ],
         "marker": {
          "color": "#000002",
          "symbol": "circle"
         },
         "mode": "markers",
         "name": "Lesotho",
         "showlegend": true,
         "type": "scattergeo"
        },
        {
         "customdata": [
          [
           6.3,
           -10.8,
           "Harry Styles",
           "Liberia"
          ]
         ],
         "geo": "geo",
         "hovertemplate": "<b>%{hovertext}</b><br><br>country=%{customdata[3]}<br>artist=%{customdata[2]}<extra></extra>",
         "hovertext": [
          "Harry's House"
         ],
         "lat": [
          6.3
         ],
         "legendgroup": "Liberia",
         "lon": [
          -10.8
         ],
         "marker": {
          "color": "#000003",
          "symbol": "circle"
         },
         "mode": "markers",
         "name": "Liberia",
         "showlegend": true,
         "type": "scattergeo"
        },
        {
         "customdata": [
          [
           32.8833333333333,
           13.166667,
           "benny blanco",
           "Libya"
          ]
         ],
         "geo": "geo",
         "hovertemplate": "<b>%{hovertext}</b><br><br>country=%{customdata[3]}<br>artist=%{customdata[2]}<extra></extra>",
         "hovertext": [
          "Bad Decisions (with BTS & Snoop Dogg)"
         ],
         "lat": [
          32.8833333333333
         ],
         "legendgroup": "Libya",
         "lon": [
          13.166667
         ],
         "marker": {
          "color": "#000004",
          "symbol": "circle"
         },
         "mode": "markers",
         "name": "Libya",
         "showlegend": true,
         "type": "scattergeo"
        },
        {
         "customdata": [
          [
           47.1333333333333,
           9.516667,
           "RM",
           "Liechtenstein"
          ]
         ],
         "geo": "geo",
         "hovertemplate": "<b>%{hovertext}</b><br><br>country=%{customdata[3]}<br>artist=%{customdata[2]}<extra></extra>",
         "hovertext": [
          "Indigo"
         ],
         "lat": [
          47.1333333333333
         ],
         "legendgroup": "Liechtenstein",
         "lon": [
          9.516667
         ],
         "marker": {
          "color": "#000005",
          "symbol": "circle"
         },
         "mode": "markers",
         "name": "Liechtenstein",
         "showlegend": true,
         "type": "scattergeo"
        },
        {
         "customdata": [
          [
           54.6833333333333,
           25.316667,
           "RM",
           "Lithuania"
          ]
         ],
         "geo": "geo",
         "hovertemplate": "<b>%{hovertext}</b><br><br>country=%{customdata[3]}<br>artist=%{customdata[2]}<extra></extra>",
         "hovertext": [
          "Indigo"
         ],
         "lat": [
          54.6833333333333
         ],
         "legendgroup": "Lithuania",
         "lon": [
          25.316667
         ],
         "marker": {
          "color": "#000006",
          "symbol": "circle"
         },
         "mode": "markers",
         "name": "Lithuania",
         "showlegend": true,
         "type": "scattergeo"
        },
        {
         "customdata": [
          [
           49.6,
           6.116667,
           "Benab",
           "Luxembourg"
          ]
         ],
         "geo": "geo",
         "hovertemplate": "<b>%{hovertext}</b><br><br>country=%{customdata[3]}<br>artist=%{customdata[2]}<extra></extra>",
         "hovertext": [
          "Drapeau Blanc"
         ],
         "lat": [
          49.6
         ],
         "legendgroup": "Luxembourg",
         "lon": [
          6.116667
         ],
         "marker": {
          "color": "#000007",
          "symbol": "circle"
         },
         "mode": "markers",
         "name": "Luxembourg",
         "showlegend": true,
         "type": "scattergeo"
        },
        {
         "customdata": [
          [
           42,
           21.433333,
           "Harry Styles",
           "Macedonia"
          ]
         ],
         "geo": "geo",
         "hovertemplate": "<b>%{hovertext}</b><br><br>country=%{customdata[3]}<br>artist=%{customdata[2]}<extra></extra>",
         "hovertext": [
          "Harry's House"
         ],
         "lat": [
          42
         ],
         "legendgroup": "Macedonia",
         "lon": [
          21.433333
         ],
         "marker": {
          "color": "#000008",
          "symbol": "circle"
         },
         "mode": "markers",
         "name": "Macedonia",
         "showlegend": true,
         "type": "scattergeo"
        },
        {
         "customdata": [
          [
           -18.9166666666666,
           47.516667,
           "Harry Styles",
           "Madagascar"
          ]
         ],
         "geo": "geo",
         "hovertemplate": "<b>%{hovertext}</b><br><br>country=%{customdata[3]}<br>artist=%{customdata[2]}<extra></extra>",
         "hovertext": [
          "Harry's House"
         ],
         "lat": [
          -18.9166666666666
         ],
         "legendgroup": "Madagascar",
         "lon": [
          47.516667
         ],
         "marker": {
          "color": "#000009",
          "symbol": "circle"
         },
         "mode": "markers",
         "name": "Madagascar",
         "showlegend": true,
         "type": "scattergeo"
        },
        {
         "customdata": [
          [
           -13.9666666666666,
           33.783333,
           "Harry Styles",
           "Malawi"
          ]
         ],
         "geo": "geo",
         "hovertemplate": "<b>%{hovertext}</b><br><br>country=%{customdata[3]}<br>artist=%{customdata[2]}<extra></extra>",
         "hovertext": [
          "Harry's House"
         ],
         "lat": [
          -13.9666666666666
         ],
         "legendgroup": "Malawi",
         "lon": [
          33.783333
         ],
         "marker": {
          "color": "#000010",
          "symbol": "circle"
         },
         "mode": "markers",
         "name": "Malawi",
         "showlegend": true,
         "type": "scattergeo"
        },
        {
         "customdata": [
          [
           3.16666666666666,
           101.7,
           "OHMYMEITING",
           "Malaysia"
          ]
         ],
         "geo": "geo",
         "hovertemplate": "<b>%{hovertext}</b><br><br>country=%{customdata[3]}<br>artist=%{customdata[2]}<extra></extra>",
         "hovertext": [
          "Supernova"
         ],
         "lat": [
          3.16666666666666
         ],
         "legendgroup": "Malaysia",
         "lon": [
          101.7
         ],
         "marker": {
          "color": "#000001",
          "symbol": "circle"
         },
         "mode": "markers",
         "name": "Malaysia",
         "showlegend": true,
         "type": "scattergeo"
        },
        {
         "customdata": [
          [
           4.16666666666666,
           73.5,
           "ONF",
           "Maldives"
          ]
         ],
         "geo": "geo",
         "hovertemplate": "<b>%{hovertext}</b><br><br>country=%{customdata[3]}<br>artist=%{customdata[2]}<extra></extra>",
         "hovertext": [
          "6TH MINI ALBUM [Goosebumps]"
         ],
         "lat": [
          4.16666666666666
         ],
         "legendgroup": "Maldives",
         "lon": [
          73.5
         ],
         "marker": {
          "color": "#000002",
          "symbol": "circle"
         },
         "mode": "markers",
         "name": "Maldives",
         "showlegend": true,
         "type": "scattergeo"
        },
        {
         "customdata": [
          [
           12.65,
           -8,
           "Harry Styles",
           "Mali"
          ]
         ],
         "geo": "geo",
         "hovertemplate": "<b>%{hovertext}</b><br><br>country=%{customdata[3]}<br>artist=%{customdata[2]}<extra></extra>",
         "hovertext": [
          "Harry's House"
         ],
         "lat": [
          12.65
         ],
         "legendgroup": "Mali",
         "lon": [
          -8
         ],
         "marker": {
          "color": "#000003",
          "symbol": "circle"
         },
         "mode": "markers",
         "name": "Mali",
         "showlegend": true,
         "type": "scattergeo"
        },
        {
         "customdata": [
          [
           35.8833333333333,
           14.5,
           "RM",
           "Malta"
          ]
         ],
         "geo": "geo",
         "hovertemplate": "<b>%{hovertext}</b><br><br>country=%{customdata[3]}<br>artist=%{customdata[2]}<extra></extra>",
         "hovertext": [
          "Indigo"
         ],
         "lat": [
          35.8833333333333
         ],
         "legendgroup": "Malta",
         "lon": [
          14.5
         ],
         "marker": {
          "color": "#000004",
          "symbol": "circle"
         },
         "mode": "markers",
         "name": "Malta",
         "showlegend": true,
         "type": "scattergeo"
        },
        {
         "customdata": [
          [
           7.1,
           171.383333,
           "Miliyah",
           "Marshall Islands"
          ]
         ],
         "geo": "geo",
         "hovertemplate": "<b>%{hovertext}</b><br><br>country=%{customdata[3]}<br>artist=%{customdata[2]}<extra></extra>",
         "hovertext": [
          "BLONDE16"
         ],
         "lat": [
          7.1
         ],
         "legendgroup": "Marshall Islands",
         "lon": [
          171.383333
         ],
         "marker": {
          "color": "#000005",
          "symbol": "circle"
         },
         "mode": "markers",
         "name": "Marshall Islands",
         "showlegend": true,
         "type": "scattergeo"
        },
        {
         "customdata": [
          [
           18.0666666666666,
           -15.966667,
           "Harry Styles",
           "Mauritania"
          ]
         ],
         "geo": "geo",
         "hovertemplate": "<b>%{hovertext}</b><br><br>country=%{customdata[3]}<br>artist=%{customdata[2]}<extra></extra>",
         "hovertext": [
          "Harry's House"
         ],
         "lat": [
          18.0666666666666
         ],
         "legendgroup": "Mauritania",
         "lon": [
          -15.966667
         ],
         "marker": {
          "color": "#000006",
          "symbol": "circle"
         },
         "mode": "markers",
         "name": "Mauritania",
         "showlegend": true,
         "type": "scattergeo"
        },
        {
         "customdata": [
          [
           -20.15,
           57.483333,
           "Harry Styles",
           "Mauritius"
          ]
         ],
         "geo": "geo",
         "hovertemplate": "<b>%{hovertext}</b><br><br>country=%{customdata[3]}<br>artist=%{customdata[2]}<extra></extra>",
         "hovertext": [
          "Harry's House"
         ],
         "lat": [
          -20.15
         ],
         "legendgroup": "Mauritius",
         "lon": [
          57.483333
         ],
         "marker": {
          "color": "#000007",
          "symbol": "circle"
         },
         "mode": "markers",
         "name": "Mauritius",
         "showlegend": true,
         "type": "scattergeo"
        },
        {
         "customdata": [
          [
           19.4333333333333,
           -99.133333,
           "Carin Leon",
           "Mexico"
          ]
         ],
         "geo": "geo",
         "hovertemplate": "<b>%{hovertext}</b><br><br>country=%{customdata[3]}<br>artist=%{customdata[2]}<extra></extra>",
         "hovertext": [
          "Colmillo De Leche"
         ],
         "lat": [
          19.4333333333333
         ],
         "legendgroup": "Mexico",
         "lon": [
          -99.133333
         ],
         "marker": {
          "color": "#000008",
          "symbol": "circle"
         },
         "mode": "markers",
         "name": "Mexico",
         "showlegend": true,
         "type": "scattergeo"
        },
        {
         "customdata": [
          [
           6.91666666666666,
           158.15,
           "Harry Styles",
           "Federated States of Micronesia"
          ]
         ],
         "geo": "geo",
         "hovertemplate": "<b>%{hovertext}</b><br><br>country=%{customdata[3]}<br>artist=%{customdata[2]}<extra></extra>",
         "hovertext": [
          "Harry's House"
         ],
         "lat": [
          6.91666666666666
         ],
         "legendgroup": "Federated States of Micronesia",
         "lon": [
          158.15
         ],
         "marker": {
          "color": "#000009",
          "symbol": "circle"
         },
         "mode": "markers",
         "name": "Federated States of Micronesia",
         "showlegend": true,
         "type": "scattergeo"
        },
        {
         "customdata": [
          [
           47,
           28.85,
           "Spiritbox",
           "Moldova"
          ]
         ],
         "geo": "geo",
         "hovertemplate": "<b>%{hovertext}</b><br><br>country=%{customdata[3]}<br>artist=%{customdata[2]}<extra></extra>",
         "hovertext": [
          "Eternal Blue"
         ],
         "lat": [
          47
         ],
         "legendgroup": "Moldova",
         "lon": [
          28.85
         ],
         "marker": {
          "color": "#000010",
          "symbol": "circle"
         },
         "mode": "markers",
         "name": "Moldova",
         "showlegend": true,
         "type": "scattergeo"
        },
        {
         "customdata": [
          [
           43.7333333333333,
           7.416667,
           "Benab",
           "Monaco"
          ]
         ],
         "geo": "geo",
         "hovertemplate": "<b>%{hovertext}</b><br><br>country=%{customdata[3]}<br>artist=%{customdata[2]}<extra></extra>",
         "hovertext": [
          "Drapeau Blanc"
         ],
         "lat": [
          43.7333333333333
         ],
         "legendgroup": "Monaco",
         "lon": [
          7.416667
         ],
         "marker": {
          "color": "#000001",
          "symbol": "circle"
         },
         "mode": "markers",
         "name": "Monaco",
         "showlegend": true,
         "type": "scattergeo"
        },
        {
         "customdata": [
          [
           47.9166666666666,
           106.916667,
           "ONF",
           "Mongolia"
          ]
         ],
         "geo": "geo",
         "hovertemplate": "<b>%{hovertext}</b><br><br>country=%{customdata[3]}<br>artist=%{customdata[2]}<extra></extra>",
         "hovertext": [
          "6TH MINI ALBUM [Goosebumps]"
         ],
         "lat": [
          47.9166666666666
         ],
         "legendgroup": "Mongolia",
         "lon": [
          106.916667
         ],
         "marker": {
          "color": "#000002",
          "symbol": "circle"
         },
         "mode": "markers",
         "name": "Mongolia",
         "showlegend": true,
         "type": "scattergeo"
        },
        {
         "customdata": [
          [
           42.4333333333333,
           19.266667,
           "Harry Styles",
           "Montenegro"
          ]
         ],
         "geo": "geo",
         "hovertemplate": "<b>%{hovertext}</b><br><br>country=%{customdata[3]}<br>artist=%{customdata[2]}<extra></extra>",
         "hovertext": [
          "Harry's House"
         ],
         "lat": [
          42.4333333333333
         ],
         "legendgroup": "Montenegro",
         "lon": [
          19.266667
         ],
         "marker": {
          "color": "#000003",
          "symbol": "circle"
         },
         "mode": "markers",
         "name": "Montenegro",
         "showlegend": true,
         "type": "scattergeo"
        },
        {
         "customdata": [
          [
           34.0166666666666,
           -6.816667,
           "Zouhair Bahaoui",
           "Morocco"
          ]
         ],
         "geo": "geo",
         "hovertemplate": "<b>%{hovertext}</b><br><br>country=%{customdata[3]}<br>artist=%{customdata[2]}<extra></extra>",
         "hovertext": [
          "YA LE3DOUWA"
         ],
         "lat": [
          34.0166666666666
         ],
         "legendgroup": "Morocco",
         "lon": [
          -6.816667
         ],
         "marker": {
          "color": "#000004",
          "symbol": "circle"
         },
         "mode": "markers",
         "name": "Morocco",
         "showlegend": true,
         "type": "scattergeo"
        },
        {
         "customdata": [
          [
           -25.95,
           32.583333,
           "Mthandazo Gatya",
           "Mozambique"
          ]
         ],
         "geo": "geo",
         "hovertemplate": "<b>%{hovertext}</b><br><br>country=%{customdata[3]}<br>artist=%{customdata[2]}<extra></extra>",
         "hovertext": [
          "Journey To Infinity"
         ],
         "lat": [
          -25.95
         ],
         "legendgroup": "Mozambique",
         "lon": [
          32.583333
         ],
         "marker": {
          "color": "#000005",
          "symbol": "circle"
         },
         "mode": "markers",
         "name": "Mozambique",
         "showlegend": true,
         "type": "scattergeo"
        },
        {
         "customdata": [
          [
           -22.5666666666666,
           17.083333,
           "Mthandazo Gatya",
           "Namibia"
          ]
         ],
         "geo": "geo",
         "hovertemplate": "<b>%{hovertext}</b><br><br>country=%{customdata[3]}<br>artist=%{customdata[2]}<extra></extra>",
         "hovertext": [
          "Journey To Infinity"
         ],
         "lat": [
          -22.5666666666666
         ],
         "legendgroup": "Namibia",
         "lon": [
          17.083333
         ],
         "marker": {
          "color": "#000006",
          "symbol": "circle"
         },
         "mode": "markers",
         "name": "Namibia",
         "showlegend": true,
         "type": "scattergeo"
        },
        {
         "customdata": [
          [
           27.7166666666666,
           85.316667,
           "ONF",
           "Nepal"
          ]
         ],
         "geo": "geo",
         "hovertemplate": "<b>%{hovertext}</b><br><br>country=%{customdata[3]}<br>artist=%{customdata[2]}<extra></extra>",
         "hovertext": [
          "6TH MINI ALBUM [Goosebumps]"
         ],
         "lat": [
          27.7166666666666
         ],
         "legendgroup": "Nepal",
         "lon": [
          85.316667
         ],
         "marker": {
          "color": "#000007",
          "symbol": "circle"
         },
         "mode": "markers",
         "name": "Nepal",
         "showlegend": true,
         "type": "scattergeo"
        },
        {
         "customdata": [
          [
           52.35,
           4.916667,
           "Tom Grennan",
           "Netherlands"
          ]
         ],
         "geo": "geo",
         "hovertemplate": "<b>%{hovertext}</b><br><br>country=%{customdata[3]}<br>artist=%{customdata[2]}<extra></extra>",
         "hovertext": [
          "What Ifs & Maybes"
         ],
         "lat": [
          52.35
         ],
         "legendgroup": "Netherlands",
         "lon": [
          4.916667
         ],
         "marker": {
          "color": "#000008",
          "symbol": "circle"
         },
         "mode": "markers",
         "name": "Netherlands",
         "showlegend": true,
         "type": "scattergeo"
        },
        {
         "customdata": [
          [
           -41.3,
           174.783333,
           "The Teskey Brothers",
           "New Zealand"
          ]
         ],
         "geo": "geo",
         "hovertemplate": "<b>%{hovertext}</b><br><br>country=%{customdata[3]}<br>artist=%{customdata[2]}<extra></extra>",
         "hovertext": [
          "The Winding Way"
         ],
         "lat": [
          -41.3
         ],
         "legendgroup": "New Zealand",
         "lon": [
          174.783333
         ],
         "marker": {
          "color": "#000009",
          "symbol": "circle"
         },
         "mode": "markers",
         "name": "New Zealand",
         "showlegend": true,
         "type": "scattergeo"
        },
        {
         "customdata": [
          [
           12.1333333333333,
           -86.25,
           "RM",
           "Nicaragua"
          ]
         ],
         "geo": "geo",
         "hovertemplate": "<b>%{hovertext}</b><br><br>country=%{customdata[3]}<br>artist=%{customdata[2]}<extra></extra>",
         "hovertext": [
          "Indigo"
         ],
         "lat": [
          12.1333333333333
         ],
         "legendgroup": "Nicaragua",
         "lon": [
          -86.25
         ],
         "marker": {
          "color": "#000010",
          "symbol": "circle"
         },
         "mode": "markers",
         "name": "Nicaragua",
         "showlegend": true,
         "type": "scattergeo"
        },
        {
         "customdata": [
          [
           13.5166666666666,
           2.116667,
           "Harry Styles",
           "Niger"
          ]
         ],
         "geo": "geo",
         "hovertemplate": "<b>%{hovertext}</b><br><br>country=%{customdata[3]}<br>artist=%{customdata[2]}<extra></extra>",
         "hovertext": [
          "Harry's House"
         ],
         "lat": [
          13.5166666666666
         ],
         "legendgroup": "Niger",
         "lon": [
          2.116667
         ],
         "marker": {
          "color": "#000001",
          "symbol": "circle"
         },
         "mode": "markers",
         "name": "Niger",
         "showlegend": true,
         "type": "scattergeo"
        },
        {
         "customdata": [
          [
           9.08333333333333,
           7.533333,
           "Bnxn",
           "Nigeria"
          ]
         ],
         "geo": "geo",
         "hovertemplate": "<b>%{hovertext}</b><br><br>country=%{customdata[3]}<br>artist=%{customdata[2]}<extra></extra>",
         "hovertext": [
          "Kenkele"
         ],
         "lat": [
          9.08333333333333
         ],
         "legendgroup": "Nigeria",
         "lon": [
          7.533333
         ],
         "marker": {
          "color": "#000002",
          "symbol": "circle"
         },
         "mode": "markers",
         "name": "Nigeria",
         "showlegend": true,
         "type": "scattergeo"
        },
        {
         "customdata": [
          [
           59.9166666666666,
           10.75,
           "Ylva",
           "Norway"
          ]
         ],
         "geo": "geo",
         "hovertemplate": "<b>%{hovertext}</b><br><br>country=%{customdata[3]}<br>artist=%{customdata[2]}<extra></extra>",
         "hovertext": [
          "Lover"
         ],
         "lat": [
          59.9166666666666
         ],
         "legendgroup": "Norway",
         "lon": [
          10.75
         ],
         "marker": {
          "color": "#000003",
          "symbol": "circle"
         },
         "mode": "markers",
         "name": "Norway",
         "showlegend": true,
         "type": "scattergeo"
        },
        {
         "customdata": [
          [
           23.6166666666666,
           58.583333,
           "Doja Cat",
           "Oman"
          ]
         ],
         "geo": "geo",
         "hovertemplate": "<b>%{hovertext}</b><br><br>country=%{customdata[3]}<br>artist=%{customdata[2]}<extra></extra>",
         "hovertext": [
          "Attention"
         ],
         "lat": [
          23.6166666666666
         ],
         "legendgroup": "Oman",
         "lon": [
          58.583333
         ],
         "marker": {
          "color": "#000004",
          "symbol": "circle"
         },
         "mode": "markers",
         "name": "Oman",
         "showlegend": true,
         "type": "scattergeo"
        },
        {
         "customdata": [
          [
           33.6833333333333,
           73.05,
           "Asfar Hussain",
           "Pakistan"
          ]
         ],
         "geo": "geo",
         "hovertemplate": "<b>%{hovertext}</b><br><br>country=%{customdata[3]}<br>artist=%{customdata[2]}<extra></extra>",
         "hovertext": [
          "Mehram"
         ],
         "lat": [
          33.6833333333333
         ],
         "legendgroup": "Pakistan",
         "lon": [
          73.05
         ],
         "marker": {
          "color": "#000005",
          "symbol": "circle"
         },
         "mode": "markers",
         "name": "Pakistan",
         "showlegend": true,
         "type": "scattergeo"
        },
        {
         "customdata": [
          [
           7.48333333333333,
           134.633333,
           "Harry Styles",
           "Palau"
          ]
         ],
         "geo": "geo",
         "hovertemplate": "<b>%{hovertext}</b><br><br>country=%{customdata[3]}<br>artist=%{customdata[2]}<extra></extra>",
         "hovertext": [
          "Harry's House"
         ],
         "lat": [
          7.48333333333333
         ],
         "legendgroup": "Palau",
         "lon": [
          134.633333
         ],
         "marker": {
          "color": "#000006",
          "symbol": "circle"
         },
         "mode": "markers",
         "name": "Palau",
         "showlegend": true,
         "type": "scattergeo"
        },
        {
         "customdata": [
          [
           8.96666666666666,
           -79.533333,
           "RM",
           "Panama"
          ]
         ],
         "geo": "geo",
         "hovertemplate": "<b>%{hovertext}</b><br><br>country=%{customdata[3]}<br>artist=%{customdata[2]}<extra></extra>",
         "hovertext": [
          "Indigo"
         ],
         "lat": [
          8.96666666666666
         ],
         "legendgroup": "Panama",
         "lon": [
          -79.533333
         ],
         "marker": {
          "color": "#000007",
          "symbol": "circle"
         },
         "mode": "markers",
         "name": "Panama",
         "showlegend": true,
         "type": "scattergeo"
        },
        {
         "customdata": [
          [
           -9.45,
           147.183333,
           "Harry Styles",
           "Papua New Guinea"
          ]
         ],
         "geo": "geo",
         "hovertemplate": "<b>%{hovertext}</b><br><br>country=%{customdata[3]}<br>artist=%{customdata[2]}<extra></extra>",
         "hovertext": [
          "Harry's House"
         ],
         "lat": [
          -9.45
         ],
         "legendgroup": "Papua New Guinea",
         "lon": [
          147.183333
         ],
         "marker": {
          "color": "#000008",
          "symbol": "circle"
         },
         "mode": "markers",
         "name": "Papua New Guinea",
         "showlegend": true,
         "type": "scattergeo"
        },
        {
         "customdata": [
          [
           -25.2666666666666,
           -57.666667,
           "Barbi Recanati",
           "Paraguay"
          ]
         ],
         "geo": "geo",
         "hovertemplate": "<b>%{hovertext}</b><br><br>country=%{customdata[3]}<br>artist=%{customdata[2]}<extra></extra>",
         "hovertext": [
          "El Final de Las Cosas"
         ],
         "lat": [
          -25.2666666666666
         ],
         "legendgroup": "Paraguay",
         "lon": [
          -57.666667
         ],
         "marker": {
          "color": "#000009",
          "symbol": "circle"
         },
         "mode": "markers",
         "name": "Paraguay",
         "showlegend": true,
         "type": "scattergeo"
        },
        {
         "customdata": [
          [
           -12.05,
           -77.05,
           "Juan Pablo Vega",
           "Peru"
          ]
         ],
         "geo": "geo",
         "hovertemplate": "<b>%{hovertext}</b><br><br>country=%{customdata[3]}<br>artist=%{customdata[2]}<extra></extra>",
         "hovertext": [
          "Despídeme De Todxs"
         ],
         "lat": [
          -12.05
         ],
         "legendgroup": "Peru",
         "lon": [
          -77.05
         ],
         "marker": {
          "color": "#000010",
          "symbol": "circle"
         },
         "mode": "markers",
         "name": "Peru",
         "showlegend": true,
         "type": "scattergeo"
        },
        {
         "customdata": [
          [
           14.6,
           120.966667,
           "Laufey",
           "Philippines"
          ]
         ],
         "geo": "geo",
         "hovertemplate": "<b>%{hovertext}</b><br><br>country=%{customdata[3]}<br>artist=%{customdata[2]}<extra></extra>",
         "hovertext": [
          "Promise"
         ],
         "lat": [
          14.6
         ],
         "legendgroup": "Philippines",
         "lon": [
          120.966667
         ],
         "marker": {
          "color": "#000001",
          "symbol": "circle"
         },
         "mode": "markers",
         "name": "Philippines",
         "showlegend": true,
         "type": "scattergeo"
        },
        {
         "customdata": [
          [
           52.25,
           21,
           "Moli",
           "Poland"
          ]
         ],
         "geo": "geo",
         "hovertemplate": "<b>%{hovertext}</b><br><br>country=%{customdata[3]}<br>artist=%{customdata[2]}<extra></extra>",
         "hovertext": [
          "evoL"
         ],
         "lat": [
          52.25
         ],
         "legendgroup": "Poland",
         "lon": [
          21
         ],
         "marker": {
          "color": "#000002",
          "symbol": "circle"
         },
         "mode": "markers",
         "name": "Poland",
         "showlegend": true,
         "type": "scattergeo"
        },
        {
         "customdata": [
          [
           38.7166666666666,
           -9.133333,
           "ProfJam",
           "Portugal"
          ]
         ],
         "geo": "geo",
         "hovertemplate": "<b>%{hovertext}</b><br><br>country=%{customdata[3]}<br>artist=%{customdata[2]}<extra></extra>",
         "hovertext": [
          "MDID"
         ],
         "lat": [
          38.7166666666666
         ],
         "legendgroup": "Portugal",
         "lon": [
          -9.133333
         ],
         "marker": {
          "color": "#000003",
          "symbol": "circle"
         },
         "mode": "markers",
         "name": "Portugal",
         "showlegend": true,
         "type": "scattergeo"
        },
        {
         "customdata": [
          [
           25.2833333333333,
           51.533333,
           "Doja Cat",
           "Qatar"
          ]
         ],
         "geo": "geo",
         "hovertemplate": "<b>%{hovertext}</b><br><br>country=%{customdata[3]}<br>artist=%{customdata[2]}<extra></extra>",
         "hovertext": [
          "Attention"
         ],
         "lat": [
          25.2833333333333
         ],
         "legendgroup": "Qatar",
         "lon": [
          51.533333
         ],
         "marker": {
          "color": "#000004",
          "symbol": "circle"
         },
         "mode": "markers",
         "name": "Qatar",
         "showlegend": true,
         "type": "scattergeo"
        },
        {
         "customdata": [
          [
           44.4333333333333,
           26.1,
           "Aerozen",
           "Romania"
          ]
         ],
         "geo": "geo",
         "hovertemplate": "<b>%{hovertext}</b><br><br>country=%{customdata[3]}<br>artist=%{customdata[2]}<extra></extra>",
         "hovertext": [
          "PARTYPACKZ+"
         ],
         "lat": [
          44.4333333333333
         ],
         "legendgroup": "Romania",
         "lon": [
          26.1
         ],
         "marker": {
          "color": "#000005",
          "symbol": "circle"
         },
         "mode": "markers",
         "name": "Romania",
         "showlegend": true,
         "type": "scattergeo"
        },
        {
         "customdata": [
          [
           -1.95,
           30.05,
           "Maandy",
           "Rwanda"
          ]
         ],
         "geo": "geo",
         "hovertemplate": "<b>%{hovertext}</b><br><br>country=%{customdata[3]}<br>artist=%{customdata[2]}<extra></extra>",
         "hovertext": [
          "Mmhh Mmhh"
         ],
         "lat": [
          -1.95
         ],
         "legendgroup": "Rwanda",
         "lon": [
          30.05
         ],
         "marker": {
          "color": "#000006",
          "symbol": "circle"
         },
         "mode": "markers",
         "name": "Rwanda",
         "showlegend": true,
         "type": "scattergeo"
        },
        {
         "customdata": [
          [
           17.3,
           -62.716667,
           "Harry Styles",
           "Saint Kitts and Nevis"
          ]
         ],
         "geo": "geo",
         "hovertemplate": "<b>%{hovertext}</b><br><br>country=%{customdata[3]}<br>artist=%{customdata[2]}<extra></extra>",
         "hovertext": [
          "Harry's House"
         ],
         "lat": [
          17.3
         ],
         "legendgroup": "Saint Kitts and Nevis",
         "lon": [
          -62.716667
         ],
         "marker": {
          "color": "#000007",
          "symbol": "circle"
         },
         "mode": "markers",
         "name": "Saint Kitts and Nevis",
         "showlegend": true,
         "type": "scattergeo"
        },
        {
         "customdata": [
          [
           14,
           -61,
           "Harry Styles",
           "Saint Lucia"
          ]
         ],
         "geo": "geo",
         "hovertemplate": "<b>%{hovertext}</b><br><br>country=%{customdata[3]}<br>artist=%{customdata[2]}<extra></extra>",
         "hovertext": [
          "Harry's House"
         ],
         "lat": [
          14
         ],
         "legendgroup": "Saint Lucia",
         "lon": [
          -61
         ],
         "marker": {
          "color": "#000008",
          "symbol": "circle"
         },
         "mode": "markers",
         "name": "Saint Lucia",
         "showlegend": true,
         "type": "scattergeo"
        },
        {
         "customdata": [
          [
           13.1333333333333,
           -61.216667,
           "Harry Styles",
           "Saint Vincent and the Grenadines"
          ]
         ],
         "geo": "geo",
         "hovertemplate": "<b>%{hovertext}</b><br><br>country=%{customdata[3]}<br>artist=%{customdata[2]}<extra></extra>",
         "hovertext": [
          "Harry's House"
         ],
         "lat": [
          13.1333333333333
         ],
         "legendgroup": "Saint Vincent and the Grenadines",
         "lon": [
          -61.216667
         ],
         "marker": {
          "color": "#000009",
          "symbol": "circle"
         },
         "mode": "markers",
         "name": "Saint Vincent and the Grenadines",
         "showlegend": true,
         "type": "scattergeo"
        },
        {
         "customdata": [
          [
           -13.8166666666666,
           -171.766667,
           "Miliyah",
           "Samoa"
          ]
         ],
         "geo": "geo",
         "hovertemplate": "<b>%{hovertext}</b><br><br>country=%{customdata[3]}<br>artist=%{customdata[2]}<extra></extra>",
         "hovertext": [
          "BLONDE16"
         ],
         "lat": [
          -13.8166666666666
         ],
         "legendgroup": "Samoa",
         "lon": [
          -171.766667
         ],
         "marker": {
          "color": "#000010",
          "symbol": "circle"
         },
         "mode": "markers",
         "name": "Samoa",
         "showlegend": true,
         "type": "scattergeo"
        },
        {
         "customdata": [
          [
           43.9333333333333,
           12.416667,
           "Marlene Kuntz",
           "San Marino"
          ]
         ],
         "geo": "geo",
         "hovertemplate": "<b>%{hovertext}</b><br><br>country=%{customdata[3]}<br>artist=%{customdata[2]}<extra></extra>",
         "hovertext": [
          "Karma Clima"
         ],
         "lat": [
          43.9333333333333
         ],
         "legendgroup": "San Marino",
         "lon": [
          12.416667
         ],
         "marker": {
          "color": "#000001",
          "symbol": "circle"
         },
         "mode": "markers",
         "name": "San Marino",
         "showlegend": true,
         "type": "scattergeo"
        },
        {
         "customdata": [
          [
           0.333333333333333,
           6.733333,
           "Harry Styles",
           "Sao Tome and Principe"
          ]
         ],
         "geo": "geo",
         "hovertemplate": "<b>%{hovertext}</b><br><br>country=%{customdata[3]}<br>artist=%{customdata[2]}<extra></extra>",
         "hovertext": [
          "Harry's House"
         ],
         "lat": [
          0.333333333333333
         ],
         "legendgroup": "Sao Tome and Principe",
         "lon": [
          6.733333
         ],
         "marker": {
          "color": "#000002",
          "symbol": "circle"
         },
         "mode": "markers",
         "name": "Sao Tome and Principe",
         "showlegend": true,
         "type": "scattergeo"
        },
        {
         "customdata": [
          [
           24.65,
           46.7,
           "Doja Cat",
           "Saudi Arabia"
          ]
         ],
         "geo": "geo",
         "hovertemplate": "<b>%{hovertext}</b><br><br>country=%{customdata[3]}<br>artist=%{customdata[2]}<extra></extra>",
         "hovertext": [
          "Attention"
         ],
         "lat": [
          24.65
         ],
         "legendgroup": "Saudi Arabia",
         "lon": [
          46.7
         ],
         "marker": {
          "color": "#000003",
          "symbol": "circle"
         },
         "mode": "markers",
         "name": "Saudi Arabia",
         "showlegend": true,
         "type": "scattergeo"
        },
        {
         "customdata": [
          [
           14.7333333333333,
           -17.633333,
           "Harry Styles",
           "Senegal"
          ]
         ],
         "geo": "geo",
         "hovertemplate": "<b>%{hovertext}</b><br><br>country=%{customdata[3]}<br>artist=%{customdata[2]}<extra></extra>",
         "hovertext": [
          "Harry's House"
         ],
         "lat": [
          14.7333333333333
         ],
         "legendgroup": "Senegal",
         "lon": [
          -17.633333
         ],
         "marker": {
          "color": "#000004",
          "symbol": "circle"
         },
         "mode": "markers",
         "name": "Senegal",
         "showlegend": true,
         "type": "scattergeo"
        },
        {
         "customdata": [
          [
           44.8333333333333,
           20.5,
           "Harry Styles",
           "Serbia"
          ]
         ],
         "geo": "geo",
         "hovertemplate": "<b>%{hovertext}</b><br><br>country=%{customdata[3]}<br>artist=%{customdata[2]}<extra></extra>",
         "hovertext": [
          "Harry's House"
         ],
         "lat": [
          44.8333333333333
         ],
         "legendgroup": "Serbia",
         "lon": [
          20.5
         ],
         "marker": {
          "color": "#000005",
          "symbol": "circle"
         },
         "mode": "markers",
         "name": "Serbia",
         "showlegend": true,
         "type": "scattergeo"
        },
        {
         "customdata": [
          [
           -4.61666666666666,
           55.45,
           "Harry Styles",
           "Seychelles"
          ]
         ],
         "geo": "geo",
         "hovertemplate": "<b>%{hovertext}</b><br><br>country=%{customdata[3]}<br>artist=%{customdata[2]}<extra></extra>",
         "hovertext": [
          "Harry's House"
         ],
         "lat": [
          -4.61666666666666
         ],
         "legendgroup": "Seychelles",
         "lon": [
          55.45
         ],
         "marker": {
          "color": "#000006",
          "symbol": "circle"
         },
         "mode": "markers",
         "name": "Seychelles",
         "showlegend": true,
         "type": "scattergeo"
        },
        {
         "customdata": [
          [
           8.48333333333333,
           -13.233333,
           "Harry Styles",
           "Sierra Leone"
          ]
         ],
         "geo": "geo",
         "hovertemplate": "<b>%{hovertext}</b><br><br>country=%{customdata[3]}<br>artist=%{customdata[2]}<extra></extra>",
         "hovertext": [
          "Harry's House"
         ],
         "lat": [
          8.48333333333333
         ],
         "legendgroup": "Sierra Leone",
         "lon": [
          -13.233333
         ],
         "marker": {
          "color": "#000007",
          "symbol": "circle"
         },
         "mode": "markers",
         "name": "Sierra Leone",
         "showlegend": true,
         "type": "scattergeo"
        },
        {
         "customdata": [
          [
           1.28333333333333,
           103.85,
           "OHMYMEITING",
           "Singapore"
          ]
         ],
         "geo": "geo",
         "hovertemplate": "<b>%{hovertext}</b><br><br>country=%{customdata[3]}<br>artist=%{customdata[2]}<extra></extra>",
         "hovertext": [
          "Supernova"
         ],
         "lat": [
          1.28333333333333
         ],
         "legendgroup": "Singapore",
         "lon": [
          103.85
         ],
         "marker": {
          "color": "#000008",
          "symbol": "circle"
         },
         "mode": "markers",
         "name": "Singapore",
         "showlegend": true,
         "type": "scattergeo"
        },
        {
         "customdata": [
          [
           48.15,
           17.116667,
           "Pil C",
           "Slovakia"
          ]
         ],
         "geo": "geo",
         "hovertemplate": "<b>%{hovertext}</b><br><br>country=%{customdata[3]}<br>artist=%{customdata[2]}<extra></extra>",
         "hovertext": [
          "S láskou, Lukáš."
         ],
         "lat": [
          48.15
         ],
         "legendgroup": "Slovakia",
         "lon": [
          17.116667
         ],
         "marker": {
          "color": "#000009",
          "symbol": "circle"
         },
         "mode": "markers",
         "name": "Slovakia",
         "showlegend": true,
         "type": "scattergeo"
        },
        {
         "customdata": [
          [
           46.05,
           14.516667,
           "RM",
           "Slovenia"
          ]
         ],
         "geo": "geo",
         "hovertemplate": "<b>%{hovertext}</b><br><br>country=%{customdata[3]}<br>artist=%{customdata[2]}<extra></extra>",
         "hovertext": [
          "Indigo"
         ],
         "lat": [
          46.05
         ],
         "legendgroup": "Slovenia",
         "lon": [
          14.516667
         ],
         "marker": {
          "color": "#000010",
          "symbol": "circle"
         },
         "mode": "markers",
         "name": "Slovenia",
         "showlegend": true,
         "type": "scattergeo"
        },
        {
         "customdata": [
          [
           -9.43333333333333,
           159.95,
           "Harry Styles",
           "Solomon Islands"
          ]
         ],
         "geo": "geo",
         "hovertemplate": "<b>%{hovertext}</b><br><br>country=%{customdata[3]}<br>artist=%{customdata[2]}<extra></extra>",
         "hovertext": [
          "Harry's House"
         ],
         "lat": [
          -9.43333333333333
         ],
         "legendgroup": "Solomon Islands",
         "lon": [
          159.95
         ],
         "marker": {
          "color": "#000001",
          "symbol": "circle"
         },
         "mode": "markers",
         "name": "Solomon Islands",
         "showlegend": true,
         "type": "scattergeo"
        },
        {
         "customdata": [
          [
           -25.7,
           28.216667,
           "Summer Walker",
           "South Africa"
          ]
         ],
         "geo": "geo",
         "hovertemplate": "<b>%{hovertext}</b><br><br>country=%{customdata[3]}<br>artist=%{customdata[2]}<extra></extra>",
         "hovertext": [
          "CLEAR 2: SOFT LIFE EP"
         ],
         "lat": [
          -25.7
         ],
         "legendgroup": "South Africa",
         "lon": [
          28.216667
         ],
         "marker": {
          "color": "#000002",
          "symbol": "circle"
         },
         "mode": "markers",
         "name": "South Africa",
         "showlegend": true,
         "type": "scattergeo"
        },
        {
         "customdata": [
          [
           40.4,
           -3.683333,
           "KAROL G",
           "Spain"
          ]
         ],
         "geo": "geo",
         "hovertemplate": "<b>%{hovertext}</b><br><br>country=%{customdata[3]}<br>artist=%{customdata[2]}<extra></extra>",
         "hovertext": [
          "MAÑANA SERÁ BONITO"
         ],
         "lat": [
          40.4
         ],
         "legendgroup": "Spain",
         "lon": [
          -3.683333
         ],
         "marker": {
          "color": "#000003",
          "symbol": "circle"
         },
         "mode": "markers",
         "name": "Spain",
         "showlegend": true,
         "type": "scattergeo"
        },
        {
         "customdata": [
          [
           6.91666666666666,
           79.833333,
           "ADK",
           "Sri Lanka"
          ]
         ],
         "geo": "geo",
         "hovertemplate": "<b>%{hovertext}</b><br><br>country=%{customdata[3]}<br>artist=%{customdata[2]}<extra></extra>",
         "hovertext": [
          "Rider Fighter"
         ],
         "lat": [
          6.91666666666666
         ],
         "legendgroup": "Sri Lanka",
         "lon": [
          79.833333
         ],
         "marker": {
          "color": "#000004",
          "symbol": "circle"
         },
         "mode": "markers",
         "name": "Sri Lanka",
         "showlegend": true,
         "type": "scattergeo"
        },
        {
         "customdata": [
          [
           5.83333333333333,
           -55.166667,
           "RM",
           "Suriname"
          ]
         ],
         "geo": "geo",
         "hovertemplate": "<b>%{hovertext}</b><br><br>country=%{customdata[3]}<br>artist=%{customdata[2]}<extra></extra>",
         "hovertext": [
          "Indigo"
         ],
         "lat": [
          5.83333333333333
         ],
         "legendgroup": "Suriname",
         "lon": [
          -55.166667
         ],
         "marker": {
          "color": "#000005",
          "symbol": "circle"
         },
         "mode": "markers",
         "name": "Suriname",
         "showlegend": true,
         "type": "scattergeo"
        },
        {
         "customdata": [
          [
           -26.3166666666666,
           31.133333,
           "Mthandazo Gatya",
           "Swaziland"
          ]
         ],
         "geo": "geo",
         "hovertemplate": "<b>%{hovertext}</b><br><br>country=%{customdata[3]}<br>artist=%{customdata[2]}<extra></extra>",
         "hovertext": [
          "Journey To Infinity"
         ],
         "lat": [
          -26.3166666666666
         ],
         "legendgroup": "Swaziland",
         "lon": [
          31.133333
         ],
         "marker": {
          "color": "#000006",
          "symbol": "circle"
         },
         "mode": "markers",
         "name": "Swaziland",
         "showlegend": true,
         "type": "scattergeo"
        },
        {
         "customdata": [
          [
           59.3333333333333,
           18.05,
           "Medina",
           "Sweden"
          ]
         ],
         "geo": "geo",
         "hovertemplate": "<b>%{hovertext}</b><br><br>country=%{customdata[3]}<br>artist=%{customdata[2]}<extra></extra>",
         "hovertext": [
          "Tropicalisera"
         ],
         "lat": [
          59.3333333333333
         ],
         "legendgroup": "Sweden",
         "lon": [
          18.05
         ],
         "marker": {
          "color": "#000007",
          "symbol": "circle"
         },
         "mode": "markers",
         "name": "Sweden",
         "showlegend": true,
         "type": "scattergeo"
        },
        {
         "customdata": [
          [
           46.9166666666666,
           7.466667,
           "Montez",
           "Switzerland"
          ]
         ],
         "geo": "geo",
         "hovertemplate": "<b>%{hovertext}</b><br><br>country=%{customdata[3]}<br>artist=%{customdata[2]}<extra></extra>",
         "hovertext": [
          "LIEBE IN GEFAHR"
         ],
         "lat": [
          46.9166666666666
         ],
         "legendgroup": "Switzerland",
         "lon": [
          7.466667
         ],
         "marker": {
          "color": "#000008",
          "symbol": "circle"
         },
         "mode": "markers",
         "name": "Switzerland",
         "showlegend": true,
         "type": "scattergeo"
        },
        {
         "customdata": [
          [
           25.0333333333333,
           121.516667,
           "Wu Bai",
           "Taiwan"
          ]
         ],
         "geo": "geo",
         "hovertemplate": "<b>%{hovertext}</b><br><br>country=%{customdata[3]}<br>artist=%{customdata[2]}<extra></extra>",
         "hovertext": [
          "純白的起點"
         ],
         "lat": [
          25.0333333333333
         ],
         "legendgroup": "Taiwan",
         "lon": [
          121.516667
         ],
         "marker": {
          "color": "#000009",
          "symbol": "circle"
         },
         "mode": "markers",
         "name": "Taiwan",
         "showlegend": true,
         "type": "scattergeo"
        },
        {
         "customdata": [
          [
           38.55,
           68.766667,
           "Wet Leg",
           "Tajikistan"
          ]
         ],
         "geo": "geo",
         "hovertemplate": "<b>%{hovertext}</b><br><br>country=%{customdata[3]}<br>artist=%{customdata[2]}<extra></extra>",
         "hovertext": [
          "Wet Leg"
         ],
         "lat": [
          38.55
         ],
         "legendgroup": "Tajikistan",
         "lon": [
          68.766667
         ],
         "marker": {
          "color": "#000010",
          "symbol": "circle"
         },
         "mode": "markers",
         "name": "Tajikistan",
         "showlegend": true,
         "type": "scattergeo"
        },
        {
         "customdata": [
          [
           -6.8,
           39.283333,
           "Bussa J",
           "Tanzania"
          ]
         ],
         "geo": "geo",
         "hovertemplate": "<b>%{hovertext}</b><br><br>country=%{customdata[3]}<br>artist=%{customdata[2]}<extra></extra>",
         "hovertext": [
          "Fikiria"
         ],
         "lat": [
          -6.8
         ],
         "legendgroup": "Tanzania",
         "lon": [
          39.283333
         ],
         "marker": {
          "color": "#000001",
          "symbol": "circle"
         },
         "mode": "markers",
         "name": "Tanzania",
         "showlegend": true,
         "type": "scattergeo"
        },
        {
         "customdata": [
          [
           13.75,
           100.516667,
           "Laufey",
           "Thailand"
          ]
         ],
         "geo": "geo",
         "hovertemplate": "<b>%{hovertext}</b><br><br>country=%{customdata[3]}<br>artist=%{customdata[2]}<extra></extra>",
         "hovertext": [
          "Promise"
         ],
         "lat": [
          13.75
         ],
         "legendgroup": "Thailand",
         "lon": [
          100.516667
         ],
         "marker": {
          "color": "#000002",
          "symbol": "circle"
         },
         "mode": "markers",
         "name": "Thailand",
         "showlegend": true,
         "type": "scattergeo"
        },
        {
         "customdata": [
          [
           -8.58333333333333,
           125.6,
           "Harry Styles",
           "Timor-Leste"
          ]
         ],
         "geo": "geo",
         "hovertemplate": "<b>%{hovertext}</b><br><br>country=%{customdata[3]}<br>artist=%{customdata[2]}<extra></extra>",
         "hovertext": [
          "Harry's House"
         ],
         "lat": [
          -8.58333333333333
         ],
         "legendgroup": "Timor-Leste",
         "lon": [
          125.6
         ],
         "marker": {
          "color": "#000003",
          "symbol": "circle"
         },
         "mode": "markers",
         "name": "Timor-Leste",
         "showlegend": true,
         "type": "scattergeo"
        },
        {
         "customdata": [
          [
           6.11666666666666,
           1.216667,
           "Harry Styles",
           "Togo"
          ]
         ],
         "geo": "geo",
         "hovertemplate": "<b>%{hovertext}</b><br><br>country=%{customdata[3]}<br>artist=%{customdata[2]}<extra></extra>",
         "hovertext": [
          "Harry's House"
         ],
         "lat": [
          6.11666666666666
         ],
         "legendgroup": "Togo",
         "lon": [
          1.216667
         ],
         "marker": {
          "color": "#000004",
          "symbol": "circle"
         },
         "mode": "markers",
         "name": "Togo",
         "showlegend": true,
         "type": "scattergeo"
        },
        {
         "customdata": [
          [
           -21.1333333333333,
           -175.2,
           "Miliyah",
           "Tonga"
          ]
         ],
         "geo": "geo",
         "hovertemplate": "<b>%{hovertext}</b><br><br>country=%{customdata[3]}<br>artist=%{customdata[2]}<extra></extra>",
         "hovertext": [
          "BLONDE16"
         ],
         "lat": [
          -21.1333333333333
         ],
         "legendgroup": "Tonga",
         "lon": [
          -175.2
         ],
         "marker": {
          "color": "#000005",
          "symbol": "circle"
         },
         "mode": "markers",
         "name": "Tonga",
         "showlegend": true,
         "type": "scattergeo"
        },
        {
         "customdata": [
          [
           10.65,
           -61.516667,
           "Harry Styles",
           "Trinidad and Tobago"
          ]
         ],
         "geo": "geo",
         "hovertemplate": "<b>%{hovertext}</b><br><br>country=%{customdata[3]}<br>artist=%{customdata[2]}<extra></extra>",
         "hovertext": [
          "Harry's House"
         ],
         "lat": [
          10.65
         ],
         "legendgroup": "Trinidad and Tobago",
         "lon": [
          -61.516667
         ],
         "marker": {
          "color": "#000006",
          "symbol": "circle"
         },
         "mode": "markers",
         "name": "Trinidad and Tobago",
         "showlegend": true,
         "type": "scattergeo"
        },
        {
         "customdata": [
          [
           36.8,
           10.183333,
           "Zouhair Bahaoui",
           "Tunisia"
          ]
         ],
         "geo": "geo",
         "hovertemplate": "<b>%{hovertext}</b><br><br>country=%{customdata[3]}<br>artist=%{customdata[2]}<extra></extra>",
         "hovertext": [
          "YA LE3DOUWA"
         ],
         "lat": [
          36.8
         ],
         "legendgroup": "Tunisia",
         "lon": [
          10.183333
         ],
         "marker": {
          "color": "#000007",
          "symbol": "circle"
         },
         "mode": "markers",
         "name": "Tunisia",
         "showlegend": true,
         "type": "scattergeo"
        },
        {
         "customdata": [
          [
           39.9333333333333,
           32.866667,
           "KÖFN",
           "Turkey"
          ]
         ],
         "geo": "geo",
         "hovertemplate": "<b>%{hovertext}</b><br><br>country=%{customdata[3]}<br>artist=%{customdata[2]}<extra></extra>",
         "hovertext": [
          "POPSTAR"
         ],
         "lat": [
          39.9333333333333
         ],
         "legendgroup": "Turkey",
         "lon": [
          32.866667
         ],
         "marker": {
          "color": "#000008",
          "symbol": "circle"
         },
         "mode": "markers",
         "name": "Turkey",
         "showlegend": true,
         "type": "scattergeo"
        },
        {
         "customdata": [
          [
           -8.51666666666666,
           179.216667,
           "Miliyah",
           "Tuvalu"
          ]
         ],
         "geo": "geo",
         "hovertemplate": "<b>%{hovertext}</b><br><br>country=%{customdata[3]}<br>artist=%{customdata[2]}<extra></extra>",
         "hovertext": [
          "BLONDE16"
         ],
         "lat": [
          -8.51666666666666
         ],
         "legendgroup": "Tuvalu",
         "lon": [
          179.216667
         ],
         "marker": {
          "color": "#000009",
          "symbol": "circle"
         },
         "mode": "markers",
         "name": "Tuvalu",
         "showlegend": true,
         "type": "scattergeo"
        },
        {
         "customdata": [
          [
           0.316666666666666,
           32.55,
           "Christopher Martin",
           "Uganda"
          ]
         ],
         "geo": "geo",
         "hovertemplate": "<b>%{hovertext}</b><br><br>country=%{customdata[3]}<br>artist=%{customdata[2]}<extra></extra>",
         "hovertext": [
          "Guaranteed"
         ],
         "lat": [
          0.316666666666666
         ],
         "legendgroup": "Uganda",
         "lon": [
          32.55
         ],
         "marker": {
          "color": "#000010",
          "symbol": "circle"
         },
         "mode": "markers",
         "name": "Uganda",
         "showlegend": true,
         "type": "scattergeo"
        },
        {
         "customdata": [
          [
           50.4333333333333,
           30.516667,
           "Tiësto",
           "Ukraine"
          ]
         ],
         "geo": "geo",
         "hovertemplate": "<b>%{hovertext}</b><br><br>country=%{customdata[3]}<br>artist=%{customdata[2]}<extra></extra>",
         "hovertext": [
          "DRIVE"
         ],
         "lat": [
          50.4333333333333
         ],
         "legendgroup": "Ukraine",
         "lon": [
          30.516667
         ],
         "marker": {
          "color": "#000001",
          "symbol": "circle"
         },
         "mode": "markers",
         "name": "Ukraine",
         "showlegend": true,
         "type": "scattergeo"
        },
        {
         "customdata": [
          [
           24.4666666666666,
           54.366667,
           "Doja Cat",
           "United Arab Emirates"
          ]
         ],
         "geo": "geo",
         "hovertemplate": "<b>%{hovertext}</b><br><br>country=%{customdata[3]}<br>artist=%{customdata[2]}<extra></extra>",
         "hovertext": [
          "Attention"
         ],
         "lat": [
          24.4666666666666
         ],
         "legendgroup": "United Arab Emirates",
         "lon": [
          54.366667
         ],
         "marker": {
          "color": "#000002",
          "symbol": "circle"
         },
         "mode": "markers",
         "name": "United Arab Emirates",
         "showlegend": true,
         "type": "scattergeo"
        },
        {
         "customdata": [
          [
           51.5,
           -0.083333,
           "Tom Grennan",
           "United Kingdom"
          ]
         ],
         "geo": "geo",
         "hovertemplate": "<b>%{hovertext}</b><br><br>country=%{customdata[3]}<br>artist=%{customdata[2]}<extra></extra>",
         "hovertext": [
          "What Ifs & Maybes"
         ],
         "lat": [
          51.5
         ],
         "legendgroup": "United Kingdom",
         "lon": [
          -0.083333
         ],
         "marker": {
          "color": "#000003",
          "symbol": "circle"
         },
         "mode": "markers",
         "name": "United Kingdom",
         "showlegend": true,
         "type": "scattergeo"
        },
        {
         "customdata": [
          [
           38.883333,
           -77,
           "Doja Cat",
           "United States"
          ]
         ],
         "geo": "geo",
         "hovertemplate": "<b>%{hovertext}</b><br><br>country=%{customdata[3]}<br>artist=%{customdata[2]}<extra></extra>",
         "hovertext": [
          "Attention"
         ],
         "lat": [
          38.883333
         ],
         "legendgroup": "United States",
         "lon": [
          -77
         ],
         "marker": {
          "color": "#000004",
          "symbol": "circle"
         },
         "mode": "markers",
         "name": "United States",
         "showlegend": true,
         "type": "scattergeo"
        },
        {
         "customdata": [
          [
           -34.85,
           -56.166667,
           "Barbi Recanati",
           "Uruguay"
          ]
         ],
         "geo": "geo",
         "hovertemplate": "<b>%{hovertext}</b><br><br>country=%{customdata[3]}<br>artist=%{customdata[2]}<extra></extra>",
         "hovertext": [
          "El Final de Las Cosas"
         ],
         "lat": [
          -34.85
         ],
         "legendgroup": "Uruguay",
         "lon": [
          -56.166667
         ],
         "marker": {
          "color": "#000005",
          "symbol": "circle"
         },
         "mode": "markers",
         "name": "Uruguay",
         "showlegend": true,
         "type": "scattergeo"
        },
        {
         "customdata": [
          [
           41.3166666666666,
           69.25,
           "Xcho",
           "Uzbekistan"
          ]
         ],
         "geo": "geo",
         "hovertemplate": "<b>%{hovertext}</b><br><br>country=%{customdata[3]}<br>artist=%{customdata[2]}<extra></extra>",
         "hovertext": [
          "Январь"
         ],
         "lat": [
          41.3166666666666
         ],
         "legendgroup": "Uzbekistan",
         "lon": [
          69.25
         ],
         "marker": {
          "color": "#000006",
          "symbol": "circle"
         },
         "mode": "markers",
         "name": "Uzbekistan",
         "showlegend": true,
         "type": "scattergeo"
        },
        {
         "customdata": [
          [
           -17.7333333333333,
           168.316667,
           "Harry Styles",
           "Vanuatu"
          ]
         ],
         "geo": "geo",
         "hovertemplate": "<b>%{hovertext}</b><br><br>country=%{customdata[3]}<br>artist=%{customdata[2]}<extra></extra>",
         "hovertext": [
          "Harry's House"
         ],
         "lat": [
          -17.7333333333333
         ],
         "legendgroup": "Vanuatu",
         "lon": [
          168.316667
         ],
         "marker": {
          "color": "#000007",
          "symbol": "circle"
         },
         "mode": "markers",
         "name": "Vanuatu",
         "showlegend": true,
         "type": "scattergeo"
        },
        {
         "customdata": [
          [
           10.4833333333333,
           -66.866667,
           "Juan Pablo Vega",
           "Venezuela"
          ]
         ],
         "geo": "geo",
         "hovertemplate": "<b>%{hovertext}</b><br><br>country=%{customdata[3]}<br>artist=%{customdata[2]}<extra></extra>",
         "hovertext": [
          "Despídeme De Todxs"
         ],
         "lat": [
          10.4833333333333
         ],
         "legendgroup": "Venezuela",
         "lon": [
          -66.866667
         ],
         "marker": {
          "color": "#000008",
          "symbol": "circle"
         },
         "mode": "markers",
         "name": "Venezuela",
         "showlegend": true,
         "type": "scattergeo"
        },
        {
         "customdata": [
          [
           21.0333333333333,
           105.85,
           "Laufey",
           "Vietnam"
          ]
         ],
         "geo": "geo",
         "hovertemplate": "<b>%{hovertext}</b><br><br>country=%{customdata[3]}<br>artist=%{customdata[2]}<extra></extra>",
         "hovertext": [
          "Promise"
         ],
         "lat": [
          21.0333333333333
         ],
         "legendgroup": "Vietnam",
         "lon": [
          105.85
         ],
         "marker": {
          "color": "#000009",
          "symbol": "circle"
         },
         "mode": "markers",
         "name": "Vietnam",
         "showlegend": true,
         "type": "scattergeo"
        },
        {
         "customdata": [
          [
           -15.4166666666666,
           28.283333,
           "Harry Styles",
           "Zambia"
          ]
         ],
         "geo": "geo",
         "hovertemplate": "<b>%{hovertext}</b><br><br>country=%{customdata[3]}<br>artist=%{customdata[2]}<extra></extra>",
         "hovertext": [
          "Harry's House"
         ],
         "lat": [
          -15.4166666666666
         ],
         "legendgroup": "Zambia",
         "lon": [
          28.283333
         ],
         "marker": {
          "color": "#000010",
          "symbol": "circle"
         },
         "mode": "markers",
         "name": "Zambia",
         "showlegend": true,
         "type": "scattergeo"
        },
        {
         "customdata": [
          [
           -17.8166666666666,
           31.033333,
           "Harry Styles",
           "Zimbabwe"
          ]
         ],
         "geo": "geo",
         "hovertemplate": "<b>%{hovertext}</b><br><br>country=%{customdata[3]}<br>artist=%{customdata[2]}<extra></extra>",
         "hovertext": [
          "Harry's House"
         ],
         "lat": [
          -17.8166666666666
         ],
         "legendgroup": "Zimbabwe",
         "lon": [
          31.033333
         ],
         "marker": {
          "color": "#000001",
          "symbol": "circle"
         },
         "mode": "markers",
         "name": "Zimbabwe",
         "showlegend": true,
         "type": "scattergeo"
        },
        {
         "customdata": [
          [
           0,
           0,
           "Laufey",
           "Hong Kong"
          ]
         ],
         "geo": "geo",
         "hovertemplate": "<b>%{hovertext}</b><br><br>country=%{customdata[3]}<br>artist=%{customdata[2]}<extra></extra>",
         "hovertext": [
          "Promise"
         ],
         "lat": [
          0
         ],
         "legendgroup": "Hong Kong",
         "lon": [
          0
         ],
         "marker": {
          "color": "#000002",
          "symbol": "circle"
         },
         "mode": "markers",
         "name": "Hong Kong",
         "showlegend": true,
         "type": "scattergeo"
        },
        {
         "customdata": [
          [
           0,
           0,
           "ONF",
           "Macau"
          ]
         ],
         "geo": "geo",
         "hovertemplate": "<b>%{hovertext}</b><br><br>country=%{customdata[3]}<br>artist=%{customdata[2]}<extra></extra>",
         "hovertext": [
          "6TH MINI ALBUM [Goosebumps]"
         ],
         "lat": [
          0
         ],
         "legendgroup": "Macau",
         "lon": [
          0
         ],
         "marker": {
          "color": "#000003",
          "symbol": "circle"
         },
         "mode": "markers",
         "name": "Macau",
         "showlegend": true,
         "type": "scattergeo"
        }
       ],
       "layout": {
        "geo": {
         "center": {},
         "domain": {
          "x": [
           0,
           1
          ],
          "y": [
           0,
           1
          ]
         }
        },
        "legend": {
         "title": {
          "text": "country"
         },
         "tracegroupgap": 0
        },
        "margin": {
         "t": 60
        },
        "template": {
         "data": {
          "candlestick": [
           {
            "decreasing": {
             "line": {
              "color": "#000033"
             }
            },
            "increasing": {
             "line": {
              "color": "#000032"
             }
            },
            "type": "candlestick"
           }
          ],
          "contour": [
           {
            "colorscale": [
             [
              0,
              "#000011"
             ],
             [
              0.1111111111111111,
              "#000012"
             ],
             [
              0.2222222222222222,
              "#000013"
             ],
             [
              0.3333333333333333,
              "#000014"
             ],
             [
              0.4444444444444444,
              "#000015"
             ],
             [
              0.5555555555555556,
              "#000016"
             ],
             [
              0.6666666666666666,
              "#000017"
             ],
             [
              0.7777777777777778,
              "#000018"
             ],
             [
              0.8888888888888888,
              "#000019"
             ],
             [
              1,
              "#000020"
             ]
            ],
            "type": "contour"
           }
          ],
          "contourcarpet": [
           {
            "colorscale": [
             [
              0,
              "#000011"
             ],
             [
              0.1111111111111111,
              "#000012"
             ],
             [
              0.2222222222222222,
              "#000013"
             ],
             [
              0.3333333333333333,
              "#000014"
             ],
             [
              0.4444444444444444,
              "#000015"
             ],
             [
              0.5555555555555556,
              "#000016"
             ],
             [
              0.6666666666666666,
              "#000017"
             ],
             [
              0.7777777777777778,
              "#000018"
             ],
             [
              0.8888888888888888,
              "#000019"
             ],
             [
              1,
              "#000020"
             ]
            ],
            "type": "contourcarpet"
           }
          ],
          "heatmap": [
           {
            "colorscale": [
             [
              0,
              "#000011"
             ],
             [
              0.1111111111111111,
              "#000012"
             ],
             [
              0.2222222222222222,
              "#000013"
             ],
             [
              0.3333333333333333,
              "#000014"
             ],
             [
              0.4444444444444444,
              "#000015"
             ],
             [
              0.5555555555555556,
              "#000016"
             ],
             [
              0.6666666666666666,
              "#000017"
             ],
             [
              0.7777777777777778,
              "#000018"
             ],
             [
              0.8888888888888888,
              "#000019"
             ],
             [
              1,
              "#000020"
             ]
            ],
            "type": "heatmap"
           }
          ],
          "histogram2d": [
           {
            "colorscale": [
             [
              0,
              "#000011"
             ],
             [
              0.1111111111111111,
              "#000012"
             ],
             [
              0.2222222222222222,
              "#000013"
             ],
             [
              0.3333333333333333,
              "#000014"
             ],
             [
              0.4444444444444444,
              "#000015"
             ],
             [
              0.5555555555555556,
              "#000016"
             ],
             [
              0.6666666666666666,
              "#000017"
             ],
             [
              0.7777777777777778,
              "#000018"
             ],
             [
              0.8888888888888888,
              "#000019"
             ],
             [
              1,
              "#000020"
             ]
            ],
            "type": "histogram2d"
           }
          ],
          "icicle": [
           {
            "textfont": {
             "color": "white"
            },
            "type": "icicle"
           }
          ],
          "sankey": [
           {
            "textfont": {
             "color": "#000036"
            },
            "type": "sankey"
           }
          ],
          "scatter": [
           {
            "marker": {
             "line": {
              "width": 0
             }
            },
            "type": "scatter"
           }
          ],
          "table": [
           {
            "cells": {
             "fill": {
              "color": "#000038"
             },
             "font": {
              "color": "#000037"
             },
             "line": {
              "color": "#000039"
             }
            },
            "header": {
             "fill": {
              "color": "#000040"
             },
             "font": {
              "color": "#000036"
             },
             "line": {
              "color": "#000039"
             }
            },
            "type": "table"
           }
          ],
          "waterfall": [
           {
            "connector": {
             "line": {
              "color": "#000036",
              "width": 2
             }
            },
            "decreasing": {
             "marker": {
              "color": "#000033"
             }
            },
            "increasing": {
             "marker": {
              "color": "#000032"
             }
            },
            "totals": {
             "marker": {
              "color": "#000034"
             }
            },
            "type": "waterfall"
           }
          ]
         },
         "layout": {
          "coloraxis": {
           "colorscale": [
            [
             0,
             "#000011"
            ],
            [
             0.1111111111111111,
             "#000012"
            ],
            [
             0.2222222222222222,
             "#000013"
            ],
            [
             0.3333333333333333,
             "#000014"
            ],
            [
             0.4444444444444444,
             "#000015"
            ],
            [
             0.5555555555555556,
             "#000016"
            ],
            [
             0.6666666666666666,
             "#000017"
            ],
            [
             0.7777777777777778,
             "#000018"
            ],
            [
             0.8888888888888888,
             "#000019"
            ],
            [
             1,
             "#000020"
            ]
           ]
          },
          "colorscale": {
           "diverging": [
            [
             0,
             "#000021"
            ],
            [
             0.1,
             "#000022"
            ],
            [
             0.2,
             "#000023"
            ],
            [
             0.3,
             "#000024"
            ],
            [
             0.4,
             "#000025"
            ],
            [
             0.5,
             "#000026"
            ],
            [
             0.6,
             "#000027"
            ],
            [
             0.7,
             "#000028"
            ],
            [
             0.8,
             "#000029"
            ],
            [
             0.9,
             "#000030"
            ],
            [
             1,
             "#000031"
            ]
           ],
           "sequential": [
            [
             0,
             "#000011"
            ],
            [
             0.1111111111111111,
             "#000012"
            ],
            [
             0.2222222222222222,
             "#000013"
            ],
            [
             0.3333333333333333,
             "#000014"
            ],
            [
             0.4444444444444444,
             "#000015"
            ],
            [
             0.5555555555555556,
             "#000016"
            ],
            [
             0.6666666666666666,
             "#000017"
            ],
            [
             0.7777777777777778,
             "#000018"
            ],
            [
             0.8888888888888888,
             "#000019"
            ],
            [
             1,
             "#000020"
            ]
           ],
           "sequentialminus": [
            [
             0,
             "#000011"
            ],
            [
             0.1111111111111111,
             "#000012"
            ],
            [
             0.2222222222222222,
             "#000013"
            ],
            [
             0.3333333333333333,
             "#000014"
            ],
            [
             0.4444444444444444,
             "#000015"
            ],
            [
             0.5555555555555556,
             "#000016"
            ],
            [
             0.6666666666666666,
             "#000017"
            ],
            [
             0.7777777777777778,
             "#000018"
            ],
            [
             0.8888888888888888,
             "#000019"
            ],
            [
             1,
             "#000020"
            ]
           ]
          },
          "colorway": [
           "#000001",
           "#000002",
           "#000003",
           "#000004",
           "#000005",
           "#000006",
           "#000007",
           "#000008",
           "#000009",
           "#000010"
          ]
         }
        }
       }
      }
     },
     "metadata": {},
     "output_type": "display_data"
    }
   ],
   "source": [
    "fig = px.scatter_geo(df, lat='cap_lat', lon= 'cap_lon',\n",
    "                     hover_name='new_releases', color='country',\n",
    "                     hover_data={'cap_lat': False, # Don't show latitude and longitud\n",
    "                                 'cap_lon': False,\n",
    "                                 'artist': True,   # Show artist and country\n",
    "                                 'country': True}\n",
    "                     ) \n",
    "\n",
    "# Update the layout with the desired colors\n",
    "'''fig.update_layout(\n",
    "    geo=dict(\n",
    "        bgcolor='black',  # Set the background color to black\n",
    "        showland=True,\n",
    "        landcolor='white',  # Set the color of land areas to white\n",
    "        showocean=True,\n",
    "        oceancolor='black',  # Set the color of ocean areas to black\n",
    "        showlakes=True,\n",
    "        lakecolor='white'  # Set the color of lakes to white\n",
    "    ),\n",
    "    font=dict(\n",
    "        color='white'  # Set the text color to white\n",
    "    )\n",
    ")'''\n",
    "fig.show()"
   ]
  },
  {
   "cell_type": "code",
   "execution_count": 27,
   "metadata": {},
   "outputs": [
    {
     "data": {
      "application/vnd.plotly.v1+json": {
       "config": {
        "linkText": "Export to plot.ly",
        "plotlyServerURL": "https://plot.ly",
        "showLink": false
       },
       "data": [
        {
         "hovertemplate": "cap_lat=%{lat}<br>cap_lon=%{lon}<extra></extra>",
         "lat": [
          31.7666666666666,
          -0.5477,
          41.3166666666666,
          36.75,
          42.5,
          -8.83333333333333,
          17.1166666666666,
          -34.5833333333333,
          40.1666666666666,
          -35.2666666666666,
          48.2,
          40.3833333333333,
          25.0833333333333,
          26.2333333333333,
          23.7166666666666,
          13.1,
          53.9,
          50.8333333333333,
          17.25,
          6.48333333333333,
          27.4666666666666,
          -16.5,
          43.8666666666666,
          -24.6333333333333,
          -15.7833333333333,
          4.88333333333333,
          42.6833333333333,
          12.3666666666666,
          -3.36666666666666,
          11.55,
          3.86666666666666,
          45.4166666666666,
          14.9166666666666,
          12.1,
          -33.45,
          4.6,
          -11.7,
          -4.31666666666666,
          -4.25,
          9.93333333333333,
          6.81666666666666,
          45.8,
          12.1,
          35.1666666666666,
          50.0833333333333,
          55.6666666666666,
          11.5833333333333,
          15.3,
          18.4666666666666,
          -0.216666666666666,
          30.05,
          13.7,
          3.75,
          59.4333333333333,
          9.03333333333333,
          -18.1333333333333,
          60.1666666666666,
          48.8666666666666,
          0.383333333333333,
          13.45,
          41.6833333333333,
          52.5166666666666,
          5.55,
          37.9833333333333,
          12.05,
          14.6166666666666,
          9.5,
          11.85,
          6.8,
          18.5333333333333,
          14.1,
          47.5,
          64.15,
          28.6,
          -6.16666666666666,
          33.3333333333333,
          53.3166666666666,
          31.7666666666666,
          41.9,
          18,
          35.6833333333333,
          31.95,
          51.1666666666666,
          -1.28333333333333,
          -0.883333333333333,
          37.55,
          29.3666666666666,
          42.8666666666666,
          17.9666666666666,
          56.95,
          33.8666666666666,
          -29.3166666666666,
          6.3,
          32.8833333333333,
          47.1333333333333,
          54.6833333333333,
          49.6,
          42,
          -18.9166666666666,
          -13.9666666666666,
          3.16666666666666,
          4.16666666666666,
          12.65,
          35.8833333333333,
          7.1,
          18.0666666666666,
          -20.15,
          19.4333333333333,
          6.91666666666666,
          47,
          43.7333333333333,
          47.9166666666666,
          42.4333333333333,
          34.0166666666666,
          -25.95,
          -22.5666666666666,
          27.7166666666666,
          52.35,
          -41.3,
          12.1333333333333,
          13.5166666666666,
          9.08333333333333,
          59.9166666666666,
          23.6166666666666,
          33.6833333333333,
          7.48333333333333,
          8.96666666666666,
          -9.45,
          -25.2666666666666,
          -12.05,
          14.6,
          52.25,
          38.7166666666666,
          25.2833333333333,
          44.4333333333333,
          -1.95,
          17.3,
          14,
          13.1333333333333,
          -13.8166666666666,
          43.9333333333333,
          0.333333333333333,
          24.65,
          14.7333333333333,
          44.8333333333333,
          -4.61666666666666,
          8.48333333333333,
          1.28333333333333,
          48.15,
          46.05,
          -9.43333333333333,
          -25.7,
          40.4,
          6.91666666666666,
          5.83333333333333,
          -26.3166666666666,
          59.3333333333333,
          46.9166666666666,
          25.0333333333333,
          38.55,
          -6.8,
          13.75,
          -8.58333333333333,
          6.11666666666666,
          -21.1333333333333,
          10.65,
          36.8,
          39.9333333333333,
          -8.51666666666666,
          0.316666666666666,
          50.4333333333333,
          24.4666666666666,
          51.5,
          38.883333,
          -34.85,
          41.3166666666666,
          -17.7333333333333,
          10.4833333333333,
          21.0333333333333,
          -15.4166666666666,
          -17.8166666666666,
          0,
          0
         ],
         "legendgroup": "",
         "lon": [
          35.233333,
          166.920867,
          19.816667,
          3.05,
          1.516667,
          13.216667,
          -61.85,
          -58.666667,
          44.5,
          149.133333,
          16.366667,
          49.866667,
          -77.35,
          50.566667,
          90.4,
          -59.616667,
          27.566667,
          4.333333,
          -88.766667,
          2.616667,
          89.633333,
          -68.15,
          18.416667,
          25.9,
          -47.916667,
          114.933333,
          23.316667,
          -1.516667,
          29.35,
          104.916667,
          11.516667,
          -75.7,
          -23.516667,
          15.033333,
          -70.666667,
          -74.083333,
          43.233333,
          15.3,
          15.283333,
          -84.083333,
          -5.266667,
          16,
          -68.916667,
          33.366667,
          14.466667,
          12.583333,
          43.15,
          -61.4,
          -69.9,
          -78.5,
          31.25,
          -89.2,
          8.783333,
          24.716667,
          38.7,
          178.416667,
          24.933333,
          2.333333,
          9.45,
          -16.566667,
          44.833333,
          13.4,
          -0.216667,
          23.733333,
          -61.75,
          -90.516667,
          -13.7,
          -15.583333,
          -58.15,
          -72.333333,
          -87.216667,
          19.083333,
          -21.95,
          77.2,
          106.816667,
          44.4,
          -6.233333,
          35.233333,
          12.483333,
          -76.8,
          139.75,
          35.933333,
          71.416667,
          36.816667,
          169.533333,
          126.983333,
          47.966667,
          74.6,
          102.6,
          24.1,
          35.5,
          27.483333,
          -10.8,
          13.166667,
          9.516667,
          25.316667,
          6.116667,
          21.433333,
          47.516667,
          33.783333,
          101.7,
          73.5,
          -8,
          14.5,
          171.383333,
          -15.966667,
          57.483333,
          -99.133333,
          158.15,
          28.85,
          7.416667,
          106.916667,
          19.266667,
          -6.816667,
          32.583333,
          17.083333,
          85.316667,
          4.916667,
          174.783333,
          -86.25,
          2.116667,
          7.533333,
          10.75,
          58.583333,
          73.05,
          134.633333,
          -79.533333,
          147.183333,
          -57.666667,
          -77.05,
          120.966667,
          21,
          -9.133333,
          51.533333,
          26.1,
          30.05,
          -62.716667,
          -61,
          -61.216667,
          -171.766667,
          12.416667,
          6.733333,
          46.7,
          -17.633333,
          20.5,
          55.45,
          -13.233333,
          103.85,
          17.116667,
          14.516667,
          159.95,
          28.216667,
          -3.683333,
          79.833333,
          -55.166667,
          31.133333,
          18.05,
          7.466667,
          121.516667,
          68.766667,
          39.283333,
          100.516667,
          125.6,
          1.216667,
          -175.2,
          -61.516667,
          10.183333,
          32.866667,
          179.216667,
          32.55,
          30.516667,
          54.366667,
          -0.083333,
          -77,
          -56.166667,
          69.25,
          168.316667,
          -66.866667,
          105.85,
          28.283333,
          31.033333,
          0,
          0
         ],
         "marker": {
          "color": "#000001"
         },
         "mode": "markers",
         "name": "",
         "showlegend": false,
         "subplot": "mapbox",
         "type": "scattermapbox"
        }
       ],
       "layout": {
        "legend": {
         "tracegroupgap": 0
        },
        "mapbox": {
         "center": {
          "lat": 17.990358650273212,
          "lon": 19.48490454644809
         },
         "domain": {
          "x": [
           0,
           1
          ],
          "y": [
           0,
           1
          ]
         },
         "zoom": 8
        },
        "template": {
         "data": {
          "candlestick": [
           {
            "decreasing": {
             "line": {
              "color": "#000033"
             }
            },
            "increasing": {
             "line": {
              "color": "#000032"
             }
            },
            "type": "candlestick"
           }
          ],
          "contour": [
           {
            "colorscale": [
             [
              0,
              "#000011"
             ],
             [
              0.1111111111111111,
              "#000012"
             ],
             [
              0.2222222222222222,
              "#000013"
             ],
             [
              0.3333333333333333,
              "#000014"
             ],
             [
              0.4444444444444444,
              "#000015"
             ],
             [
              0.5555555555555556,
              "#000016"
             ],
             [
              0.6666666666666666,
              "#000017"
             ],
             [
              0.7777777777777778,
              "#000018"
             ],
             [
              0.8888888888888888,
              "#000019"
             ],
             [
              1,
              "#000020"
             ]
            ],
            "type": "contour"
           }
          ],
          "contourcarpet": [
           {
            "colorscale": [
             [
              0,
              "#000011"
             ],
             [
              0.1111111111111111,
              "#000012"
             ],
             [
              0.2222222222222222,
              "#000013"
             ],
             [
              0.3333333333333333,
              "#000014"
             ],
             [
              0.4444444444444444,
              "#000015"
             ],
             [
              0.5555555555555556,
              "#000016"
             ],
             [
              0.6666666666666666,
              "#000017"
             ],
             [
              0.7777777777777778,
              "#000018"
             ],
             [
              0.8888888888888888,
              "#000019"
             ],
             [
              1,
              "#000020"
             ]
            ],
            "type": "contourcarpet"
           }
          ],
          "heatmap": [
           {
            "colorscale": [
             [
              0,
              "#000011"
             ],
             [
              0.1111111111111111,
              "#000012"
             ],
             [
              0.2222222222222222,
              "#000013"
             ],
             [
              0.3333333333333333,
              "#000014"
             ],
             [
              0.4444444444444444,
              "#000015"
             ],
             [
              0.5555555555555556,
              "#000016"
             ],
             [
              0.6666666666666666,
              "#000017"
             ],
             [
              0.7777777777777778,
              "#000018"
             ],
             [
              0.8888888888888888,
              "#000019"
             ],
             [
              1,
              "#000020"
             ]
            ],
            "type": "heatmap"
           }
          ],
          "histogram2d": [
           {
            "colorscale": [
             [
              0,
              "#000011"
             ],
             [
              0.1111111111111111,
              "#000012"
             ],
             [
              0.2222222222222222,
              "#000013"
             ],
             [
              0.3333333333333333,
              "#000014"
             ],
             [
              0.4444444444444444,
              "#000015"
             ],
             [
              0.5555555555555556,
              "#000016"
             ],
             [
              0.6666666666666666,
              "#000017"
             ],
             [
              0.7777777777777778,
              "#000018"
             ],
             [
              0.8888888888888888,
              "#000019"
             ],
             [
              1,
              "#000020"
             ]
            ],
            "type": "histogram2d"
           }
          ],
          "icicle": [
           {
            "textfont": {
             "color": "white"
            },
            "type": "icicle"
           }
          ],
          "sankey": [
           {
            "textfont": {
             "color": "#000036"
            },
            "type": "sankey"
           }
          ],
          "scatter": [
           {
            "marker": {
             "line": {
              "width": 0
             }
            },
            "type": "scatter"
           }
          ],
          "table": [
           {
            "cells": {
             "fill": {
              "color": "#000038"
             },
             "font": {
              "color": "#000037"
             },
             "line": {
              "color": "#000039"
             }
            },
            "header": {
             "fill": {
              "color": "#000040"
             },
             "font": {
              "color": "#000036"
             },
             "line": {
              "color": "#000039"
             }
            },
            "type": "table"
           }
          ],
          "waterfall": [
           {
            "connector": {
             "line": {
              "color": "#000036",
              "width": 2
             }
            },
            "decreasing": {
             "marker": {
              "color": "#000033"
             }
            },
            "increasing": {
             "marker": {
              "color": "#000032"
             }
            },
            "totals": {
             "marker": {
              "color": "#000034"
             }
            },
            "type": "waterfall"
           }
          ]
         },
         "layout": {
          "coloraxis": {
           "colorscale": [
            [
             0,
             "#000011"
            ],
            [
             0.1111111111111111,
             "#000012"
            ],
            [
             0.2222222222222222,
             "#000013"
            ],
            [
             0.3333333333333333,
             "#000014"
            ],
            [
             0.4444444444444444,
             "#000015"
            ],
            [
             0.5555555555555556,
             "#000016"
            ],
            [
             0.6666666666666666,
             "#000017"
            ],
            [
             0.7777777777777778,
             "#000018"
            ],
            [
             0.8888888888888888,
             "#000019"
            ],
            [
             1,
             "#000020"
            ]
           ]
          },
          "colorscale": {
           "diverging": [
            [
             0,
             "#000021"
            ],
            [
             0.1,
             "#000022"
            ],
            [
             0.2,
             "#000023"
            ],
            [
             0.3,
             "#000024"
            ],
            [
             0.4,
             "#000025"
            ],
            [
             0.5,
             "#000026"
            ],
            [
             0.6,
             "#000027"
            ],
            [
             0.7,
             "#000028"
            ],
            [
             0.8,
             "#000029"
            ],
            [
             0.9,
             "#000030"
            ],
            [
             1,
             "#000031"
            ]
           ],
           "sequential": [
            [
             0,
             "#000011"
            ],
            [
             0.1111111111111111,
             "#000012"
            ],
            [
             0.2222222222222222,
             "#000013"
            ],
            [
             0.3333333333333333,
             "#000014"
            ],
            [
             0.4444444444444444,
             "#000015"
            ],
            [
             0.5555555555555556,
             "#000016"
            ],
            [
             0.6666666666666666,
             "#000017"
            ],
            [
             0.7777777777777778,
             "#000018"
            ],
            [
             0.8888888888888888,
             "#000019"
            ],
            [
             1,
             "#000020"
            ]
           ],
           "sequentialminus": [
            [
             0,
             "#000011"
            ],
            [
             0.1111111111111111,
             "#000012"
            ],
            [
             0.2222222222222222,
             "#000013"
            ],
            [
             0.3333333333333333,
             "#000014"
            ],
            [
             0.4444444444444444,
             "#000015"
            ],
            [
             0.5555555555555556,
             "#000016"
            ],
            [
             0.6666666666666666,
             "#000017"
            ],
            [
             0.7777777777777778,
             "#000018"
            ],
            [
             0.8888888888888888,
             "#000019"
            ],
            [
             1,
             "#000020"
            ]
           ]
          },
          "colorway": [
           "#000001",
           "#000002",
           "#000003",
           "#000004",
           "#000005",
           "#000006",
           "#000007",
           "#000008",
           "#000009",
           "#000010"
          ]
         }
        },
        "title": {
         "text": "Number of countries"
        }
       }
      }
     },
     "metadata": {},
     "output_type": "display_data"
    }
   ],
   "source": [
    "#test = df.groupby('continent')['continent'].count()\n",
    "fig2 = px.scatter_mapbox(df, lat='cap_lat', lon='cap_lon', title=\"Number of countries\")\n",
    "pyo.iplot(fig2)"
   ]
  },
  {
   "cell_type": "code",
   "execution_count": null,
   "metadata": {},
   "outputs": [],
   "source": []
  }
 ],
 "metadata": {
  "kernelspec": {
   "display_name": "base",
   "language": "python",
   "name": "python3"
  },
  "language_info": {
   "codemirror_mode": {
    "name": "ipython",
    "version": 3
   },
   "file_extension": ".py",
   "mimetype": "text/x-python",
   "name": "python",
   "nbconvert_exporter": "python",
   "pygments_lexer": "ipython3",
   "version": "3.9.12"
  },
  "orig_nbformat": 4
 },
 "nbformat": 4,
 "nbformat_minor": 2
}
