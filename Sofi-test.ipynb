{
 "cells": [
  {
   "cell_type": "code",
   "execution_count": 11,
   "metadata": {},
   "outputs": [],
   "source": [
    "import pandas as pd\n",
    "import pprint as pp\n",
    "import numpy as np\n",
    "import streamlit as st\n",
    "import requests\n",
    "from requests import post, get\n",
    "import base64\n",
    "import urllib\n",
    "import os\n",
    "import json\n",
    "from dotenv import load_dotenv\n",
    "import plotly.express as px"
   ]
  },
  {
   "cell_type": "code",
   "execution_count": 2,
   "metadata": {},
   "outputs": [],
   "source": [
    "# Spotify Developer Dashboard details\n",
    "load_dotenv()\n",
    "client_id = os.getenv(\"CLIENT_ID\")\n",
    "client_secret = os.getenv(\"CLIENT_SECRET\")\n",
    "\n",
    "# We first request a token to the Spotify Accounts Service, which will be used later on to access the Spotify Web API\n",
    "# To get our access token, we need to pass our client ID, client Secret and grant_type\n",
    "def get_token():\n",
    "    auth_string = client_id + ':' + client_secret\n",
    "    auth_bytes = auth_string.encode(\"utf-8\")\n",
    "    # Spotify requests to encode the client ID and client secret using base64\n",
    "    auth_base64 = str(base64.b64encode(auth_bytes), \"utf-8\")\n",
    "\n",
    "    url = \"https://accounts.spotify.com/api/token\"\n",
    "    headers = {\n",
    "        \"Authorization\": \"Basic \" + auth_base64,\n",
    "        \"Content-Type\": \"application/x-www-form-urlencoded\"\n",
    "    }\n",
    "    data = {\"grant_type\": \"client_credentials\"}\n",
    "    # Make the request\n",
    "    result = post(url,headers= headers, data= data)\n",
    "    # Convert the result (json) into a python dictionary\n",
    "    json_result = json.loads(result.content) \n",
    "    token = json_result[\"access_token\"]\n",
    "    return token"
   ]
  },
  {
   "cell_type": "code",
   "execution_count": 3,
   "metadata": {},
   "outputs": [],
   "source": [
    "token= get_token()"
   ]
  },
  {
   "cell_type": "code",
   "execution_count": 4,
   "metadata": {},
   "outputs": [],
   "source": [
    "# Function to construct the header to send a request\n",
    "def get_auth_header(token):\n",
    "    return{\"Authorization\": \"Bearer \" + token}"
   ]
  },
  {
   "cell_type": "code",
   "execution_count": 5,
   "metadata": {},
   "outputs": [],
   "source": [
    "# Get new releases\n",
    "def get_new_releases(country):\n",
    "    url= f\"https://api.spotify.com/v1/browse/new-releases?country={country}&limit=1\"\n",
    "    headers = get_auth_header(token)\n",
    "    result = get(url, headers=headers)\n",
    "    json_result = json.loads(result.content)['albums']['items'][0]['name']\n",
    "    return json_result"
   ]
  },
  {
   "cell_type": "code",
   "execution_count": 6,
   "metadata": {},
   "outputs": [],
   "source": [
    "# Get the new release ID, so that later we can search for the tracks\n",
    "def get_new_releases_id(country):\n",
    "    url= f\"https://api.spotify.com/v1/browse/new-releases?country={country}&limit=1\"\n",
    "    headers = get_auth_header(token)\n",
    "    result = get(url, headers=headers)\n",
    "    json_result = json.loads(result.content)['albums']['items'][0]['id']\n",
    "    return json_result"
   ]
  },
  {
   "cell_type": "code",
   "execution_count": 29,
   "metadata": {},
   "outputs": [],
   "source": [
    "# With the ID, get the tracks of that album\n",
    "def tracks_from_album(country):\n",
    "    album_id= get_new_releases_id(country)\n",
    "    url= f\"https://api.spotify.com/v1/albums/{album_id}/tracks?limit=2\"\n",
    "    headers = get_auth_header(token)\n",
    "    result = get(url, headers=headers)\n",
    "    json_result = json.loads(result.content)#['items']#[0]['name']\n",
    "    return json_result"
   ]
  },
  {
   "cell_type": "code",
   "execution_count": 30,
   "metadata": {},
   "outputs": [
    {
     "name": "stdout",
     "output_type": "stream",
     "text": [
      "{'href': 'https://api.spotify.com/v1/albums/5r36AJ6VOJtp00oxSkBZ5h/tracks?offset=0&limit=2',\n",
      " 'items': [{'artists': [{'external_urls': {'spotify': 'https://open.spotify.com/artist/6KImCVD70vtIoJWnq6nGn3'},\n",
      "                         'href': 'https://api.spotify.com/v1/artists/6KImCVD70vtIoJWnq6nGn3',\n",
      "                         'id': '6KImCVD70vtIoJWnq6nGn3',\n",
      "                         'name': 'Harry Styles',\n",
      "                         'type': 'artist',\n",
      "                         'uri': 'spotify:artist:6KImCVD70vtIoJWnq6nGn3'}],\n",
      "            'available_markets': ['AR',\n",
      "                                  'AU',\n",
      "                                  'AT',\n",
      "                                  'BE',\n",
      "                                  'BO',\n",
      "                                  'BR',\n",
      "                                  'BG',\n",
      "                                  'CA',\n",
      "                                  'CL',\n",
      "                                  'CO',\n",
      "                                  'CR',\n",
      "                                  'CY',\n",
      "                                  'CZ',\n",
      "                                  'DK',\n",
      "                                  'DO',\n",
      "                                  'DE',\n",
      "                                  'EC',\n",
      "                                  'EE',\n",
      "                                  'SV',\n",
      "                                  'FI',\n",
      "                                  'FR',\n",
      "                                  'GR',\n",
      "                                  'GT',\n",
      "                                  'HN',\n",
      "                                  'HK',\n",
      "                                  'HU',\n",
      "                                  'IS',\n",
      "                                  'IE',\n",
      "                                  'IT',\n",
      "                                  'LV',\n",
      "                                  'LT',\n",
      "                                  'LU',\n",
      "                                  'MY',\n",
      "                                  'MT',\n",
      "                                  'MX',\n",
      "                                  'NL',\n",
      "                                  'NZ',\n",
      "                                  'NI',\n",
      "                                  'NO',\n",
      "                                  'PA',\n",
      "                                  'PY',\n",
      "                                  'PE',\n",
      "                                  'PH',\n",
      "                                  'PL',\n",
      "                                  'PT',\n",
      "                                  'SG',\n",
      "                                  'SK',\n",
      "                                  'ES',\n",
      "                                  'SE',\n",
      "                                  'CH',\n",
      "                                  'TW',\n",
      "                                  'TR',\n",
      "                                  'UY',\n",
      "                                  'US',\n",
      "                                  'GB',\n",
      "                                  'AD',\n",
      "                                  'LI',\n",
      "                                  'MC',\n",
      "                                  'ID',\n",
      "                                  'JP',\n",
      "                                  'TH',\n",
      "                                  'VN',\n",
      "                                  'RO',\n",
      "                                  'IL',\n",
      "                                  'ZA',\n",
      "                                  'SA',\n",
      "                                  'AE',\n",
      "                                  'BH',\n",
      "                                  'QA',\n",
      "                                  'OM',\n",
      "                                  'KW',\n",
      "                                  'EG',\n",
      "                                  'MA',\n",
      "                                  'DZ',\n",
      "                                  'TN',\n",
      "                                  'LB',\n",
      "                                  'JO',\n",
      "                                  'PS',\n",
      "                                  'IN',\n",
      "                                  'BY',\n",
      "                                  'KZ',\n",
      "                                  'MD',\n",
      "                                  'UA',\n",
      "                                  'AL',\n",
      "                                  'BA',\n",
      "                                  'HR',\n",
      "                                  'ME',\n",
      "                                  'MK',\n",
      "                                  'RS',\n",
      "                                  'SI',\n",
      "                                  'KR',\n",
      "                                  'BD',\n",
      "                                  'PK',\n",
      "                                  'LK',\n",
      "                                  'GH',\n",
      "                                  'KE',\n",
      "                                  'NG',\n",
      "                                  'TZ',\n",
      "                                  'UG',\n",
      "                                  'AG',\n",
      "                                  'AM',\n",
      "                                  'BS',\n",
      "                                  'BB',\n",
      "                                  'BZ',\n",
      "                                  'BT',\n",
      "                                  'BW',\n",
      "                                  'BF',\n",
      "                                  'CV',\n",
      "                                  'CW',\n",
      "                                  'DM',\n",
      "                                  'FJ',\n",
      "                                  'GM',\n",
      "                                  'GE',\n",
      "                                  'GD',\n",
      "                                  'GW',\n",
      "                                  'GY',\n",
      "                                  'HT',\n",
      "                                  'JM',\n",
      "                                  'KI',\n",
      "                                  'LS',\n",
      "                                  'LR',\n",
      "                                  'MW',\n",
      "                                  'MV',\n",
      "                                  'ML',\n",
      "                                  'MH',\n",
      "                                  'FM',\n",
      "                                  'NA',\n",
      "                                  'NR',\n",
      "                                  'NE',\n",
      "                                  'PW',\n",
      "                                  'PG',\n",
      "                                  'WS',\n",
      "                                  'SM',\n",
      "                                  'ST',\n",
      "                                  'SN',\n",
      "                                  'SC',\n",
      "                                  'SL',\n",
      "                                  'SB',\n",
      "                                  'KN',\n",
      "                                  'LC',\n",
      "                                  'VC',\n",
      "                                  'SR',\n",
      "                                  'TL',\n",
      "                                  'TO',\n",
      "                                  'TT',\n",
      "                                  'TV',\n",
      "                                  'VU',\n",
      "                                  'AZ',\n",
      "                                  'BN',\n",
      "                                  'BI',\n",
      "                                  'KH',\n",
      "                                  'CM',\n",
      "                                  'TD',\n",
      "                                  'KM',\n",
      "                                  'GQ',\n",
      "                                  'SZ',\n",
      "                                  'GA',\n",
      "                                  'GN',\n",
      "                                  'KG',\n",
      "                                  'LA',\n",
      "                                  'MO',\n",
      "                                  'MR',\n",
      "                                  'MN',\n",
      "                                  'NP',\n",
      "                                  'RW',\n",
      "                                  'TG',\n",
      "                                  'UZ',\n",
      "                                  'ZW',\n",
      "                                  'BJ',\n",
      "                                  'MG',\n",
      "                                  'MU',\n",
      "                                  'MZ',\n",
      "                                  'AO',\n",
      "                                  'CI',\n",
      "                                  'DJ',\n",
      "                                  'ZM',\n",
      "                                  'CD',\n",
      "                                  'CG',\n",
      "                                  'IQ',\n",
      "                                  'LY',\n",
      "                                  'TJ',\n",
      "                                  'VE',\n",
      "                                  'ET',\n",
      "                                  'XK'],\n",
      "            'disc_number': 1,\n",
      "            'duration_ms': 193813,\n",
      "            'explicit': False,\n",
      "            'external_urls': {'spotify': 'https://open.spotify.com/track/5LYMamLv12UPbemOaTPyeV'},\n",
      "            'href': 'https://api.spotify.com/v1/tracks/5LYMamLv12UPbemOaTPyeV',\n",
      "            'id': '5LYMamLv12UPbemOaTPyeV',\n",
      "            'is_local': False,\n",
      "            'name': 'Music For a Sushi Restaurant',\n",
      "            'preview_url': 'https://p.scdn.co/mp3-preview/3badb04493ee555f8909636f0dd909ffd9c385bc?cid=50ef00e28b524899a40a0f2ac0410163',\n",
      "            'track_number': 1,\n",
      "            'type': 'track',\n",
      "            'uri': 'spotify:track:5LYMamLv12UPbemOaTPyeV'},\n",
      "           {'artists': [{'external_urls': {'spotify': 'https://open.spotify.com/artist/6KImCVD70vtIoJWnq6nGn3'},\n",
      "                         'href': 'https://api.spotify.com/v1/artists/6KImCVD70vtIoJWnq6nGn3',\n",
      "                         'id': '6KImCVD70vtIoJWnq6nGn3',\n",
      "                         'name': 'Harry Styles',\n",
      "                         'type': 'artist',\n",
      "                         'uri': 'spotify:artist:6KImCVD70vtIoJWnq6nGn3'}],\n",
      "            'available_markets': ['AR',\n",
      "                                  'AU',\n",
      "                                  'AT',\n",
      "                                  'BE',\n",
      "                                  'BO',\n",
      "                                  'BR',\n",
      "                                  'BG',\n",
      "                                  'CA',\n",
      "                                  'CL',\n",
      "                                  'CO',\n",
      "                                  'CR',\n",
      "                                  'CY',\n",
      "                                  'CZ',\n",
      "                                  'DK',\n",
      "                                  'DO',\n",
      "                                  'DE',\n",
      "                                  'EC',\n",
      "                                  'EE',\n",
      "                                  'SV',\n",
      "                                  'FI',\n",
      "                                  'FR',\n",
      "                                  'GR',\n",
      "                                  'GT',\n",
      "                                  'HN',\n",
      "                                  'HK',\n",
      "                                  'HU',\n",
      "                                  'IS',\n",
      "                                  'IE',\n",
      "                                  'IT',\n",
      "                                  'LV',\n",
      "                                  'LT',\n",
      "                                  'LU',\n",
      "                                  'MY',\n",
      "                                  'MT',\n",
      "                                  'MX',\n",
      "                                  'NL',\n",
      "                                  'NZ',\n",
      "                                  'NI',\n",
      "                                  'NO',\n",
      "                                  'PA',\n",
      "                                  'PY',\n",
      "                                  'PE',\n",
      "                                  'PH',\n",
      "                                  'PL',\n",
      "                                  'PT',\n",
      "                                  'SG',\n",
      "                                  'SK',\n",
      "                                  'ES',\n",
      "                                  'SE',\n",
      "                                  'CH',\n",
      "                                  'TW',\n",
      "                                  'TR',\n",
      "                                  'UY',\n",
      "                                  'US',\n",
      "                                  'GB',\n",
      "                                  'AD',\n",
      "                                  'LI',\n",
      "                                  'MC',\n",
      "                                  'ID',\n",
      "                                  'JP',\n",
      "                                  'TH',\n",
      "                                  'VN',\n",
      "                                  'RO',\n",
      "                                  'IL',\n",
      "                                  'ZA',\n",
      "                                  'SA',\n",
      "                                  'AE',\n",
      "                                  'BH',\n",
      "                                  'QA',\n",
      "                                  'OM',\n",
      "                                  'KW',\n",
      "                                  'EG',\n",
      "                                  'MA',\n",
      "                                  'DZ',\n",
      "                                  'TN',\n",
      "                                  'LB',\n",
      "                                  'JO',\n",
      "                                  'PS',\n",
      "                                  'IN',\n",
      "                                  'BY',\n",
      "                                  'KZ',\n",
      "                                  'MD',\n",
      "                                  'UA',\n",
      "                                  'AL',\n",
      "                                  'BA',\n",
      "                                  'HR',\n",
      "                                  'ME',\n",
      "                                  'MK',\n",
      "                                  'RS',\n",
      "                                  'SI',\n",
      "                                  'KR',\n",
      "                                  'BD',\n",
      "                                  'PK',\n",
      "                                  'LK',\n",
      "                                  'GH',\n",
      "                                  'KE',\n",
      "                                  'NG',\n",
      "                                  'TZ',\n",
      "                                  'UG',\n",
      "                                  'AG',\n",
      "                                  'AM',\n",
      "                                  'BS',\n",
      "                                  'BB',\n",
      "                                  'BZ',\n",
      "                                  'BT',\n",
      "                                  'BW',\n",
      "                                  'BF',\n",
      "                                  'CV',\n",
      "                                  'CW',\n",
      "                                  'DM',\n",
      "                                  'FJ',\n",
      "                                  'GM',\n",
      "                                  'GE',\n",
      "                                  'GD',\n",
      "                                  'GW',\n",
      "                                  'GY',\n",
      "                                  'HT',\n",
      "                                  'JM',\n",
      "                                  'KI',\n",
      "                                  'LS',\n",
      "                                  'LR',\n",
      "                                  'MW',\n",
      "                                  'MV',\n",
      "                                  'ML',\n",
      "                                  'MH',\n",
      "                                  'FM',\n",
      "                                  'NA',\n",
      "                                  'NR',\n",
      "                                  'NE',\n",
      "                                  'PW',\n",
      "                                  'PG',\n",
      "                                  'WS',\n",
      "                                  'SM',\n",
      "                                  'ST',\n",
      "                                  'SN',\n",
      "                                  'SC',\n",
      "                                  'SL',\n",
      "                                  'SB',\n",
      "                                  'KN',\n",
      "                                  'LC',\n",
      "                                  'VC',\n",
      "                                  'SR',\n",
      "                                  'TL',\n",
      "                                  'TO',\n",
      "                                  'TT',\n",
      "                                  'TV',\n",
      "                                  'VU',\n",
      "                                  'AZ',\n",
      "                                  'BN',\n",
      "                                  'BI',\n",
      "                                  'KH',\n",
      "                                  'CM',\n",
      "                                  'TD',\n",
      "                                  'KM',\n",
      "                                  'GQ',\n",
      "                                  'SZ',\n",
      "                                  'GA',\n",
      "                                  'GN',\n",
      "                                  'KG',\n",
      "                                  'LA',\n",
      "                                  'MO',\n",
      "                                  'MR',\n",
      "                                  'MN',\n",
      "                                  'NP',\n",
      "                                  'RW',\n",
      "                                  'TG',\n",
      "                                  'UZ',\n",
      "                                  'ZW',\n",
      "                                  'BJ',\n",
      "                                  'MG',\n",
      "                                  'MU',\n",
      "                                  'MZ',\n",
      "                                  'AO',\n",
      "                                  'CI',\n",
      "                                  'DJ',\n",
      "                                  'ZM',\n",
      "                                  'CD',\n",
      "                                  'CG',\n",
      "                                  'IQ',\n",
      "                                  'LY',\n",
      "                                  'TJ',\n",
      "                                  'VE',\n",
      "                                  'ET',\n",
      "                                  'XK'],\n",
      "            'disc_number': 1,\n",
      "            'duration_ms': 177954,\n",
      "            'explicit': False,\n",
      "            'external_urls': {'spotify': 'https://open.spotify.com/track/1qEmFfgcLObUfQm0j1W2CK'},\n",
      "            'href': 'https://api.spotify.com/v1/tracks/1qEmFfgcLObUfQm0j1W2CK',\n",
      "            'id': '1qEmFfgcLObUfQm0j1W2CK',\n",
      "            'is_local': False,\n",
      "            'name': 'Late Night Talking',\n",
      "            'preview_url': 'https://p.scdn.co/mp3-preview/50f056e2ab4a1bef762661dbbf2da751beeffe39?cid=50ef00e28b524899a40a0f2ac0410163',\n",
      "            'track_number': 2,\n",
      "            'type': 'track',\n",
      "            'uri': 'spotify:track:1qEmFfgcLObUfQm0j1W2CK'}],\n",
      " 'limit': 2,\n",
      " 'next': 'https://api.spotify.com/v1/albums/5r36AJ6VOJtp00oxSkBZ5h/tracks?offset=2&limit=2',\n",
      " 'offset': 0,\n",
      " 'previous': None,\n",
      " 'total': 13}\n"
     ]
    }
   ],
   "source": [
    "test= tracks_from_album('BA')\n",
    "pp.pprint(test)"
   ]
  },
  {
   "cell_type": "code",
   "execution_count": 38,
   "metadata": {},
   "outputs": [
    {
     "name": "stdout",
     "output_type": "stream",
     "text": [
      "1\n",
      "2\n"
     ]
    },
    {
     "ename": "IndexError",
     "evalue": "list index out of range",
     "output_type": "error",
     "traceback": [
      "\u001b[1;31m---------------------------------------------------------------------------\u001b[0m",
      "\u001b[1;31mIndexError\u001b[0m                                Traceback (most recent call last)",
      "Cell \u001b[1;32mIn[38], line 2\u001b[0m\n\u001b[0;32m      1\u001b[0m \u001b[39mfor\u001b[39;00m idx, track \u001b[39min\u001b[39;00m \u001b[39menumerate\u001b[39m(test):\n\u001b[1;32m----> 2\u001b[0m     name\u001b[39m=\u001b[39mtest[\u001b[39m'\u001b[39;49m\u001b[39mitems\u001b[39;49m\u001b[39m'\u001b[39;49m][idx][\u001b[39m'\u001b[39m\u001b[39mname\u001b[39m\u001b[39m'\u001b[39m]\n\u001b[0;32m      3\u001b[0m     number\u001b[39m=\u001b[39m test[\u001b[39m'\u001b[39m\u001b[39mitems\u001b[39m\u001b[39m'\u001b[39m][idx][\u001b[39m'\u001b[39m\u001b[39mtrack_number\u001b[39m\u001b[39m'\u001b[39m]\n\u001b[0;32m      4\u001b[0m     pp\u001b[39m.\u001b[39mpprint(number)\n",
      "\u001b[1;31mIndexError\u001b[0m: list index out of range"
     ]
    }
   ],
   "source": [
    "for idx, track in enumerate(test):\n",
    "    name=test['items'][idx]['name']\n",
    "    number= test['items'][idx]['track_number']\n",
    "    pp.pprint(number)"
   ]
  },
  {
   "cell_type": "code",
   "execution_count": 45,
   "metadata": {},
   "outputs": [],
   "source": [
    "#I need to extract all the songs, probably print them in a for loop"
   ]
  },
  {
   "attachments": {},
   "cell_type": "markdown",
   "metadata": {},
   "source": [
    "# Map"
   ]
  },
  {
   "cell_type": "code",
   "execution_count": 2,
   "metadata": {},
   "outputs": [
    {
     "data": {
      "text/html": [
       "<div>\n",
       "<style scoped>\n",
       "    .dataframe tbody tr th:only-of-type {\n",
       "        vertical-align: middle;\n",
       "    }\n",
       "\n",
       "    .dataframe tbody tr th {\n",
       "        vertical-align: top;\n",
       "    }\n",
       "\n",
       "    .dataframe thead th {\n",
       "        text-align: right;\n",
       "    }\n",
       "</style>\n",
       "<table border=\"1\" class=\"dataframe\">\n",
       "  <thead>\n",
       "    <tr style=\"text-align: right;\">\n",
       "      <th></th>\n",
       "      <th>country</th>\n",
       "      <th>capital</th>\n",
       "      <th>cap_lat</th>\n",
       "      <th>cap_lon</th>\n",
       "      <th>country_code</th>\n",
       "      <th>continent</th>\n",
       "    </tr>\n",
       "  </thead>\n",
       "  <tbody>\n",
       "    <tr>\n",
       "      <th>0</th>\n",
       "      <td>Palestine</td>\n",
       "      <td>Jerusalem</td>\n",
       "      <td>31.766667</td>\n",
       "      <td>35.233333</td>\n",
       "      <td>PS</td>\n",
       "      <td>Asia</td>\n",
       "    </tr>\n",
       "    <tr>\n",
       "      <th>1</th>\n",
       "      <td>Nauru</td>\n",
       "      <td>Yaren</td>\n",
       "      <td>-0.547700</td>\n",
       "      <td>166.920867</td>\n",
       "      <td>NR</td>\n",
       "      <td>Australia</td>\n",
       "    </tr>\n",
       "    <tr>\n",
       "      <th>2</th>\n",
       "      <td>Albania</td>\n",
       "      <td>Tirana</td>\n",
       "      <td>41.316667</td>\n",
       "      <td>19.816667</td>\n",
       "      <td>AL</td>\n",
       "      <td>Europe</td>\n",
       "    </tr>\n",
       "    <tr>\n",
       "      <th>3</th>\n",
       "      <td>Algeria</td>\n",
       "      <td>Algiers</td>\n",
       "      <td>36.750000</td>\n",
       "      <td>3.050000</td>\n",
       "      <td>DZ</td>\n",
       "      <td>Africa</td>\n",
       "    </tr>\n",
       "    <tr>\n",
       "      <th>4</th>\n",
       "      <td>Andorra</td>\n",
       "      <td>Andorra la Vella</td>\n",
       "      <td>42.500000</td>\n",
       "      <td>1.516667</td>\n",
       "      <td>AD</td>\n",
       "      <td>Europe</td>\n",
       "    </tr>\n",
       "    <tr>\n",
       "      <th>...</th>\n",
       "      <td>...</td>\n",
       "      <td>...</td>\n",
       "      <td>...</td>\n",
       "      <td>...</td>\n",
       "      <td>...</td>\n",
       "      <td>...</td>\n",
       "    </tr>\n",
       "    <tr>\n",
       "      <th>178</th>\n",
       "      <td>Vietnam</td>\n",
       "      <td>Hanoi</td>\n",
       "      <td>21.033333</td>\n",
       "      <td>105.850000</td>\n",
       "      <td>VN</td>\n",
       "      <td>Asia</td>\n",
       "    </tr>\n",
       "    <tr>\n",
       "      <th>179</th>\n",
       "      <td>Zambia</td>\n",
       "      <td>Lusaka</td>\n",
       "      <td>-15.416667</td>\n",
       "      <td>28.283333</td>\n",
       "      <td>ZM</td>\n",
       "      <td>Africa</td>\n",
       "    </tr>\n",
       "    <tr>\n",
       "      <th>180</th>\n",
       "      <td>Zimbabwe</td>\n",
       "      <td>Harare</td>\n",
       "      <td>-17.816667</td>\n",
       "      <td>31.033333</td>\n",
       "      <td>ZW</td>\n",
       "      <td>Africa</td>\n",
       "    </tr>\n",
       "    <tr>\n",
       "      <th>181</th>\n",
       "      <td>Hong Kong</td>\n",
       "      <td>NaN</td>\n",
       "      <td>0.000000</td>\n",
       "      <td>0.000000</td>\n",
       "      <td>HK</td>\n",
       "      <td>Asia</td>\n",
       "    </tr>\n",
       "    <tr>\n",
       "      <th>182</th>\n",
       "      <td>Macau</td>\n",
       "      <td>NaN</td>\n",
       "      <td>0.000000</td>\n",
       "      <td>0.000000</td>\n",
       "      <td>MO</td>\n",
       "      <td>Asia</td>\n",
       "    </tr>\n",
       "  </tbody>\n",
       "</table>\n",
       "<p>183 rows × 6 columns</p>\n",
       "</div>"
      ],
      "text/plain": [
       "       country           capital    cap_lat     cap_lon country_code  \\\n",
       "0    Palestine         Jerusalem  31.766667   35.233333           PS   \n",
       "1        Nauru             Yaren  -0.547700  166.920867           NR   \n",
       "2      Albania            Tirana  41.316667   19.816667           AL   \n",
       "3      Algeria           Algiers  36.750000    3.050000           DZ   \n",
       "4      Andorra  Andorra la Vella  42.500000    1.516667           AD   \n",
       "..         ...               ...        ...         ...          ...   \n",
       "178    Vietnam             Hanoi  21.033333  105.850000           VN   \n",
       "179     Zambia            Lusaka -15.416667   28.283333           ZM   \n",
       "180   Zimbabwe            Harare -17.816667   31.033333           ZW   \n",
       "181  Hong Kong               NaN   0.000000    0.000000           HK   \n",
       "182      Macau               NaN   0.000000    0.000000           MO   \n",
       "\n",
       "     continent  \n",
       "0         Asia  \n",
       "1    Australia  \n",
       "2       Europe  \n",
       "3       Africa  \n",
       "4       Europe  \n",
       "..         ...  \n",
       "178       Asia  \n",
       "179     Africa  \n",
       "180     Africa  \n",
       "181       Asia  \n",
       "182       Asia  \n",
       "\n",
       "[183 rows x 6 columns]"
      ]
     },
     "execution_count": 2,
     "metadata": {},
     "output_type": "execute_result"
    }
   ],
   "source": [
    "df= pd.read_excel(r'C:\\Users\\sofia\\OneDrive\\Documentos\\GitHub\\bigdataproject\\app\\data\\country-available-final.xlsx')\n",
    "df"
   ]
  },
  {
   "cell_type": "code",
   "execution_count": 9,
   "metadata": {},
   "outputs": [
    {
     "data": {
      "text/plain": [
       "nan"
      ]
     },
     "execution_count": 9,
     "metadata": {},
     "output_type": "execute_result"
    }
   ],
   "source": [
    "df.iloc[115,4]"
   ]
  },
  {
   "cell_type": "code",
   "execution_count": 10,
   "metadata": {},
   "outputs": [],
   "source": [
    "df.iloc[115,4]='NA'"
   ]
  },
  {
   "cell_type": "code",
   "execution_count": 11,
   "metadata": {},
   "outputs": [
    {
     "data": {
      "text/plain": [
       "country           Namibia\n",
       "capital          Windhoek\n",
       "cap_lat        -22.566667\n",
       "cap_lon         17.083333\n",
       "country_code           NA\n",
       "continent          Africa\n",
       "Name: 115, dtype: object"
      ]
     },
     "execution_count": 11,
     "metadata": {},
     "output_type": "execute_result"
    }
   ],
   "source": [
    "df.iloc[115,:]"
   ]
  },
  {
   "cell_type": "code",
   "execution_count": 12,
   "metadata": {},
   "outputs": [],
   "source": [
    "df['new_releases']= [get_new_releases(df.loc[index,'country_code']) for index in range(len(df))]"
   ]
  },
  {
   "cell_type": "code",
   "execution_count": 13,
   "metadata": {},
   "outputs": [
    {
     "data": {
      "text/html": [
       "<div>\n",
       "<style scoped>\n",
       "    .dataframe tbody tr th:only-of-type {\n",
       "        vertical-align: middle;\n",
       "    }\n",
       "\n",
       "    .dataframe tbody tr th {\n",
       "        vertical-align: top;\n",
       "    }\n",
       "\n",
       "    .dataframe thead th {\n",
       "        text-align: right;\n",
       "    }\n",
       "</style>\n",
       "<table border=\"1\" class=\"dataframe\">\n",
       "  <thead>\n",
       "    <tr style=\"text-align: right;\">\n",
       "      <th></th>\n",
       "      <th>country</th>\n",
       "      <th>capital</th>\n",
       "      <th>cap_lat</th>\n",
       "      <th>cap_lon</th>\n",
       "      <th>country_code</th>\n",
       "      <th>continent</th>\n",
       "      <th>new_releases</th>\n",
       "    </tr>\n",
       "  </thead>\n",
       "  <tbody>\n",
       "    <tr>\n",
       "      <th>0</th>\n",
       "      <td>Palestine</td>\n",
       "      <td>Jerusalem</td>\n",
       "      <td>31.766667</td>\n",
       "      <td>35.233333</td>\n",
       "      <td>PS</td>\n",
       "      <td>Asia</td>\n",
       "      <td>TUYA</td>\n",
       "    </tr>\n",
       "    <tr>\n",
       "      <th>1</th>\n",
       "      <td>Nauru</td>\n",
       "      <td>Yaren</td>\n",
       "      <td>-0.547700</td>\n",
       "      <td>166.920867</td>\n",
       "      <td>NR</td>\n",
       "      <td>Australia</td>\n",
       "      <td>BLONDE16</td>\n",
       "    </tr>\n",
       "    <tr>\n",
       "      <th>2</th>\n",
       "      <td>Albania</td>\n",
       "      <td>Tirana</td>\n",
       "      <td>41.316667</td>\n",
       "      <td>19.816667</td>\n",
       "      <td>AL</td>\n",
       "      <td>Europe</td>\n",
       "      <td>Ku Je Ti (feat. Ricky Rich &amp; Dafina Zeqiri)</td>\n",
       "    </tr>\n",
       "    <tr>\n",
       "      <th>3</th>\n",
       "      <td>Algeria</td>\n",
       "      <td>Algiers</td>\n",
       "      <td>36.750000</td>\n",
       "      <td>3.050000</td>\n",
       "      <td>DZ</td>\n",
       "      <td>Africa</td>\n",
       "      <td>YA LE3DOUWA</td>\n",
       "    </tr>\n",
       "    <tr>\n",
       "      <th>4</th>\n",
       "      <td>Andorra</td>\n",
       "      <td>Andorra la Vella</td>\n",
       "      <td>42.500000</td>\n",
       "      <td>1.516667</td>\n",
       "      <td>AD</td>\n",
       "      <td>Europe</td>\n",
       "      <td>PARANOÏA, ANGELS, TRUE LOVE</td>\n",
       "    </tr>\n",
       "  </tbody>\n",
       "</table>\n",
       "</div>"
      ],
      "text/plain": [
       "     country           capital    cap_lat     cap_lon country_code  continent  \\\n",
       "0  Palestine         Jerusalem  31.766667   35.233333           PS       Asia   \n",
       "1      Nauru             Yaren  -0.547700  166.920867           NR  Australia   \n",
       "2    Albania            Tirana  41.316667   19.816667           AL     Europe   \n",
       "3    Algeria           Algiers  36.750000    3.050000           DZ     Africa   \n",
       "4    Andorra  Andorra la Vella  42.500000    1.516667           AD     Europe   \n",
       "\n",
       "                                  new_releases  \n",
       "0                                         TUYA  \n",
       "1                                     BLONDE16  \n",
       "2  Ku Je Ti (feat. Ricky Rich & Dafina Zeqiri)  \n",
       "3                                  YA LE3DOUWA  \n",
       "4                  PARANOÏA, ANGELS, TRUE LOVE  "
      ]
     },
     "execution_count": 13,
     "metadata": {},
     "output_type": "execute_result"
    }
   ],
   "source": [
    "df.head()"
   ]
  },
  {
   "cell_type": "code",
   "execution_count": 16,
   "metadata": {},
   "outputs": [
    {
     "data": {
      "application/vnd.plotly.v1+json": {
       "config": {
        "plotlyServerURL": "https://plot.ly"
       },
       "data": [
        {
         "geo": "geo",
         "hovertemplate": "<b>%{hovertext}</b><br><br>country=Palestine<br>cap_lat=%{lat}<br>cap_lon=%{lon}<extra></extra>",
         "hovertext": [
          "TUYA"
         ],
         "lat": [
          31.7666666666666
         ],
         "legendgroup": "Palestine",
         "lon": [
          35.233333
         ],
         "marker": {
          "color": "#000001",
          "symbol": "circle"
         },
         "mode": "markers",
         "name": "Palestine",
         "showlegend": true,
         "type": "scattergeo"
        },
        {
         "geo": "geo",
         "hovertemplate": "<b>%{hovertext}</b><br><br>country=Nauru<br>cap_lat=%{lat}<br>cap_lon=%{lon}<extra></extra>",
         "hovertext": [
          "BLONDE16"
         ],
         "lat": [
          -0.5477
         ],
         "legendgroup": "Nauru",
         "lon": [
          166.920867
         ],
         "marker": {
          "color": "#000002",
          "symbol": "circle"
         },
         "mode": "markers",
         "name": "Nauru",
         "showlegend": true,
         "type": "scattergeo"
        },
        {
         "geo": "geo",
         "hovertemplate": "<b>%{hovertext}</b><br><br>country=Albania<br>cap_lat=%{lat}<br>cap_lon=%{lon}<extra></extra>",
         "hovertext": [
          "Ku Je Ti (feat. Ricky Rich & Dafina Zeqiri)"
         ],
         "lat": [
          41.3166666666666
         ],
         "legendgroup": "Albania",
         "lon": [
          19.816667
         ],
         "marker": {
          "color": "#000003",
          "symbol": "circle"
         },
         "mode": "markers",
         "name": "Albania",
         "showlegend": true,
         "type": "scattergeo"
        },
        {
         "geo": "geo",
         "hovertemplate": "<b>%{hovertext}</b><br><br>country=Algeria<br>cap_lat=%{lat}<br>cap_lon=%{lon}<extra></extra>",
         "hovertext": [
          "YA LE3DOUWA"
         ],
         "lat": [
          36.75
         ],
         "legendgroup": "Algeria",
         "lon": [
          3.05
         ],
         "marker": {
          "color": "#000004",
          "symbol": "circle"
         },
         "mode": "markers",
         "name": "Algeria",
         "showlegend": true,
         "type": "scattergeo"
        },
        {
         "geo": "geo",
         "hovertemplate": "<b>%{hovertext}</b><br><br>country=Andorra<br>cap_lat=%{lat}<br>cap_lon=%{lon}<extra></extra>",
         "hovertext": [
          "PARANOÏA, ANGELS, TRUE LOVE"
         ],
         "lat": [
          42.5
         ],
         "legendgroup": "Andorra",
         "lon": [
          1.516667
         ],
         "marker": {
          "color": "#000005",
          "symbol": "circle"
         },
         "mode": "markers",
         "name": "Andorra",
         "showlegend": true,
         "type": "scattergeo"
        },
        {
         "geo": "geo",
         "hovertemplate": "<b>%{hovertext}</b><br><br>country=Angola<br>cap_lat=%{lat}<br>cap_lon=%{lon}<extra></extra>",
         "hovertext": [
          "Harry's House"
         ],
         "lat": [
          -8.83333333333333
         ],
         "legendgroup": "Angola",
         "lon": [
          13.216667
         ],
         "marker": {
          "color": "#000006",
          "symbol": "circle"
         },
         "mode": "markers",
         "name": "Angola",
         "showlegend": true,
         "type": "scattergeo"
        },
        {
         "geo": "geo",
         "hovertemplate": "<b>%{hovertext}</b><br><br>country=Antigua and Barbuda<br>cap_lat=%{lat}<br>cap_lon=%{lon}<extra></extra>",
         "hovertext": [
          "Harry's House"
         ],
         "lat": [
          17.1166666666666
         ],
         "legendgroup": "Antigua and Barbuda",
         "lon": [
          -61.85
         ],
         "marker": {
          "color": "#000007",
          "symbol": "circle"
         },
         "mode": "markers",
         "name": "Antigua and Barbuda",
         "showlegend": true,
         "type": "scattergeo"
        },
        {
         "geo": "geo",
         "hovertemplate": "<b>%{hovertext}</b><br><br>country=Argentina<br>cap_lat=%{lat}<br>cap_lon=%{lon}<extra></extra>",
         "hovertext": [
          "Peso Pluma: Bzrp Music Sessions, Vol. 55"
         ],
         "lat": [
          -34.5833333333333
         ],
         "legendgroup": "Argentina",
         "lon": [
          -58.666667
         ],
         "marker": {
          "color": "#000008",
          "symbol": "circle"
         },
         "mode": "markers",
         "name": "Argentina",
         "showlegend": true,
         "type": "scattergeo"
        },
        {
         "geo": "geo",
         "hovertemplate": "<b>%{hovertext}</b><br><br>country=Armenia<br>cap_lat=%{lat}<br>cap_lon=%{lon}<extra></extra>",
         "hovertext": [
          "Harry's House"
         ],
         "lat": [
          40.1666666666666
         ],
         "legendgroup": "Armenia",
         "lon": [
          44.5
         ],
         "marker": {
          "color": "#000009",
          "symbol": "circle"
         },
         "mode": "markers",
         "name": "Armenia",
         "showlegend": true,
         "type": "scattergeo"
        },
        {
         "geo": "geo",
         "hovertemplate": "<b>%{hovertext}</b><br><br>country=Australia<br>cap_lat=%{lat}<br>cap_lon=%{lon}<extra></extra>",
         "hovertext": [
          "Split Decision"
         ],
         "lat": [
          -35.2666666666666
         ],
         "legendgroup": "Australia",
         "lon": [
          149.133333
         ],
         "marker": {
          "color": "#000010",
          "symbol": "circle"
         },
         "mode": "markers",
         "name": "Australia",
         "showlegend": true,
         "type": "scattergeo"
        },
        {
         "geo": "geo",
         "hovertemplate": "<b>%{hovertext}</b><br><br>country=Austria<br>cap_lat=%{lat}<br>cap_lon=%{lon}<extra></extra>",
         "hovertext": [
          "Gartenstadt"
         ],
         "lat": [
          48.2
         ],
         "legendgroup": "Austria",
         "lon": [
          16.366667
         ],
         "marker": {
          "color": "#000001",
          "symbol": "circle"
         },
         "mode": "markers",
         "name": "Austria",
         "showlegend": true,
         "type": "scattergeo"
        },
        {
         "geo": "geo",
         "hovertemplate": "<b>%{hovertext}</b><br><br>country=Azerbaijan<br>cap_lat=%{lat}<br>cap_lon=%{lon}<extra></extra>",
         "hovertext": [
          "F64"
         ],
         "lat": [
          40.3833333333333
         ],
         "legendgroup": "Azerbaijan",
         "lon": [
          49.866667
         ],
         "marker": {
          "color": "#000002",
          "symbol": "circle"
         },
         "mode": "markers",
         "name": "Azerbaijan",
         "showlegend": true,
         "type": "scattergeo"
        },
        {
         "geo": "geo",
         "hovertemplate": "<b>%{hovertext}</b><br><br>country=Bahamas<br>cap_lat=%{lat}<br>cap_lon=%{lon}<extra></extra>",
         "hovertext": [
          "Harry's House"
         ],
         "lat": [
          25.0833333333333
         ],
         "legendgroup": "Bahamas",
         "lon": [
          -77.35
         ],
         "marker": {
          "color": "#000003",
          "symbol": "circle"
         },
         "mode": "markers",
         "name": "Bahamas",
         "showlegend": true,
         "type": "scattergeo"
        },
        {
         "geo": "geo",
         "hovertemplate": "<b>%{hovertext}</b><br><br>country=Bahrain<br>cap_lat=%{lat}<br>cap_lon=%{lon}<extra></extra>",
         "hovertext": [
          "Sprinter"
         ],
         "lat": [
          26.2333333333333
         ],
         "legendgroup": "Bahrain",
         "lon": [
          50.566667
         ],
         "marker": {
          "color": "#000004",
          "symbol": "circle"
         },
         "mode": "markers",
         "name": "Bahrain",
         "showlegend": true,
         "type": "scattergeo"
        },
        {
         "geo": "geo",
         "hovertemplate": "<b>%{hovertext}</b><br><br>country=Bangladesh<br>cap_lat=%{lat}<br>cap_lon=%{lon}<extra></extra>",
         "hovertext": [
          "Tomar Goli"
         ],
         "lat": [
          23.7166666666666
         ],
         "legendgroup": "Bangladesh",
         "lon": [
          90.4
         ],
         "marker": {
          "color": "#000005",
          "symbol": "circle"
         },
         "mode": "markers",
         "name": "Bangladesh",
         "showlegend": true,
         "type": "scattergeo"
        },
        {
         "geo": "geo",
         "hovertemplate": "<b>%{hovertext}</b><br><br>country=Barbados<br>cap_lat=%{lat}<br>cap_lon=%{lon}<extra></extra>",
         "hovertext": [
          "Harry's House"
         ],
         "lat": [
          13.1
         ],
         "legendgroup": "Barbados",
         "lon": [
          -59.616667
         ],
         "marker": {
          "color": "#000006",
          "symbol": "circle"
         },
         "mode": "markers",
         "name": "Barbados",
         "showlegend": true,
         "type": "scattergeo"
        },
        {
         "geo": "geo",
         "hovertemplate": "<b>%{hovertext}</b><br><br>country=Belarus<br>cap_lat=%{lat}<br>cap_lon=%{lon}<extra></extra>",
         "hovertext": [
          "Rubicon"
         ],
         "lat": [
          53.9
         ],
         "legendgroup": "Belarus",
         "lon": [
          27.566667
         ],
         "marker": {
          "color": "#000007",
          "symbol": "circle"
         },
         "mode": "markers",
         "name": "Belarus",
         "showlegend": true,
         "type": "scattergeo"
        },
        {
         "geo": "geo",
         "hovertemplate": "<b>%{hovertext}</b><br><br>country=Belgium<br>cap_lat=%{lat}<br>cap_lon=%{lon}<extra></extra>",
         "hovertext": [
          "LAYALI"
         ],
         "lat": [
          50.8333333333333
         ],
         "legendgroup": "Belgium",
         "lon": [
          4.333333
         ],
         "marker": {
          "color": "#000008",
          "symbol": "circle"
         },
         "mode": "markers",
         "name": "Belgium",
         "showlegend": true,
         "type": "scattergeo"
        },
        {
         "geo": "geo",
         "hovertemplate": "<b>%{hovertext}</b><br><br>country=Belize<br>cap_lat=%{lat}<br>cap_lon=%{lon}<extra></extra>",
         "hovertext": [
          "Indigo"
         ],
         "lat": [
          17.25
         ],
         "legendgroup": "Belize",
         "lon": [
          -88.766667
         ],
         "marker": {
          "color": "#000009",
          "symbol": "circle"
         },
         "mode": "markers",
         "name": "Belize",
         "showlegend": true,
         "type": "scattergeo"
        },
        {
         "geo": "geo",
         "hovertemplate": "<b>%{hovertext}</b><br><br>country=Benin<br>cap_lat=%{lat}<br>cap_lon=%{lon}<extra></extra>",
         "hovertext": [
          "Harry's House"
         ],
         "lat": [
          6.48333333333333
         ],
         "legendgroup": "Benin",
         "lon": [
          2.616667
         ],
         "marker": {
          "color": "#000010",
          "symbol": "circle"
         },
         "mode": "markers",
         "name": "Benin",
         "showlegend": true,
         "type": "scattergeo"
        },
        {
         "geo": "geo",
         "hovertemplate": "<b>%{hovertext}</b><br><br>country=Bhutan<br>cap_lat=%{lat}<br>cap_lon=%{lon}<extra></extra>",
         "hovertext": [
          "6TH MINI ALBUM [Goosebumps]"
         ],
         "lat": [
          27.4666666666666
         ],
         "legendgroup": "Bhutan",
         "lon": [
          89.633333
         ],
         "marker": {
          "color": "#000001",
          "symbol": "circle"
         },
         "mode": "markers",
         "name": "Bhutan",
         "showlegend": true,
         "type": "scattergeo"
        },
        {
         "geo": "geo",
         "hovertemplate": "<b>%{hovertext}</b><br><br>country=Bolivia<br>cap_lat=%{lat}<br>cap_lon=%{lon}<extra></extra>",
         "hovertext": [
          "Peso Pluma: Bzrp Music Sessions, Vol. 55"
         ],
         "lat": [
          -16.5
         ],
         "legendgroup": "Bolivia",
         "lon": [
          -68.15
         ],
         "marker": {
          "color": "#000002",
          "symbol": "circle"
         },
         "mode": "markers",
         "name": "Bolivia",
         "showlegend": true,
         "type": "scattergeo"
        },
        {
         "geo": "geo",
         "hovertemplate": "<b>%{hovertext}</b><br><br>country=Bosnia and Herzegovina<br>cap_lat=%{lat}<br>cap_lon=%{lon}<extra></extra>",
         "hovertext": [
          "Harry's House"
         ],
         "lat": [
          43.8666666666666
         ],
         "legendgroup": "Bosnia and Herzegovina",
         "lon": [
          18.416667
         ],
         "marker": {
          "color": "#000003",
          "symbol": "circle"
         },
         "mode": "markers",
         "name": "Bosnia and Herzegovina",
         "showlegend": true,
         "type": "scattergeo"
        },
        {
         "geo": "geo",
         "hovertemplate": "<b>%{hovertext}</b><br><br>country=Botswana<br>cap_lat=%{lat}<br>cap_lon=%{lon}<extra></extra>",
         "hovertext": [
          "Journey To Infinity"
         ],
         "lat": [
          -24.6333333333333
         ],
         "legendgroup": "Botswana",
         "lon": [
          25.9
         ],
         "marker": {
          "color": "#000004",
          "symbol": "circle"
         },
         "mode": "markers",
         "name": "Botswana",
         "showlegend": true,
         "type": "scattergeo"
        },
        {
         "geo": "geo",
         "hovertemplate": "<b>%{hovertext}</b><br><br>country=Brazil<br>cap_lat=%{lat}<br>cap_lon=%{lon}<extra></extra>",
         "hovertext": [
          "Melhor Que Ontem"
         ],
         "lat": [
          -15.7833333333333
         ],
         "legendgroup": "Brazil",
         "lon": [
          -47.916667
         ],
         "marker": {
          "color": "#000005",
          "symbol": "circle"
         },
         "mode": "markers",
         "name": "Brazil",
         "showlegend": true,
         "type": "scattergeo"
        },
        {
         "geo": "geo",
         "hovertemplate": "<b>%{hovertext}</b><br><br>country=Brunei Darussalam<br>cap_lat=%{lat}<br>cap_lon=%{lon}<extra></extra>",
         "hovertext": [
          "6TH MINI ALBUM [Goosebumps]"
         ],
         "lat": [
          4.88333333333333
         ],
         "legendgroup": "Brunei Darussalam",
         "lon": [
          114.933333
         ],
         "marker": {
          "color": "#000006",
          "symbol": "circle"
         },
         "mode": "markers",
         "name": "Brunei Darussalam",
         "showlegend": true,
         "type": "scattergeo"
        },
        {
         "geo": "geo",
         "hovertemplate": "<b>%{hovertext}</b><br><br>country=Bulgaria<br>cap_lat=%{lat}<br>cap_lon=%{lon}<extra></extra>",
         "hovertext": [
          "Indigo"
         ],
         "lat": [
          42.6833333333333
         ],
         "legendgroup": "Bulgaria",
         "lon": [
          23.316667
         ],
         "marker": {
          "color": "#000007",
          "symbol": "circle"
         },
         "mode": "markers",
         "name": "Bulgaria",
         "showlegend": true,
         "type": "scattergeo"
        },
        {
         "geo": "geo",
         "hovertemplate": "<b>%{hovertext}</b><br><br>country=Burkina Faso<br>cap_lat=%{lat}<br>cap_lon=%{lon}<extra></extra>",
         "hovertext": [
          "Harry's House"
         ],
         "lat": [
          12.3666666666666
         ],
         "legendgroup": "Burkina Faso",
         "lon": [
          -1.516667
         ],
         "marker": {
          "color": "#000008",
          "symbol": "circle"
         },
         "mode": "markers",
         "name": "Burkina Faso",
         "showlegend": true,
         "type": "scattergeo"
        },
        {
         "geo": "geo",
         "hovertemplate": "<b>%{hovertext}</b><br><br>country=Burundi<br>cap_lat=%{lat}<br>cap_lon=%{lon}<extra></extra>",
         "hovertext": [
          "Love, Damini"
         ],
         "lat": [
          -3.36666666666666
         ],
         "legendgroup": "Burundi",
         "lon": [
          29.35
         ],
         "marker": {
          "color": "#000009",
          "symbol": "circle"
         },
         "mode": "markers",
         "name": "Burundi",
         "showlegend": true,
         "type": "scattergeo"
        },
        {
         "geo": "geo",
         "hovertemplate": "<b>%{hovertext}</b><br><br>country=Cambodia<br>cap_lat=%{lat}<br>cap_lon=%{lon}<extra></extra>",
         "hovertext": [
          "6TH MINI ALBUM [Goosebumps]"
         ],
         "lat": [
          11.55
         ],
         "legendgroup": "Cambodia",
         "lon": [
          104.916667
         ],
         "marker": {
          "color": "#000010",
          "symbol": "circle"
         },
         "mode": "markers",
         "name": "Cambodia",
         "showlegend": true,
         "type": "scattergeo"
        },
        {
         "geo": "geo",
         "hovertemplate": "<b>%{hovertext}</b><br><br>country=Cameroon<br>cap_lat=%{lat}<br>cap_lon=%{lon}<extra></extra>",
         "hovertext": [
          "Harry's House"
         ],
         "lat": [
          3.86666666666666
         ],
         "legendgroup": "Cameroon",
         "lon": [
          11.516667
         ],
         "marker": {
          "color": "#000001",
          "symbol": "circle"
         },
         "mode": "markers",
         "name": "Cameroon",
         "showlegend": true,
         "type": "scattergeo"
        },
        {
         "geo": "geo",
         "hovertemplate": "<b>%{hovertext}</b><br><br>country=Canada<br>cap_lat=%{lat}<br>cap_lon=%{lon}<extra></extra>",
         "hovertext": [
          "Who Told You (feat. Drake)"
         ],
         "lat": [
          45.4166666666666
         ],
         "legendgroup": "Canada",
         "lon": [
          -75.7
         ],
         "marker": {
          "color": "#000002",
          "symbol": "circle"
         },
         "mode": "markers",
         "name": "Canada",
         "showlegend": true,
         "type": "scattergeo"
        },
        {
         "geo": "geo",
         "hovertemplate": "<b>%{hovertext}</b><br><br>country=Cape Verde<br>cap_lat=%{lat}<br>cap_lon=%{lon}<extra></extra>",
         "hovertext": [
          "Harry's House"
         ],
         "lat": [
          14.9166666666666
         ],
         "legendgroup": "Cape Verde",
         "lon": [
          -23.516667
         ],
         "marker": {
          "color": "#000003",
          "symbol": "circle"
         },
         "mode": "markers",
         "name": "Cape Verde",
         "showlegend": true,
         "type": "scattergeo"
        },
        {
         "geo": "geo",
         "hovertemplate": "<b>%{hovertext}</b><br><br>country=Chad<br>cap_lat=%{lat}<br>cap_lon=%{lon}<extra></extra>",
         "hovertext": [
          "Harry's House"
         ],
         "lat": [
          12.1
         ],
         "legendgroup": "Chad",
         "lon": [
          15.033333
         ],
         "marker": {
          "color": "#000004",
          "symbol": "circle"
         },
         "mode": "markers",
         "name": "Chad",
         "showlegend": true,
         "type": "scattergeo"
        },
        {
         "geo": "geo",
         "hovertemplate": "<b>%{hovertext}</b><br><br>country=Chile<br>cap_lat=%{lat}<br>cap_lon=%{lon}<extra></extra>",
         "hovertext": [
          "Peso Pluma: Bzrp Music Sessions, Vol. 55"
         ],
         "lat": [
          -33.45
         ],
         "legendgroup": "Chile",
         "lon": [
          -70.666667
         ],
         "marker": {
          "color": "#000005",
          "symbol": "circle"
         },
         "mode": "markers",
         "name": "Chile",
         "showlegend": true,
         "type": "scattergeo"
        },
        {
         "geo": "geo",
         "hovertemplate": "<b>%{hovertext}</b><br><br>country=Colombia<br>cap_lat=%{lat}<br>cap_lon=%{lon}<extra></extra>",
         "hovertext": [
          "Despídeme De Todxs"
         ],
         "lat": [
          4.6
         ],
         "legendgroup": "Colombia",
         "lon": [
          -74.083333
         ],
         "marker": {
          "color": "#000006",
          "symbol": "circle"
         },
         "mode": "markers",
         "name": "Colombia",
         "showlegend": true,
         "type": "scattergeo"
        },
        {
         "geo": "geo",
         "hovertemplate": "<b>%{hovertext}</b><br><br>country=Comoros<br>cap_lat=%{lat}<br>cap_lon=%{lon}<extra></extra>",
         "hovertext": [
          "Harry's House"
         ],
         "lat": [
          -11.7
         ],
         "legendgroup": "Comoros",
         "lon": [
          43.233333
         ],
         "marker": {
          "color": "#000007",
          "symbol": "circle"
         },
         "mode": "markers",
         "name": "Comoros",
         "showlegend": true,
         "type": "scattergeo"
        },
        {
         "geo": "geo",
         "hovertemplate": "<b>%{hovertext}</b><br><br>country=Democratic Republic of the Congo<br>cap_lat=%{lat}<br>cap_lon=%{lon}<extra></extra>",
         "hovertext": [
          "Harry's House"
         ],
         "lat": [
          -4.31666666666666
         ],
         "legendgroup": "Democratic Republic of the Congo",
         "lon": [
          15.3
         ],
         "marker": {
          "color": "#000008",
          "symbol": "circle"
         },
         "mode": "markers",
         "name": "Democratic Republic of the Congo",
         "showlegend": true,
         "type": "scattergeo"
        },
        {
         "geo": "geo",
         "hovertemplate": "<b>%{hovertext}</b><br><br>country=Republic of Congo<br>cap_lat=%{lat}<br>cap_lon=%{lon}<extra></extra>",
         "hovertext": [
          "Harry's House"
         ],
         "lat": [
          -4.25
         ],
         "legendgroup": "Republic of Congo",
         "lon": [
          15.283333
         ],
         "marker": {
          "color": "#000009",
          "symbol": "circle"
         },
         "mode": "markers",
         "name": "Republic of Congo",
         "showlegend": true,
         "type": "scattergeo"
        },
        {
         "geo": "geo",
         "hovertemplate": "<b>%{hovertext}</b><br><br>country=Costa Rica<br>cap_lat=%{lat}<br>cap_lon=%{lon}<extra></extra>",
         "hovertext": [
          "Indigo"
         ],
         "lat": [
          9.93333333333333
         ],
         "legendgroup": "Costa Rica",
         "lon": [
          -84.083333
         ],
         "marker": {
          "color": "#000010",
          "symbol": "circle"
         },
         "mode": "markers",
         "name": "Costa Rica",
         "showlegend": true,
         "type": "scattergeo"
        },
        {
         "geo": "geo",
         "hovertemplate": "<b>%{hovertext}</b><br><br>country=Cote d'Ivoire<br>cap_lat=%{lat}<br>cap_lon=%{lon}<extra></extra>",
         "hovertext": [
          "Harry's House"
         ],
         "lat": [
          6.81666666666666
         ],
         "legendgroup": "Cote d'Ivoire",
         "lon": [
          -5.266667
         ],
         "marker": {
          "color": "#000001",
          "symbol": "circle"
         },
         "mode": "markers",
         "name": "Cote d'Ivoire",
         "showlegend": true,
         "type": "scattergeo"
        },
        {
         "geo": "geo",
         "hovertemplate": "<b>%{hovertext}</b><br><br>country=Croatia<br>cap_lat=%{lat}<br>cap_lon=%{lon}<extra></extra>",
         "hovertext": [
          "Indigo"
         ],
         "lat": [
          45.8
         ],
         "legendgroup": "Croatia",
         "lon": [
          16
         ],
         "marker": {
          "color": "#000002",
          "symbol": "circle"
         },
         "mode": "markers",
         "name": "Croatia",
         "showlegend": true,
         "type": "scattergeo"
        },
        {
         "geo": "geo",
         "hovertemplate": "<b>%{hovertext}</b><br><br>country=CuraÃ§ao<br>cap_lat=%{lat}<br>cap_lon=%{lon}<extra></extra>",
         "hovertext": [
          "Harry's House"
         ],
         "lat": [
          12.1
         ],
         "legendgroup": "CuraÃ§ao",
         "lon": [
          -68.916667
         ],
         "marker": {
          "color": "#000003",
          "symbol": "circle"
         },
         "mode": "markers",
         "name": "CuraÃ§ao",
         "showlegend": true,
         "type": "scattergeo"
        },
        {
         "geo": "geo",
         "hovertemplate": "<b>%{hovertext}</b><br><br>country=Cyprus<br>cap_lat=%{lat}<br>cap_lon=%{lon}<extra></extra>",
         "hovertext": [
          "Indigo"
         ],
         "lat": [
          35.1666666666666
         ],
         "legendgroup": "Cyprus",
         "lon": [
          33.366667
         ],
         "marker": {
          "color": "#000004",
          "symbol": "circle"
         },
         "mode": "markers",
         "name": "Cyprus",
         "showlegend": true,
         "type": "scattergeo"
        },
        {
         "geo": "geo",
         "hovertemplate": "<b>%{hovertext}</b><br><br>country=Czech Republic<br>cap_lat=%{lat}<br>cap_lon=%{lon}<extra></extra>",
         "hovertext": [
          "PLAYLIST"
         ],
         "lat": [
          50.0833333333333
         ],
         "legendgroup": "Czech Republic",
         "lon": [
          14.466667
         ],
         "marker": {
          "color": "#000005",
          "symbol": "circle"
         },
         "mode": "markers",
         "name": "Czech Republic",
         "showlegend": true,
         "type": "scattergeo"
        },
        {
         "geo": "geo",
         "hovertemplate": "<b>%{hovertext}</b><br><br>country=Denmark<br>cap_lat=%{lat}<br>cap_lon=%{lon}<extra></extra>",
         "hovertext": [
          "Dansktop"
         ],
         "lat": [
          55.6666666666666
         ],
         "legendgroup": "Denmark",
         "lon": [
          12.583333
         ],
         "marker": {
          "color": "#000006",
          "symbol": "circle"
         },
         "mode": "markers",
         "name": "Denmark",
         "showlegend": true,
         "type": "scattergeo"
        },
        {
         "geo": "geo",
         "hovertemplate": "<b>%{hovertext}</b><br><br>country=Djibouti<br>cap_lat=%{lat}<br>cap_lon=%{lon}<extra></extra>",
         "hovertext": [
          "Harry's House"
         ],
         "lat": [
          11.5833333333333
         ],
         "legendgroup": "Djibouti",
         "lon": [
          43.15
         ],
         "marker": {
          "color": "#000007",
          "symbol": "circle"
         },
         "mode": "markers",
         "name": "Djibouti",
         "showlegend": true,
         "type": "scattergeo"
        },
        {
         "geo": "geo",
         "hovertemplate": "<b>%{hovertext}</b><br><br>country=Dominica<br>cap_lat=%{lat}<br>cap_lon=%{lon}<extra></extra>",
         "hovertext": [
          "Harry's House"
         ],
         "lat": [
          15.3
         ],
         "legendgroup": "Dominica",
         "lon": [
          -61.4
         ],
         "marker": {
          "color": "#000008",
          "symbol": "circle"
         },
         "mode": "markers",
         "name": "Dominica",
         "showlegend": true,
         "type": "scattergeo"
        },
        {
         "geo": "geo",
         "hovertemplate": "<b>%{hovertext}</b><br><br>country=Dominican Republic<br>cap_lat=%{lat}<br>cap_lon=%{lon}<extra></extra>",
         "hovertext": [
          "Indigo"
         ],
         "lat": [
          18.4666666666666
         ],
         "legendgroup": "Dominican Republic",
         "lon": [
          -69.9
         ],
         "marker": {
          "color": "#000009",
          "symbol": "circle"
         },
         "mode": "markers",
         "name": "Dominican Republic",
         "showlegend": true,
         "type": "scattergeo"
        },
        {
         "geo": "geo",
         "hovertemplate": "<b>%{hovertext}</b><br><br>country=Ecuador<br>cap_lat=%{lat}<br>cap_lon=%{lon}<extra></extra>",
         "hovertext": [
          "Indigo"
         ],
         "lat": [
          -0.216666666666666
         ],
         "legendgroup": "Ecuador",
         "lon": [
          -78.5
         ],
         "marker": {
          "color": "#000010",
          "symbol": "circle"
         },
         "mode": "markers",
         "name": "Ecuador",
         "showlegend": true,
         "type": "scattergeo"
        },
        {
         "geo": "geo",
         "hovertemplate": "<b>%{hovertext}</b><br><br>country=Egypt<br>cap_lat=%{lat}<br>cap_lon=%{lon}<extra></extra>",
         "hovertext": [
          "Ensan 2ali"
         ],
         "lat": [
          30.05
         ],
         "legendgroup": "Egypt",
         "lon": [
          31.25
         ],
         "marker": {
          "color": "#000001",
          "symbol": "circle"
         },
         "mode": "markers",
         "name": "Egypt",
         "showlegend": true,
         "type": "scattergeo"
        },
        {
         "geo": "geo",
         "hovertemplate": "<b>%{hovertext}</b><br><br>country=El Salvador<br>cap_lat=%{lat}<br>cap_lon=%{lon}<extra></extra>",
         "hovertext": [
          "Indigo"
         ],
         "lat": [
          13.7
         ],
         "legendgroup": "El Salvador",
         "lon": [
          -89.2
         ],
         "marker": {
          "color": "#000002",
          "symbol": "circle"
         },
         "mode": "markers",
         "name": "El Salvador",
         "showlegend": true,
         "type": "scattergeo"
        },
        {
         "geo": "geo",
         "hovertemplate": "<b>%{hovertext}</b><br><br>country=Equatorial Guinea<br>cap_lat=%{lat}<br>cap_lon=%{lon}<extra></extra>",
         "hovertext": [
          "Harry's House"
         ],
         "lat": [
          3.75
         ],
         "legendgroup": "Equatorial Guinea",
         "lon": [
          8.783333
         ],
         "marker": {
          "color": "#000003",
          "symbol": "circle"
         },
         "mode": "markers",
         "name": "Equatorial Guinea",
         "showlegend": true,
         "type": "scattergeo"
        },
        {
         "geo": "geo",
         "hovertemplate": "<b>%{hovertext}</b><br><br>country=Estonia<br>cap_lat=%{lat}<br>cap_lon=%{lon}<extra></extra>",
         "hovertext": [
          "Indigo"
         ],
         "lat": [
          59.4333333333333
         ],
         "legendgroup": "Estonia",
         "lon": [
          24.716667
         ],
         "marker": {
          "color": "#000004",
          "symbol": "circle"
         },
         "mode": "markers",
         "name": "Estonia",
         "showlegend": true,
         "type": "scattergeo"
        },
        {
         "geo": "geo",
         "hovertemplate": "<b>%{hovertext}</b><br><br>country=Ethiopia<br>cap_lat=%{lat}<br>cap_lon=%{lon}<extra></extra>",
         "hovertext": [
          "Aibu"
         ],
         "lat": [
          9.03333333333333
         ],
         "legendgroup": "Ethiopia",
         "lon": [
          38.7
         ],
         "marker": {
          "color": "#000005",
          "symbol": "circle"
         },
         "mode": "markers",
         "name": "Ethiopia",
         "showlegend": true,
         "type": "scattergeo"
        },
        {
         "geo": "geo",
         "hovertemplate": "<b>%{hovertext}</b><br><br>country=Fiji<br>cap_lat=%{lat}<br>cap_lon=%{lon}<extra></extra>",
         "hovertext": [
          "BLONDE16"
         ],
         "lat": [
          -18.1333333333333
         ],
         "legendgroup": "Fiji",
         "lon": [
          178.416667
         ],
         "marker": {
          "color": "#000006",
          "symbol": "circle"
         },
         "mode": "markers",
         "name": "Fiji",
         "showlegend": true,
         "type": "scattergeo"
        },
        {
         "geo": "geo",
         "hovertemplate": "<b>%{hovertext}</b><br><br>country=Finland<br>cap_lat=%{lat}<br>cap_lon=%{lon}<extra></extra>",
         "hovertext": [
          "Oisko tää täs / Popinpelko"
         ],
         "lat": [
          60.1666666666666
         ],
         "legendgroup": "Finland",
         "lon": [
          24.933333
         ],
         "marker": {
          "color": "#000007",
          "symbol": "circle"
         },
         "mode": "markers",
         "name": "Finland",
         "showlegend": true,
         "type": "scattergeo"
        },
        {
         "geo": "geo",
         "hovertemplate": "<b>%{hovertext}</b><br><br>country=France<br>cap_lat=%{lat}<br>cap_lon=%{lon}<extra></extra>",
         "hovertext": [
          "PARANOÏA, ANGELS, TRUE LOVE"
         ],
         "lat": [
          48.8666666666666
         ],
         "legendgroup": "France",
         "lon": [
          2.333333
         ],
         "marker": {
          "color": "#000008",
          "symbol": "circle"
         },
         "mode": "markers",
         "name": "France",
         "showlegend": true,
         "type": "scattergeo"
        },
        {
         "geo": "geo",
         "hovertemplate": "<b>%{hovertext}</b><br><br>country=Gabon<br>cap_lat=%{lat}<br>cap_lon=%{lon}<extra></extra>",
         "hovertext": [
          "Eternal Blue"
         ],
         "lat": [
          0.383333333333333
         ],
         "legendgroup": "Gabon",
         "lon": [
          9.45
         ],
         "marker": {
          "color": "#000009",
          "symbol": "circle"
         },
         "mode": "markers",
         "name": "Gabon",
         "showlegend": true,
         "type": "scattergeo"
        },
        {
         "geo": "geo",
         "hovertemplate": "<b>%{hovertext}</b><br><br>country=The Gambia<br>cap_lat=%{lat}<br>cap_lon=%{lon}<extra></extra>",
         "hovertext": [
          "Harry's House"
         ],
         "lat": [
          13.45
         ],
         "legendgroup": "The Gambia",
         "lon": [
          -16.566667
         ],
         "marker": {
          "color": "#000010",
          "symbol": "circle"
         },
         "mode": "markers",
         "name": "The Gambia",
         "showlegend": true,
         "type": "scattergeo"
        },
        {
         "geo": "geo",
         "hovertemplate": "<b>%{hovertext}</b><br><br>country=Georgia<br>cap_lat=%{lat}<br>cap_lon=%{lon}<extra></extra>",
         "hovertext": [
          "Harry's House"
         ],
         "lat": [
          41.6833333333333
         ],
         "legendgroup": "Georgia",
         "lon": [
          44.833333
         ],
         "marker": {
          "color": "#000001",
          "symbol": "circle"
         },
         "mode": "markers",
         "name": "Georgia",
         "showlegend": true,
         "type": "scattergeo"
        },
        {
         "geo": "geo",
         "hovertemplate": "<b>%{hovertext}</b><br><br>country=Germany<br>cap_lat=%{lat}<br>cap_lon=%{lon}<extra></extra>",
         "hovertext": [
          "Gartenstadt"
         ],
         "lat": [
          52.5166666666666
         ],
         "legendgroup": "Germany",
         "lon": [
          13.4
         ],
         "marker": {
          "color": "#000002",
          "symbol": "circle"
         },
         "mode": "markers",
         "name": "Germany",
         "showlegend": true,
         "type": "scattergeo"
        },
        {
         "geo": "geo",
         "hovertemplate": "<b>%{hovertext}</b><br><br>country=Ghana<br>cap_lat=%{lat}<br>cap_lon=%{lon}<extra></extra>",
         "hovertext": [
          "Kenkele"
         ],
         "lat": [
          5.55
         ],
         "legendgroup": "Ghana",
         "lon": [
          -0.216667
         ],
         "marker": {
          "color": "#000003",
          "symbol": "circle"
         },
         "mode": "markers",
         "name": "Ghana",
         "showlegend": true,
         "type": "scattergeo"
        },
        {
         "geo": "geo",
         "hovertemplate": "<b>%{hovertext}</b><br><br>country=Greece<br>cap_lat=%{lat}<br>cap_lon=%{lon}<extra></extra>",
         "hovertext": [
          "TRUSTFALL"
         ],
         "lat": [
          37.9833333333333
         ],
         "legendgroup": "Greece",
         "lon": [
          23.733333
         ],
         "marker": {
          "color": "#000004",
          "symbol": "circle"
         },
         "mode": "markers",
         "name": "Greece",
         "showlegend": true,
         "type": "scattergeo"
        },
        {
         "geo": "geo",
         "hovertemplate": "<b>%{hovertext}</b><br><br>country=Grenada<br>cap_lat=%{lat}<br>cap_lon=%{lon}<extra></extra>",
         "hovertext": [
          "Harry's House"
         ],
         "lat": [
          12.05
         ],
         "legendgroup": "Grenada",
         "lon": [
          -61.75
         ],
         "marker": {
          "color": "#000005",
          "symbol": "circle"
         },
         "mode": "markers",
         "name": "Grenada",
         "showlegend": true,
         "type": "scattergeo"
        },
        {
         "geo": "geo",
         "hovertemplate": "<b>%{hovertext}</b><br><br>country=Guatemala<br>cap_lat=%{lat}<br>cap_lon=%{lon}<extra></extra>",
         "hovertext": [
          "Indigo"
         ],
         "lat": [
          14.6166666666666
         ],
         "legendgroup": "Guatemala",
         "lon": [
          -90.516667
         ],
         "marker": {
          "color": "#000006",
          "symbol": "circle"
         },
         "mode": "markers",
         "name": "Guatemala",
         "showlegend": true,
         "type": "scattergeo"
        },
        {
         "geo": "geo",
         "hovertemplate": "<b>%{hovertext}</b><br><br>country=Guinea<br>cap_lat=%{lat}<br>cap_lon=%{lon}<extra></extra>",
         "hovertext": [
          "Harry's House"
         ],
         "lat": [
          9.5
         ],
         "legendgroup": "Guinea",
         "lon": [
          -13.7
         ],
         "marker": {
          "color": "#000007",
          "symbol": "circle"
         },
         "mode": "markers",
         "name": "Guinea",
         "showlegend": true,
         "type": "scattergeo"
        },
        {
         "geo": "geo",
         "hovertemplate": "<b>%{hovertext}</b><br><br>country=Guinea-Bissau<br>cap_lat=%{lat}<br>cap_lon=%{lon}<extra></extra>",
         "hovertext": [
          "Harry's House"
         ],
         "lat": [
          11.85
         ],
         "legendgroup": "Guinea-Bissau",
         "lon": [
          -15.583333
         ],
         "marker": {
          "color": "#000008",
          "symbol": "circle"
         },
         "mode": "markers",
         "name": "Guinea-Bissau",
         "showlegend": true,
         "type": "scattergeo"
        },
        {
         "geo": "geo",
         "hovertemplate": "<b>%{hovertext}</b><br><br>country=Guyana<br>cap_lat=%{lat}<br>cap_lon=%{lon}<extra></extra>",
         "hovertext": [
          "Harry's House"
         ],
         "lat": [
          6.8
         ],
         "legendgroup": "Guyana",
         "lon": [
          -58.15
         ],
         "marker": {
          "color": "#000009",
          "symbol": "circle"
         },
         "mode": "markers",
         "name": "Guyana",
         "showlegend": true,
         "type": "scattergeo"
        },
        {
         "geo": "geo",
         "hovertemplate": "<b>%{hovertext}</b><br><br>country=Haiti<br>cap_lat=%{lat}<br>cap_lon=%{lon}<extra></extra>",
         "hovertext": [
          "Harry's House"
         ],
         "lat": [
          18.5333333333333
         ],
         "legendgroup": "Haiti",
         "lon": [
          -72.333333
         ],
         "marker": {
          "color": "#000010",
          "symbol": "circle"
         },
         "mode": "markers",
         "name": "Haiti",
         "showlegend": true,
         "type": "scattergeo"
        },
        {
         "geo": "geo",
         "hovertemplate": "<b>%{hovertext}</b><br><br>country=Honduras<br>cap_lat=%{lat}<br>cap_lon=%{lon}<extra></extra>",
         "hovertext": [
          "Indigo"
         ],
         "lat": [
          14.1
         ],
         "legendgroup": "Honduras",
         "lon": [
          -87.216667
         ],
         "marker": {
          "color": "#000001",
          "symbol": "circle"
         },
         "mode": "markers",
         "name": "Honduras",
         "showlegend": true,
         "type": "scattergeo"
        },
        {
         "geo": "geo",
         "hovertemplate": "<b>%{hovertext}</b><br><br>country=Hungary<br>cap_lat=%{lat}<br>cap_lon=%{lon}<extra></extra>",
         "hovertext": [
          "BORN PINK"
         ],
         "lat": [
          47.5
         ],
         "legendgroup": "Hungary",
         "lon": [
          19.083333
         ],
         "marker": {
          "color": "#000002",
          "symbol": "circle"
         },
         "mode": "markers",
         "name": "Hungary",
         "showlegend": true,
         "type": "scattergeo"
        },
        {
         "geo": "geo",
         "hovertemplate": "<b>%{hovertext}</b><br><br>country=Iceland<br>cap_lat=%{lat}<br>cap_lon=%{lon}<extra></extra>",
         "hovertext": [
          "Who Told You (feat. Drake)"
         ],
         "lat": [
          64.15
         ],
         "legendgroup": "Iceland",
         "lon": [
          -21.95
         ],
         "marker": {
          "color": "#000003",
          "symbol": "circle"
         },
         "mode": "markers",
         "name": "Iceland",
         "showlegend": true,
         "type": "scattergeo"
        },
        {
         "geo": "geo",
         "hovertemplate": "<b>%{hovertext}</b><br><br>country=India<br>cap_lat=%{lat}<br>cap_lon=%{lon}<extra></extra>",
         "hovertext": [
          "Tu Jhoothi Main Makkaar"
         ],
         "lat": [
          28.6
         ],
         "legendgroup": "India",
         "lon": [
          77.2
         ],
         "marker": {
          "color": "#000004",
          "symbol": "circle"
         },
         "mode": "markers",
         "name": "India",
         "showlegend": true,
         "type": "scattergeo"
        },
        {
         "geo": "geo",
         "hovertemplate": "<b>%{hovertext}</b><br><br>country=Indonesia<br>cap_lat=%{lat}<br>cap_lon=%{lon}<extra></extra>",
         "hovertext": [
          "Pretend"
         ],
         "lat": [
          -6.16666666666666
         ],
         "legendgroup": "Indonesia",
         "lon": [
          106.816667
         ],
         "marker": {
          "color": "#000005",
          "symbol": "circle"
         },
         "mode": "markers",
         "name": "Indonesia",
         "showlegend": true,
         "type": "scattergeo"
        },
        {
         "geo": "geo",
         "hovertemplate": "<b>%{hovertext}</b><br><br>country=Iraq<br>cap_lat=%{lat}<br>cap_lon=%{lon}<extra></extra>",
         "hovertext": [
          "Sprinter"
         ],
         "lat": [
          33.3333333333333
         ],
         "legendgroup": "Iraq",
         "lon": [
          44.4
         ],
         "marker": {
          "color": "#000006",
          "symbol": "circle"
         },
         "mode": "markers",
         "name": "Iraq",
         "showlegend": true,
         "type": "scattergeo"
        },
        {
         "geo": "geo",
         "hovertemplate": "<b>%{hovertext}</b><br><br>country=Ireland<br>cap_lat=%{lat}<br>cap_lon=%{lon}<extra></extra>",
         "hovertext": [
          "The Age of Pleasure"
         ],
         "lat": [
          53.3166666666666
         ],
         "legendgroup": "Ireland",
         "lon": [
          -6.233333
         ],
         "marker": {
          "color": "#000007",
          "symbol": "circle"
         },
         "mode": "markers",
         "name": "Ireland",
         "showlegend": true,
         "type": "scattergeo"
        },
        {
         "geo": "geo",
         "hovertemplate": "<b>%{hovertext}</b><br><br>country=Israel<br>cap_lat=%{lat}<br>cap_lon=%{lon}<extra></extra>",
         "hovertext": [
          "רדיו שטח"
         ],
         "lat": [
          31.7666666666666
         ],
         "legendgroup": "Israel",
         "lon": [
          35.233333
         ],
         "marker": {
          "color": "#000008",
          "symbol": "circle"
         },
         "mode": "markers",
         "name": "Israel",
         "showlegend": true,
         "type": "scattergeo"
        },
        {
         "geo": "geo",
         "hovertemplate": "<b>%{hovertext}</b><br><br>country=Italy<br>cap_lat=%{lat}<br>cap_lon=%{lon}<extra></extra>",
         "hovertext": [
          "Santana Season"
         ],
         "lat": [
          41.9
         ],
         "legendgroup": "Italy",
         "lon": [
          12.483333
         ],
         "marker": {
          "color": "#000009",
          "symbol": "circle"
         },
         "mode": "markers",
         "name": "Italy",
         "showlegend": true,
         "type": "scattergeo"
        },
        {
         "geo": "geo",
         "hovertemplate": "<b>%{hovertext}</b><br><br>country=Jamaica<br>cap_lat=%{lat}<br>cap_lon=%{lon}<extra></extra>",
         "hovertext": [
          "Harry's House"
         ],
         "lat": [
          18
         ],
         "legendgroup": "Jamaica",
         "lon": [
          -76.8
         ],
         "marker": {
          "color": "#000010",
          "symbol": "circle"
         },
         "mode": "markers",
         "name": "Jamaica",
         "showlegend": true,
         "type": "scattergeo"
        },
        {
         "geo": "geo",
         "hovertemplate": "<b>%{hovertext}</b><br><br>country=Japan<br>cap_lat=%{lat}<br>cap_lon=%{lon}<extra></extra>",
         "hovertext": [
          "The Show"
         ],
         "lat": [
          35.6833333333333
         ],
         "legendgroup": "Japan",
         "lon": [
          139.75
         ],
         "marker": {
          "color": "#000001",
          "symbol": "circle"
         },
         "mode": "markers",
         "name": "Japan",
         "showlegend": true,
         "type": "scattergeo"
        },
        {
         "geo": "geo",
         "hovertemplate": "<b>%{hovertext}</b><br><br>country=Jordan<br>cap_lat=%{lat}<br>cap_lon=%{lon}<extra></extra>",
         "hovertext": [
          "TUYA"
         ],
         "lat": [
          31.95
         ],
         "legendgroup": "Jordan",
         "lon": [
          35.933333
         ],
         "marker": {
          "color": "#000002",
          "symbol": "circle"
         },
         "mode": "markers",
         "name": "Jordan",
         "showlegend": true,
         "type": "scattergeo"
        },
        {
         "geo": "geo",
         "hovertemplate": "<b>%{hovertext}</b><br><br>country=Kazakhstan<br>cap_lat=%{lat}<br>cap_lon=%{lon}<extra></extra>",
         "hovertext": [
          "Январь"
         ],
         "lat": [
          51.1666666666666
         ],
         "legendgroup": "Kazakhstan",
         "lon": [
          71.416667
         ],
         "marker": {
          "color": "#000003",
          "symbol": "circle"
         },
         "mode": "markers",
         "name": "Kazakhstan",
         "showlegend": true,
         "type": "scattergeo"
        },
        {
         "geo": "geo",
         "hovertemplate": "<b>%{hovertext}</b><br><br>country=Kenya<br>cap_lat=%{lat}<br>cap_lon=%{lon}<extra></extra>",
         "hovertext": [
          "Fikiria"
         ],
         "lat": [
          -1.28333333333333
         ],
         "legendgroup": "Kenya",
         "lon": [
          36.816667
         ],
         "marker": {
          "color": "#000004",
          "symbol": "circle"
         },
         "mode": "markers",
         "name": "Kenya",
         "showlegend": true,
         "type": "scattergeo"
        },
        {
         "geo": "geo",
         "hovertemplate": "<b>%{hovertext}</b><br><br>country=Kiribati<br>cap_lat=%{lat}<br>cap_lon=%{lon}<extra></extra>",
         "hovertext": [
          "BLONDE16"
         ],
         "lat": [
          -0.883333333333333
         ],
         "legendgroup": "Kiribati",
         "lon": [
          169.533333
         ],
         "marker": {
          "color": "#000005",
          "symbol": "circle"
         },
         "mode": "markers",
         "name": "Kiribati",
         "showlegend": true,
         "type": "scattergeo"
        },
        {
         "geo": "geo",
         "hovertemplate": "<b>%{hovertext}</b><br><br>country=South Korea<br>cap_lat=%{lat}<br>cap_lon=%{lon}<extra></extra>",
         "hovertext": [
          "us (Sunset Rollercoaster & JORDANN)"
         ],
         "lat": [
          37.55
         ],
         "legendgroup": "South Korea",
         "lon": [
          126.983333
         ],
         "marker": {
          "color": "#000006",
          "symbol": "circle"
         },
         "mode": "markers",
         "name": "South Korea",
         "showlegend": true,
         "type": "scattergeo"
        },
        {
         "geo": "geo",
         "hovertemplate": "<b>%{hovertext}</b><br><br>country=Kuwait<br>cap_lat=%{lat}<br>cap_lon=%{lon}<extra></extra>",
         "hovertext": [
          "Sprinter"
         ],
         "lat": [
          29.3666666666666
         ],
         "legendgroup": "Kuwait",
         "lon": [
          47.966667
         ],
         "marker": {
          "color": "#000007",
          "symbol": "circle"
         },
         "mode": "markers",
         "name": "Kuwait",
         "showlegend": true,
         "type": "scattergeo"
        },
        {
         "geo": "geo",
         "hovertemplate": "<b>%{hovertext}</b><br><br>country=Kyrgyzstan<br>cap_lat=%{lat}<br>cap_lon=%{lon}<extra></extra>",
         "hovertext": [
          "Harry's House"
         ],
         "lat": [
          42.8666666666666
         ],
         "legendgroup": "Kyrgyzstan",
         "lon": [
          74.6
         ],
         "marker": {
          "color": "#000008",
          "symbol": "circle"
         },
         "mode": "markers",
         "name": "Kyrgyzstan",
         "showlegend": true,
         "type": "scattergeo"
        },
        {
         "geo": "geo",
         "hovertemplate": "<b>%{hovertext}</b><br><br>country=Laos<br>cap_lat=%{lat}<br>cap_lon=%{lon}<extra></extra>",
         "hovertext": [
          "6TH MINI ALBUM [Goosebumps]"
         ],
         "lat": [
          17.9666666666666
         ],
         "legendgroup": "Laos",
         "lon": [
          102.6
         ],
         "marker": {
          "color": "#000009",
          "symbol": "circle"
         },
         "mode": "markers",
         "name": "Laos",
         "showlegend": true,
         "type": "scattergeo"
        },
        {
         "geo": "geo",
         "hovertemplate": "<b>%{hovertext}</b><br><br>country=Latvia<br>cap_lat=%{lat}<br>cap_lon=%{lon}<extra></extra>",
         "hovertext": [
          "Indigo"
         ],
         "lat": [
          56.95
         ],
         "legendgroup": "Latvia",
         "lon": [
          24.1
         ],
         "marker": {
          "color": "#000010",
          "symbol": "circle"
         },
         "mode": "markers",
         "name": "Latvia",
         "showlegend": true,
         "type": "scattergeo"
        },
        {
         "geo": "geo",
         "hovertemplate": "<b>%{hovertext}</b><br><br>country=Lebanon<br>cap_lat=%{lat}<br>cap_lon=%{lon}<extra></extra>",
         "hovertext": [
          "TUYA"
         ],
         "lat": [
          33.8666666666666
         ],
         "legendgroup": "Lebanon",
         "lon": [
          35.5
         ],
         "marker": {
          "color": "#000001",
          "symbol": "circle"
         },
         "mode": "markers",
         "name": "Lebanon",
         "showlegend": true,
         "type": "scattergeo"
        },
        {
         "geo": "geo",
         "hovertemplate": "<b>%{hovertext}</b><br><br>country=Lesotho<br>cap_lat=%{lat}<br>cap_lon=%{lon}<extra></extra>",
         "hovertext": [
          "Journey To Infinity"
         ],
         "lat": [
          -29.3166666666666
         ],
         "legendgroup": "Lesotho",
         "lon": [
          27.483333
         ],
         "marker": {
          "color": "#000002",
          "symbol": "circle"
         },
         "mode": "markers",
         "name": "Lesotho",
         "showlegend": true,
         "type": "scattergeo"
        },
        {
         "geo": "geo",
         "hovertemplate": "<b>%{hovertext}</b><br><br>country=Liberia<br>cap_lat=%{lat}<br>cap_lon=%{lon}<extra></extra>",
         "hovertext": [
          "Harry's House"
         ],
         "lat": [
          6.3
         ],
         "legendgroup": "Liberia",
         "lon": [
          -10.8
         ],
         "marker": {
          "color": "#000003",
          "symbol": "circle"
         },
         "mode": "markers",
         "name": "Liberia",
         "showlegend": true,
         "type": "scattergeo"
        },
        {
         "geo": "geo",
         "hovertemplate": "<b>%{hovertext}</b><br><br>country=Libya<br>cap_lat=%{lat}<br>cap_lon=%{lon}<extra></extra>",
         "hovertext": [
          "Bad Decisions (with BTS & Snoop Dogg)"
         ],
         "lat": [
          32.8833333333333
         ],
         "legendgroup": "Libya",
         "lon": [
          13.166667
         ],
         "marker": {
          "color": "#000004",
          "symbol": "circle"
         },
         "mode": "markers",
         "name": "Libya",
         "showlegend": true,
         "type": "scattergeo"
        },
        {
         "geo": "geo",
         "hovertemplate": "<b>%{hovertext}</b><br><br>country=Liechtenstein<br>cap_lat=%{lat}<br>cap_lon=%{lon}<extra></extra>",
         "hovertext": [
          "Indigo"
         ],
         "lat": [
          47.1333333333333
         ],
         "legendgroup": "Liechtenstein",
         "lon": [
          9.516667
         ],
         "marker": {
          "color": "#000005",
          "symbol": "circle"
         },
         "mode": "markers",
         "name": "Liechtenstein",
         "showlegend": true,
         "type": "scattergeo"
        },
        {
         "geo": "geo",
         "hovertemplate": "<b>%{hovertext}</b><br><br>country=Lithuania<br>cap_lat=%{lat}<br>cap_lon=%{lon}<extra></extra>",
         "hovertext": [
          "Indigo"
         ],
         "lat": [
          54.6833333333333
         ],
         "legendgroup": "Lithuania",
         "lon": [
          25.316667
         ],
         "marker": {
          "color": "#000006",
          "symbol": "circle"
         },
         "mode": "markers",
         "name": "Lithuania",
         "showlegend": true,
         "type": "scattergeo"
        },
        {
         "geo": "geo",
         "hovertemplate": "<b>%{hovertext}</b><br><br>country=Luxembourg<br>cap_lat=%{lat}<br>cap_lon=%{lon}<extra></extra>",
         "hovertext": [
          "PARANOÏA, ANGELS, TRUE LOVE"
         ],
         "lat": [
          49.6
         ],
         "legendgroup": "Luxembourg",
         "lon": [
          6.116667
         ],
         "marker": {
          "color": "#000007",
          "symbol": "circle"
         },
         "mode": "markers",
         "name": "Luxembourg",
         "showlegend": true,
         "type": "scattergeo"
        },
        {
         "geo": "geo",
         "hovertemplate": "<b>%{hovertext}</b><br><br>country=Macedonia<br>cap_lat=%{lat}<br>cap_lon=%{lon}<extra></extra>",
         "hovertext": [
          "Harry's House"
         ],
         "lat": [
          42
         ],
         "legendgroup": "Macedonia",
         "lon": [
          21.433333
         ],
         "marker": {
          "color": "#000008",
          "symbol": "circle"
         },
         "mode": "markers",
         "name": "Macedonia",
         "showlegend": true,
         "type": "scattergeo"
        },
        {
         "geo": "geo",
         "hovertemplate": "<b>%{hovertext}</b><br><br>country=Madagascar<br>cap_lat=%{lat}<br>cap_lon=%{lon}<extra></extra>",
         "hovertext": [
          "Harry's House"
         ],
         "lat": [
          -18.9166666666666
         ],
         "legendgroup": "Madagascar",
         "lon": [
          47.516667
         ],
         "marker": {
          "color": "#000009",
          "symbol": "circle"
         },
         "mode": "markers",
         "name": "Madagascar",
         "showlegend": true,
         "type": "scattergeo"
        },
        {
         "geo": "geo",
         "hovertemplate": "<b>%{hovertext}</b><br><br>country=Malawi<br>cap_lat=%{lat}<br>cap_lon=%{lon}<extra></extra>",
         "hovertext": [
          "Harry's House"
         ],
         "lat": [
          -13.9666666666666
         ],
         "legendgroup": "Malawi",
         "lon": [
          33.783333
         ],
         "marker": {
          "color": "#000010",
          "symbol": "circle"
         },
         "mode": "markers",
         "name": "Malawi",
         "showlegend": true,
         "type": "scattergeo"
        },
        {
         "geo": "geo",
         "hovertemplate": "<b>%{hovertext}</b><br><br>country=Malaysia<br>cap_lat=%{lat}<br>cap_lon=%{lon}<extra></extra>",
         "hovertext": [
          "Pretend"
         ],
         "lat": [
          3.16666666666666
         ],
         "legendgroup": "Malaysia",
         "lon": [
          101.7
         ],
         "marker": {
          "color": "#000001",
          "symbol": "circle"
         },
         "mode": "markers",
         "name": "Malaysia",
         "showlegend": true,
         "type": "scattergeo"
        },
        {
         "geo": "geo",
         "hovertemplate": "<b>%{hovertext}</b><br><br>country=Maldives<br>cap_lat=%{lat}<br>cap_lon=%{lon}<extra></extra>",
         "hovertext": [
          "6TH MINI ALBUM [Goosebumps]"
         ],
         "lat": [
          4.16666666666666
         ],
         "legendgroup": "Maldives",
         "lon": [
          73.5
         ],
         "marker": {
          "color": "#000002",
          "symbol": "circle"
         },
         "mode": "markers",
         "name": "Maldives",
         "showlegend": true,
         "type": "scattergeo"
        },
        {
         "geo": "geo",
         "hovertemplate": "<b>%{hovertext}</b><br><br>country=Mali<br>cap_lat=%{lat}<br>cap_lon=%{lon}<extra></extra>",
         "hovertext": [
          "Harry's House"
         ],
         "lat": [
          12.65
         ],
         "legendgroup": "Mali",
         "lon": [
          -8
         ],
         "marker": {
          "color": "#000003",
          "symbol": "circle"
         },
         "mode": "markers",
         "name": "Mali",
         "showlegend": true,
         "type": "scattergeo"
        },
        {
         "geo": "geo",
         "hovertemplate": "<b>%{hovertext}</b><br><br>country=Malta<br>cap_lat=%{lat}<br>cap_lon=%{lon}<extra></extra>",
         "hovertext": [
          "Indigo"
         ],
         "lat": [
          35.8833333333333
         ],
         "legendgroup": "Malta",
         "lon": [
          14.5
         ],
         "marker": {
          "color": "#000004",
          "symbol": "circle"
         },
         "mode": "markers",
         "name": "Malta",
         "showlegend": true,
         "type": "scattergeo"
        },
        {
         "geo": "geo",
         "hovertemplate": "<b>%{hovertext}</b><br><br>country=Marshall Islands<br>cap_lat=%{lat}<br>cap_lon=%{lon}<extra></extra>",
         "hovertext": [
          "BLONDE16"
         ],
         "lat": [
          7.1
         ],
         "legendgroup": "Marshall Islands",
         "lon": [
          171.383333
         ],
         "marker": {
          "color": "#000005",
          "symbol": "circle"
         },
         "mode": "markers",
         "name": "Marshall Islands",
         "showlegend": true,
         "type": "scattergeo"
        },
        {
         "geo": "geo",
         "hovertemplate": "<b>%{hovertext}</b><br><br>country=Mauritania<br>cap_lat=%{lat}<br>cap_lon=%{lon}<extra></extra>",
         "hovertext": [
          "Harry's House"
         ],
         "lat": [
          18.0666666666666
         ],
         "legendgroup": "Mauritania",
         "lon": [
          -15.966667
         ],
         "marker": {
          "color": "#000006",
          "symbol": "circle"
         },
         "mode": "markers",
         "name": "Mauritania",
         "showlegend": true,
         "type": "scattergeo"
        },
        {
         "geo": "geo",
         "hovertemplate": "<b>%{hovertext}</b><br><br>country=Mauritius<br>cap_lat=%{lat}<br>cap_lon=%{lon}<extra></extra>",
         "hovertext": [
          "Harry's House"
         ],
         "lat": [
          -20.15
         ],
         "legendgroup": "Mauritius",
         "lon": [
          57.483333
         ],
         "marker": {
          "color": "#000007",
          "symbol": "circle"
         },
         "mode": "markers",
         "name": "Mauritius",
         "showlegend": true,
         "type": "scattergeo"
        },
        {
         "geo": "geo",
         "hovertemplate": "<b>%{hovertext}</b><br><br>country=Mexico<br>cap_lat=%{lat}<br>cap_lon=%{lon}<extra></extra>",
         "hovertext": [
          "Colmillo De Leche"
         ],
         "lat": [
          19.4333333333333
         ],
         "legendgroup": "Mexico",
         "lon": [
          -99.133333
         ],
         "marker": {
          "color": "#000008",
          "symbol": "circle"
         },
         "mode": "markers",
         "name": "Mexico",
         "showlegend": true,
         "type": "scattergeo"
        },
        {
         "geo": "geo",
         "hovertemplate": "<b>%{hovertext}</b><br><br>country=Federated States of Micronesia<br>cap_lat=%{lat}<br>cap_lon=%{lon}<extra></extra>",
         "hovertext": [
          "Harry's House"
         ],
         "lat": [
          6.91666666666666
         ],
         "legendgroup": "Federated States of Micronesia",
         "lon": [
          158.15
         ],
         "marker": {
          "color": "#000009",
          "symbol": "circle"
         },
         "mode": "markers",
         "name": "Federated States of Micronesia",
         "showlegend": true,
         "type": "scattergeo"
        },
        {
         "geo": "geo",
         "hovertemplate": "<b>%{hovertext}</b><br><br>country=Moldova<br>cap_lat=%{lat}<br>cap_lon=%{lon}<extra></extra>",
         "hovertext": [
          "Eternal Blue"
         ],
         "lat": [
          47
         ],
         "legendgroup": "Moldova",
         "lon": [
          28.85
         ],
         "marker": {
          "color": "#000010",
          "symbol": "circle"
         },
         "mode": "markers",
         "name": "Moldova",
         "showlegend": true,
         "type": "scattergeo"
        },
        {
         "geo": "geo",
         "hovertemplate": "<b>%{hovertext}</b><br><br>country=Monaco<br>cap_lat=%{lat}<br>cap_lon=%{lon}<extra></extra>",
         "hovertext": [
          "PARANOÏA, ANGELS, TRUE LOVE"
         ],
         "lat": [
          43.7333333333333
         ],
         "legendgroup": "Monaco",
         "lon": [
          7.416667
         ],
         "marker": {
          "color": "#000001",
          "symbol": "circle"
         },
         "mode": "markers",
         "name": "Monaco",
         "showlegend": true,
         "type": "scattergeo"
        },
        {
         "geo": "geo",
         "hovertemplate": "<b>%{hovertext}</b><br><br>country=Mongolia<br>cap_lat=%{lat}<br>cap_lon=%{lon}<extra></extra>",
         "hovertext": [
          "6TH MINI ALBUM [Goosebumps]"
         ],
         "lat": [
          47.9166666666666
         ],
         "legendgroup": "Mongolia",
         "lon": [
          106.916667
         ],
         "marker": {
          "color": "#000002",
          "symbol": "circle"
         },
         "mode": "markers",
         "name": "Mongolia",
         "showlegend": true,
         "type": "scattergeo"
        },
        {
         "geo": "geo",
         "hovertemplate": "<b>%{hovertext}</b><br><br>country=Montenegro<br>cap_lat=%{lat}<br>cap_lon=%{lon}<extra></extra>",
         "hovertext": [
          "Harry's House"
         ],
         "lat": [
          42.4333333333333
         ],
         "legendgroup": "Montenegro",
         "lon": [
          19.266667
         ],
         "marker": {
          "color": "#000003",
          "symbol": "circle"
         },
         "mode": "markers",
         "name": "Montenegro",
         "showlegend": true,
         "type": "scattergeo"
        },
        {
         "geo": "geo",
         "hovertemplate": "<b>%{hovertext}</b><br><br>country=Morocco<br>cap_lat=%{lat}<br>cap_lon=%{lon}<extra></extra>",
         "hovertext": [
          "YA LE3DOUWA"
         ],
         "lat": [
          34.0166666666666
         ],
         "legendgroup": "Morocco",
         "lon": [
          -6.816667
         ],
         "marker": {
          "color": "#000004",
          "symbol": "circle"
         },
         "mode": "markers",
         "name": "Morocco",
         "showlegend": true,
         "type": "scattergeo"
        },
        {
         "geo": "geo",
         "hovertemplate": "<b>%{hovertext}</b><br><br>country=Mozambique<br>cap_lat=%{lat}<br>cap_lon=%{lon}<extra></extra>",
         "hovertext": [
          "Journey To Infinity"
         ],
         "lat": [
          -25.95
         ],
         "legendgroup": "Mozambique",
         "lon": [
          32.583333
         ],
         "marker": {
          "color": "#000005",
          "symbol": "circle"
         },
         "mode": "markers",
         "name": "Mozambique",
         "showlegend": true,
         "type": "scattergeo"
        },
        {
         "geo": "geo",
         "hovertemplate": "<b>%{hovertext}</b><br><br>country=Namibia<br>cap_lat=%{lat}<br>cap_lon=%{lon}<extra></extra>",
         "hovertext": [
          "Journey To Infinity"
         ],
         "lat": [
          -22.5666666666666
         ],
         "legendgroup": "Namibia",
         "lon": [
          17.083333
         ],
         "marker": {
          "color": "#000006",
          "symbol": "circle"
         },
         "mode": "markers",
         "name": "Namibia",
         "showlegend": true,
         "type": "scattergeo"
        },
        {
         "geo": "geo",
         "hovertemplate": "<b>%{hovertext}</b><br><br>country=Nepal<br>cap_lat=%{lat}<br>cap_lon=%{lon}<extra></extra>",
         "hovertext": [
          "6TH MINI ALBUM [Goosebumps]"
         ],
         "lat": [
          27.7166666666666
         ],
         "legendgroup": "Nepal",
         "lon": [
          85.316667
         ],
         "marker": {
          "color": "#000007",
          "symbol": "circle"
         },
         "mode": "markers",
         "name": "Nepal",
         "showlegend": true,
         "type": "scattergeo"
        },
        {
         "geo": "geo",
         "hovertemplate": "<b>%{hovertext}</b><br><br>country=Netherlands<br>cap_lat=%{lat}<br>cap_lon=%{lon}<extra></extra>",
         "hovertext": [
          "LAYALI"
         ],
         "lat": [
          52.35
         ],
         "legendgroup": "Netherlands",
         "lon": [
          4.916667
         ],
         "marker": {
          "color": "#000008",
          "symbol": "circle"
         },
         "mode": "markers",
         "name": "Netherlands",
         "showlegend": true,
         "type": "scattergeo"
        },
        {
         "geo": "geo",
         "hovertemplate": "<b>%{hovertext}</b><br><br>country=New Zealand<br>cap_lat=%{lat}<br>cap_lon=%{lon}<extra></extra>",
         "hovertext": [
          "Split Decision"
         ],
         "lat": [
          -41.3
         ],
         "legendgroup": "New Zealand",
         "lon": [
          174.783333
         ],
         "marker": {
          "color": "#000009",
          "symbol": "circle"
         },
         "mode": "markers",
         "name": "New Zealand",
         "showlegend": true,
         "type": "scattergeo"
        },
        {
         "geo": "geo",
         "hovertemplate": "<b>%{hovertext}</b><br><br>country=Nicaragua<br>cap_lat=%{lat}<br>cap_lon=%{lon}<extra></extra>",
         "hovertext": [
          "Indigo"
         ],
         "lat": [
          12.1333333333333
         ],
         "legendgroup": "Nicaragua",
         "lon": [
          -86.25
         ],
         "marker": {
          "color": "#000010",
          "symbol": "circle"
         },
         "mode": "markers",
         "name": "Nicaragua",
         "showlegend": true,
         "type": "scattergeo"
        },
        {
         "geo": "geo",
         "hovertemplate": "<b>%{hovertext}</b><br><br>country=Niger<br>cap_lat=%{lat}<br>cap_lon=%{lon}<extra></extra>",
         "hovertext": [
          "Harry's House"
         ],
         "lat": [
          13.5166666666666
         ],
         "legendgroup": "Niger",
         "lon": [
          2.116667
         ],
         "marker": {
          "color": "#000001",
          "symbol": "circle"
         },
         "mode": "markers",
         "name": "Niger",
         "showlegend": true,
         "type": "scattergeo"
        },
        {
         "geo": "geo",
         "hovertemplate": "<b>%{hovertext}</b><br><br>country=Nigeria<br>cap_lat=%{lat}<br>cap_lon=%{lon}<extra></extra>",
         "hovertext": [
          "Kenkele"
         ],
         "lat": [
          9.08333333333333
         ],
         "legendgroup": "Nigeria",
         "lon": [
          7.533333
         ],
         "marker": {
          "color": "#000002",
          "symbol": "circle"
         },
         "mode": "markers",
         "name": "Nigeria",
         "showlegend": true,
         "type": "scattergeo"
        },
        {
         "geo": "geo",
         "hovertemplate": "<b>%{hovertext}</b><br><br>country=Norway<br>cap_lat=%{lat}<br>cap_lon=%{lon}<extra></extra>",
         "hovertext": [
          "My 21st Century Blues"
         ],
         "lat": [
          59.9166666666666
         ],
         "legendgroup": "Norway",
         "lon": [
          10.75
         ],
         "marker": {
          "color": "#000003",
          "symbol": "circle"
         },
         "mode": "markers",
         "name": "Norway",
         "showlegend": true,
         "type": "scattergeo"
        },
        {
         "geo": "geo",
         "hovertemplate": "<b>%{hovertext}</b><br><br>country=Oman<br>cap_lat=%{lat}<br>cap_lon=%{lon}<extra></extra>",
         "hovertext": [
          "Sprinter"
         ],
         "lat": [
          23.6166666666666
         ],
         "legendgroup": "Oman",
         "lon": [
          58.583333
         ],
         "marker": {
          "color": "#000004",
          "symbol": "circle"
         },
         "mode": "markers",
         "name": "Oman",
         "showlegend": true,
         "type": "scattergeo"
        },
        {
         "geo": "geo",
         "hovertemplate": "<b>%{hovertext}</b><br><br>country=Pakistan<br>cap_lat=%{lat}<br>cap_lon=%{lon}<extra></extra>",
         "hovertext": [
          "Mehram"
         ],
         "lat": [
          33.6833333333333
         ],
         "legendgroup": "Pakistan",
         "lon": [
          73.05
         ],
         "marker": {
          "color": "#000005",
          "symbol": "circle"
         },
         "mode": "markers",
         "name": "Pakistan",
         "showlegend": true,
         "type": "scattergeo"
        },
        {
         "geo": "geo",
         "hovertemplate": "<b>%{hovertext}</b><br><br>country=Palau<br>cap_lat=%{lat}<br>cap_lon=%{lon}<extra></extra>",
         "hovertext": [
          "Harry's House"
         ],
         "lat": [
          7.48333333333333
         ],
         "legendgroup": "Palau",
         "lon": [
          134.633333
         ],
         "marker": {
          "color": "#000006",
          "symbol": "circle"
         },
         "mode": "markers",
         "name": "Palau",
         "showlegend": true,
         "type": "scattergeo"
        },
        {
         "geo": "geo",
         "hovertemplate": "<b>%{hovertext}</b><br><br>country=Panama<br>cap_lat=%{lat}<br>cap_lon=%{lon}<extra></extra>",
         "hovertext": [
          "Indigo"
         ],
         "lat": [
          8.96666666666666
         ],
         "legendgroup": "Panama",
         "lon": [
          -79.533333
         ],
         "marker": {
          "color": "#000007",
          "symbol": "circle"
         },
         "mode": "markers",
         "name": "Panama",
         "showlegend": true,
         "type": "scattergeo"
        },
        {
         "geo": "geo",
         "hovertemplate": "<b>%{hovertext}</b><br><br>country=Papua New Guinea<br>cap_lat=%{lat}<br>cap_lon=%{lon}<extra></extra>",
         "hovertext": [
          "Harry's House"
         ],
         "lat": [
          -9.45
         ],
         "legendgroup": "Papua New Guinea",
         "lon": [
          147.183333
         ],
         "marker": {
          "color": "#000008",
          "symbol": "circle"
         },
         "mode": "markers",
         "name": "Papua New Guinea",
         "showlegend": true,
         "type": "scattergeo"
        },
        {
         "geo": "geo",
         "hovertemplate": "<b>%{hovertext}</b><br><br>country=Paraguay<br>cap_lat=%{lat}<br>cap_lon=%{lon}<extra></extra>",
         "hovertext": [
          "Peso Pluma: Bzrp Music Sessions, Vol. 55"
         ],
         "lat": [
          -25.2666666666666
         ],
         "legendgroup": "Paraguay",
         "lon": [
          -57.666667
         ],
         "marker": {
          "color": "#000009",
          "symbol": "circle"
         },
         "mode": "markers",
         "name": "Paraguay",
         "showlegend": true,
         "type": "scattergeo"
        },
        {
         "geo": "geo",
         "hovertemplate": "<b>%{hovertext}</b><br><br>country=Peru<br>cap_lat=%{lat}<br>cap_lon=%{lon}<extra></extra>",
         "hovertext": [
          "Despídeme De Todxs"
         ],
         "lat": [
          -12.05
         ],
         "legendgroup": "Peru",
         "lon": [
          -77.05
         ],
         "marker": {
          "color": "#000010",
          "symbol": "circle"
         },
         "mode": "markers",
         "name": "Peru",
         "showlegend": true,
         "type": "scattergeo"
        },
        {
         "geo": "geo",
         "hovertemplate": "<b>%{hovertext}</b><br><br>country=Philippines<br>cap_lat=%{lat}<br>cap_lon=%{lon}<extra></extra>",
         "hovertext": [
          "Pretend"
         ],
         "lat": [
          14.6
         ],
         "legendgroup": "Philippines",
         "lon": [
          120.966667
         ],
         "marker": {
          "color": "#000001",
          "symbol": "circle"
         },
         "mode": "markers",
         "name": "Philippines",
         "showlegend": true,
         "type": "scattergeo"
        },
        {
         "geo": "geo",
         "hovertemplate": "<b>%{hovertext}</b><br><br>country=Poland<br>cap_lat=%{lat}<br>cap_lon=%{lon}<extra></extra>",
         "hovertext": [
          "KOMBINATORYKA"
         ],
         "lat": [
          52.25
         ],
         "legendgroup": "Poland",
         "lon": [
          21
         ],
         "marker": {
          "color": "#000002",
          "symbol": "circle"
         },
         "mode": "markers",
         "name": "Poland",
         "showlegend": true,
         "type": "scattergeo"
        },
        {
         "geo": "geo",
         "hovertemplate": "<b>%{hovertext}</b><br><br>country=Portugal<br>cap_lat=%{lat}<br>cap_lon=%{lon}<extra></extra>",
         "hovertext": [
          "MDID"
         ],
         "lat": [
          38.7166666666666
         ],
         "legendgroup": "Portugal",
         "lon": [
          -9.133333
         ],
         "marker": {
          "color": "#000003",
          "symbol": "circle"
         },
         "mode": "markers",
         "name": "Portugal",
         "showlegend": true,
         "type": "scattergeo"
        },
        {
         "geo": "geo",
         "hovertemplate": "<b>%{hovertext}</b><br><br>country=Qatar<br>cap_lat=%{lat}<br>cap_lon=%{lon}<extra></extra>",
         "hovertext": [
          "Sprinter"
         ],
         "lat": [
          25.2833333333333
         ],
         "legendgroup": "Qatar",
         "lon": [
          51.533333
         ],
         "marker": {
          "color": "#000004",
          "symbol": "circle"
         },
         "mode": "markers",
         "name": "Qatar",
         "showlegend": true,
         "type": "scattergeo"
        },
        {
         "geo": "geo",
         "hovertemplate": "<b>%{hovertext}</b><br><br>country=Romania<br>cap_lat=%{lat}<br>cap_lon=%{lon}<extra></extra>",
         "hovertext": [
          "PARTYPACKZ+"
         ],
         "lat": [
          44.4333333333333
         ],
         "legendgroup": "Romania",
         "lon": [
          26.1
         ],
         "marker": {
          "color": "#000005",
          "symbol": "circle"
         },
         "mode": "markers",
         "name": "Romania",
         "showlegend": true,
         "type": "scattergeo"
        },
        {
         "geo": "geo",
         "hovertemplate": "<b>%{hovertext}</b><br><br>country=Rwanda<br>cap_lat=%{lat}<br>cap_lon=%{lon}<extra></extra>",
         "hovertext": [
          "Mmhh Mmhh"
         ],
         "lat": [
          -1.95
         ],
         "legendgroup": "Rwanda",
         "lon": [
          30.05
         ],
         "marker": {
          "color": "#000006",
          "symbol": "circle"
         },
         "mode": "markers",
         "name": "Rwanda",
         "showlegend": true,
         "type": "scattergeo"
        },
        {
         "geo": "geo",
         "hovertemplate": "<b>%{hovertext}</b><br><br>country=Saint Kitts and Nevis<br>cap_lat=%{lat}<br>cap_lon=%{lon}<extra></extra>",
         "hovertext": [
          "Harry's House"
         ],
         "lat": [
          17.3
         ],
         "legendgroup": "Saint Kitts and Nevis",
         "lon": [
          -62.716667
         ],
         "marker": {
          "color": "#000007",
          "symbol": "circle"
         },
         "mode": "markers",
         "name": "Saint Kitts and Nevis",
         "showlegend": true,
         "type": "scattergeo"
        },
        {
         "geo": "geo",
         "hovertemplate": "<b>%{hovertext}</b><br><br>country=Saint Lucia<br>cap_lat=%{lat}<br>cap_lon=%{lon}<extra></extra>",
         "hovertext": [
          "Harry's House"
         ],
         "lat": [
          14
         ],
         "legendgroup": "Saint Lucia",
         "lon": [
          -61
         ],
         "marker": {
          "color": "#000008",
          "symbol": "circle"
         },
         "mode": "markers",
         "name": "Saint Lucia",
         "showlegend": true,
         "type": "scattergeo"
        },
        {
         "geo": "geo",
         "hovertemplate": "<b>%{hovertext}</b><br><br>country=Saint Vincent and the Grenadines<br>cap_lat=%{lat}<br>cap_lon=%{lon}<extra></extra>",
         "hovertext": [
          "Harry's House"
         ],
         "lat": [
          13.1333333333333
         ],
         "legendgroup": "Saint Vincent and the Grenadines",
         "lon": [
          -61.216667
         ],
         "marker": {
          "color": "#000009",
          "symbol": "circle"
         },
         "mode": "markers",
         "name": "Saint Vincent and the Grenadines",
         "showlegend": true,
         "type": "scattergeo"
        },
        {
         "geo": "geo",
         "hovertemplate": "<b>%{hovertext}</b><br><br>country=Samoa<br>cap_lat=%{lat}<br>cap_lon=%{lon}<extra></extra>",
         "hovertext": [
          "BLONDE16"
         ],
         "lat": [
          -13.8166666666666
         ],
         "legendgroup": "Samoa",
         "lon": [
          -171.766667
         ],
         "marker": {
          "color": "#000010",
          "symbol": "circle"
         },
         "mode": "markers",
         "name": "Samoa",
         "showlegend": true,
         "type": "scattergeo"
        },
        {
         "geo": "geo",
         "hovertemplate": "<b>%{hovertext}</b><br><br>country=San Marino<br>cap_lat=%{lat}<br>cap_lon=%{lon}<extra></extra>",
         "hovertext": [
          "Karma Clima"
         ],
         "lat": [
          43.9333333333333
         ],
         "legendgroup": "San Marino",
         "lon": [
          12.416667
         ],
         "marker": {
          "color": "#000001",
          "symbol": "circle"
         },
         "mode": "markers",
         "name": "San Marino",
         "showlegend": true,
         "type": "scattergeo"
        },
        {
         "geo": "geo",
         "hovertemplate": "<b>%{hovertext}</b><br><br>country=Sao Tome and Principe<br>cap_lat=%{lat}<br>cap_lon=%{lon}<extra></extra>",
         "hovertext": [
          "Harry's House"
         ],
         "lat": [
          0.333333333333333
         ],
         "legendgroup": "Sao Tome and Principe",
         "lon": [
          6.733333
         ],
         "marker": {
          "color": "#000002",
          "symbol": "circle"
         },
         "mode": "markers",
         "name": "Sao Tome and Principe",
         "showlegend": true,
         "type": "scattergeo"
        },
        {
         "geo": "geo",
         "hovertemplate": "<b>%{hovertext}</b><br><br>country=Saudi Arabia<br>cap_lat=%{lat}<br>cap_lon=%{lon}<extra></extra>",
         "hovertext": [
          "Sprinter"
         ],
         "lat": [
          24.65
         ],
         "legendgroup": "Saudi Arabia",
         "lon": [
          46.7
         ],
         "marker": {
          "color": "#000003",
          "symbol": "circle"
         },
         "mode": "markers",
         "name": "Saudi Arabia",
         "showlegend": true,
         "type": "scattergeo"
        },
        {
         "geo": "geo",
         "hovertemplate": "<b>%{hovertext}</b><br><br>country=Senegal<br>cap_lat=%{lat}<br>cap_lon=%{lon}<extra></extra>",
         "hovertext": [
          "Harry's House"
         ],
         "lat": [
          14.7333333333333
         ],
         "legendgroup": "Senegal",
         "lon": [
          -17.633333
         ],
         "marker": {
          "color": "#000004",
          "symbol": "circle"
         },
         "mode": "markers",
         "name": "Senegal",
         "showlegend": true,
         "type": "scattergeo"
        },
        {
         "geo": "geo",
         "hovertemplate": "<b>%{hovertext}</b><br><br>country=Serbia<br>cap_lat=%{lat}<br>cap_lon=%{lon}<extra></extra>",
         "hovertext": [
          "Harry's House"
         ],
         "lat": [
          44.8333333333333
         ],
         "legendgroup": "Serbia",
         "lon": [
          20.5
         ],
         "marker": {
          "color": "#000005",
          "symbol": "circle"
         },
         "mode": "markers",
         "name": "Serbia",
         "showlegend": true,
         "type": "scattergeo"
        },
        {
         "geo": "geo",
         "hovertemplate": "<b>%{hovertext}</b><br><br>country=Seychelles<br>cap_lat=%{lat}<br>cap_lon=%{lon}<extra></extra>",
         "hovertext": [
          "Harry's House"
         ],
         "lat": [
          -4.61666666666666
         ],
         "legendgroup": "Seychelles",
         "lon": [
          55.45
         ],
         "marker": {
          "color": "#000006",
          "symbol": "circle"
         },
         "mode": "markers",
         "name": "Seychelles",
         "showlegend": true,
         "type": "scattergeo"
        },
        {
         "geo": "geo",
         "hovertemplate": "<b>%{hovertext}</b><br><br>country=Sierra Leone<br>cap_lat=%{lat}<br>cap_lon=%{lon}<extra></extra>",
         "hovertext": [
          "Harry's House"
         ],
         "lat": [
          8.48333333333333
         ],
         "legendgroup": "Sierra Leone",
         "lon": [
          -13.233333
         ],
         "marker": {
          "color": "#000007",
          "symbol": "circle"
         },
         "mode": "markers",
         "name": "Sierra Leone",
         "showlegend": true,
         "type": "scattergeo"
        },
        {
         "geo": "geo",
         "hovertemplate": "<b>%{hovertext}</b><br><br>country=Singapore<br>cap_lat=%{lat}<br>cap_lon=%{lon}<extra></extra>",
         "hovertext": [
          "sharp knife"
         ],
         "lat": [
          1.28333333333333
         ],
         "legendgroup": "Singapore",
         "lon": [
          103.85
         ],
         "marker": {
          "color": "#000008",
          "symbol": "circle"
         },
         "mode": "markers",
         "name": "Singapore",
         "showlegend": true,
         "type": "scattergeo"
        },
        {
         "geo": "geo",
         "hovertemplate": "<b>%{hovertext}</b><br><br>country=Slovakia<br>cap_lat=%{lat}<br>cap_lon=%{lon}<extra></extra>",
         "hovertext": [
          "S láskou, Lukáš."
         ],
         "lat": [
          48.15
         ],
         "legendgroup": "Slovakia",
         "lon": [
          17.116667
         ],
         "marker": {
          "color": "#000009",
          "symbol": "circle"
         },
         "mode": "markers",
         "name": "Slovakia",
         "showlegend": true,
         "type": "scattergeo"
        },
        {
         "geo": "geo",
         "hovertemplate": "<b>%{hovertext}</b><br><br>country=Slovenia<br>cap_lat=%{lat}<br>cap_lon=%{lon}<extra></extra>",
         "hovertext": [
          "Indigo"
         ],
         "lat": [
          46.05
         ],
         "legendgroup": "Slovenia",
         "lon": [
          14.516667
         ],
         "marker": {
          "color": "#000010",
          "symbol": "circle"
         },
         "mode": "markers",
         "name": "Slovenia",
         "showlegend": true,
         "type": "scattergeo"
        },
        {
         "geo": "geo",
         "hovertemplate": "<b>%{hovertext}</b><br><br>country=Solomon Islands<br>cap_lat=%{lat}<br>cap_lon=%{lon}<extra></extra>",
         "hovertext": [
          "Harry's House"
         ],
         "lat": [
          -9.43333333333333
         ],
         "legendgroup": "Solomon Islands",
         "lon": [
          159.95
         ],
         "marker": {
          "color": "#000001",
          "symbol": "circle"
         },
         "mode": "markers",
         "name": "Solomon Islands",
         "showlegend": true,
         "type": "scattergeo"
        },
        {
         "geo": "geo",
         "hovertemplate": "<b>%{hovertext}</b><br><br>country=South Africa<br>cap_lat=%{lat}<br>cap_lon=%{lon}<extra></extra>",
         "hovertext": [
          "CLEAR 2: SOFT LIFE EP"
         ],
         "lat": [
          -25.7
         ],
         "legendgroup": "South Africa",
         "lon": [
          28.216667
         ],
         "marker": {
          "color": "#000002",
          "symbol": "circle"
         },
         "mode": "markers",
         "name": "South Africa",
         "showlegend": true,
         "type": "scattergeo"
        },
        {
         "geo": "geo",
         "hovertemplate": "<b>%{hovertext}</b><br><br>country=Spain<br>cap_lat=%{lat}<br>cap_lon=%{lon}<extra></extra>",
         "hovertext": [
          "MAÑANA SERÁ BONITO"
         ],
         "lat": [
          40.4
         ],
         "legendgroup": "Spain",
         "lon": [
          -3.683333
         ],
         "marker": {
          "color": "#000003",
          "symbol": "circle"
         },
         "mode": "markers",
         "name": "Spain",
         "showlegend": true,
         "type": "scattergeo"
        },
        {
         "geo": "geo",
         "hovertemplate": "<b>%{hovertext}</b><br><br>country=Sri Lanka<br>cap_lat=%{lat}<br>cap_lon=%{lon}<extra></extra>",
         "hovertext": [
          "Rider Fighter"
         ],
         "lat": [
          6.91666666666666
         ],
         "legendgroup": "Sri Lanka",
         "lon": [
          79.833333
         ],
         "marker": {
          "color": "#000004",
          "symbol": "circle"
         },
         "mode": "markers",
         "name": "Sri Lanka",
         "showlegend": true,
         "type": "scattergeo"
        },
        {
         "geo": "geo",
         "hovertemplate": "<b>%{hovertext}</b><br><br>country=Suriname<br>cap_lat=%{lat}<br>cap_lon=%{lon}<extra></extra>",
         "hovertext": [
          "Indigo"
         ],
         "lat": [
          5.83333333333333
         ],
         "legendgroup": "Suriname",
         "lon": [
          -55.166667
         ],
         "marker": {
          "color": "#000005",
          "symbol": "circle"
         },
         "mode": "markers",
         "name": "Suriname",
         "showlegend": true,
         "type": "scattergeo"
        },
        {
         "geo": "geo",
         "hovertemplate": "<b>%{hovertext}</b><br><br>country=Swaziland<br>cap_lat=%{lat}<br>cap_lon=%{lon}<extra></extra>",
         "hovertext": [
          "Journey To Infinity"
         ],
         "lat": [
          -26.3166666666666
         ],
         "legendgroup": "Swaziland",
         "lon": [
          31.133333
         ],
         "marker": {
          "color": "#000006",
          "symbol": "circle"
         },
         "mode": "markers",
         "name": "Swaziland",
         "showlegend": true,
         "type": "scattergeo"
        },
        {
         "geo": "geo",
         "hovertemplate": "<b>%{hovertext}</b><br><br>country=Sweden<br>cap_lat=%{lat}<br>cap_lon=%{lon}<extra></extra>",
         "hovertext": [
          "Who Told You (feat. Drake)"
         ],
         "lat": [
          59.3333333333333
         ],
         "legendgroup": "Sweden",
         "lon": [
          18.05
         ],
         "marker": {
          "color": "#000007",
          "symbol": "circle"
         },
         "mode": "markers",
         "name": "Sweden",
         "showlegend": true,
         "type": "scattergeo"
        },
        {
         "geo": "geo",
         "hovertemplate": "<b>%{hovertext}</b><br><br>country=Switzerland<br>cap_lat=%{lat}<br>cap_lon=%{lon}<extra></extra>",
         "hovertext": [
          "Gartenstadt"
         ],
         "lat": [
          46.9166666666666
         ],
         "legendgroup": "Switzerland",
         "lon": [
          7.466667
         ],
         "marker": {
          "color": "#000008",
          "symbol": "circle"
         },
         "mode": "markers",
         "name": "Switzerland",
         "showlegend": true,
         "type": "scattergeo"
        },
        {
         "geo": "geo",
         "hovertemplate": "<b>%{hovertext}</b><br><br>country=Taiwan<br>cap_lat=%{lat}<br>cap_lon=%{lon}<extra></extra>",
         "hovertext": [
          "On My Way《地獄里長》主題曲"
         ],
         "lat": [
          25.0333333333333
         ],
         "legendgroup": "Taiwan",
         "lon": [
          121.516667
         ],
         "marker": {
          "color": "#000009",
          "symbol": "circle"
         },
         "mode": "markers",
         "name": "Taiwan",
         "showlegend": true,
         "type": "scattergeo"
        },
        {
         "geo": "geo",
         "hovertemplate": "<b>%{hovertext}</b><br><br>country=Tajikistan<br>cap_lat=%{lat}<br>cap_lon=%{lon}<extra></extra>",
         "hovertext": [
          "Wet Leg"
         ],
         "lat": [
          38.55
         ],
         "legendgroup": "Tajikistan",
         "lon": [
          68.766667
         ],
         "marker": {
          "color": "#000010",
          "symbol": "circle"
         },
         "mode": "markers",
         "name": "Tajikistan",
         "showlegend": true,
         "type": "scattergeo"
        },
        {
         "geo": "geo",
         "hovertemplate": "<b>%{hovertext}</b><br><br>country=Tanzania<br>cap_lat=%{lat}<br>cap_lon=%{lon}<extra></extra>",
         "hovertext": [
          "Fikiria"
         ],
         "lat": [
          -6.8
         ],
         "legendgroup": "Tanzania",
         "lon": [
          39.283333
         ],
         "marker": {
          "color": "#000001",
          "symbol": "circle"
         },
         "mode": "markers",
         "name": "Tanzania",
         "showlegend": true,
         "type": "scattergeo"
        },
        {
         "geo": "geo",
         "hovertemplate": "<b>%{hovertext}</b><br><br>country=Thailand<br>cap_lat=%{lat}<br>cap_lon=%{lon}<extra></extra>",
         "hovertext": [
          "Pretend"
         ],
         "lat": [
          13.75
         ],
         "legendgroup": "Thailand",
         "lon": [
          100.516667
         ],
         "marker": {
          "color": "#000002",
          "symbol": "circle"
         },
         "mode": "markers",
         "name": "Thailand",
         "showlegend": true,
         "type": "scattergeo"
        },
        {
         "geo": "geo",
         "hovertemplate": "<b>%{hovertext}</b><br><br>country=Timor-Leste<br>cap_lat=%{lat}<br>cap_lon=%{lon}<extra></extra>",
         "hovertext": [
          "Harry's House"
         ],
         "lat": [
          -8.58333333333333
         ],
         "legendgroup": "Timor-Leste",
         "lon": [
          125.6
         ],
         "marker": {
          "color": "#000003",
          "symbol": "circle"
         },
         "mode": "markers",
         "name": "Timor-Leste",
         "showlegend": true,
         "type": "scattergeo"
        },
        {
         "geo": "geo",
         "hovertemplate": "<b>%{hovertext}</b><br><br>country=Togo<br>cap_lat=%{lat}<br>cap_lon=%{lon}<extra></extra>",
         "hovertext": [
          "Harry's House"
         ],
         "lat": [
          6.11666666666666
         ],
         "legendgroup": "Togo",
         "lon": [
          1.216667
         ],
         "marker": {
          "color": "#000004",
          "symbol": "circle"
         },
         "mode": "markers",
         "name": "Togo",
         "showlegend": true,
         "type": "scattergeo"
        },
        {
         "geo": "geo",
         "hovertemplate": "<b>%{hovertext}</b><br><br>country=Tonga<br>cap_lat=%{lat}<br>cap_lon=%{lon}<extra></extra>",
         "hovertext": [
          "BLONDE16"
         ],
         "lat": [
          -21.1333333333333
         ],
         "legendgroup": "Tonga",
         "lon": [
          -175.2
         ],
         "marker": {
          "color": "#000005",
          "symbol": "circle"
         },
         "mode": "markers",
         "name": "Tonga",
         "showlegend": true,
         "type": "scattergeo"
        },
        {
         "geo": "geo",
         "hovertemplate": "<b>%{hovertext}</b><br><br>country=Trinidad and Tobago<br>cap_lat=%{lat}<br>cap_lon=%{lon}<extra></extra>",
         "hovertext": [
          "Harry's House"
         ],
         "lat": [
          10.65
         ],
         "legendgroup": "Trinidad and Tobago",
         "lon": [
          -61.516667
         ],
         "marker": {
          "color": "#000006",
          "symbol": "circle"
         },
         "mode": "markers",
         "name": "Trinidad and Tobago",
         "showlegend": true,
         "type": "scattergeo"
        },
        {
         "geo": "geo",
         "hovertemplate": "<b>%{hovertext}</b><br><br>country=Tunisia<br>cap_lat=%{lat}<br>cap_lon=%{lon}<extra></extra>",
         "hovertext": [
          "YA LE3DOUWA"
         ],
         "lat": [
          36.8
         ],
         "legendgroup": "Tunisia",
         "lon": [
          10.183333
         ],
         "marker": {
          "color": "#000007",
          "symbol": "circle"
         },
         "mode": "markers",
         "name": "Tunisia",
         "showlegend": true,
         "type": "scattergeo"
        },
        {
         "geo": "geo",
         "hovertemplate": "<b>%{hovertext}</b><br><br>country=Turkey<br>cap_lat=%{lat}<br>cap_lon=%{lon}<extra></extra>",
         "hovertext": [
          "Parti İptal"
         ],
         "lat": [
          39.9333333333333
         ],
         "legendgroup": "Turkey",
         "lon": [
          32.866667
         ],
         "marker": {
          "color": "#000008",
          "symbol": "circle"
         },
         "mode": "markers",
         "name": "Turkey",
         "showlegend": true,
         "type": "scattergeo"
        },
        {
         "geo": "geo",
         "hovertemplate": "<b>%{hovertext}</b><br><br>country=Tuvalu<br>cap_lat=%{lat}<br>cap_lon=%{lon}<extra></extra>",
         "hovertext": [
          "BLONDE16"
         ],
         "lat": [
          -8.51666666666666
         ],
         "legendgroup": "Tuvalu",
         "lon": [
          179.216667
         ],
         "marker": {
          "color": "#000009",
          "symbol": "circle"
         },
         "mode": "markers",
         "name": "Tuvalu",
         "showlegend": true,
         "type": "scattergeo"
        },
        {
         "geo": "geo",
         "hovertemplate": "<b>%{hovertext}</b><br><br>country=Uganda<br>cap_lat=%{lat}<br>cap_lon=%{lon}<extra></extra>",
         "hovertext": [
          "Guaranteed"
         ],
         "lat": [
          0.316666666666666
         ],
         "legendgroup": "Uganda",
         "lon": [
          32.55
         ],
         "marker": {
          "color": "#000010",
          "symbol": "circle"
         },
         "mode": "markers",
         "name": "Uganda",
         "showlegend": true,
         "type": "scattergeo"
        },
        {
         "geo": "geo",
         "hovertemplate": "<b>%{hovertext}</b><br><br>country=Ukraine<br>cap_lat=%{lat}<br>cap_lon=%{lon}<extra></extra>",
         "hovertext": [
          "DRIVE"
         ],
         "lat": [
          50.4333333333333
         ],
         "legendgroup": "Ukraine",
         "lon": [
          30.516667
         ],
         "marker": {
          "color": "#000001",
          "symbol": "circle"
         },
         "mode": "markers",
         "name": "Ukraine",
         "showlegend": true,
         "type": "scattergeo"
        },
        {
         "geo": "geo",
         "hovertemplate": "<b>%{hovertext}</b><br><br>country=United Arab Emirates<br>cap_lat=%{lat}<br>cap_lon=%{lon}<extra></extra>",
         "hovertext": [
          "Sprinter"
         ],
         "lat": [
          24.4666666666666
         ],
         "legendgroup": "United Arab Emirates",
         "lon": [
          54.366667
         ],
         "marker": {
          "color": "#000002",
          "symbol": "circle"
         },
         "mode": "markers",
         "name": "United Arab Emirates",
         "showlegend": true,
         "type": "scattergeo"
        },
        {
         "geo": "geo",
         "hovertemplate": "<b>%{hovertext}</b><br><br>country=United Kingdom<br>cap_lat=%{lat}<br>cap_lon=%{lon}<extra></extra>",
         "hovertext": [
          "The Age of Pleasure"
         ],
         "lat": [
          51.5
         ],
         "legendgroup": "United Kingdom",
         "lon": [
          -0.083333
         ],
         "marker": {
          "color": "#000003",
          "symbol": "circle"
         },
         "mode": "markers",
         "name": "United Kingdom",
         "showlegend": true,
         "type": "scattergeo"
        },
        {
         "geo": "geo",
         "hovertemplate": "<b>%{hovertext}</b><br><br>country=United States<br>cap_lat=%{lat}<br>cap_lon=%{lon}<extra></extra>",
         "hovertext": [
          "TUYA"
         ],
         "lat": [
          38.883333
         ],
         "legendgroup": "United States",
         "lon": [
          -77
         ],
         "marker": {
          "color": "#000004",
          "symbol": "circle"
         },
         "mode": "markers",
         "name": "United States",
         "showlegend": true,
         "type": "scattergeo"
        },
        {
         "geo": "geo",
         "hovertemplate": "<b>%{hovertext}</b><br><br>country=Uruguay<br>cap_lat=%{lat}<br>cap_lon=%{lon}<extra></extra>",
         "hovertext": [
          "Peso Pluma: Bzrp Music Sessions, Vol. 55"
         ],
         "lat": [
          -34.85
         ],
         "legendgroup": "Uruguay",
         "lon": [
          -56.166667
         ],
         "marker": {
          "color": "#000005",
          "symbol": "circle"
         },
         "mode": "markers",
         "name": "Uruguay",
         "showlegend": true,
         "type": "scattergeo"
        },
        {
         "geo": "geo",
         "hovertemplate": "<b>%{hovertext}</b><br><br>country=Uzbekistan<br>cap_lat=%{lat}<br>cap_lon=%{lon}<extra></extra>",
         "hovertext": [
          "Январь"
         ],
         "lat": [
          41.3166666666666
         ],
         "legendgroup": "Uzbekistan",
         "lon": [
          69.25
         ],
         "marker": {
          "color": "#000006",
          "symbol": "circle"
         },
         "mode": "markers",
         "name": "Uzbekistan",
         "showlegend": true,
         "type": "scattergeo"
        },
        {
         "geo": "geo",
         "hovertemplate": "<b>%{hovertext}</b><br><br>country=Vanuatu<br>cap_lat=%{lat}<br>cap_lon=%{lon}<extra></extra>",
         "hovertext": [
          "Harry's House"
         ],
         "lat": [
          -17.7333333333333
         ],
         "legendgroup": "Vanuatu",
         "lon": [
          168.316667
         ],
         "marker": {
          "color": "#000007",
          "symbol": "circle"
         },
         "mode": "markers",
         "name": "Vanuatu",
         "showlegend": true,
         "type": "scattergeo"
        },
        {
         "geo": "geo",
         "hovertemplate": "<b>%{hovertext}</b><br><br>country=Venezuela<br>cap_lat=%{lat}<br>cap_lon=%{lon}<extra></extra>",
         "hovertext": [
          "Despídeme De Todxs"
         ],
         "lat": [
          10.4833333333333
         ],
         "legendgroup": "Venezuela",
         "lon": [
          -66.866667
         ],
         "marker": {
          "color": "#000008",
          "symbol": "circle"
         },
         "mode": "markers",
         "name": "Venezuela",
         "showlegend": true,
         "type": "scattergeo"
        },
        {
         "geo": "geo",
         "hovertemplate": "<b>%{hovertext}</b><br><br>country=Vietnam<br>cap_lat=%{lat}<br>cap_lon=%{lon}<extra></extra>",
         "hovertext": [
          "Pretend"
         ],
         "lat": [
          21.0333333333333
         ],
         "legendgroup": "Vietnam",
         "lon": [
          105.85
         ],
         "marker": {
          "color": "#000009",
          "symbol": "circle"
         },
         "mode": "markers",
         "name": "Vietnam",
         "showlegend": true,
         "type": "scattergeo"
        },
        {
         "geo": "geo",
         "hovertemplate": "<b>%{hovertext}</b><br><br>country=Zambia<br>cap_lat=%{lat}<br>cap_lon=%{lon}<extra></extra>",
         "hovertext": [
          "Harry's House"
         ],
         "lat": [
          -15.4166666666666
         ],
         "legendgroup": "Zambia",
         "lon": [
          28.283333
         ],
         "marker": {
          "color": "#000010",
          "symbol": "circle"
         },
         "mode": "markers",
         "name": "Zambia",
         "showlegend": true,
         "type": "scattergeo"
        },
        {
         "geo": "geo",
         "hovertemplate": "<b>%{hovertext}</b><br><br>country=Zimbabwe<br>cap_lat=%{lat}<br>cap_lon=%{lon}<extra></extra>",
         "hovertext": [
          "Harry's House"
         ],
         "lat": [
          -17.8166666666666
         ],
         "legendgroup": "Zimbabwe",
         "lon": [
          31.033333
         ],
         "marker": {
          "color": "#000001",
          "symbol": "circle"
         },
         "mode": "markers",
         "name": "Zimbabwe",
         "showlegend": true,
         "type": "scattergeo"
        },
        {
         "geo": "geo",
         "hovertemplate": "<b>%{hovertext}</b><br><br>country=Hong Kong<br>cap_lat=%{lat}<br>cap_lon=%{lon}<extra></extra>",
         "hovertext": [
          "Pretend"
         ],
         "lat": [
          0
         ],
         "legendgroup": "Hong Kong",
         "lon": [
          0
         ],
         "marker": {
          "color": "#000002",
          "symbol": "circle"
         },
         "mode": "markers",
         "name": "Hong Kong",
         "showlegend": true,
         "type": "scattergeo"
        },
        {
         "geo": "geo",
         "hovertemplate": "<b>%{hovertext}</b><br><br>country=Macau<br>cap_lat=%{lat}<br>cap_lon=%{lon}<extra></extra>",
         "hovertext": [
          "6TH MINI ALBUM [Goosebumps]"
         ],
         "lat": [
          0
         ],
         "legendgroup": "Macau",
         "lon": [
          0
         ],
         "marker": {
          "color": "#000003",
          "symbol": "circle"
         },
         "mode": "markers",
         "name": "Macau",
         "showlegend": true,
         "type": "scattergeo"
        }
       ],
       "layout": {
        "font": {
         "color": "white"
        },
        "geo": {
         "bgcolor": "black",
         "center": {},
         "domain": {
          "x": [
           0,
           1
          ],
          "y": [
           0,
           1
          ]
         },
         "lakecolor": "white",
         "landcolor": "white",
         "oceancolor": "black",
         "showlakes": true,
         "showland": true,
         "showocean": true
        },
        "legend": {
         "title": {
          "text": "country"
         },
         "tracegroupgap": 0
        },
        "margin": {
         "t": 60
        },
        "template": {
         "data": {
          "candlestick": [
           {
            "decreasing": {
             "line": {
              "color": "#000033"
             }
            },
            "increasing": {
             "line": {
              "color": "#000032"
             }
            },
            "type": "candlestick"
           }
          ],
          "contour": [
           {
            "colorscale": [
             [
              0,
              "#000011"
             ],
             [
              0.1111111111111111,
              "#000012"
             ],
             [
              0.2222222222222222,
              "#000013"
             ],
             [
              0.3333333333333333,
              "#000014"
             ],
             [
              0.4444444444444444,
              "#000015"
             ],
             [
              0.5555555555555556,
              "#000016"
             ],
             [
              0.6666666666666666,
              "#000017"
             ],
             [
              0.7777777777777778,
              "#000018"
             ],
             [
              0.8888888888888888,
              "#000019"
             ],
             [
              1,
              "#000020"
             ]
            ],
            "type": "contour"
           }
          ],
          "contourcarpet": [
           {
            "colorscale": [
             [
              0,
              "#000011"
             ],
             [
              0.1111111111111111,
              "#000012"
             ],
             [
              0.2222222222222222,
              "#000013"
             ],
             [
              0.3333333333333333,
              "#000014"
             ],
             [
              0.4444444444444444,
              "#000015"
             ],
             [
              0.5555555555555556,
              "#000016"
             ],
             [
              0.6666666666666666,
              "#000017"
             ],
             [
              0.7777777777777778,
              "#000018"
             ],
             [
              0.8888888888888888,
              "#000019"
             ],
             [
              1,
              "#000020"
             ]
            ],
            "type": "contourcarpet"
           }
          ],
          "heatmap": [
           {
            "colorscale": [
             [
              0,
              "#000011"
             ],
             [
              0.1111111111111111,
              "#000012"
             ],
             [
              0.2222222222222222,
              "#000013"
             ],
             [
              0.3333333333333333,
              "#000014"
             ],
             [
              0.4444444444444444,
              "#000015"
             ],
             [
              0.5555555555555556,
              "#000016"
             ],
             [
              0.6666666666666666,
              "#000017"
             ],
             [
              0.7777777777777778,
              "#000018"
             ],
             [
              0.8888888888888888,
              "#000019"
             ],
             [
              1,
              "#000020"
             ]
            ],
            "type": "heatmap"
           }
          ],
          "histogram2d": [
           {
            "colorscale": [
             [
              0,
              "#000011"
             ],
             [
              0.1111111111111111,
              "#000012"
             ],
             [
              0.2222222222222222,
              "#000013"
             ],
             [
              0.3333333333333333,
              "#000014"
             ],
             [
              0.4444444444444444,
              "#000015"
             ],
             [
              0.5555555555555556,
              "#000016"
             ],
             [
              0.6666666666666666,
              "#000017"
             ],
             [
              0.7777777777777778,
              "#000018"
             ],
             [
              0.8888888888888888,
              "#000019"
             ],
             [
              1,
              "#000020"
             ]
            ],
            "type": "histogram2d"
           }
          ],
          "icicle": [
           {
            "textfont": {
             "color": "white"
            },
            "type": "icicle"
           }
          ],
          "sankey": [
           {
            "textfont": {
             "color": "#000036"
            },
            "type": "sankey"
           }
          ],
          "scatter": [
           {
            "marker": {
             "line": {
              "width": 0
             }
            },
            "type": "scatter"
           }
          ],
          "table": [
           {
            "cells": {
             "fill": {
              "color": "#000038"
             },
             "font": {
              "color": "#000037"
             },
             "line": {
              "color": "#000039"
             }
            },
            "header": {
             "fill": {
              "color": "#000040"
             },
             "font": {
              "color": "#000036"
             },
             "line": {
              "color": "#000039"
             }
            },
            "type": "table"
           }
          ],
          "waterfall": [
           {
            "connector": {
             "line": {
              "color": "#000036",
              "width": 2
             }
            },
            "decreasing": {
             "marker": {
              "color": "#000033"
             }
            },
            "increasing": {
             "marker": {
              "color": "#000032"
             }
            },
            "totals": {
             "marker": {
              "color": "#000034"
             }
            },
            "type": "waterfall"
           }
          ]
         },
         "layout": {
          "coloraxis": {
           "colorscale": [
            [
             0,
             "#000011"
            ],
            [
             0.1111111111111111,
             "#000012"
            ],
            [
             0.2222222222222222,
             "#000013"
            ],
            [
             0.3333333333333333,
             "#000014"
            ],
            [
             0.4444444444444444,
             "#000015"
            ],
            [
             0.5555555555555556,
             "#000016"
            ],
            [
             0.6666666666666666,
             "#000017"
            ],
            [
             0.7777777777777778,
             "#000018"
            ],
            [
             0.8888888888888888,
             "#000019"
            ],
            [
             1,
             "#000020"
            ]
           ]
          },
          "colorscale": {
           "diverging": [
            [
             0,
             "#000021"
            ],
            [
             0.1,
             "#000022"
            ],
            [
             0.2,
             "#000023"
            ],
            [
             0.3,
             "#000024"
            ],
            [
             0.4,
             "#000025"
            ],
            [
             0.5,
             "#000026"
            ],
            [
             0.6,
             "#000027"
            ],
            [
             0.7,
             "#000028"
            ],
            [
             0.8,
             "#000029"
            ],
            [
             0.9,
             "#000030"
            ],
            [
             1,
             "#000031"
            ]
           ],
           "sequential": [
            [
             0,
             "#000011"
            ],
            [
             0.1111111111111111,
             "#000012"
            ],
            [
             0.2222222222222222,
             "#000013"
            ],
            [
             0.3333333333333333,
             "#000014"
            ],
            [
             0.4444444444444444,
             "#000015"
            ],
            [
             0.5555555555555556,
             "#000016"
            ],
            [
             0.6666666666666666,
             "#000017"
            ],
            [
             0.7777777777777778,
             "#000018"
            ],
            [
             0.8888888888888888,
             "#000019"
            ],
            [
             1,
             "#000020"
            ]
           ],
           "sequentialminus": [
            [
             0,
             "#000011"
            ],
            [
             0.1111111111111111,
             "#000012"
            ],
            [
             0.2222222222222222,
             "#000013"
            ],
            [
             0.3333333333333333,
             "#000014"
            ],
            [
             0.4444444444444444,
             "#000015"
            ],
            [
             0.5555555555555556,
             "#000016"
            ],
            [
             0.6666666666666666,
             "#000017"
            ],
            [
             0.7777777777777778,
             "#000018"
            ],
            [
             0.8888888888888888,
             "#000019"
            ],
            [
             1,
             "#000020"
            ]
           ]
          },
          "colorway": [
           "#000001",
           "#000002",
           "#000003",
           "#000004",
           "#000005",
           "#000006",
           "#000007",
           "#000008",
           "#000009",
           "#000010"
          ]
         }
        }
       }
      }
     },
     "metadata": {},
     "output_type": "display_data"
    }
   ],
   "source": [
    "fig = px.scatter_geo(df, lat='cap_lat', lon= 'cap_lon',\n",
    "                     hover_name='new_releases', color='country'\n",
    "                     ) #text= 'country'\n",
    "\n",
    "# Update the layout with the desired colors\n",
    "fig.update_layout(\n",
    "    geo=dict(\n",
    "        bgcolor='black',  # Set the background color to black\n",
    "        showland=True,\n",
    "        landcolor='white',  # Set the color of land areas to white\n",
    "        showocean=True,\n",
    "        oceancolor='black',  # Set the color of ocean areas to black\n",
    "        showlakes=True,\n",
    "        lakecolor='white'  # Set the color of lakes to white\n",
    "    ),\n",
    "    font=dict(\n",
    "        color='white'  # Set the text color to white\n",
    "    )\n",
    ")\n",
    "fig.show()"
   ]
  },
  {
   "cell_type": "code",
   "execution_count": null,
   "metadata": {},
   "outputs": [],
   "source": []
  }
 ],
 "metadata": {
  "kernelspec": {
   "display_name": "base",
   "language": "python",
   "name": "python3"
  },
  "language_info": {
   "codemirror_mode": {
    "name": "ipython",
    "version": 3
   },
   "file_extension": ".py",
   "mimetype": "text/x-python",
   "name": "python",
   "nbconvert_exporter": "python",
   "pygments_lexer": "ipython3",
   "version": "3.9.12"
  },
  "orig_nbformat": 4
 },
 "nbformat": 4,
 "nbformat_minor": 2
}
