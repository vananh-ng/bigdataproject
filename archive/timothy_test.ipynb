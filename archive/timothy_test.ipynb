{
 "cells": [
  {
   "cell_type": "code",
   "execution_count": 5,
   "metadata": {},
   "outputs": [
    {
     "name": "stdout",
     "output_type": "stream",
     "text": [
      "Collecting python-dotenv\n",
      "  Using cached python_dotenv-1.0.0-py3-none-any.whl (19 kB)\n",
      "Installing collected packages: python-dotenv\n",
      "Successfully installed python-dotenv-1.0.0\n"
     ]
    },
    {
     "name": "stderr",
     "output_type": "stream",
     "text": [
      "\n",
      "[notice] A new release of pip is available: 23.0.1 -> 23.1.2\n",
      "[notice] To update, run: C:\\Users\\timot\\AppData\\Local\\Microsoft\\WindowsApps\\PythonSoftwareFoundation.Python.3.10_qbz5n2kfra8p0\\python.exe -m pip install --upgrade pip\n"
     ]
    }
   ],
   "source": [
    "!pip install python-dotenv"
   ]
  },
  {
   "cell_type": "code",
   "execution_count": 6,
   "metadata": {},
   "outputs": [],
   "source": [
    "import pandas as pd\n",
    "import pprint as pp\n",
    "import numpy as np\n",
    "#import streamlit as st\n",
    "import requests\n",
    "from requests import post, get\n",
    "import base64\n",
    "import urllib\n",
    "import os\n",
    "import json\n",
    "from dotenv import load_dotenv\n",
    "#import plotly.express as px\n",
    "#import plotly.offline as pyo\n",
    "#import plotly.graph_objs as go\n",
    "#import plotly.express as px\n",
    "import pickle\n",
    "#import schedule"
   ]
  },
  {
   "cell_type": "code",
   "execution_count": 7,
   "metadata": {},
   "outputs": [],
   "source": [
    "# Spotify Developer Dashboard details\n",
    "load_dotenv()\n",
    "client_id = os.getenv(\"CLIENT_ID\")\n",
    "client_secret = os.getenv(\"CLIENT_SECRET\")\n",
    "\n",
    "# We first request a token to the Spotify Accounts Service, which will be used later on to access the Spotify Web API\n",
    "# To get our access token, we need to pass our client ID, client Secret and grant_type\n",
    "def get_token():\n",
    "    auth_string = client_id + ':' + client_secret\n",
    "    auth_bytes = auth_string.encode(\"utf-8\")\n",
    "    # Spotify requests to encode the client ID and client secret using base64\n",
    "    auth_base64 = str(base64.b64encode(auth_bytes), \"utf-8\")\n",
    "\n",
    "    url = \"https://accounts.spotify.com/api/token\"\n",
    "    headers = {\n",
    "        \"Authorization\": \"Basic \" + auth_base64,\n",
    "        \"Content-Type\": \"application/x-www-form-urlencoded\"\n",
    "    }\n",
    "    data = {\"grant_type\": \"client_credentials\"}\n",
    "    # Make the request\n",
    "    result = post(url,headers= headers, data= data)\n",
    "    # Convert the result (json) into a python dictionary\n",
    "    json_result = json.loads(result.content) \n",
    "    token = json_result[\"access_token\"]\n",
    "    return token"
   ]
  },
  {
   "cell_type": "code",
   "execution_count": 8,
   "metadata": {},
   "outputs": [],
   "source": [
    "token= get_token()"
   ]
  },
  {
   "cell_type": "code",
   "execution_count": 9,
   "metadata": {},
   "outputs": [],
   "source": [
    "# Function to construct the header to send a request\n",
    "def get_auth_header(token):\n",
    "    return{\"Authorization\": \"Bearer \" + token}"
   ]
  },
  {
   "cell_type": "code",
   "execution_count": 11,
   "metadata": {},
   "outputs": [],
   "source": [
    "def search_for_artist(token, artist_name):\n",
    "    url = \"https://api.spotify.com/v1/search\"\n",
    "    headers = get_auth_header(token)\n",
    "    query = f\"?q={artist_name}&type=artist&limit=1\"\n",
    "\n",
    "    query_url = url + query\n",
    "    result = get(query_url, headers=headers)\n",
    "    json_result = json.loads(result.content)\n",
    "    print(json_result)"
   ]
  },
  {
   "cell_type": "code",
   "execution_count": 12,
   "metadata": {},
   "outputs": [
    {
     "name": "stdout",
     "output_type": "stream",
     "text": [
      "{'artists': {'href': 'https://api.spotify.com/v1/search?query=Ed+Sheeran&type=artist&offset=0&limit=1', 'items': [{'external_urls': {'spotify': 'https://open.spotify.com/artist/6eUKZXaKkcviH0Ku9w2n3V'}, 'followers': {'href': None, 'total': 112886218}, 'genres': ['pop', 'uk pop'], 'href': 'https://api.spotify.com/v1/artists/6eUKZXaKkcviH0Ku9w2n3V', 'id': '6eUKZXaKkcviH0Ku9w2n3V', 'images': [{'height': 640, 'url': 'https://i.scdn.co/image/ab6761610000e5eb9e690225ad4445530612ccc9', 'width': 640}, {'height': 320, 'url': 'https://i.scdn.co/image/ab676161000051749e690225ad4445530612ccc9', 'width': 320}, {'height': 160, 'url': 'https://i.scdn.co/image/ab6761610000f1789e690225ad4445530612ccc9', 'width': 160}], 'name': 'Ed Sheeran', 'popularity': 90, 'type': 'artist', 'uri': 'spotify:artist:6eUKZXaKkcviH0Ku9w2n3V'}], 'limit': 1, 'next': 'https://api.spotify.com/v1/search?query=Ed+Sheeran&type=artist&offset=1&limit=1', 'offset': 0, 'previous': None, 'total': 8}}\n"
     ]
    }
   ],
   "source": [
    "search_for_artist(token, \"Ed Sheeran\")"
   ]
  },
  {
   "cell_type": "code",
   "execution_count": 13,
   "metadata": {},
   "outputs": [
    {
     "ename": "NameError",
     "evalue": "name 'json_result' is not defined",
     "output_type": "error",
     "traceback": [
      "\u001b[1;31m---------------------------------------------------------------------------\u001b[0m",
      "\u001b[1;31mNameError\u001b[0m                                 Traceback (most recent call last)",
      "Cell \u001b[1;32mIn[13], line 2\u001b[0m\n\u001b[0;32m      1\u001b[0m \u001b[39m# Get the artist data from your API result\u001b[39;00m\n\u001b[1;32m----> 2\u001b[0m artist_data \u001b[39m=\u001b[39m json_result[\u001b[39m'\u001b[39m\u001b[39martists\u001b[39m\u001b[39m'\u001b[39m][\u001b[39m'\u001b[39m\u001b[39mitems\u001b[39m\u001b[39m'\u001b[39m][\u001b[39m0\u001b[39m]\n\u001b[0;32m      4\u001b[0m \u001b[39m# Get the list of images from the artist data\u001b[39;00m\n\u001b[0;32m      5\u001b[0m images \u001b[39m=\u001b[39m artist_data[\u001b[39m'\u001b[39m\u001b[39mimages\u001b[39m\u001b[39m'\u001b[39m]\n",
      "\u001b[1;31mNameError\u001b[0m: name 'json_result' is not defined"
     ]
    }
   ],
   "source": [
    "# Get the artist data from your API result\n",
    "artist_data = json_result['artists']['items'][0]\n",
    "\n",
    "# Get the list of images from the artist data\n",
    "images = artist_data['images']\n",
    "\n",
    "# Get the URL of the first image\n",
    "first_image_url = images[0]['url']\n",
    "\n",
    "# Display the image in your Streamlit app\n",
    "#st.image(first_image_url)\n"
   ]
  }
 ],
 "metadata": {
  "kernelspec": {
   "display_name": "Python 3",
   "language": "python",
   "name": "python3"
  },
  "language_info": {
   "codemirror_mode": {
    "name": "ipython",
    "version": 3
   },
   "file_extension": ".py",
   "mimetype": "text/x-python",
   "name": "python",
   "nbconvert_exporter": "python",
   "pygments_lexer": "ipython3",
   "version": "3.10.11"
  },
  "orig_nbformat": 4
 },
 "nbformat": 4,
 "nbformat_minor": 2
}
