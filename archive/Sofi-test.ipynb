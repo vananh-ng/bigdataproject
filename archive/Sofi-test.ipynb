{
 "cells": [
  {
   "cell_type": "code",
   "execution_count": 7,
   "metadata": {},
   "outputs": [],
   "source": [
    "import requests\n",
    "from requests import post, get\n",
    "import base64\n",
    "import urllib\n",
    "import os\n",
    "import json\n",
    "import pandas as pd\n",
    "from dotenv import load_dotenv\n",
    "import plotly.express as px\n",
    "import pickle\n",
    "import schedule\n",
    "import time"
   ]
  },
  {
   "cell_type": "code",
   "execution_count": 9,
   "metadata": {},
   "outputs": [
    {
     "name": "stdout",
     "output_type": "stream",
     "text": [
      "<class 'str'>\n"
     ]
    }
   ],
   "source": [
    "# Spotify Developer Dashboard details\n",
    "load_dotenv()\n",
    "client_id = os.getenv(\"CLIENT_ID\")\n",
    "client_secret = os.getenv(\"CLIENT_SECRET\")\n",
    "print(type(client_secret))"
   ]
  },
  {
   "cell_type": "code",
   "execution_count": 10,
   "metadata": {},
   "outputs": [],
   "source": [
    "# Get Spotify token   \n",
    "def get_token():\n",
    "    auth_string = client_id + ':' + client_secret\n",
    "    auth_bytes = auth_string.encode(\"utf-8\")\n",
    "    # Spotify requests to encode the client ID and client secret using base64\n",
    "    auth_base64 = str(base64.b64encode(auth_bytes), \"utf-8\")\n",
    "\n",
    "    url = \"https://accounts.spotify.com/api/token\"\n",
    "    headers = {\n",
    "        \"Authorization\": \"Basic \" + auth_base64,\n",
    "        \"Content-Type\": \"application/x-www-form-urlencoded\"\n",
    "    }\n",
    "    data = {\"grant_type\": \"client_credentials\"}\n",
    "    # Make the request\n",
    "    result = post(url,headers= headers, data= data)\n",
    "    # Convert the result (json) into a python dictionary\n",
    "    json_result = json.loads(result.content) \n",
    "    token = json_result[\"access_token\"]\n",
    "    return token"
   ]
  },
  {
   "cell_type": "code",
   "execution_count": 11,
   "metadata": {},
   "outputs": [],
   "source": [
    "token = get_token()"
   ]
  },
  {
   "cell_type": "code",
   "execution_count": 12,
   "metadata": {},
   "outputs": [],
   "source": [
    "# Function to construct the header to send a request\n",
    "def get_auth_header(token):\n",
    "    return{\"Authorization\": \"Bearer \" + token}\n"
   ]
  },
  {
   "cell_type": "code",
   "execution_count": 35,
   "metadata": {},
   "outputs": [],
   "source": [
    "# Get new releases\n",
    "def get_new_releases(df, country):\n",
    "    # Find the country code for the given country name\n",
    "    row = df[df['country'] == country]\n",
    "    country_code = row.iloc[0]['country_code']\n",
    "    url= f\"https://api.spotify.com/v1/browse/new-releases?country={country_code}&limit=1\"\n",
    "    headers = get_auth_header(token)\n",
    "    result = get(url, headers=headers)\n",
    "    json_result = json.loads(result.content)['albums']['items'][0]['name']\n",
    "    return json_result"
   ]
  },
  {
   "cell_type": "code",
   "execution_count": 36,
   "metadata": {},
   "outputs": [],
   "source": [
    "# Get artist new releases\n",
    "def get_artist_new_releases(df,country):\n",
    "    # Find the country code for the given country name\n",
    "    row = df[df['country'] == country]\n",
    "    country_code = row.iloc[0]['country_code']\n",
    "    url= f\"https://api.spotify.com/v1/browse/new-releases?country={country_code}&limit=1\"\n",
    "    headers = get_auth_header(token)\n",
    "    result = get(url, headers=headers)\n",
    "    json_result = json.loads(result.content)['albums']['items'][0]['artists'][0]['name']\n",
    "    return json_result"
   ]
  },
  {
   "cell_type": "code",
   "execution_count": 37,
   "metadata": {},
   "outputs": [],
   "source": [
    "def get_new_releases_id(df, country):\n",
    "    # Find the country code for the given country name\n",
    "    row = df[df['country'] == country]\n",
    "    country_code = row.iloc[0]['country_code']\n",
    "    url= f\"https://api.spotify.com/v1/browse/new-releases?country={country_code}&limit=1\"\n",
    "    headers = get_auth_header(token)\n",
    "    result = get(url, headers=headers)\n",
    "    # Get the album ID\n",
    "    json_result = json.loads(result.content)['albums']['items'][0]['id']\n",
    "    return json_result"
   ]
  },
  {
   "cell_type": "code",
   "execution_count": 47,
   "metadata": {},
   "outputs": [],
   "source": [
    "# Get album image\n",
    "def get_new_releases_pic(df,country):\n",
    "    # Find the country code for the given country name\n",
    "    row = df[df['country'] == country]\n",
    "    country_code = row.iloc[0]['country_code']\n",
    "    url= f\"https://api.spotify.com/v1/browse/new-releases?country={country_code}&limit=1\"\n",
    "    headers = get_auth_header(token)\n",
    "    result = get(url, headers=headers)\n",
    "    # Get the image url\n",
    "    json_result = json.loads(result.content)['albums']['items'][0]['images'][1]['url']\n",
    "    return json_result"
   ]
  },
  {
   "cell_type": "code",
   "execution_count": 48,
   "metadata": {},
   "outputs": [],
   "source": [
    "# Function to update new releases in the dataframe\n",
    "def update_new_releases(pickle_file_path):\n",
    "    # Load the new_releases\n",
    "    with open(pickle_file_path, 'rb') as file:\n",
    "        df_countries = pickle.load(file)\n",
    "\n",
    "    #Modify for Namibia: it detects NaN instead of NA country code\n",
    "    df_countries.iloc[115,4]='NA' \n",
    "        \n",
    "    # Get the new releases per country\n",
    "    df_countries['new_releases'] = [get_new_releases(df_countries, df_countries.loc[index, 'country']) for index in range(len(df_countries))]\n",
    "\n",
    "    # Get the new release artist\n",
    "    df_countries['artist'] = [get_artist_new_releases(df_countries, df_countries.loc[index, 'country']) for index in range(len(df_countries))]\n",
    "\n",
    "    # Get the album ID for the list of tracks\n",
    "    df_countries['album_id'] = [get_new_releases_id(df_countries, df_countries.loc[index, 'country']) for index in range(len(df_countries))]\n",
    "\n",
    "    # Get the cover image url\n",
    "    df_countries['image_url'] = [get_new_releases_pic(df_countries, df_countries.loc[index, 'country']) for index in range(len(df_countries))]\n",
    "\n",
    "     # Save the updated dataframe to a temporary pickle file\n",
    "    temp_pickle_file_path = os.path.splitext(pickle_file_path)[0] + '_temp.pkl'\n",
    "    with open(temp_pickle_file_path, 'wb') as file:\n",
    "        pickle.dump(df_countries, file)\n",
    "\n",
    "    # Replace the original pickle file with the updated one\n",
    "    os.replace(temp_pickle_file_path, pickle_file_path)\n",
    "    print(\"New releases updated successfully!\")"
   ]
  },
  {
   "cell_type": "code",
   "execution_count": 49,
   "metadata": {},
   "outputs": [
    {
     "name": "stdout",
     "output_type": "stream",
     "text": [
      "New releases updated successfully!\n"
     ]
    }
   ],
   "source": [
    "pickle_file_path= r\"C:\\Users\\sofia\\OneDrive\\Documentos\\GitHub\\bigdataproject\\app\\data\\new_releases.pkl\"\n",
    "update_new_releases(pickle_file_path)"
   ]
  },
  {
   "cell_type": "code",
   "execution_count": 50,
   "metadata": {},
   "outputs": [],
   "source": [
    "df_countries = pd.read_pickle(r\"C:\\Users\\sofia\\OneDrive\\Documentos\\GitHub\\bigdataproject\\app\\data\\new_releases.pkl\")"
   ]
  },
  {
   "cell_type": "code",
   "execution_count": 51,
   "metadata": {},
   "outputs": [
    {
     "name": "stdout",
     "output_type": "stream",
     "text": [
      "     country       capital    cap_lat    cap_lon country_code      continent  \\\n",
      "7  Argentina  Buenos Aires -34.583333 -58.666667           AR  South America   \n",
      "\n",
      "                          new_releases   artist                album_id  \\\n",
      "7  MAÑANA SERÁ BONITO (BICHOTA SEASON)  KAROL G  1f2q2JQ3GFwIrWch2JLC0u   \n",
      "\n",
      "                                           image_url  \n",
      "7  https://i.scdn.co/image/ab67616d00001e024a8c1b...  \n"
     ]
    }
   ],
   "source": [
    "print(df_countries[df_countries['country']==\"Argentina\"])\n",
    "country= \"Argentina\""
   ]
  },
  {
   "cell_type": "code",
   "execution_count": 52,
   "metadata": {},
   "outputs": [],
   "source": [
    "# With the ID, get the tracks of that album\n",
    "def tracks_from_album(country):\n",
    "    # Find the country code for the given country name\n",
    "    row = df_countries[df_countries['country'] == country]\n",
    "    album_id = row.iloc[0]['album_id']\n",
    "    url= f\"https://api.spotify.com/v1/albums/{album_id}/tracks?limit=15\"\n",
    "    headers = get_auth_header(token)\n",
    "    result = get(url, headers=headers)\n",
    "    json_result = json.loads(result.content)\n",
    "    # List the tracks\n",
    "    tracks_data= []\n",
    "    for item in json_result['items']:\n",
    "        name=item['name']\n",
    "        tracks_data.append({'Tracks': name})\n",
    "    tracks_df= pd.DataFrame(tracks_data)\n",
    "    return tracks_df\n"
   ]
  },
  {
   "cell_type": "code",
   "execution_count": 53,
   "metadata": {},
   "outputs": [
    {
     "name": "stdout",
     "output_type": "stream",
     "text": [
      "                          Tracks\n",
      "0                       BICHOTAG\n",
      "1                       OKI DOKI\n",
      "2              MI EX TENÍA RAZÓN\n",
      "3                            S91\n",
      "4                          QLONA\n",
      "5  UNA NOCHE EN MEDELLÍN - REMIX\n",
      "6                ME TENGO QUE IR\n",
      "7                GATITA GANGSTER\n",
      "8                          DISPO\n",
      "9               PROVENZA - REMIX\n"
     ]
    }
   ],
   "source": [
    "print(tracks_from_album(country))\n",
    "#selected_album= df_countries.loc[df_countries['country']== country,'new_releases'].values[0]\n",
    "#selected_artist= df_countries.loc[df_countries['country']== country,'artist'].values[0]\n",
    "#image_url= get_new_releases_pic(country)\n"
   ]
  },
  {
   "attachments": {},
   "cell_type": "markdown",
   "metadata": {},
   "source": [
    "# Map"
   ]
  },
  {
   "cell_type": "code",
   "execution_count": 15,
   "metadata": {},
   "outputs": [
    {
     "data": {
      "text/plain": [
       "nan"
      ]
     },
     "execution_count": 15,
     "metadata": {},
     "output_type": "execute_result"
    }
   ],
   "source": [
    "df.iloc[115,4]"
   ]
  },
  {
   "cell_type": "code",
   "execution_count": 16,
   "metadata": {},
   "outputs": [],
   "source": [
    "df.iloc[115,4]='NA'"
   ]
  },
  {
   "cell_type": "code",
   "execution_count": 18,
   "metadata": {},
   "outputs": [
    {
     "ename": "KeyboardInterrupt",
     "evalue": "",
     "output_type": "error",
     "traceback": [
      "\u001b[1;31m---------------------------------------------------------------------------\u001b[0m",
      "\u001b[1;31mKeyboardInterrupt\u001b[0m                         Traceback (most recent call last)",
      "Cell \u001b[1;32mIn[18], line 1\u001b[0m\n\u001b[1;32m----> 1\u001b[0m df[\u001b[39m'\u001b[39m\u001b[39mnew_releases\u001b[39m\u001b[39m'\u001b[39m]\u001b[39m=\u001b[39m [get_new_releases(df\u001b[39m.\u001b[39mloc[index,\u001b[39m'\u001b[39m\u001b[39mcountry\u001b[39m\u001b[39m'\u001b[39m]) \u001b[39mfor\u001b[39;00m index \u001b[39min\u001b[39;00m \u001b[39mrange\u001b[39m(\u001b[39mlen\u001b[39m(df))]\n",
      "Cell \u001b[1;32mIn[18], line 1\u001b[0m, in \u001b[0;36m<listcomp>\u001b[1;34m(.0)\u001b[0m\n\u001b[1;32m----> 1\u001b[0m df[\u001b[39m'\u001b[39m\u001b[39mnew_releases\u001b[39m\u001b[39m'\u001b[39m]\u001b[39m=\u001b[39m [get_new_releases(df\u001b[39m.\u001b[39;49mloc[index,\u001b[39m'\u001b[39;49m\u001b[39mcountry\u001b[39;49m\u001b[39m'\u001b[39;49m]) \u001b[39mfor\u001b[39;00m index \u001b[39min\u001b[39;00m \u001b[39mrange\u001b[39m(\u001b[39mlen\u001b[39m(df))]\n",
      "Cell \u001b[1;32mIn[10], line 8\u001b[0m, in \u001b[0;36mget_new_releases\u001b[1;34m(country)\u001b[0m\n\u001b[0;32m      6\u001b[0m url\u001b[39m=\u001b[39m \u001b[39mf\u001b[39m\u001b[39m\"\u001b[39m\u001b[39mhttps://api.spotify.com/v1/browse/new-releases?country=\u001b[39m\u001b[39m{\u001b[39;00mcountry_code\u001b[39m}\u001b[39;00m\u001b[39m&limit=1\u001b[39m\u001b[39m\"\u001b[39m\n\u001b[0;32m      7\u001b[0m headers \u001b[39m=\u001b[39m get_auth_header(token)\n\u001b[1;32m----> 8\u001b[0m result \u001b[39m=\u001b[39m get(url, headers\u001b[39m=\u001b[39;49mheaders)\n\u001b[0;32m      9\u001b[0m json_result \u001b[39m=\u001b[39m json\u001b[39m.\u001b[39mloads(result\u001b[39m.\u001b[39mcontent)[\u001b[39m'\u001b[39m\u001b[39malbums\u001b[39m\u001b[39m'\u001b[39m][\u001b[39m'\u001b[39m\u001b[39mitems\u001b[39m\u001b[39m'\u001b[39m][\u001b[39m0\u001b[39m][\u001b[39m'\u001b[39m\u001b[39mname\u001b[39m\u001b[39m'\u001b[39m]\n\u001b[0;32m     10\u001b[0m \u001b[39mreturn\u001b[39;00m json_result\n",
      "File \u001b[1;32mc:\\Users\\sofia\\anaconda3\\lib\\site-packages\\requests\\api.py:73\u001b[0m, in \u001b[0;36mget\u001b[1;34m(url, params, **kwargs)\u001b[0m\n\u001b[0;32m     62\u001b[0m \u001b[39mdef\u001b[39;00m \u001b[39mget\u001b[39m(url, params\u001b[39m=\u001b[39m\u001b[39mNone\u001b[39;00m, \u001b[39m*\u001b[39m\u001b[39m*\u001b[39mkwargs):\n\u001b[0;32m     63\u001b[0m \u001b[39m    \u001b[39m\u001b[39mr\u001b[39m\u001b[39m\"\"\"Sends a GET request.\u001b[39;00m\n\u001b[0;32m     64\u001b[0m \n\u001b[0;32m     65\u001b[0m \u001b[39m    :param url: URL for the new :class:`Request` object.\u001b[39;00m\n\u001b[1;32m   (...)\u001b[0m\n\u001b[0;32m     70\u001b[0m \u001b[39m    :rtype: requests.Response\u001b[39;00m\n\u001b[0;32m     71\u001b[0m \u001b[39m    \"\"\"\u001b[39;00m\n\u001b[1;32m---> 73\u001b[0m     \u001b[39mreturn\u001b[39;00m request(\u001b[39m\"\u001b[39m\u001b[39mget\u001b[39m\u001b[39m\"\u001b[39m, url, params\u001b[39m=\u001b[39mparams, \u001b[39m*\u001b[39m\u001b[39m*\u001b[39mkwargs)\n",
      "File \u001b[1;32mc:\\Users\\sofia\\anaconda3\\lib\\site-packages\\requests\\api.py:59\u001b[0m, in \u001b[0;36mrequest\u001b[1;34m(method, url, **kwargs)\u001b[0m\n\u001b[0;32m     55\u001b[0m \u001b[39m# By using the 'with' statement we are sure the session is closed, thus we\u001b[39;00m\n\u001b[0;32m     56\u001b[0m \u001b[39m# avoid leaving sockets open which can trigger a ResourceWarning in some\u001b[39;00m\n\u001b[0;32m     57\u001b[0m \u001b[39m# cases, and look like a memory leak in others.\u001b[39;00m\n\u001b[0;32m     58\u001b[0m \u001b[39mwith\u001b[39;00m sessions\u001b[39m.\u001b[39mSession() \u001b[39mas\u001b[39;00m session:\n\u001b[1;32m---> 59\u001b[0m     \u001b[39mreturn\u001b[39;00m session\u001b[39m.\u001b[39mrequest(method\u001b[39m=\u001b[39mmethod, url\u001b[39m=\u001b[39murl, \u001b[39m*\u001b[39m\u001b[39m*\u001b[39mkwargs)\n",
      "File \u001b[1;32mc:\\Users\\sofia\\anaconda3\\lib\\site-packages\\requests\\sessions.py:587\u001b[0m, in \u001b[0;36mSession.request\u001b[1;34m(self, method, url, params, data, headers, cookies, files, auth, timeout, allow_redirects, proxies, hooks, stream, verify, cert, json)\u001b[0m\n\u001b[0;32m    582\u001b[0m send_kwargs \u001b[39m=\u001b[39m {\n\u001b[0;32m    583\u001b[0m     \u001b[39m\"\u001b[39m\u001b[39mtimeout\u001b[39m\u001b[39m\"\u001b[39m: timeout,\n\u001b[0;32m    584\u001b[0m     \u001b[39m\"\u001b[39m\u001b[39mallow_redirects\u001b[39m\u001b[39m\"\u001b[39m: allow_redirects,\n\u001b[0;32m    585\u001b[0m }\n\u001b[0;32m    586\u001b[0m send_kwargs\u001b[39m.\u001b[39mupdate(settings)\n\u001b[1;32m--> 587\u001b[0m resp \u001b[39m=\u001b[39m \u001b[39mself\u001b[39m\u001b[39m.\u001b[39msend(prep, \u001b[39m*\u001b[39m\u001b[39m*\u001b[39msend_kwargs)\n\u001b[0;32m    589\u001b[0m \u001b[39mreturn\u001b[39;00m resp\n",
      "File \u001b[1;32mc:\\Users\\sofia\\anaconda3\\lib\\site-packages\\requests\\sessions.py:701\u001b[0m, in \u001b[0;36mSession.send\u001b[1;34m(self, request, **kwargs)\u001b[0m\n\u001b[0;32m    698\u001b[0m start \u001b[39m=\u001b[39m preferred_clock()\n\u001b[0;32m    700\u001b[0m \u001b[39m# Send the request\u001b[39;00m\n\u001b[1;32m--> 701\u001b[0m r \u001b[39m=\u001b[39m adapter\u001b[39m.\u001b[39msend(request, \u001b[39m*\u001b[39m\u001b[39m*\u001b[39mkwargs)\n\u001b[0;32m    703\u001b[0m \u001b[39m# Total elapsed time of the request (approximately)\u001b[39;00m\n\u001b[0;32m    704\u001b[0m elapsed \u001b[39m=\u001b[39m preferred_clock() \u001b[39m-\u001b[39m start\n",
      "File \u001b[1;32mc:\\Users\\sofia\\anaconda3\\lib\\site-packages\\requests\\adapters.py:487\u001b[0m, in \u001b[0;36mHTTPAdapter.send\u001b[1;34m(self, request, stream, timeout, verify, cert, proxies)\u001b[0m\n\u001b[0;32m    484\u001b[0m     timeout \u001b[39m=\u001b[39m TimeoutSauce(connect\u001b[39m=\u001b[39mtimeout, read\u001b[39m=\u001b[39mtimeout)\n\u001b[0;32m    486\u001b[0m \u001b[39mtry\u001b[39;00m:\n\u001b[1;32m--> 487\u001b[0m     resp \u001b[39m=\u001b[39m conn\u001b[39m.\u001b[39;49murlopen(\n\u001b[0;32m    488\u001b[0m         method\u001b[39m=\u001b[39;49mrequest\u001b[39m.\u001b[39;49mmethod,\n\u001b[0;32m    489\u001b[0m         url\u001b[39m=\u001b[39;49murl,\n\u001b[0;32m    490\u001b[0m         body\u001b[39m=\u001b[39;49mrequest\u001b[39m.\u001b[39;49mbody,\n\u001b[0;32m    491\u001b[0m         headers\u001b[39m=\u001b[39;49mrequest\u001b[39m.\u001b[39;49mheaders,\n\u001b[0;32m    492\u001b[0m         redirect\u001b[39m=\u001b[39;49m\u001b[39mFalse\u001b[39;49;00m,\n\u001b[0;32m    493\u001b[0m         assert_same_host\u001b[39m=\u001b[39;49m\u001b[39mFalse\u001b[39;49;00m,\n\u001b[0;32m    494\u001b[0m         preload_content\u001b[39m=\u001b[39;49m\u001b[39mFalse\u001b[39;49;00m,\n\u001b[0;32m    495\u001b[0m         decode_content\u001b[39m=\u001b[39;49m\u001b[39mFalse\u001b[39;49;00m,\n\u001b[0;32m    496\u001b[0m         retries\u001b[39m=\u001b[39;49m\u001b[39mself\u001b[39;49m\u001b[39m.\u001b[39;49mmax_retries,\n\u001b[0;32m    497\u001b[0m         timeout\u001b[39m=\u001b[39;49mtimeout,\n\u001b[0;32m    498\u001b[0m         chunked\u001b[39m=\u001b[39;49mchunked,\n\u001b[0;32m    499\u001b[0m     )\n\u001b[0;32m    501\u001b[0m \u001b[39mexcept\u001b[39;00m (ProtocolError, \u001b[39mOSError\u001b[39;00m) \u001b[39mas\u001b[39;00m err:\n\u001b[0;32m    502\u001b[0m     \u001b[39mraise\u001b[39;00m \u001b[39mConnectionError\u001b[39;00m(err, request\u001b[39m=\u001b[39mrequest)\n",
      "File \u001b[1;32mc:\\Users\\sofia\\anaconda3\\lib\\site-packages\\urllib3\\connectionpool.py:714\u001b[0m, in \u001b[0;36mHTTPConnectionPool.urlopen\u001b[1;34m(self, method, url, body, headers, retries, redirect, assert_same_host, timeout, pool_timeout, release_conn, chunked, body_pos, **response_kw)\u001b[0m\n\u001b[0;32m    711\u001b[0m     \u001b[39mself\u001b[39m\u001b[39m.\u001b[39m_prepare_proxy(conn)\n\u001b[0;32m    713\u001b[0m \u001b[39m# Make the request on the httplib connection object.\u001b[39;00m\n\u001b[1;32m--> 714\u001b[0m httplib_response \u001b[39m=\u001b[39m \u001b[39mself\u001b[39;49m\u001b[39m.\u001b[39;49m_make_request(\n\u001b[0;32m    715\u001b[0m     conn,\n\u001b[0;32m    716\u001b[0m     method,\n\u001b[0;32m    717\u001b[0m     url,\n\u001b[0;32m    718\u001b[0m     timeout\u001b[39m=\u001b[39;49mtimeout_obj,\n\u001b[0;32m    719\u001b[0m     body\u001b[39m=\u001b[39;49mbody,\n\u001b[0;32m    720\u001b[0m     headers\u001b[39m=\u001b[39;49mheaders,\n\u001b[0;32m    721\u001b[0m     chunked\u001b[39m=\u001b[39;49mchunked,\n\u001b[0;32m    722\u001b[0m )\n\u001b[0;32m    724\u001b[0m \u001b[39m# If we're going to release the connection in ``finally:``, then\u001b[39;00m\n\u001b[0;32m    725\u001b[0m \u001b[39m# the response doesn't need to know about the connection. Otherwise\u001b[39;00m\n\u001b[0;32m    726\u001b[0m \u001b[39m# it will also try to release it and we'll have a double-release\u001b[39;00m\n\u001b[0;32m    727\u001b[0m \u001b[39m# mess.\u001b[39;00m\n\u001b[0;32m    728\u001b[0m response_conn \u001b[39m=\u001b[39m conn \u001b[39mif\u001b[39;00m \u001b[39mnot\u001b[39;00m release_conn \u001b[39melse\u001b[39;00m \u001b[39mNone\u001b[39;00m\n",
      "File \u001b[1;32mc:\\Users\\sofia\\anaconda3\\lib\\site-packages\\urllib3\\connectionpool.py:466\u001b[0m, in \u001b[0;36mHTTPConnectionPool._make_request\u001b[1;34m(self, conn, method, url, timeout, chunked, **httplib_request_kw)\u001b[0m\n\u001b[0;32m    461\u001b[0m             httplib_response \u001b[39m=\u001b[39m conn\u001b[39m.\u001b[39mgetresponse()\n\u001b[0;32m    462\u001b[0m         \u001b[39mexcept\u001b[39;00m \u001b[39mBaseException\u001b[39;00m \u001b[39mas\u001b[39;00m e:\n\u001b[0;32m    463\u001b[0m             \u001b[39m# Remove the TypeError from the exception chain in\u001b[39;00m\n\u001b[0;32m    464\u001b[0m             \u001b[39m# Python 3 (including for exceptions like SystemExit).\u001b[39;00m\n\u001b[0;32m    465\u001b[0m             \u001b[39m# Otherwise it looks like a bug in the code.\u001b[39;00m\n\u001b[1;32m--> 466\u001b[0m             six\u001b[39m.\u001b[39;49mraise_from(e, \u001b[39mNone\u001b[39;49;00m)\n\u001b[0;32m    467\u001b[0m \u001b[39mexcept\u001b[39;00m (SocketTimeout, BaseSSLError, SocketError) \u001b[39mas\u001b[39;00m e:\n\u001b[0;32m    468\u001b[0m     \u001b[39mself\u001b[39m\u001b[39m.\u001b[39m_raise_timeout(err\u001b[39m=\u001b[39me, url\u001b[39m=\u001b[39murl, timeout_value\u001b[39m=\u001b[39mread_timeout)\n",
      "File \u001b[1;32m<string>:3\u001b[0m, in \u001b[0;36mraise_from\u001b[1;34m(value, from_value)\u001b[0m\n",
      "File \u001b[1;32mc:\\Users\\sofia\\anaconda3\\lib\\site-packages\\urllib3\\connectionpool.py:461\u001b[0m, in \u001b[0;36mHTTPConnectionPool._make_request\u001b[1;34m(self, conn, method, url, timeout, chunked, **httplib_request_kw)\u001b[0m\n\u001b[0;32m    458\u001b[0m \u001b[39mexcept\u001b[39;00m \u001b[39mTypeError\u001b[39;00m:\n\u001b[0;32m    459\u001b[0m     \u001b[39m# Python 3\u001b[39;00m\n\u001b[0;32m    460\u001b[0m     \u001b[39mtry\u001b[39;00m:\n\u001b[1;32m--> 461\u001b[0m         httplib_response \u001b[39m=\u001b[39m conn\u001b[39m.\u001b[39;49mgetresponse()\n\u001b[0;32m    462\u001b[0m     \u001b[39mexcept\u001b[39;00m \u001b[39mBaseException\u001b[39;00m \u001b[39mas\u001b[39;00m e:\n\u001b[0;32m    463\u001b[0m         \u001b[39m# Remove the TypeError from the exception chain in\u001b[39;00m\n\u001b[0;32m    464\u001b[0m         \u001b[39m# Python 3 (including for exceptions like SystemExit).\u001b[39;00m\n\u001b[0;32m    465\u001b[0m         \u001b[39m# Otherwise it looks like a bug in the code.\u001b[39;00m\n\u001b[0;32m    466\u001b[0m         six\u001b[39m.\u001b[39mraise_from(e, \u001b[39mNone\u001b[39;00m)\n",
      "File \u001b[1;32mc:\\Users\\sofia\\anaconda3\\lib\\http\\client.py:1377\u001b[0m, in \u001b[0;36mHTTPConnection.getresponse\u001b[1;34m(self)\u001b[0m\n\u001b[0;32m   1375\u001b[0m \u001b[39mtry\u001b[39;00m:\n\u001b[0;32m   1376\u001b[0m     \u001b[39mtry\u001b[39;00m:\n\u001b[1;32m-> 1377\u001b[0m         response\u001b[39m.\u001b[39;49mbegin()\n\u001b[0;32m   1378\u001b[0m     \u001b[39mexcept\u001b[39;00m \u001b[39mConnectionError\u001b[39;00m:\n\u001b[0;32m   1379\u001b[0m         \u001b[39mself\u001b[39m\u001b[39m.\u001b[39mclose()\n",
      "File \u001b[1;32mc:\\Users\\sofia\\anaconda3\\lib\\http\\client.py:320\u001b[0m, in \u001b[0;36mHTTPResponse.begin\u001b[1;34m(self)\u001b[0m\n\u001b[0;32m    318\u001b[0m \u001b[39m# read until we get a non-100 response\u001b[39;00m\n\u001b[0;32m    319\u001b[0m \u001b[39mwhile\u001b[39;00m \u001b[39mTrue\u001b[39;00m:\n\u001b[1;32m--> 320\u001b[0m     version, status, reason \u001b[39m=\u001b[39m \u001b[39mself\u001b[39;49m\u001b[39m.\u001b[39;49m_read_status()\n\u001b[0;32m    321\u001b[0m     \u001b[39mif\u001b[39;00m status \u001b[39m!=\u001b[39m CONTINUE:\n\u001b[0;32m    322\u001b[0m         \u001b[39mbreak\u001b[39;00m\n",
      "File \u001b[1;32mc:\\Users\\sofia\\anaconda3\\lib\\http\\client.py:281\u001b[0m, in \u001b[0;36mHTTPResponse._read_status\u001b[1;34m(self)\u001b[0m\n\u001b[0;32m    280\u001b[0m \u001b[39mdef\u001b[39;00m \u001b[39m_read_status\u001b[39m(\u001b[39mself\u001b[39m):\n\u001b[1;32m--> 281\u001b[0m     line \u001b[39m=\u001b[39m \u001b[39mstr\u001b[39m(\u001b[39mself\u001b[39;49m\u001b[39m.\u001b[39;49mfp\u001b[39m.\u001b[39;49mreadline(_MAXLINE \u001b[39m+\u001b[39;49m \u001b[39m1\u001b[39;49m), \u001b[39m\"\u001b[39m\u001b[39miso-8859-1\u001b[39m\u001b[39m\"\u001b[39m)\n\u001b[0;32m    282\u001b[0m     \u001b[39mif\u001b[39;00m \u001b[39mlen\u001b[39m(line) \u001b[39m>\u001b[39m _MAXLINE:\n\u001b[0;32m    283\u001b[0m         \u001b[39mraise\u001b[39;00m LineTooLong(\u001b[39m\"\u001b[39m\u001b[39mstatus line\u001b[39m\u001b[39m\"\u001b[39m)\n",
      "File \u001b[1;32mc:\\Users\\sofia\\anaconda3\\lib\\socket.py:704\u001b[0m, in \u001b[0;36mSocketIO.readinto\u001b[1;34m(self, b)\u001b[0m\n\u001b[0;32m    702\u001b[0m \u001b[39mwhile\u001b[39;00m \u001b[39mTrue\u001b[39;00m:\n\u001b[0;32m    703\u001b[0m     \u001b[39mtry\u001b[39;00m:\n\u001b[1;32m--> 704\u001b[0m         \u001b[39mreturn\u001b[39;00m \u001b[39mself\u001b[39;49m\u001b[39m.\u001b[39;49m_sock\u001b[39m.\u001b[39;49mrecv_into(b)\n\u001b[0;32m    705\u001b[0m     \u001b[39mexcept\u001b[39;00m timeout:\n\u001b[0;32m    706\u001b[0m         \u001b[39mself\u001b[39m\u001b[39m.\u001b[39m_timeout_occurred \u001b[39m=\u001b[39m \u001b[39mTrue\u001b[39;00m\n",
      "File \u001b[1;32mc:\\Users\\sofia\\anaconda3\\lib\\ssl.py:1241\u001b[0m, in \u001b[0;36mSSLSocket.recv_into\u001b[1;34m(self, buffer, nbytes, flags)\u001b[0m\n\u001b[0;32m   1237\u001b[0m     \u001b[39mif\u001b[39;00m flags \u001b[39m!=\u001b[39m \u001b[39m0\u001b[39m:\n\u001b[0;32m   1238\u001b[0m         \u001b[39mraise\u001b[39;00m \u001b[39mValueError\u001b[39;00m(\n\u001b[0;32m   1239\u001b[0m           \u001b[39m\"\u001b[39m\u001b[39mnon-zero flags not allowed in calls to recv_into() on \u001b[39m\u001b[39m%s\u001b[39;00m\u001b[39m\"\u001b[39m \u001b[39m%\u001b[39m\n\u001b[0;32m   1240\u001b[0m           \u001b[39mself\u001b[39m\u001b[39m.\u001b[39m\u001b[39m__class__\u001b[39m)\n\u001b[1;32m-> 1241\u001b[0m     \u001b[39mreturn\u001b[39;00m \u001b[39mself\u001b[39;49m\u001b[39m.\u001b[39;49mread(nbytes, buffer)\n\u001b[0;32m   1242\u001b[0m \u001b[39melse\u001b[39;00m:\n\u001b[0;32m   1243\u001b[0m     \u001b[39mreturn\u001b[39;00m \u001b[39msuper\u001b[39m()\u001b[39m.\u001b[39mrecv_into(buffer, nbytes, flags)\n",
      "File \u001b[1;32mc:\\Users\\sofia\\anaconda3\\lib\\ssl.py:1099\u001b[0m, in \u001b[0;36mSSLSocket.read\u001b[1;34m(self, len, buffer)\u001b[0m\n\u001b[0;32m   1097\u001b[0m \u001b[39mtry\u001b[39;00m:\n\u001b[0;32m   1098\u001b[0m     \u001b[39mif\u001b[39;00m buffer \u001b[39mis\u001b[39;00m \u001b[39mnot\u001b[39;00m \u001b[39mNone\u001b[39;00m:\n\u001b[1;32m-> 1099\u001b[0m         \u001b[39mreturn\u001b[39;00m \u001b[39mself\u001b[39;49m\u001b[39m.\u001b[39;49m_sslobj\u001b[39m.\u001b[39;49mread(\u001b[39mlen\u001b[39;49m, buffer)\n\u001b[0;32m   1100\u001b[0m     \u001b[39melse\u001b[39;00m:\n\u001b[0;32m   1101\u001b[0m         \u001b[39mreturn\u001b[39;00m \u001b[39mself\u001b[39m\u001b[39m.\u001b[39m_sslobj\u001b[39m.\u001b[39mread(\u001b[39mlen\u001b[39m)\n",
      "\u001b[1;31mKeyboardInterrupt\u001b[0m: "
     ]
    }
   ],
   "source": [
    "df['new_releases']= [get_new_releases(df.loc[index,'country']) for index in range(len(df))]"
   ]
  },
  {
   "cell_type": "code",
   "execution_count": 43,
   "metadata": {},
   "outputs": [],
   "source": [
    "df['artist']= [get_artist_new_releases(df.loc[index,'country']) for index in range(len(df))]"
   ]
  },
  {
   "cell_type": "code",
   "execution_count": 44,
   "metadata": {},
   "outputs": [
    {
     "data": {
      "text/html": [
       "<div>\n",
       "<style scoped>\n",
       "    .dataframe tbody tr th:only-of-type {\n",
       "        vertical-align: middle;\n",
       "    }\n",
       "\n",
       "    .dataframe tbody tr th {\n",
       "        vertical-align: top;\n",
       "    }\n",
       "\n",
       "    .dataframe thead th {\n",
       "        text-align: right;\n",
       "    }\n",
       "</style>\n",
       "<table border=\"1\" class=\"dataframe\">\n",
       "  <thead>\n",
       "    <tr style=\"text-align: right;\">\n",
       "      <th></th>\n",
       "      <th>country</th>\n",
       "      <th>capital</th>\n",
       "      <th>cap_lat</th>\n",
       "      <th>cap_lon</th>\n",
       "      <th>country_code</th>\n",
       "      <th>continent</th>\n",
       "      <th>new_releases</th>\n",
       "      <th>artist</th>\n",
       "    </tr>\n",
       "  </thead>\n",
       "  <tbody>\n",
       "    <tr>\n",
       "      <th>0</th>\n",
       "      <td>Palestine</td>\n",
       "      <td>Jerusalem</td>\n",
       "      <td>31.766667</td>\n",
       "      <td>35.233333</td>\n",
       "      <td>PS</td>\n",
       "      <td>Asia</td>\n",
       "      <td>TUYA</td>\n",
       "      <td>ROSALÍA</td>\n",
       "    </tr>\n",
       "    <tr>\n",
       "      <th>1</th>\n",
       "      <td>Nauru</td>\n",
       "      <td>Yaren</td>\n",
       "      <td>-0.547700</td>\n",
       "      <td>166.920867</td>\n",
       "      <td>NR</td>\n",
       "      <td>Australia</td>\n",
       "      <td>BLONDE16</td>\n",
       "      <td>Miliyah</td>\n",
       "    </tr>\n",
       "    <tr>\n",
       "      <th>2</th>\n",
       "      <td>Albania</td>\n",
       "      <td>Tirana</td>\n",
       "      <td>41.316667</td>\n",
       "      <td>19.816667</td>\n",
       "      <td>AL</td>\n",
       "      <td>Europe</td>\n",
       "      <td>Ku Je Ti (feat. Ricky Rich &amp; Dafina Zeqiri)</td>\n",
       "      <td>DYSTINCT</td>\n",
       "    </tr>\n",
       "    <tr>\n",
       "      <th>3</th>\n",
       "      <td>Algeria</td>\n",
       "      <td>Algiers</td>\n",
       "      <td>36.750000</td>\n",
       "      <td>3.050000</td>\n",
       "      <td>DZ</td>\n",
       "      <td>Africa</td>\n",
       "      <td>YA LE3DOUWA</td>\n",
       "      <td>Zouhair Bahaoui</td>\n",
       "    </tr>\n",
       "    <tr>\n",
       "      <th>4</th>\n",
       "      <td>Andorra</td>\n",
       "      <td>Andorra la Vella</td>\n",
       "      <td>42.500000</td>\n",
       "      <td>1.516667</td>\n",
       "      <td>AD</td>\n",
       "      <td>Europe</td>\n",
       "      <td>Drapeau Blanc</td>\n",
       "      <td>Benab</td>\n",
       "    </tr>\n",
       "  </tbody>\n",
       "</table>\n",
       "</div>"
      ],
      "text/plain": [
       "     country           capital    cap_lat     cap_lon country_code  continent  \\\n",
       "0  Palestine         Jerusalem  31.766667   35.233333           PS       Asia   \n",
       "1      Nauru             Yaren  -0.547700  166.920867           NR  Australia   \n",
       "2    Albania            Tirana  41.316667   19.816667           AL     Europe   \n",
       "3    Algeria           Algiers  36.750000    3.050000           DZ     Africa   \n",
       "4    Andorra  Andorra la Vella  42.500000    1.516667           AD     Europe   \n",
       "\n",
       "                                  new_releases           artist  \n",
       "0                                         TUYA          ROSALÍA  \n",
       "1                                     BLONDE16          Miliyah  \n",
       "2  Ku Je Ti (feat. Ricky Rich & Dafina Zeqiri)         DYSTINCT  \n",
       "3                                  YA LE3DOUWA  Zouhair Bahaoui  \n",
       "4                                Drapeau Blanc            Benab  "
      ]
     },
     "execution_count": 44,
     "metadata": {},
     "output_type": "execute_result"
    }
   ],
   "source": [
    "df.head()"
   ]
  },
  {
   "cell_type": "code",
   "execution_count": 29,
   "metadata": {},
   "outputs": [
    {
     "data": {
      "application/vnd.plotly.v1+json": {
       "config": {
        "plotlyServerURL": "https://plot.ly"
       },
       "data": [
        {
         "customdata": [
          [
           31.7666666666666,
           35.233333,
           "ROSALÍA",
           "Palestine"
          ]
         ],
         "geo": "geo",
         "hovertemplate": "<b>%{hovertext}</b><br><br>country=%{customdata[3]}<br>artist=%{customdata[2]}<extra></extra>",
         "hovertext": [
          "TUYA"
         ],
         "lat": [
          31.7666666666666
         ],
         "legendgroup": "Palestine",
         "lon": [
          35.233333
         ],
         "marker": {
          "color": "#000001",
          "symbol": "circle"
         },
         "mode": "markers",
         "name": "Palestine",
         "showlegend": true,
         "type": "scattergeo"
        },
        {
         "customdata": [
          [
           -0.5477,
           166.920867,
           "Miliyah",
           "Nauru"
          ]
         ],
         "geo": "geo",
         "hovertemplate": "<b>%{hovertext}</b><br><br>country=%{customdata[3]}<br>artist=%{customdata[2]}<extra></extra>",
         "hovertext": [
          "BLONDE16"
         ],
         "lat": [
          -0.5477
         ],
         "legendgroup": "Nauru",
         "lon": [
          166.920867
         ],
         "marker": {
          "color": "#000002",
          "symbol": "circle"
         },
         "mode": "markers",
         "name": "Nauru",
         "showlegend": true,
         "type": "scattergeo"
        },
        {
         "customdata": [
          [
           41.3166666666666,
           19.816667,
           "DYSTINCT",
           "Albania"
          ]
         ],
         "geo": "geo",
         "hovertemplate": "<b>%{hovertext}</b><br><br>country=%{customdata[3]}<br>artist=%{customdata[2]}<extra></extra>",
         "hovertext": [
          "Ku Je Ti (feat. Ricky Rich & Dafina Zeqiri)"
         ],
         "lat": [
          41.3166666666666
         ],
         "legendgroup": "Albania",
         "lon": [
          19.816667
         ],
         "marker": {
          "color": "#000003",
          "symbol": "circle"
         },
         "mode": "markers",
         "name": "Albania",
         "showlegend": true,
         "type": "scattergeo"
        },
        {
         "customdata": [
          [
           36.75,
           3.05,
           "Zouhair Bahaoui",
           "Algeria"
          ]
         ],
         "geo": "geo",
         "hovertemplate": "<b>%{hovertext}</b><br><br>country=%{customdata[3]}<br>artist=%{customdata[2]}<extra></extra>",
         "hovertext": [
          "YA LE3DOUWA"
         ],
         "lat": [
          36.75
         ],
         "legendgroup": "Algeria",
         "lon": [
          3.05
         ],
         "marker": {
          "color": "#000004",
          "symbol": "circle"
         },
         "mode": "markers",
         "name": "Algeria",
         "showlegend": true,
         "type": "scattergeo"
        },
        {
         "customdata": [
          [
           42.5,
           1.516667,
           "Benab",
           "Andorra"
          ]
         ],
         "geo": "geo",
         "hovertemplate": "<b>%{hovertext}</b><br><br>country=%{customdata[3]}<br>artist=%{customdata[2]}<extra></extra>",
         "hovertext": [
          "Drapeau Blanc"
         ],
         "lat": [
          42.5
         ],
         "legendgroup": "Andorra",
         "lon": [
          1.516667
         ],
         "marker": {
          "color": "#000005",
          "symbol": "circle"
         },
         "mode": "markers",
         "name": "Andorra",
         "showlegend": true,
         "type": "scattergeo"
        },
        {
         "customdata": [
          [
           -8.83333333333333,
           13.216667,
           "Harry Styles",
           "Angola"
          ]
         ],
         "geo": "geo",
         "hovertemplate": "<b>%{hovertext}</b><br><br>country=%{customdata[3]}<br>artist=%{customdata[2]}<extra></extra>",
         "hovertext": [
          "Harry's House"
         ],
         "lat": [
          -8.83333333333333
         ],
         "legendgroup": "Angola",
         "lon": [
          13.216667
         ],
         "marker": {
          "color": "#000006",
          "symbol": "circle"
         },
         "mode": "markers",
         "name": "Angola",
         "showlegend": true,
         "type": "scattergeo"
        },
        {
         "customdata": [
          [
           17.1166666666666,
           -61.85,
           "Harry Styles",
           "Antigua and Barbuda"
          ]
         ],
         "geo": "geo",
         "hovertemplate": "<b>%{hovertext}</b><br><br>country=%{customdata[3]}<br>artist=%{customdata[2]}<extra></extra>",
         "hovertext": [
          "Harry's House"
         ],
         "lat": [
          17.1166666666666
         ],
         "legendgroup": "Antigua and Barbuda",
         "lon": [
          -61.85
         ],
         "marker": {
          "color": "#000007",
          "symbol": "circle"
         },
         "mode": "markers",
         "name": "Antigua and Barbuda",
         "showlegend": true,
         "type": "scattergeo"
        },
        {
         "customdata": [
          [
           -34.5833333333333,
           -58.666667,
           "Barbi Recanati",
           "Argentina"
          ]
         ],
         "geo": "geo",
         "hovertemplate": "<b>%{hovertext}</b><br><br>country=%{customdata[3]}<br>artist=%{customdata[2]}<extra></extra>",
         "hovertext": [
          "El Final de Las Cosas"
         ],
         "lat": [
          -34.5833333333333
         ],
         "legendgroup": "Argentina",
         "lon": [
          -58.666667
         ],
         "marker": {
          "color": "#000008",
          "symbol": "circle"
         },
         "mode": "markers",
         "name": "Argentina",
         "showlegend": true,
         "type": "scattergeo"
        },
        {
         "customdata": [
          [
           40.1666666666666,
           44.5,
           "Harry Styles",
           "Armenia"
          ]
         ],
         "geo": "geo",
         "hovertemplate": "<b>%{hovertext}</b><br><br>country=%{customdata[3]}<br>artist=%{customdata[2]}<extra></extra>",
         "hovertext": [
          "Harry's House"
         ],
         "lat": [
          40.1666666666666
         ],
         "legendgroup": "Armenia",
         "lon": [
          44.5
         ],
         "marker": {
          "color": "#000009",
          "symbol": "circle"
         },
         "mode": "markers",
         "name": "Armenia",
         "showlegend": true,
         "type": "scattergeo"
        },
        {
         "customdata": [
          [
           -35.2666666666666,
           149.133333,
           "The Teskey Brothers",
           "Australia"
          ]
         ],
         "geo": "geo",
         "hovertemplate": "<b>%{hovertext}</b><br><br>country=%{customdata[3]}<br>artist=%{customdata[2]}<extra></extra>",
         "hovertext": [
          "The Winding Way"
         ],
         "lat": [
          -35.2666666666666
         ],
         "legendgroup": "Australia",
         "lon": [
          149.133333
         ],
         "marker": {
          "color": "#000010",
          "symbol": "circle"
         },
         "mode": "markers",
         "name": "Australia",
         "showlegend": true,
         "type": "scattergeo"
        },
        {
         "customdata": [
          [
           48.2,
           16.366667,
           "Montez",
           "Austria"
          ]
         ],
         "geo": "geo",
         "hovertemplate": "<b>%{hovertext}</b><br><br>country=%{customdata[3]}<br>artist=%{customdata[2]}<extra></extra>",
         "hovertext": [
          "LIEBE IN GEFAHR"
         ],
         "lat": [
          48.2
         ],
         "legendgroup": "Austria",
         "lon": [
          16.366667
         ],
         "marker": {
          "color": "#000001",
          "symbol": "circle"
         },
         "mode": "markers",
         "name": "Austria",
         "showlegend": true,
         "type": "scattergeo"
        },
        {
         "customdata": [
          [
           40.3833333333333,
           49.866667,
           "Ed Sheeran",
           "Azerbaijan"
          ]
         ],
         "geo": "geo",
         "hovertemplate": "<b>%{hovertext}</b><br><br>country=%{customdata[3]}<br>artist=%{customdata[2]}<extra></extra>",
         "hovertext": [
          "F64"
         ],
         "lat": [
          40.3833333333333
         ],
         "legendgroup": "Azerbaijan",
         "lon": [
          49.866667
         ],
         "marker": {
          "color": "#000002",
          "symbol": "circle"
         },
         "mode": "markers",
         "name": "Azerbaijan",
         "showlegend": true,
         "type": "scattergeo"
        },
        {
         "customdata": [
          [
           25.0833333333333,
           -77.35,
           "Harry Styles",
           "Bahamas"
          ]
         ],
         "geo": "geo",
         "hovertemplate": "<b>%{hovertext}</b><br><br>country=%{customdata[3]}<br>artist=%{customdata[2]}<extra></extra>",
         "hovertext": [
          "Harry's House"
         ],
         "lat": [
          25.0833333333333
         ],
         "legendgroup": "Bahamas",
         "lon": [
          -77.35
         ],
         "marker": {
          "color": "#000003",
          "symbol": "circle"
         },
         "mode": "markers",
         "name": "Bahamas",
         "showlegend": true,
         "type": "scattergeo"
        },
        {
         "customdata": [
          [
           26.2333333333333,
           50.566667,
           "Doja Cat",
           "Bahrain"
          ]
         ],
         "geo": "geo",
         "hovertemplate": "<b>%{hovertext}</b><br><br>country=%{customdata[3]}<br>artist=%{customdata[2]}<extra></extra>",
         "hovertext": [
          "Attention"
         ],
         "lat": [
          26.2333333333333
         ],
         "legendgroup": "Bahrain",
         "lon": [
          50.566667
         ],
         "marker": {
          "color": "#000004",
          "symbol": "circle"
         },
         "mode": "markers",
         "name": "Bahrain",
         "showlegend": true,
         "type": "scattergeo"
        },
        {
         "customdata": [
          [
           23.7166666666666,
           90.4,
           "Sohan Rahman",
           "Bangladesh"
          ]
         ],
         "geo": "geo",
         "hovertemplate": "<b>%{hovertext}</b><br><br>country=%{customdata[3]}<br>artist=%{customdata[2]}<extra></extra>",
         "hovertext": [
          "Tomar Goli"
         ],
         "lat": [
          23.7166666666666
         ],
         "legendgroup": "Bangladesh",
         "lon": [
          90.4
         ],
         "marker": {
          "color": "#000005",
          "symbol": "circle"
         },
         "mode": "markers",
         "name": "Bangladesh",
         "showlegend": true,
         "type": "scattergeo"
        },
        {
         "customdata": [
          [
           13.1,
           -59.616667,
           "Harry Styles",
           "Barbados"
          ]
         ],
         "geo": "geo",
         "hovertemplate": "<b>%{hovertext}</b><br><br>country=%{customdata[3]}<br>artist=%{customdata[2]}<extra></extra>",
         "hovertext": [
          "Harry's House"
         ],
         "lat": [
          13.1
         ],
         "legendgroup": "Barbados",
         "lon": [
          -59.616667
         ],
         "marker": {
          "color": "#000006",
          "symbol": "circle"
         },
         "mode": "markers",
         "name": "Barbados",
         "showlegend": true,
         "type": "scattergeo"
        },
        {
         "customdata": [
          [
           53.9,
           27.566667,
           "Rauf & Faik",
           "Belarus"
          ]
         ],
         "geo": "geo",
         "hovertemplate": "<b>%{hovertext}</b><br><br>country=%{customdata[3]}<br>artist=%{customdata[2]}<extra></extra>",
         "hovertext": [
          "Rubicon"
         ],
         "lat": [
          53.9
         ],
         "legendgroup": "Belarus",
         "lon": [
          27.566667
         ],
         "marker": {
          "color": "#000007",
          "symbol": "circle"
         },
         "mode": "markers",
         "name": "Belarus",
         "showlegend": true,
         "type": "scattergeo"
        },
        {
         "customdata": [
          [
           50.8333333333333,
           4.333333,
           "Tom Grennan",
           "Belgium"
          ]
         ],
         "geo": "geo",
         "hovertemplate": "<b>%{hovertext}</b><br><br>country=%{customdata[3]}<br>artist=%{customdata[2]}<extra></extra>",
         "hovertext": [
          "What Ifs & Maybes"
         ],
         "lat": [
          50.8333333333333
         ],
         "legendgroup": "Belgium",
         "lon": [
          4.333333
         ],
         "marker": {
          "color": "#000008",
          "symbol": "circle"
         },
         "mode": "markers",
         "name": "Belgium",
         "showlegend": true,
         "type": "scattergeo"
        },
        {
         "customdata": [
          [
           17.25,
           -88.766667,
           "RM",
           "Belize"
          ]
         ],
         "geo": "geo",
         "hovertemplate": "<b>%{hovertext}</b><br><br>country=%{customdata[3]}<br>artist=%{customdata[2]}<extra></extra>",
         "hovertext": [
          "Indigo"
         ],
         "lat": [
          17.25
         ],
         "legendgroup": "Belize",
         "lon": [
          -88.766667
         ],
         "marker": {
          "color": "#000009",
          "symbol": "circle"
         },
         "mode": "markers",
         "name": "Belize",
         "showlegend": true,
         "type": "scattergeo"
        },
        {
         "customdata": [
          [
           6.48333333333333,
           2.616667,
           "Harry Styles",
           "Benin"
          ]
         ],
         "geo": "geo",
         "hovertemplate": "<b>%{hovertext}</b><br><br>country=%{customdata[3]}<br>artist=%{customdata[2]}<extra></extra>",
         "hovertext": [
          "Harry's House"
         ],
         "lat": [
          6.48333333333333
         ],
         "legendgroup": "Benin",
         "lon": [
          2.616667
         ],
         "marker": {
          "color": "#000010",
          "symbol": "circle"
         },
         "mode": "markers",
         "name": "Benin",
         "showlegend": true,
         "type": "scattergeo"
        },
        {
         "customdata": [
          [
           27.4666666666666,
           89.633333,
           "ONF",
           "Bhutan"
          ]
         ],
         "geo": "geo",
         "hovertemplate": "<b>%{hovertext}</b><br><br>country=%{customdata[3]}<br>artist=%{customdata[2]}<extra></extra>",
         "hovertext": [
          "6TH MINI ALBUM [Goosebumps]"
         ],
         "lat": [
          27.4666666666666
         ],
         "legendgroup": "Bhutan",
         "lon": [
          89.633333
         ],
         "marker": {
          "color": "#000001",
          "symbol": "circle"
         },
         "mode": "markers",
         "name": "Bhutan",
         "showlegend": true,
         "type": "scattergeo"
        },
        {
         "customdata": [
          [
           -16.5,
           -68.15,
           "Barbi Recanati",
           "Bolivia"
          ]
         ],
         "geo": "geo",
         "hovertemplate": "<b>%{hovertext}</b><br><br>country=%{customdata[3]}<br>artist=%{customdata[2]}<extra></extra>",
         "hovertext": [
          "El Final de Las Cosas"
         ],
         "lat": [
          -16.5
         ],
         "legendgroup": "Bolivia",
         "lon": [
          -68.15
         ],
         "marker": {
          "color": "#000002",
          "symbol": "circle"
         },
         "mode": "markers",
         "name": "Bolivia",
         "showlegend": true,
         "type": "scattergeo"
        },
        {
         "customdata": [
          [
           43.8666666666666,
           18.416667,
           "Harry Styles",
           "Bosnia and Herzegovina"
          ]
         ],
         "geo": "geo",
         "hovertemplate": "<b>%{hovertext}</b><br><br>country=%{customdata[3]}<br>artist=%{customdata[2]}<extra></extra>",
         "hovertext": [
          "Harry's House"
         ],
         "lat": [
          43.8666666666666
         ],
         "legendgroup": "Bosnia and Herzegovina",
         "lon": [
          18.416667
         ],
         "marker": {
          "color": "#000003",
          "symbol": "circle"
         },
         "mode": "markers",
         "name": "Bosnia and Herzegovina",
         "showlegend": true,
         "type": "scattergeo"
        },
        {
         "customdata": [
          [
           -24.6333333333333,
           25.9,
           "Mthandazo Gatya",
           "Botswana"
          ]
         ],
         "geo": "geo",
         "hovertemplate": "<b>%{hovertext}</b><br><br>country=%{customdata[3]}<br>artist=%{customdata[2]}<extra></extra>",
         "hovertext": [
          "Journey To Infinity"
         ],
         "lat": [
          -24.6333333333333
         ],
         "legendgroup": "Botswana",
         "lon": [
          25.9
         ],
         "marker": {
          "color": "#000004",
          "symbol": "circle"
         },
         "mode": "markers",
         "name": "Botswana",
         "showlegend": true,
         "type": "scattergeo"
        },
        {
         "customdata": [
          [
           -15.7833333333333,
           -47.916667,
           "Marcelo D2",
           "Brazil"
          ]
         ],
         "geo": "geo",
         "hovertemplate": "<b>%{hovertext}</b><br><br>country=%{customdata[3]}<br>artist=%{customdata[2]}<extra></extra>",
         "hovertext": [
          "IBORU"
         ],
         "lat": [
          -15.7833333333333
         ],
         "legendgroup": "Brazil",
         "lon": [
          -47.916667
         ],
         "marker": {
          "color": "#000005",
          "symbol": "circle"
         },
         "mode": "markers",
         "name": "Brazil",
         "showlegend": true,
         "type": "scattergeo"
        },
        {
         "customdata": [
          [
           4.88333333333333,
           114.933333,
           "ONF",
           "Brunei Darussalam"
          ]
         ],
         "geo": "geo",
         "hovertemplate": "<b>%{hovertext}</b><br><br>country=%{customdata[3]}<br>artist=%{customdata[2]}<extra></extra>",
         "hovertext": [
          "6TH MINI ALBUM [Goosebumps]"
         ],
         "lat": [
          4.88333333333333
         ],
         "legendgroup": "Brunei Darussalam",
         "lon": [
          114.933333
         ],
         "marker": {
          "color": "#000006",
          "symbol": "circle"
         },
         "mode": "markers",
         "name": "Brunei Darussalam",
         "showlegend": true,
         "type": "scattergeo"
        },
        {
         "customdata": [
          [
           42.6833333333333,
           23.316667,
           "RM",
           "Bulgaria"
          ]
         ],
         "geo": "geo",
         "hovertemplate": "<b>%{hovertext}</b><br><br>country=%{customdata[3]}<br>artist=%{customdata[2]}<extra></extra>",
         "hovertext": [
          "Indigo"
         ],
         "lat": [
          42.6833333333333
         ],
         "legendgroup": "Bulgaria",
         "lon": [
          23.316667
         ],
         "marker": {
          "color": "#000007",
          "symbol": "circle"
         },
         "mode": "markers",
         "name": "Bulgaria",
         "showlegend": true,
         "type": "scattergeo"
        },
        {
         "customdata": [
          [
           12.3666666666666,
           -1.516667,
           "Harry Styles",
           "Burkina Faso"
          ]
         ],
         "geo": "geo",
         "hovertemplate": "<b>%{hovertext}</b><br><br>country=%{customdata[3]}<br>artist=%{customdata[2]}<extra></extra>",
         "hovertext": [
          "Harry's House"
         ],
         "lat": [
          12.3666666666666
         ],
         "legendgroup": "Burkina Faso",
         "lon": [
          -1.516667
         ],
         "marker": {
          "color": "#000008",
          "symbol": "circle"
         },
         "mode": "markers",
         "name": "Burkina Faso",
         "showlegend": true,
         "type": "scattergeo"
        },
        {
         "customdata": [
          [
           -3.36666666666666,
           29.35,
           "Burna Boy",
           "Burundi"
          ]
         ],
         "geo": "geo",
         "hovertemplate": "<b>%{hovertext}</b><br><br>country=%{customdata[3]}<br>artist=%{customdata[2]}<extra></extra>",
         "hovertext": [
          "Love, Damini"
         ],
         "lat": [
          -3.36666666666666
         ],
         "legendgroup": "Burundi",
         "lon": [
          29.35
         ],
         "marker": {
          "color": "#000009",
          "symbol": "circle"
         },
         "mode": "markers",
         "name": "Burundi",
         "showlegend": true,
         "type": "scattergeo"
        },
        {
         "customdata": [
          [
           11.55,
           104.916667,
           "ONF",
           "Cambodia"
          ]
         ],
         "geo": "geo",
         "hovertemplate": "<b>%{hovertext}</b><br><br>country=%{customdata[3]}<br>artist=%{customdata[2]}<extra></extra>",
         "hovertext": [
          "6TH MINI ALBUM [Goosebumps]"
         ],
         "lat": [
          11.55
         ],
         "legendgroup": "Cambodia",
         "lon": [
          104.916667
         ],
         "marker": {
          "color": "#000010",
          "symbol": "circle"
         },
         "mode": "markers",
         "name": "Cambodia",
         "showlegend": true,
         "type": "scattergeo"
        },
        {
         "customdata": [
          [
           3.86666666666666,
           11.516667,
           "Harry Styles",
           "Cameroon"
          ]
         ],
         "geo": "geo",
         "hovertemplate": "<b>%{hovertext}</b><br><br>country=%{customdata[3]}<br>artist=%{customdata[2]}<extra></extra>",
         "hovertext": [
          "Harry's House"
         ],
         "lat": [
          3.86666666666666
         ],
         "legendgroup": "Cameroon",
         "lon": [
          11.516667
         ],
         "marker": {
          "color": "#000001",
          "symbol": "circle"
         },
         "mode": "markers",
         "name": "Cameroon",
         "showlegend": true,
         "type": "scattergeo"
        },
        {
         "customdata": [
          [
           45.4166666666666,
           -75.7,
           "Doja Cat",
           "Canada"
          ]
         ],
         "geo": "geo",
         "hovertemplate": "<b>%{hovertext}</b><br><br>country=%{customdata[3]}<br>artist=%{customdata[2]}<extra></extra>",
         "hovertext": [
          "Attention"
         ],
         "lat": [
          45.4166666666666
         ],
         "legendgroup": "Canada",
         "lon": [
          -75.7
         ],
         "marker": {
          "color": "#000002",
          "symbol": "circle"
         },
         "mode": "markers",
         "name": "Canada",
         "showlegend": true,
         "type": "scattergeo"
        },
        {
         "customdata": [
          [
           14.9166666666666,
           -23.516667,
           "Harry Styles",
           "Cape Verde"
          ]
         ],
         "geo": "geo",
         "hovertemplate": "<b>%{hovertext}</b><br><br>country=%{customdata[3]}<br>artist=%{customdata[2]}<extra></extra>",
         "hovertext": [
          "Harry's House"
         ],
         "lat": [
          14.9166666666666
         ],
         "legendgroup": "Cape Verde",
         "lon": [
          -23.516667
         ],
         "marker": {
          "color": "#000003",
          "symbol": "circle"
         },
         "mode": "markers",
         "name": "Cape Verde",
         "showlegend": true,
         "type": "scattergeo"
        },
        {
         "customdata": [
          [
           12.1,
           15.033333,
           "Harry Styles",
           "Chad"
          ]
         ],
         "geo": "geo",
         "hovertemplate": "<b>%{hovertext}</b><br><br>country=%{customdata[3]}<br>artist=%{customdata[2]}<extra></extra>",
         "hovertext": [
          "Harry's House"
         ],
         "lat": [
          12.1
         ],
         "legendgroup": "Chad",
         "lon": [
          15.033333
         ],
         "marker": {
          "color": "#000004",
          "symbol": "circle"
         },
         "mode": "markers",
         "name": "Chad",
         "showlegend": true,
         "type": "scattergeo"
        },
        {
         "customdata": [
          [
           -33.45,
           -70.666667,
           "Barbi Recanati",
           "Chile"
          ]
         ],
         "geo": "geo",
         "hovertemplate": "<b>%{hovertext}</b><br><br>country=%{customdata[3]}<br>artist=%{customdata[2]}<extra></extra>",
         "hovertext": [
          "El Final de Las Cosas"
         ],
         "lat": [
          -33.45
         ],
         "legendgroup": "Chile",
         "lon": [
          -70.666667
         ],
         "marker": {
          "color": "#000005",
          "symbol": "circle"
         },
         "mode": "markers",
         "name": "Chile",
         "showlegend": true,
         "type": "scattergeo"
        },
        {
         "customdata": [
          [
           4.6,
           -74.083333,
           "Juan Pablo Vega",
           "Colombia"
          ]
         ],
         "geo": "geo",
         "hovertemplate": "<b>%{hovertext}</b><br><br>country=%{customdata[3]}<br>artist=%{customdata[2]}<extra></extra>",
         "hovertext": [
          "Despídeme De Todxs"
         ],
         "lat": [
          4.6
         ],
         "legendgroup": "Colombia",
         "lon": [
          -74.083333
         ],
         "marker": {
          "color": "#000006",
          "symbol": "circle"
         },
         "mode": "markers",
         "name": "Colombia",
         "showlegend": true,
         "type": "scattergeo"
        },
        {
         "customdata": [
          [
           -11.7,
           43.233333,
           "Harry Styles",
           "Comoros"
          ]
         ],
         "geo": "geo",
         "hovertemplate": "<b>%{hovertext}</b><br><br>country=%{customdata[3]}<br>artist=%{customdata[2]}<extra></extra>",
         "hovertext": [
          "Harry's House"
         ],
         "lat": [
          -11.7
         ],
         "legendgroup": "Comoros",
         "lon": [
          43.233333
         ],
         "marker": {
          "color": "#000007",
          "symbol": "circle"
         },
         "mode": "markers",
         "name": "Comoros",
         "showlegend": true,
         "type": "scattergeo"
        },
        {
         "customdata": [
          [
           -4.31666666666666,
           15.3,
           "Harry Styles",
           "Democratic Republic of the Congo"
          ]
         ],
         "geo": "geo",
         "hovertemplate": "<b>%{hovertext}</b><br><br>country=%{customdata[3]}<br>artist=%{customdata[2]}<extra></extra>",
         "hovertext": [
          "Harry's House"
         ],
         "lat": [
          -4.31666666666666
         ],
         "legendgroup": "Democratic Republic of the Congo",
         "lon": [
          15.3
         ],
         "marker": {
          "color": "#000008",
          "symbol": "circle"
         },
         "mode": "markers",
         "name": "Democratic Republic of the Congo",
         "showlegend": true,
         "type": "scattergeo"
        },
        {
         "customdata": [
          [
           -4.25,
           15.283333,
           "Harry Styles",
           "Republic of Congo"
          ]
         ],
         "geo": "geo",
         "hovertemplate": "<b>%{hovertext}</b><br><br>country=%{customdata[3]}<br>artist=%{customdata[2]}<extra></extra>",
         "hovertext": [
          "Harry's House"
         ],
         "lat": [
          -4.25
         ],
         "legendgroup": "Republic of Congo",
         "lon": [
          15.283333
         ],
         "marker": {
          "color": "#000009",
          "symbol": "circle"
         },
         "mode": "markers",
         "name": "Republic of Congo",
         "showlegend": true,
         "type": "scattergeo"
        },
        {
         "customdata": [
          [
           9.93333333333333,
           -84.083333,
           "RM",
           "Costa Rica"
          ]
         ],
         "geo": "geo",
         "hovertemplate": "<b>%{hovertext}</b><br><br>country=%{customdata[3]}<br>artist=%{customdata[2]}<extra></extra>",
         "hovertext": [
          "Indigo"
         ],
         "lat": [
          9.93333333333333
         ],
         "legendgroup": "Costa Rica",
         "lon": [
          -84.083333
         ],
         "marker": {
          "color": "#000010",
          "symbol": "circle"
         },
         "mode": "markers",
         "name": "Costa Rica",
         "showlegend": true,
         "type": "scattergeo"
        },
        {
         "customdata": [
          [
           6.81666666666666,
           -5.266667,
           "Harry Styles",
           "Cote d'Ivoire"
          ]
         ],
         "geo": "geo",
         "hovertemplate": "<b>%{hovertext}</b><br><br>country=%{customdata[3]}<br>artist=%{customdata[2]}<extra></extra>",
         "hovertext": [
          "Harry's House"
         ],
         "lat": [
          6.81666666666666
         ],
         "legendgroup": "Cote d'Ivoire",
         "lon": [
          -5.266667
         ],
         "marker": {
          "color": "#000001",
          "symbol": "circle"
         },
         "mode": "markers",
         "name": "Cote d'Ivoire",
         "showlegend": true,
         "type": "scattergeo"
        },
        {
         "customdata": [
          [
           45.8,
           16,
           "RM",
           "Croatia"
          ]
         ],
         "geo": "geo",
         "hovertemplate": "<b>%{hovertext}</b><br><br>country=%{customdata[3]}<br>artist=%{customdata[2]}<extra></extra>",
         "hovertext": [
          "Indigo"
         ],
         "lat": [
          45.8
         ],
         "legendgroup": "Croatia",
         "lon": [
          16
         ],
         "marker": {
          "color": "#000002",
          "symbol": "circle"
         },
         "mode": "markers",
         "name": "Croatia",
         "showlegend": true,
         "type": "scattergeo"
        },
        {
         "customdata": [
          [
           12.1,
           -68.916667,
           "Harry Styles",
           "CuraÃ§ao"
          ]
         ],
         "geo": "geo",
         "hovertemplate": "<b>%{hovertext}</b><br><br>country=%{customdata[3]}<br>artist=%{customdata[2]}<extra></extra>",
         "hovertext": [
          "Harry's House"
         ],
         "lat": [
          12.1
         ],
         "legendgroup": "CuraÃ§ao",
         "lon": [
          -68.916667
         ],
         "marker": {
          "color": "#000003",
          "symbol": "circle"
         },
         "mode": "markers",
         "name": "CuraÃ§ao",
         "showlegend": true,
         "type": "scattergeo"
        },
        {
         "customdata": [
          [
           35.1666666666666,
           33.366667,
           "RM",
           "Cyprus"
          ]
         ],
         "geo": "geo",
         "hovertemplate": "<b>%{hovertext}</b><br><br>country=%{customdata[3]}<br>artist=%{customdata[2]}<extra></extra>",
         "hovertext": [
          "Indigo"
         ],
         "lat": [
          35.1666666666666
         ],
         "legendgroup": "Cyprus",
         "lon": [
          33.366667
         ],
         "marker": {
          "color": "#000004",
          "symbol": "circle"
         },
         "mode": "markers",
         "name": "Cyprus",
         "showlegend": true,
         "type": "scattergeo"
        },
        {
         "customdata": [
          [
           50.0833333333333,
           14.466667,
           "Majk Spirit",
           "Czech Republic"
          ]
         ],
         "geo": "geo",
         "hovertemplate": "<b>%{hovertext}</b><br><br>country=%{customdata[3]}<br>artist=%{customdata[2]}<extra></extra>",
         "hovertext": [
          "PLAYLIST"
         ],
         "lat": [
          50.0833333333333
         ],
         "legendgroup": "Czech Republic",
         "lon": [
          14.466667
         ],
         "marker": {
          "color": "#000005",
          "symbol": "circle"
         },
         "mode": "markers",
         "name": "Czech Republic",
         "showlegend": true,
         "type": "scattergeo"
        },
        {
         "customdata": [
          [
           55.6666666666666,
           12.583333,
           "KESI",
           "Denmark"
          ]
         ],
         "geo": "geo",
         "hovertemplate": "<b>%{hovertext}</b><br><br>country=%{customdata[3]}<br>artist=%{customdata[2]}<extra></extra>",
         "hovertext": [
          "Hjem/Videre"
         ],
         "lat": [
          55.6666666666666
         ],
         "legendgroup": "Denmark",
         "lon": [
          12.583333
         ],
         "marker": {
          "color": "#000006",
          "symbol": "circle"
         },
         "mode": "markers",
         "name": "Denmark",
         "showlegend": true,
         "type": "scattergeo"
        },
        {
         "customdata": [
          [
           11.5833333333333,
           43.15,
           "Harry Styles",
           "Djibouti"
          ]
         ],
         "geo": "geo",
         "hovertemplate": "<b>%{hovertext}</b><br><br>country=%{customdata[3]}<br>artist=%{customdata[2]}<extra></extra>",
         "hovertext": [
          "Harry's House"
         ],
         "lat": [
          11.5833333333333
         ],
         "legendgroup": "Djibouti",
         "lon": [
          43.15
         ],
         "marker": {
          "color": "#000007",
          "symbol": "circle"
         },
         "mode": "markers",
         "name": "Djibouti",
         "showlegend": true,
         "type": "scattergeo"
        },
        {
         "customdata": [
          [
           15.3,
           -61.4,
           "Harry Styles",
           "Dominica"
          ]
         ],
         "geo": "geo",
         "hovertemplate": "<b>%{hovertext}</b><br><br>country=%{customdata[3]}<br>artist=%{customdata[2]}<extra></extra>",
         "hovertext": [
          "Harry's House"
         ],
         "lat": [
          15.3
         ],
         "legendgroup": "Dominica",
         "lon": [
          -61.4
         ],
         "marker": {
          "color": "#000008",
          "symbol": "circle"
         },
         "mode": "markers",
         "name": "Dominica",
         "showlegend": true,
         "type": "scattergeo"
        },
        {
         "customdata": [
          [
           18.4666666666666,
           -69.9,
           "RM",
           "Dominican Republic"
          ]
         ],
         "geo": "geo",
         "hovertemplate": "<b>%{hovertext}</b><br><br>country=%{customdata[3]}<br>artist=%{customdata[2]}<extra></extra>",
         "hovertext": [
          "Indigo"
         ],
         "lat": [
          18.4666666666666
         ],
         "legendgroup": "Dominican Republic",
         "lon": [
          -69.9
         ],
         "marker": {
          "color": "#000009",
          "symbol": "circle"
         },
         "mode": "markers",
         "name": "Dominican Republic",
         "showlegend": true,
         "type": "scattergeo"
        },
        {
         "customdata": [
          [
           -0.216666666666666,
           -78.5,
           "RM",
           "Ecuador"
          ]
         ],
         "geo": "geo",
         "hovertemplate": "<b>%{hovertext}</b><br><br>country=%{customdata[3]}<br>artist=%{customdata[2]}<extra></extra>",
         "hovertext": [
          "Indigo"
         ],
         "lat": [
          -0.216666666666666
         ],
         "legendgroup": "Ecuador",
         "lon": [
          -78.5
         ],
         "marker": {
          "color": "#000010",
          "symbol": "circle"
         },
         "mode": "markers",
         "name": "Ecuador",
         "showlegend": true,
         "type": "scattergeo"
        },
        {
         "customdata": [
          [
           30.05,
           31.25,
           "Samira Said",
           "Egypt"
          ]
         ],
         "geo": "geo",
         "hovertemplate": "<b>%{hovertext}</b><br><br>country=%{customdata[3]}<br>artist=%{customdata[2]}<extra></extra>",
         "hovertext": [
          "Ensan 2ali"
         ],
         "lat": [
          30.05
         ],
         "legendgroup": "Egypt",
         "lon": [
          31.25
         ],
         "marker": {
          "color": "#000001",
          "symbol": "circle"
         },
         "mode": "markers",
         "name": "Egypt",
         "showlegend": true,
         "type": "scattergeo"
        },
        {
         "customdata": [
          [
           13.7,
           -89.2,
           "RM",
           "El Salvador"
          ]
         ],
         "geo": "geo",
         "hovertemplate": "<b>%{hovertext}</b><br><br>country=%{customdata[3]}<br>artist=%{customdata[2]}<extra></extra>",
         "hovertext": [
          "Indigo"
         ],
         "lat": [
          13.7
         ],
         "legendgroup": "El Salvador",
         "lon": [
          -89.2
         ],
         "marker": {
          "color": "#000002",
          "symbol": "circle"
         },
         "mode": "markers",
         "name": "El Salvador",
         "showlegend": true,
         "type": "scattergeo"
        },
        {
         "customdata": [
          [
           3.75,
           8.783333,
           "Harry Styles",
           "Equatorial Guinea"
          ]
         ],
         "geo": "geo",
         "hovertemplate": "<b>%{hovertext}</b><br><br>country=%{customdata[3]}<br>artist=%{customdata[2]}<extra></extra>",
         "hovertext": [
          "Harry's House"
         ],
         "lat": [
          3.75
         ],
         "legendgroup": "Equatorial Guinea",
         "lon": [
          8.783333
         ],
         "marker": {
          "color": "#000003",
          "symbol": "circle"
         },
         "mode": "markers",
         "name": "Equatorial Guinea",
         "showlegend": true,
         "type": "scattergeo"
        },
        {
         "customdata": [
          [
           59.4333333333333,
           24.716667,
           "RM",
           "Estonia"
          ]
         ],
         "geo": "geo",
         "hovertemplate": "<b>%{hovertext}</b><br><br>country=%{customdata[3]}<br>artist=%{customdata[2]}<extra></extra>",
         "hovertext": [
          "Indigo"
         ],
         "lat": [
          59.4333333333333
         ],
         "legendgroup": "Estonia",
         "lon": [
          24.716667
         ],
         "marker": {
          "color": "#000004",
          "symbol": "circle"
         },
         "mode": "markers",
         "name": "Estonia",
         "showlegend": true,
         "type": "scattergeo"
        },
        {
         "customdata": [
          [
           9.03333333333333,
           38.7,
           "Bensoul",
           "Ethiopia"
          ]
         ],
         "geo": "geo",
         "hovertemplate": "<b>%{hovertext}</b><br><br>country=%{customdata[3]}<br>artist=%{customdata[2]}<extra></extra>",
         "hovertext": [
          "Aibu"
         ],
         "lat": [
          9.03333333333333
         ],
         "legendgroup": "Ethiopia",
         "lon": [
          38.7
         ],
         "marker": {
          "color": "#000005",
          "symbol": "circle"
         },
         "mode": "markers",
         "name": "Ethiopia",
         "showlegend": true,
         "type": "scattergeo"
        },
        {
         "customdata": [
          [
           -18.1333333333333,
           178.416667,
           "Miliyah",
           "Fiji"
          ]
         ],
         "geo": "geo",
         "hovertemplate": "<b>%{hovertext}</b><br><br>country=%{customdata[3]}<br>artist=%{customdata[2]}<extra></extra>",
         "hovertext": [
          "BLONDE16"
         ],
         "lat": [
          -18.1333333333333
         ],
         "legendgroup": "Fiji",
         "lon": [
          178.416667
         ],
         "marker": {
          "color": "#000006",
          "symbol": "circle"
         },
         "mode": "markers",
         "name": "Fiji",
         "showlegend": true,
         "type": "scattergeo"
        },
        {
         "customdata": [
          [
           60.1666666666666,
           24.933333,
           "Antti Tuisku",
           "Finland"
          ]
         ],
         "geo": "geo",
         "hovertemplate": "<b>%{hovertext}</b><br><br>country=%{customdata[3]}<br>artist=%{customdata[2]}<extra></extra>",
         "hovertext": [
          "Sisään ja ulos"
         ],
         "lat": [
          60.1666666666666
         ],
         "legendgroup": "Finland",
         "lon": [
          24.933333
         ],
         "marker": {
          "color": "#000007",
          "symbol": "circle"
         },
         "mode": "markers",
         "name": "Finland",
         "showlegend": true,
         "type": "scattergeo"
        },
        {
         "customdata": [
          [
           48.8666666666666,
           2.333333,
           "Benab",
           "France"
          ]
         ],
         "geo": "geo",
         "hovertemplate": "<b>%{hovertext}</b><br><br>country=%{customdata[3]}<br>artist=%{customdata[2]}<extra></extra>",
         "hovertext": [
          "Drapeau Blanc"
         ],
         "lat": [
          48.8666666666666
         ],
         "legendgroup": "France",
         "lon": [
          2.333333
         ],
         "marker": {
          "color": "#000008",
          "symbol": "circle"
         },
         "mode": "markers",
         "name": "France",
         "showlegend": true,
         "type": "scattergeo"
        },
        {
         "customdata": [
          [
           0.383333333333333,
           9.45,
           "Spiritbox",
           "Gabon"
          ]
         ],
         "geo": "geo",
         "hovertemplate": "<b>%{hovertext}</b><br><br>country=%{customdata[3]}<br>artist=%{customdata[2]}<extra></extra>",
         "hovertext": [
          "Eternal Blue"
         ],
         "lat": [
          0.383333333333333
         ],
         "legendgroup": "Gabon",
         "lon": [
          9.45
         ],
         "marker": {
          "color": "#000009",
          "symbol": "circle"
         },
         "mode": "markers",
         "name": "Gabon",
         "showlegend": true,
         "type": "scattergeo"
        },
        {
         "customdata": [
          [
           13.45,
           -16.566667,
           "Harry Styles",
           "The Gambia"
          ]
         ],
         "geo": "geo",
         "hovertemplate": "<b>%{hovertext}</b><br><br>country=%{customdata[3]}<br>artist=%{customdata[2]}<extra></extra>",
         "hovertext": [
          "Harry's House"
         ],
         "lat": [
          13.45
         ],
         "legendgroup": "The Gambia",
         "lon": [
          -16.566667
         ],
         "marker": {
          "color": "#000010",
          "symbol": "circle"
         },
         "mode": "markers",
         "name": "The Gambia",
         "showlegend": true,
         "type": "scattergeo"
        },
        {
         "customdata": [
          [
           41.6833333333333,
           44.833333,
           "Harry Styles",
           "Georgia"
          ]
         ],
         "geo": "geo",
         "hovertemplate": "<b>%{hovertext}</b><br><br>country=%{customdata[3]}<br>artist=%{customdata[2]}<extra></extra>",
         "hovertext": [
          "Harry's House"
         ],
         "lat": [
          41.6833333333333
         ],
         "legendgroup": "Georgia",
         "lon": [
          44.833333
         ],
         "marker": {
          "color": "#000001",
          "symbol": "circle"
         },
         "mode": "markers",
         "name": "Georgia",
         "showlegend": true,
         "type": "scattergeo"
        },
        {
         "customdata": [
          [
           52.5166666666666,
           13.4,
           "Montez",
           "Germany"
          ]
         ],
         "geo": "geo",
         "hovertemplate": "<b>%{hovertext}</b><br><br>country=%{customdata[3]}<br>artist=%{customdata[2]}<extra></extra>",
         "hovertext": [
          "LIEBE IN GEFAHR"
         ],
         "lat": [
          52.5166666666666
         ],
         "legendgroup": "Germany",
         "lon": [
          13.4
         ],
         "marker": {
          "color": "#000002",
          "symbol": "circle"
         },
         "mode": "markers",
         "name": "Germany",
         "showlegend": true,
         "type": "scattergeo"
        },
        {
         "customdata": [
          [
           5.55,
           -0.216667,
           "Bnxn",
           "Ghana"
          ]
         ],
         "geo": "geo",
         "hovertemplate": "<b>%{hovertext}</b><br><br>country=%{customdata[3]}<br>artist=%{customdata[2]}<extra></extra>",
         "hovertext": [
          "Kenkele"
         ],
         "lat": [
          5.55
         ],
         "legendgroup": "Ghana",
         "lon": [
          -0.216667
         ],
         "marker": {
          "color": "#000003",
          "symbol": "circle"
         },
         "mode": "markers",
         "name": "Ghana",
         "showlegend": true,
         "type": "scattergeo"
        },
        {
         "customdata": [
          [
           37.9833333333333,
           23.733333,
           "P!nk",
           "Greece"
          ]
         ],
         "geo": "geo",
         "hovertemplate": "<b>%{hovertext}</b><br><br>country=%{customdata[3]}<br>artist=%{customdata[2]}<extra></extra>",
         "hovertext": [
          "TRUSTFALL"
         ],
         "lat": [
          37.9833333333333
         ],
         "legendgroup": "Greece",
         "lon": [
          23.733333
         ],
         "marker": {
          "color": "#000004",
          "symbol": "circle"
         },
         "mode": "markers",
         "name": "Greece",
         "showlegend": true,
         "type": "scattergeo"
        },
        {
         "customdata": [
          [
           12.05,
           -61.75,
           "Harry Styles",
           "Grenada"
          ]
         ],
         "geo": "geo",
         "hovertemplate": "<b>%{hovertext}</b><br><br>country=%{customdata[3]}<br>artist=%{customdata[2]}<extra></extra>",
         "hovertext": [
          "Harry's House"
         ],
         "lat": [
          12.05
         ],
         "legendgroup": "Grenada",
         "lon": [
          -61.75
         ],
         "marker": {
          "color": "#000005",
          "symbol": "circle"
         },
         "mode": "markers",
         "name": "Grenada",
         "showlegend": true,
         "type": "scattergeo"
        },
        {
         "customdata": [
          [
           14.6166666666666,
           -90.516667,
           "RM",
           "Guatemala"
          ]
         ],
         "geo": "geo",
         "hovertemplate": "<b>%{hovertext}</b><br><br>country=%{customdata[3]}<br>artist=%{customdata[2]}<extra></extra>",
         "hovertext": [
          "Indigo"
         ],
         "lat": [
          14.6166666666666
         ],
         "legendgroup": "Guatemala",
         "lon": [
          -90.516667
         ],
         "marker": {
          "color": "#000006",
          "symbol": "circle"
         },
         "mode": "markers",
         "name": "Guatemala",
         "showlegend": true,
         "type": "scattergeo"
        },
        {
         "customdata": [
          [
           9.5,
           -13.7,
           "Harry Styles",
           "Guinea"
          ]
         ],
         "geo": "geo",
         "hovertemplate": "<b>%{hovertext}</b><br><br>country=%{customdata[3]}<br>artist=%{customdata[2]}<extra></extra>",
         "hovertext": [
          "Harry's House"
         ],
         "lat": [
          9.5
         ],
         "legendgroup": "Guinea",
         "lon": [
          -13.7
         ],
         "marker": {
          "color": "#000007",
          "symbol": "circle"
         },
         "mode": "markers",
         "name": "Guinea",
         "showlegend": true,
         "type": "scattergeo"
        },
        {
         "customdata": [
          [
           11.85,
           -15.583333,
           "Harry Styles",
           "Guinea-Bissau"
          ]
         ],
         "geo": "geo",
         "hovertemplate": "<b>%{hovertext}</b><br><br>country=%{customdata[3]}<br>artist=%{customdata[2]}<extra></extra>",
         "hovertext": [
          "Harry's House"
         ],
         "lat": [
          11.85
         ],
         "legendgroup": "Guinea-Bissau",
         "lon": [
          -15.583333
         ],
         "marker": {
          "color": "#000008",
          "symbol": "circle"
         },
         "mode": "markers",
         "name": "Guinea-Bissau",
         "showlegend": true,
         "type": "scattergeo"
        },
        {
         "customdata": [
          [
           6.8,
           -58.15,
           "Harry Styles",
           "Guyana"
          ]
         ],
         "geo": "geo",
         "hovertemplate": "<b>%{hovertext}</b><br><br>country=%{customdata[3]}<br>artist=%{customdata[2]}<extra></extra>",
         "hovertext": [
          "Harry's House"
         ],
         "lat": [
          6.8
         ],
         "legendgroup": "Guyana",
         "lon": [
          -58.15
         ],
         "marker": {
          "color": "#000009",
          "symbol": "circle"
         },
         "mode": "markers",
         "name": "Guyana",
         "showlegend": true,
         "type": "scattergeo"
        },
        {
         "customdata": [
          [
           18.5333333333333,
           -72.333333,
           "Harry Styles",
           "Haiti"
          ]
         ],
         "geo": "geo",
         "hovertemplate": "<b>%{hovertext}</b><br><br>country=%{customdata[3]}<br>artist=%{customdata[2]}<extra></extra>",
         "hovertext": [
          "Harry's House"
         ],
         "lat": [
          18.5333333333333
         ],
         "legendgroup": "Haiti",
         "lon": [
          -72.333333
         ],
         "marker": {
          "color": "#000010",
          "symbol": "circle"
         },
         "mode": "markers",
         "name": "Haiti",
         "showlegend": true,
         "type": "scattergeo"
        },
        {
         "customdata": [
          [
           14.1,
           -87.216667,
           "RM",
           "Honduras"
          ]
         ],
         "geo": "geo",
         "hovertemplate": "<b>%{hovertext}</b><br><br>country=%{customdata[3]}<br>artist=%{customdata[2]}<extra></extra>",
         "hovertext": [
          "Indigo"
         ],
         "lat": [
          14.1
         ],
         "legendgroup": "Honduras",
         "lon": [
          -87.216667
         ],
         "marker": {
          "color": "#000001",
          "symbol": "circle"
         },
         "mode": "markers",
         "name": "Honduras",
         "showlegend": true,
         "type": "scattergeo"
        },
        {
         "customdata": [
          [
           47.5,
           19.083333,
           "BLACKPINK",
           "Hungary"
          ]
         ],
         "geo": "geo",
         "hovertemplate": "<b>%{hovertext}</b><br><br>country=%{customdata[3]}<br>artist=%{customdata[2]}<extra></extra>",
         "hovertext": [
          "BORN PINK"
         ],
         "lat": [
          47.5
         ],
         "legendgroup": "Hungary",
         "lon": [
          19.083333
         ],
         "marker": {
          "color": "#000002",
          "symbol": "circle"
         },
         "mode": "markers",
         "name": "Hungary",
         "showlegend": true,
         "type": "scattergeo"
        },
        {
         "customdata": [
          [
           64.15,
           -21.95,
           "Doja Cat",
           "Iceland"
          ]
         ],
         "geo": "geo",
         "hovertemplate": "<b>%{hovertext}</b><br><br>country=%{customdata[3]}<br>artist=%{customdata[2]}<extra></extra>",
         "hovertext": [
          "Attention"
         ],
         "lat": [
          64.15
         ],
         "legendgroup": "Iceland",
         "lon": [
          -21.95
         ],
         "marker": {
          "color": "#000003",
          "symbol": "circle"
         },
         "mode": "markers",
         "name": "Iceland",
         "showlegend": true,
         "type": "scattergeo"
        },
        {
         "customdata": [
          [
           28.6,
           77.2,
           "Pritam",
           "India"
          ]
         ],
         "geo": "geo",
         "hovertemplate": "<b>%{hovertext}</b><br><br>country=%{customdata[3]}<br>artist=%{customdata[2]}<extra></extra>",
         "hovertext": [
          "Tu Jhoothi Main Makkaar"
         ],
         "lat": [
          28.6
         ],
         "legendgroup": "India",
         "lon": [
          77.2
         ],
         "marker": {
          "color": "#000004",
          "symbol": "circle"
         },
         "mode": "markers",
         "name": "India",
         "showlegend": true,
         "type": "scattergeo"
        },
        {
         "customdata": [
          [
           -6.16666666666666,
           106.816667,
           "Laufey",
           "Indonesia"
          ]
         ],
         "geo": "geo",
         "hovertemplate": "<b>%{hovertext}</b><br><br>country=%{customdata[3]}<br>artist=%{customdata[2]}<extra></extra>",
         "hovertext": [
          "Promise"
         ],
         "lat": [
          -6.16666666666666
         ],
         "legendgroup": "Indonesia",
         "lon": [
          106.816667
         ],
         "marker": {
          "color": "#000005",
          "symbol": "circle"
         },
         "mode": "markers",
         "name": "Indonesia",
         "showlegend": true,
         "type": "scattergeo"
        },
        {
         "customdata": [
          [
           33.3333333333333,
           44.4,
           "Doja Cat",
           "Iraq"
          ]
         ],
         "geo": "geo",
         "hovertemplate": "<b>%{hovertext}</b><br><br>country=%{customdata[3]}<br>artist=%{customdata[2]}<extra></extra>",
         "hovertext": [
          "Attention"
         ],
         "lat": [
          33.3333333333333
         ],
         "legendgroup": "Iraq",
         "lon": [
          44.4
         ],
         "marker": {
          "color": "#000006",
          "symbol": "circle"
         },
         "mode": "markers",
         "name": "Iraq",
         "showlegend": true,
         "type": "scattergeo"
        },
        {
         "customdata": [
          [
           53.3166666666666,
           -6.233333,
           "Tom Grennan",
           "Ireland"
          ]
         ],
         "geo": "geo",
         "hovertemplate": "<b>%{hovertext}</b><br><br>country=%{customdata[3]}<br>artist=%{customdata[2]}<extra></extra>",
         "hovertext": [
          "What Ifs & Maybes"
         ],
         "lat": [
          53.3166666666666
         ],
         "legendgroup": "Ireland",
         "lon": [
          -6.233333
         ],
         "marker": {
          "color": "#000007",
          "symbol": "circle"
         },
         "mode": "markers",
         "name": "Ireland",
         "showlegend": true,
         "type": "scattergeo"
        },
        {
         "customdata": [
          [
           31.7666666666666,
           35.233333,
           "Peer Tasi",
           "Israel"
          ]
         ],
         "geo": "geo",
         "hovertemplate": "<b>%{hovertext}</b><br><br>country=%{customdata[3]}<br>artist=%{customdata[2]}<extra></extra>",
         "hovertext": [
          "רדיו שטח"
         ],
         "lat": [
          31.7666666666666
         ],
         "legendgroup": "Israel",
         "lon": [
          35.233333
         ],
         "marker": {
          "color": "#000008",
          "symbol": "circle"
         },
         "mode": "markers",
         "name": "Israel",
         "showlegend": true,
         "type": "scattergeo"
        },
        {
         "customdata": [
          [
           41.9,
           12.483333,
           "Shiva",
           "Italy"
          ]
         ],
         "geo": "geo",
         "hovertemplate": "<b>%{hovertext}</b><br><br>country=%{customdata[3]}<br>artist=%{customdata[2]}<extra></extra>",
         "hovertext": [
          "Santana Season"
         ],
         "lat": [
          41.9
         ],
         "legendgroup": "Italy",
         "lon": [
          12.483333
         ],
         "marker": {
          "color": "#000009",
          "symbol": "circle"
         },
         "mode": "markers",
         "name": "Italy",
         "showlegend": true,
         "type": "scattergeo"
        },
        {
         "customdata": [
          [
           18,
           -76.8,
           "Harry Styles",
           "Jamaica"
          ]
         ],
         "geo": "geo",
         "hovertemplate": "<b>%{hovertext}</b><br><br>country=%{customdata[3]}<br>artist=%{customdata[2]}<extra></extra>",
         "hovertext": [
          "Harry's House"
         ],
         "lat": [
          18
         ],
         "legendgroup": "Jamaica",
         "lon": [
          -76.8
         ],
         "marker": {
          "color": "#000010",
          "symbol": "circle"
         },
         "mode": "markers",
         "name": "Jamaica",
         "showlegend": true,
         "type": "scattergeo"
        },
        {
         "customdata": [
          [
           35.6833333333333,
           139.75,
           "natori",
           "Japan"
          ]
         ],
         "geo": "geo",
         "hovertemplate": "<b>%{hovertext}</b><br><br>country=%{customdata[3]}<br>artist=%{customdata[2]}<extra></extra>",
         "hovertext": [
          "エウレカ"
         ],
         "lat": [
          35.6833333333333
         ],
         "legendgroup": "Japan",
         "lon": [
          139.75
         ],
         "marker": {
          "color": "#000001",
          "symbol": "circle"
         },
         "mode": "markers",
         "name": "Japan",
         "showlegend": true,
         "type": "scattergeo"
        },
        {
         "customdata": [
          [
           31.95,
           35.933333,
           "ROSALÍA",
           "Jordan"
          ]
         ],
         "geo": "geo",
         "hovertemplate": "<b>%{hovertext}</b><br><br>country=%{customdata[3]}<br>artist=%{customdata[2]}<extra></extra>",
         "hovertext": [
          "TUYA"
         ],
         "lat": [
          31.95
         ],
         "legendgroup": "Jordan",
         "lon": [
          35.933333
         ],
         "marker": {
          "color": "#000002",
          "symbol": "circle"
         },
         "mode": "markers",
         "name": "Jordan",
         "showlegend": true,
         "type": "scattergeo"
        },
        {
         "customdata": [
          [
           51.1666666666666,
           71.416667,
           "Xcho",
           "Kazakhstan"
          ]
         ],
         "geo": "geo",
         "hovertemplate": "<b>%{hovertext}</b><br><br>country=%{customdata[3]}<br>artist=%{customdata[2]}<extra></extra>",
         "hovertext": [
          "Январь"
         ],
         "lat": [
          51.1666666666666
         ],
         "legendgroup": "Kazakhstan",
         "lon": [
          71.416667
         ],
         "marker": {
          "color": "#000003",
          "symbol": "circle"
         },
         "mode": "markers",
         "name": "Kazakhstan",
         "showlegend": true,
         "type": "scattergeo"
        },
        {
         "customdata": [
          [
           -1.28333333333333,
           36.816667,
           "Bussa J",
           "Kenya"
          ]
         ],
         "geo": "geo",
         "hovertemplate": "<b>%{hovertext}</b><br><br>country=%{customdata[3]}<br>artist=%{customdata[2]}<extra></extra>",
         "hovertext": [
          "Fikiria"
         ],
         "lat": [
          -1.28333333333333
         ],
         "legendgroup": "Kenya",
         "lon": [
          36.816667
         ],
         "marker": {
          "color": "#000004",
          "symbol": "circle"
         },
         "mode": "markers",
         "name": "Kenya",
         "showlegend": true,
         "type": "scattergeo"
        },
        {
         "customdata": [
          [
           -0.883333333333333,
           169.533333,
           "Miliyah",
           "Kiribati"
          ]
         ],
         "geo": "geo",
         "hovertemplate": "<b>%{hovertext}</b><br><br>country=%{customdata[3]}<br>artist=%{customdata[2]}<extra></extra>",
         "hovertext": [
          "BLONDE16"
         ],
         "lat": [
          -0.883333333333333
         ],
         "legendgroup": "Kiribati",
         "lon": [
          169.533333
         ],
         "marker": {
          "color": "#000005",
          "symbol": "circle"
         },
         "mode": "markers",
         "name": "Kiribati",
         "showlegend": true,
         "type": "scattergeo"
        },
        {
         "customdata": [
          [
           37.55,
           126.983333,
           "Laufey",
           "South Korea"
          ]
         ],
         "geo": "geo",
         "hovertemplate": "<b>%{hovertext}</b><br><br>country=%{customdata[3]}<br>artist=%{customdata[2]}<extra></extra>",
         "hovertext": [
          "Promise"
         ],
         "lat": [
          37.55
         ],
         "legendgroup": "South Korea",
         "lon": [
          126.983333
         ],
         "marker": {
          "color": "#000006",
          "symbol": "circle"
         },
         "mode": "markers",
         "name": "South Korea",
         "showlegend": true,
         "type": "scattergeo"
        },
        {
         "customdata": [
          [
           29.3666666666666,
           47.966667,
           "Doja Cat",
           "Kuwait"
          ]
         ],
         "geo": "geo",
         "hovertemplate": "<b>%{hovertext}</b><br><br>country=%{customdata[3]}<br>artist=%{customdata[2]}<extra></extra>",
         "hovertext": [
          "Attention"
         ],
         "lat": [
          29.3666666666666
         ],
         "legendgroup": "Kuwait",
         "lon": [
          47.966667
         ],
         "marker": {
          "color": "#000007",
          "symbol": "circle"
         },
         "mode": "markers",
         "name": "Kuwait",
         "showlegend": true,
         "type": "scattergeo"
        },
        {
         "customdata": [
          [
           42.8666666666666,
           74.6,
           "Harry Styles",
           "Kyrgyzstan"
          ]
         ],
         "geo": "geo",
         "hovertemplate": "<b>%{hovertext}</b><br><br>country=%{customdata[3]}<br>artist=%{customdata[2]}<extra></extra>",
         "hovertext": [
          "Harry's House"
         ],
         "lat": [
          42.8666666666666
         ],
         "legendgroup": "Kyrgyzstan",
         "lon": [
          74.6
         ],
         "marker": {
          "color": "#000008",
          "symbol": "circle"
         },
         "mode": "markers",
         "name": "Kyrgyzstan",
         "showlegend": true,
         "type": "scattergeo"
        },
        {
         "customdata": [
          [
           17.9666666666666,
           102.6,
           "ONF",
           "Laos"
          ]
         ],
         "geo": "geo",
         "hovertemplate": "<b>%{hovertext}</b><br><br>country=%{customdata[3]}<br>artist=%{customdata[2]}<extra></extra>",
         "hovertext": [
          "6TH MINI ALBUM [Goosebumps]"
         ],
         "lat": [
          17.9666666666666
         ],
         "legendgroup": "Laos",
         "lon": [
          102.6
         ],
         "marker": {
          "color": "#000009",
          "symbol": "circle"
         },
         "mode": "markers",
         "name": "Laos",
         "showlegend": true,
         "type": "scattergeo"
        },
        {
         "customdata": [
          [
           56.95,
           24.1,
           "RM",
           "Latvia"
          ]
         ],
         "geo": "geo",
         "hovertemplate": "<b>%{hovertext}</b><br><br>country=%{customdata[3]}<br>artist=%{customdata[2]}<extra></extra>",
         "hovertext": [
          "Indigo"
         ],
         "lat": [
          56.95
         ],
         "legendgroup": "Latvia",
         "lon": [
          24.1
         ],
         "marker": {
          "color": "#000010",
          "symbol": "circle"
         },
         "mode": "markers",
         "name": "Latvia",
         "showlegend": true,
         "type": "scattergeo"
        },
        {
         "customdata": [
          [
           33.8666666666666,
           35.5,
           "ROSALÍA",
           "Lebanon"
          ]
         ],
         "geo": "geo",
         "hovertemplate": "<b>%{hovertext}</b><br><br>country=%{customdata[3]}<br>artist=%{customdata[2]}<extra></extra>",
         "hovertext": [
          "TUYA"
         ],
         "lat": [
          33.8666666666666
         ],
         "legendgroup": "Lebanon",
         "lon": [
          35.5
         ],
         "marker": {
          "color": "#000001",
          "symbol": "circle"
         },
         "mode": "markers",
         "name": "Lebanon",
         "showlegend": true,
         "type": "scattergeo"
        },
        {
         "customdata": [
          [
           -29.3166666666666,
           27.483333,
           "Mthandazo Gatya",
           "Lesotho"
          ]
         ],
         "geo": "geo",
         "hovertemplate": "<b>%{hovertext}</b><br><br>country=%{customdata[3]}<br>artist=%{customdata[2]}<extra></extra>",
         "hovertext": [
          "Journey To Infinity"
         ],
         "lat": [
          -29.3166666666666
         ],
         "legendgroup": "Lesotho",
         "lon": [
          27.483333
         ],
         "marker": {
          "color": "#000002",
          "symbol": "circle"
         },
         "mode": "markers",
         "name": "Lesotho",
         "showlegend": true,
         "type": "scattergeo"
        },
        {
         "customdata": [
          [
           6.3,
           -10.8,
           "Harry Styles",
           "Liberia"
          ]
         ],
         "geo": "geo",
         "hovertemplate": "<b>%{hovertext}</b><br><br>country=%{customdata[3]}<br>artist=%{customdata[2]}<extra></extra>",
         "hovertext": [
          "Harry's House"
         ],
         "lat": [
          6.3
         ],
         "legendgroup": "Liberia",
         "lon": [
          -10.8
         ],
         "marker": {
          "color": "#000003",
          "symbol": "circle"
         },
         "mode": "markers",
         "name": "Liberia",
         "showlegend": true,
         "type": "scattergeo"
        },
        {
         "customdata": [
          [
           32.8833333333333,
           13.166667,
           "benny blanco",
           "Libya"
          ]
         ],
         "geo": "geo",
         "hovertemplate": "<b>%{hovertext}</b><br><br>country=%{customdata[3]}<br>artist=%{customdata[2]}<extra></extra>",
         "hovertext": [
          "Bad Decisions (with BTS & Snoop Dogg)"
         ],
         "lat": [
          32.8833333333333
         ],
         "legendgroup": "Libya",
         "lon": [
          13.166667
         ],
         "marker": {
          "color": "#000004",
          "symbol": "circle"
         },
         "mode": "markers",
         "name": "Libya",
         "showlegend": true,
         "type": "scattergeo"
        },
        {
         "customdata": [
          [
           47.1333333333333,
           9.516667,
           "RM",
           "Liechtenstein"
          ]
         ],
         "geo": "geo",
         "hovertemplate": "<b>%{hovertext}</b><br><br>country=%{customdata[3]}<br>artist=%{customdata[2]}<extra></extra>",
         "hovertext": [
          "Indigo"
         ],
         "lat": [
          47.1333333333333
         ],
         "legendgroup": "Liechtenstein",
         "lon": [
          9.516667
         ],
         "marker": {
          "color": "#000005",
          "symbol": "circle"
         },
         "mode": "markers",
         "name": "Liechtenstein",
         "showlegend": true,
         "type": "scattergeo"
        },
        {
         "customdata": [
          [
           54.6833333333333,
           25.316667,
           "RM",
           "Lithuania"
          ]
         ],
         "geo": "geo",
         "hovertemplate": "<b>%{hovertext}</b><br><br>country=%{customdata[3]}<br>artist=%{customdata[2]}<extra></extra>",
         "hovertext": [
          "Indigo"
         ],
         "lat": [
          54.6833333333333
         ],
         "legendgroup": "Lithuania",
         "lon": [
          25.316667
         ],
         "marker": {
          "color": "#000006",
          "symbol": "circle"
         },
         "mode": "markers",
         "name": "Lithuania",
         "showlegend": true,
         "type": "scattergeo"
        },
        {
         "customdata": [
          [
           49.6,
           6.116667,
           "Benab",
           "Luxembourg"
          ]
         ],
         "geo": "geo",
         "hovertemplate": "<b>%{hovertext}</b><br><br>country=%{customdata[3]}<br>artist=%{customdata[2]}<extra></extra>",
         "hovertext": [
          "Drapeau Blanc"
         ],
         "lat": [
          49.6
         ],
         "legendgroup": "Luxembourg",
         "lon": [
          6.116667
         ],
         "marker": {
          "color": "#000007",
          "symbol": "circle"
         },
         "mode": "markers",
         "name": "Luxembourg",
         "showlegend": true,
         "type": "scattergeo"
        },
        {
         "customdata": [
          [
           42,
           21.433333,
           "Harry Styles",
           "Macedonia"
          ]
         ],
         "geo": "geo",
         "hovertemplate": "<b>%{hovertext}</b><br><br>country=%{customdata[3]}<br>artist=%{customdata[2]}<extra></extra>",
         "hovertext": [
          "Harry's House"
         ],
         "lat": [
          42
         ],
         "legendgroup": "Macedonia",
         "lon": [
          21.433333
         ],
         "marker": {
          "color": "#000008",
          "symbol": "circle"
         },
         "mode": "markers",
         "name": "Macedonia",
         "showlegend": true,
         "type": "scattergeo"
        },
        {
         "customdata": [
          [
           -18.9166666666666,
           47.516667,
           "Harry Styles",
           "Madagascar"
          ]
         ],
         "geo": "geo",
         "hovertemplate": "<b>%{hovertext}</b><br><br>country=%{customdata[3]}<br>artist=%{customdata[2]}<extra></extra>",
         "hovertext": [
          "Harry's House"
         ],
         "lat": [
          -18.9166666666666
         ],
         "legendgroup": "Madagascar",
         "lon": [
          47.516667
         ],
         "marker": {
          "color": "#000009",
          "symbol": "circle"
         },
         "mode": "markers",
         "name": "Madagascar",
         "showlegend": true,
         "type": "scattergeo"
        },
        {
         "customdata": [
          [
           -13.9666666666666,
           33.783333,
           "Harry Styles",
           "Malawi"
          ]
         ],
         "geo": "geo",
         "hovertemplate": "<b>%{hovertext}</b><br><br>country=%{customdata[3]}<br>artist=%{customdata[2]}<extra></extra>",
         "hovertext": [
          "Harry's House"
         ],
         "lat": [
          -13.9666666666666
         ],
         "legendgroup": "Malawi",
         "lon": [
          33.783333
         ],
         "marker": {
          "color": "#000010",
          "symbol": "circle"
         },
         "mode": "markers",
         "name": "Malawi",
         "showlegend": true,
         "type": "scattergeo"
        },
        {
         "customdata": [
          [
           3.16666666666666,
           101.7,
           "OHMYMEITING",
           "Malaysia"
          ]
         ],
         "geo": "geo",
         "hovertemplate": "<b>%{hovertext}</b><br><br>country=%{customdata[3]}<br>artist=%{customdata[2]}<extra></extra>",
         "hovertext": [
          "Supernova"
         ],
         "lat": [
          3.16666666666666
         ],
         "legendgroup": "Malaysia",
         "lon": [
          101.7
         ],
         "marker": {
          "color": "#000001",
          "symbol": "circle"
         },
         "mode": "markers",
         "name": "Malaysia",
         "showlegend": true,
         "type": "scattergeo"
        },
        {
         "customdata": [
          [
           4.16666666666666,
           73.5,
           "ONF",
           "Maldives"
          ]
         ],
         "geo": "geo",
         "hovertemplate": "<b>%{hovertext}</b><br><br>country=%{customdata[3]}<br>artist=%{customdata[2]}<extra></extra>",
         "hovertext": [
          "6TH MINI ALBUM [Goosebumps]"
         ],
         "lat": [
          4.16666666666666
         ],
         "legendgroup": "Maldives",
         "lon": [
          73.5
         ],
         "marker": {
          "color": "#000002",
          "symbol": "circle"
         },
         "mode": "markers",
         "name": "Maldives",
         "showlegend": true,
         "type": "scattergeo"
        },
        {
         "customdata": [
          [
           12.65,
           -8,
           "Harry Styles",
           "Mali"
          ]
         ],
         "geo": "geo",
         "hovertemplate": "<b>%{hovertext}</b><br><br>country=%{customdata[3]}<br>artist=%{customdata[2]}<extra></extra>",
         "hovertext": [
          "Harry's House"
         ],
         "lat": [
          12.65
         ],
         "legendgroup": "Mali",
         "lon": [
          -8
         ],
         "marker": {
          "color": "#000003",
          "symbol": "circle"
         },
         "mode": "markers",
         "name": "Mali",
         "showlegend": true,
         "type": "scattergeo"
        },
        {
         "customdata": [
          [
           35.8833333333333,
           14.5,
           "RM",
           "Malta"
          ]
         ],
         "geo": "geo",
         "hovertemplate": "<b>%{hovertext}</b><br><br>country=%{customdata[3]}<br>artist=%{customdata[2]}<extra></extra>",
         "hovertext": [
          "Indigo"
         ],
         "lat": [
          35.8833333333333
         ],
         "legendgroup": "Malta",
         "lon": [
          14.5
         ],
         "marker": {
          "color": "#000004",
          "symbol": "circle"
         },
         "mode": "markers",
         "name": "Malta",
         "showlegend": true,
         "type": "scattergeo"
        },
        {
         "customdata": [
          [
           7.1,
           171.383333,
           "Miliyah",
           "Marshall Islands"
          ]
         ],
         "geo": "geo",
         "hovertemplate": "<b>%{hovertext}</b><br><br>country=%{customdata[3]}<br>artist=%{customdata[2]}<extra></extra>",
         "hovertext": [
          "BLONDE16"
         ],
         "lat": [
          7.1
         ],
         "legendgroup": "Marshall Islands",
         "lon": [
          171.383333
         ],
         "marker": {
          "color": "#000005",
          "symbol": "circle"
         },
         "mode": "markers",
         "name": "Marshall Islands",
         "showlegend": true,
         "type": "scattergeo"
        },
        {
         "customdata": [
          [
           18.0666666666666,
           -15.966667,
           "Harry Styles",
           "Mauritania"
          ]
         ],
         "geo": "geo",
         "hovertemplate": "<b>%{hovertext}</b><br><br>country=%{customdata[3]}<br>artist=%{customdata[2]}<extra></extra>",
         "hovertext": [
          "Harry's House"
         ],
         "lat": [
          18.0666666666666
         ],
         "legendgroup": "Mauritania",
         "lon": [
          -15.966667
         ],
         "marker": {
          "color": "#000006",
          "symbol": "circle"
         },
         "mode": "markers",
         "name": "Mauritania",
         "showlegend": true,
         "type": "scattergeo"
        },
        {
         "customdata": [
          [
           -20.15,
           57.483333,
           "Harry Styles",
           "Mauritius"
          ]
         ],
         "geo": "geo",
         "hovertemplate": "<b>%{hovertext}</b><br><br>country=%{customdata[3]}<br>artist=%{customdata[2]}<extra></extra>",
         "hovertext": [
          "Harry's House"
         ],
         "lat": [
          -20.15
         ],
         "legendgroup": "Mauritius",
         "lon": [
          57.483333
         ],
         "marker": {
          "color": "#000007",
          "symbol": "circle"
         },
         "mode": "markers",
         "name": "Mauritius",
         "showlegend": true,
         "type": "scattergeo"
        },
        {
         "customdata": [
          [
           19.4333333333333,
           -99.133333,
           "Carin Leon",
           "Mexico"
          ]
         ],
         "geo": "geo",
         "hovertemplate": "<b>%{hovertext}</b><br><br>country=%{customdata[3]}<br>artist=%{customdata[2]}<extra></extra>",
         "hovertext": [
          "Colmillo De Leche"
         ],
         "lat": [
          19.4333333333333
         ],
         "legendgroup": "Mexico",
         "lon": [
          -99.133333
         ],
         "marker": {
          "color": "#000008",
          "symbol": "circle"
         },
         "mode": "markers",
         "name": "Mexico",
         "showlegend": true,
         "type": "scattergeo"
        },
        {
         "customdata": [
          [
           6.91666666666666,
           158.15,
           "Harry Styles",
           "Federated States of Micronesia"
          ]
         ],
         "geo": "geo",
         "hovertemplate": "<b>%{hovertext}</b><br><br>country=%{customdata[3]}<br>artist=%{customdata[2]}<extra></extra>",
         "hovertext": [
          "Harry's House"
         ],
         "lat": [
          6.91666666666666
         ],
         "legendgroup": "Federated States of Micronesia",
         "lon": [
          158.15
         ],
         "marker": {
          "color": "#000009",
          "symbol": "circle"
         },
         "mode": "markers",
         "name": "Federated States of Micronesia",
         "showlegend": true,
         "type": "scattergeo"
        },
        {
         "customdata": [
          [
           47,
           28.85,
           "Spiritbox",
           "Moldova"
          ]
         ],
         "geo": "geo",
         "hovertemplate": "<b>%{hovertext}</b><br><br>country=%{customdata[3]}<br>artist=%{customdata[2]}<extra></extra>",
         "hovertext": [
          "Eternal Blue"
         ],
         "lat": [
          47
         ],
         "legendgroup": "Moldova",
         "lon": [
          28.85
         ],
         "marker": {
          "color": "#000010",
          "symbol": "circle"
         },
         "mode": "markers",
         "name": "Moldova",
         "showlegend": true,
         "type": "scattergeo"
        },
        {
         "customdata": [
          [
           43.7333333333333,
           7.416667,
           "Benab",
           "Monaco"
          ]
         ],
         "geo": "geo",
         "hovertemplate": "<b>%{hovertext}</b><br><br>country=%{customdata[3]}<br>artist=%{customdata[2]}<extra></extra>",
         "hovertext": [
          "Drapeau Blanc"
         ],
         "lat": [
          43.7333333333333
         ],
         "legendgroup": "Monaco",
         "lon": [
          7.416667
         ],
         "marker": {
          "color": "#000001",
          "symbol": "circle"
         },
         "mode": "markers",
         "name": "Monaco",
         "showlegend": true,
         "type": "scattergeo"
        },
        {
         "customdata": [
          [
           47.9166666666666,
           106.916667,
           "ONF",
           "Mongolia"
          ]
         ],
         "geo": "geo",
         "hovertemplate": "<b>%{hovertext}</b><br><br>country=%{customdata[3]}<br>artist=%{customdata[2]}<extra></extra>",
         "hovertext": [
          "6TH MINI ALBUM [Goosebumps]"
         ],
         "lat": [
          47.9166666666666
         ],
         "legendgroup": "Mongolia",
         "lon": [
          106.916667
         ],
         "marker": {
          "color": "#000002",
          "symbol": "circle"
         },
         "mode": "markers",
         "name": "Mongolia",
         "showlegend": true,
         "type": "scattergeo"
        },
        {
         "customdata": [
          [
           42.4333333333333,
           19.266667,
           "Harry Styles",
           "Montenegro"
          ]
         ],
         "geo": "geo",
         "hovertemplate": "<b>%{hovertext}</b><br><br>country=%{customdata[3]}<br>artist=%{customdata[2]}<extra></extra>",
         "hovertext": [
          "Harry's House"
         ],
         "lat": [
          42.4333333333333
         ],
         "legendgroup": "Montenegro",
         "lon": [
          19.266667
         ],
         "marker": {
          "color": "#000003",
          "symbol": "circle"
         },
         "mode": "markers",
         "name": "Montenegro",
         "showlegend": true,
         "type": "scattergeo"
        },
        {
         "customdata": [
          [
           34.0166666666666,
           -6.816667,
           "Zouhair Bahaoui",
           "Morocco"
          ]
         ],
         "geo": "geo",
         "hovertemplate": "<b>%{hovertext}</b><br><br>country=%{customdata[3]}<br>artist=%{customdata[2]}<extra></extra>",
         "hovertext": [
          "YA LE3DOUWA"
         ],
         "lat": [
          34.0166666666666
         ],
         "legendgroup": "Morocco",
         "lon": [
          -6.816667
         ],
         "marker": {
          "color": "#000004",
          "symbol": "circle"
         },
         "mode": "markers",
         "name": "Morocco",
         "showlegend": true,
         "type": "scattergeo"
        },
        {
         "customdata": [
          [
           -25.95,
           32.583333,
           "Mthandazo Gatya",
           "Mozambique"
          ]
         ],
         "geo": "geo",
         "hovertemplate": "<b>%{hovertext}</b><br><br>country=%{customdata[3]}<br>artist=%{customdata[2]}<extra></extra>",
         "hovertext": [
          "Journey To Infinity"
         ],
         "lat": [
          -25.95
         ],
         "legendgroup": "Mozambique",
         "lon": [
          32.583333
         ],
         "marker": {
          "color": "#000005",
          "symbol": "circle"
         },
         "mode": "markers",
         "name": "Mozambique",
         "showlegend": true,
         "type": "scattergeo"
        },
        {
         "customdata": [
          [
           -22.5666666666666,
           17.083333,
           "Mthandazo Gatya",
           "Namibia"
          ]
         ],
         "geo": "geo",
         "hovertemplate": "<b>%{hovertext}</b><br><br>country=%{customdata[3]}<br>artist=%{customdata[2]}<extra></extra>",
         "hovertext": [
          "Journey To Infinity"
         ],
         "lat": [
          -22.5666666666666
         ],
         "legendgroup": "Namibia",
         "lon": [
          17.083333
         ],
         "marker": {
          "color": "#000006",
          "symbol": "circle"
         },
         "mode": "markers",
         "name": "Namibia",
         "showlegend": true,
         "type": "scattergeo"
        },
        {
         "customdata": [
          [
           27.7166666666666,
           85.316667,
           "ONF",
           "Nepal"
          ]
         ],
         "geo": "geo",
         "hovertemplate": "<b>%{hovertext}</b><br><br>country=%{customdata[3]}<br>artist=%{customdata[2]}<extra></extra>",
         "hovertext": [
          "6TH MINI ALBUM [Goosebumps]"
         ],
         "lat": [
          27.7166666666666
         ],
         "legendgroup": "Nepal",
         "lon": [
          85.316667
         ],
         "marker": {
          "color": "#000007",
          "symbol": "circle"
         },
         "mode": "markers",
         "name": "Nepal",
         "showlegend": true,
         "type": "scattergeo"
        },
        {
         "customdata": [
          [
           52.35,
           4.916667,
           "Tom Grennan",
           "Netherlands"
          ]
         ],
         "geo": "geo",
         "hovertemplate": "<b>%{hovertext}</b><br><br>country=%{customdata[3]}<br>artist=%{customdata[2]}<extra></extra>",
         "hovertext": [
          "What Ifs & Maybes"
         ],
         "lat": [
          52.35
         ],
         "legendgroup": "Netherlands",
         "lon": [
          4.916667
         ],
         "marker": {
          "color": "#000008",
          "symbol": "circle"
         },
         "mode": "markers",
         "name": "Netherlands",
         "showlegend": true,
         "type": "scattergeo"
        },
        {
         "customdata": [
          [
           -41.3,
           174.783333,
           "The Teskey Brothers",
           "New Zealand"
          ]
         ],
         "geo": "geo",
         "hovertemplate": "<b>%{hovertext}</b><br><br>country=%{customdata[3]}<br>artist=%{customdata[2]}<extra></extra>",
         "hovertext": [
          "The Winding Way"
         ],
         "lat": [
          -41.3
         ],
         "legendgroup": "New Zealand",
         "lon": [
          174.783333
         ],
         "marker": {
          "color": "#000009",
          "symbol": "circle"
         },
         "mode": "markers",
         "name": "New Zealand",
         "showlegend": true,
         "type": "scattergeo"
        },
        {
         "customdata": [
          [
           12.1333333333333,
           -86.25,
           "RM",
           "Nicaragua"
          ]
         ],
         "geo": "geo",
         "hovertemplate": "<b>%{hovertext}</b><br><br>country=%{customdata[3]}<br>artist=%{customdata[2]}<extra></extra>",
         "hovertext": [
          "Indigo"
         ],
         "lat": [
          12.1333333333333
         ],
         "legendgroup": "Nicaragua",
         "lon": [
          -86.25
         ],
         "marker": {
          "color": "#000010",
          "symbol": "circle"
         },
         "mode": "markers",
         "name": "Nicaragua",
         "showlegend": true,
         "type": "scattergeo"
        },
        {
         "customdata": [
          [
           13.5166666666666,
           2.116667,
           "Harry Styles",
           "Niger"
          ]
         ],
         "geo": "geo",
         "hovertemplate": "<b>%{hovertext}</b><br><br>country=%{customdata[3]}<br>artist=%{customdata[2]}<extra></extra>",
         "hovertext": [
          "Harry's House"
         ],
         "lat": [
          13.5166666666666
         ],
         "legendgroup": "Niger",
         "lon": [
          2.116667
         ],
         "marker": {
          "color": "#000001",
          "symbol": "circle"
         },
         "mode": "markers",
         "name": "Niger",
         "showlegend": true,
         "type": "scattergeo"
        },
        {
         "customdata": [
          [
           9.08333333333333,
           7.533333,
           "Bnxn",
           "Nigeria"
          ]
         ],
         "geo": "geo",
         "hovertemplate": "<b>%{hovertext}</b><br><br>country=%{customdata[3]}<br>artist=%{customdata[2]}<extra></extra>",
         "hovertext": [
          "Kenkele"
         ],
         "lat": [
          9.08333333333333
         ],
         "legendgroup": "Nigeria",
         "lon": [
          7.533333
         ],
         "marker": {
          "color": "#000002",
          "symbol": "circle"
         },
         "mode": "markers",
         "name": "Nigeria",
         "showlegend": true,
         "type": "scattergeo"
        },
        {
         "customdata": [
          [
           59.9166666666666,
           10.75,
           "Ylva",
           "Norway"
          ]
         ],
         "geo": "geo",
         "hovertemplate": "<b>%{hovertext}</b><br><br>country=%{customdata[3]}<br>artist=%{customdata[2]}<extra></extra>",
         "hovertext": [
          "Lover"
         ],
         "lat": [
          59.9166666666666
         ],
         "legendgroup": "Norway",
         "lon": [
          10.75
         ],
         "marker": {
          "color": "#000003",
          "symbol": "circle"
         },
         "mode": "markers",
         "name": "Norway",
         "showlegend": true,
         "type": "scattergeo"
        },
        {
         "customdata": [
          [
           23.6166666666666,
           58.583333,
           "Doja Cat",
           "Oman"
          ]
         ],
         "geo": "geo",
         "hovertemplate": "<b>%{hovertext}</b><br><br>country=%{customdata[3]}<br>artist=%{customdata[2]}<extra></extra>",
         "hovertext": [
          "Attention"
         ],
         "lat": [
          23.6166666666666
         ],
         "legendgroup": "Oman",
         "lon": [
          58.583333
         ],
         "marker": {
          "color": "#000004",
          "symbol": "circle"
         },
         "mode": "markers",
         "name": "Oman",
         "showlegend": true,
         "type": "scattergeo"
        },
        {
         "customdata": [
          [
           33.6833333333333,
           73.05,
           "Asfar Hussain",
           "Pakistan"
          ]
         ],
         "geo": "geo",
         "hovertemplate": "<b>%{hovertext}</b><br><br>country=%{customdata[3]}<br>artist=%{customdata[2]}<extra></extra>",
         "hovertext": [
          "Mehram"
         ],
         "lat": [
          33.6833333333333
         ],
         "legendgroup": "Pakistan",
         "lon": [
          73.05
         ],
         "marker": {
          "color": "#000005",
          "symbol": "circle"
         },
         "mode": "markers",
         "name": "Pakistan",
         "showlegend": true,
         "type": "scattergeo"
        },
        {
         "customdata": [
          [
           7.48333333333333,
           134.633333,
           "Harry Styles",
           "Palau"
          ]
         ],
         "geo": "geo",
         "hovertemplate": "<b>%{hovertext}</b><br><br>country=%{customdata[3]}<br>artist=%{customdata[2]}<extra></extra>",
         "hovertext": [
          "Harry's House"
         ],
         "lat": [
          7.48333333333333
         ],
         "legendgroup": "Palau",
         "lon": [
          134.633333
         ],
         "marker": {
          "color": "#000006",
          "symbol": "circle"
         },
         "mode": "markers",
         "name": "Palau",
         "showlegend": true,
         "type": "scattergeo"
        },
        {
         "customdata": [
          [
           8.96666666666666,
           -79.533333,
           "RM",
           "Panama"
          ]
         ],
         "geo": "geo",
         "hovertemplate": "<b>%{hovertext}</b><br><br>country=%{customdata[3]}<br>artist=%{customdata[2]}<extra></extra>",
         "hovertext": [
          "Indigo"
         ],
         "lat": [
          8.96666666666666
         ],
         "legendgroup": "Panama",
         "lon": [
          -79.533333
         ],
         "marker": {
          "color": "#000007",
          "symbol": "circle"
         },
         "mode": "markers",
         "name": "Panama",
         "showlegend": true,
         "type": "scattergeo"
        },
        {
         "customdata": [
          [
           -9.45,
           147.183333,
           "Harry Styles",
           "Papua New Guinea"
          ]
         ],
         "geo": "geo",
         "hovertemplate": "<b>%{hovertext}</b><br><br>country=%{customdata[3]}<br>artist=%{customdata[2]}<extra></extra>",
         "hovertext": [
          "Harry's House"
         ],
         "lat": [
          -9.45
         ],
         "legendgroup": "Papua New Guinea",
         "lon": [
          147.183333
         ],
         "marker": {
          "color": "#000008",
          "symbol": "circle"
         },
         "mode": "markers",
         "name": "Papua New Guinea",
         "showlegend": true,
         "type": "scattergeo"
        },
        {
         "customdata": [
          [
           -25.2666666666666,
           -57.666667,
           "Barbi Recanati",
           "Paraguay"
          ]
         ],
         "geo": "geo",
         "hovertemplate": "<b>%{hovertext}</b><br><br>country=%{customdata[3]}<br>artist=%{customdata[2]}<extra></extra>",
         "hovertext": [
          "El Final de Las Cosas"
         ],
         "lat": [
          -25.2666666666666
         ],
         "legendgroup": "Paraguay",
         "lon": [
          -57.666667
         ],
         "marker": {
          "color": "#000009",
          "symbol": "circle"
         },
         "mode": "markers",
         "name": "Paraguay",
         "showlegend": true,
         "type": "scattergeo"
        },
        {
         "customdata": [
          [
           -12.05,
           -77.05,
           "Juan Pablo Vega",
           "Peru"
          ]
         ],
         "geo": "geo",
         "hovertemplate": "<b>%{hovertext}</b><br><br>country=%{customdata[3]}<br>artist=%{customdata[2]}<extra></extra>",
         "hovertext": [
          "Despídeme De Todxs"
         ],
         "lat": [
          -12.05
         ],
         "legendgroup": "Peru",
         "lon": [
          -77.05
         ],
         "marker": {
          "color": "#000010",
          "symbol": "circle"
         },
         "mode": "markers",
         "name": "Peru",
         "showlegend": true,
         "type": "scattergeo"
        },
        {
         "customdata": [
          [
           14.6,
           120.966667,
           "Laufey",
           "Philippines"
          ]
         ],
         "geo": "geo",
         "hovertemplate": "<b>%{hovertext}</b><br><br>country=%{customdata[3]}<br>artist=%{customdata[2]}<extra></extra>",
         "hovertext": [
          "Promise"
         ],
         "lat": [
          14.6
         ],
         "legendgroup": "Philippines",
         "lon": [
          120.966667
         ],
         "marker": {
          "color": "#000001",
          "symbol": "circle"
         },
         "mode": "markers",
         "name": "Philippines",
         "showlegend": true,
         "type": "scattergeo"
        },
        {
         "customdata": [
          [
           52.25,
           21,
           "Moli",
           "Poland"
          ]
         ],
         "geo": "geo",
         "hovertemplate": "<b>%{hovertext}</b><br><br>country=%{customdata[3]}<br>artist=%{customdata[2]}<extra></extra>",
         "hovertext": [
          "evoL"
         ],
         "lat": [
          52.25
         ],
         "legendgroup": "Poland",
         "lon": [
          21
         ],
         "marker": {
          "color": "#000002",
          "symbol": "circle"
         },
         "mode": "markers",
         "name": "Poland",
         "showlegend": true,
         "type": "scattergeo"
        },
        {
         "customdata": [
          [
           38.7166666666666,
           -9.133333,
           "ProfJam",
           "Portugal"
          ]
         ],
         "geo": "geo",
         "hovertemplate": "<b>%{hovertext}</b><br><br>country=%{customdata[3]}<br>artist=%{customdata[2]}<extra></extra>",
         "hovertext": [
          "MDID"
         ],
         "lat": [
          38.7166666666666
         ],
         "legendgroup": "Portugal",
         "lon": [
          -9.133333
         ],
         "marker": {
          "color": "#000003",
          "symbol": "circle"
         },
         "mode": "markers",
         "name": "Portugal",
         "showlegend": true,
         "type": "scattergeo"
        },
        {
         "customdata": [
          [
           25.2833333333333,
           51.533333,
           "Doja Cat",
           "Qatar"
          ]
         ],
         "geo": "geo",
         "hovertemplate": "<b>%{hovertext}</b><br><br>country=%{customdata[3]}<br>artist=%{customdata[2]}<extra></extra>",
         "hovertext": [
          "Attention"
         ],
         "lat": [
          25.2833333333333
         ],
         "legendgroup": "Qatar",
         "lon": [
          51.533333
         ],
         "marker": {
          "color": "#000004",
          "symbol": "circle"
         },
         "mode": "markers",
         "name": "Qatar",
         "showlegend": true,
         "type": "scattergeo"
        },
        {
         "customdata": [
          [
           44.4333333333333,
           26.1,
           "Aerozen",
           "Romania"
          ]
         ],
         "geo": "geo",
         "hovertemplate": "<b>%{hovertext}</b><br><br>country=%{customdata[3]}<br>artist=%{customdata[2]}<extra></extra>",
         "hovertext": [
          "PARTYPACKZ+"
         ],
         "lat": [
          44.4333333333333
         ],
         "legendgroup": "Romania",
         "lon": [
          26.1
         ],
         "marker": {
          "color": "#000005",
          "symbol": "circle"
         },
         "mode": "markers",
         "name": "Romania",
         "showlegend": true,
         "type": "scattergeo"
        },
        {
         "customdata": [
          [
           -1.95,
           30.05,
           "Maandy",
           "Rwanda"
          ]
         ],
         "geo": "geo",
         "hovertemplate": "<b>%{hovertext}</b><br><br>country=%{customdata[3]}<br>artist=%{customdata[2]}<extra></extra>",
         "hovertext": [
          "Mmhh Mmhh"
         ],
         "lat": [
          -1.95
         ],
         "legendgroup": "Rwanda",
         "lon": [
          30.05
         ],
         "marker": {
          "color": "#000006",
          "symbol": "circle"
         },
         "mode": "markers",
         "name": "Rwanda",
         "showlegend": true,
         "type": "scattergeo"
        },
        {
         "customdata": [
          [
           17.3,
           -62.716667,
           "Harry Styles",
           "Saint Kitts and Nevis"
          ]
         ],
         "geo": "geo",
         "hovertemplate": "<b>%{hovertext}</b><br><br>country=%{customdata[3]}<br>artist=%{customdata[2]}<extra></extra>",
         "hovertext": [
          "Harry's House"
         ],
         "lat": [
          17.3
         ],
         "legendgroup": "Saint Kitts and Nevis",
         "lon": [
          -62.716667
         ],
         "marker": {
          "color": "#000007",
          "symbol": "circle"
         },
         "mode": "markers",
         "name": "Saint Kitts and Nevis",
         "showlegend": true,
         "type": "scattergeo"
        },
        {
         "customdata": [
          [
           14,
           -61,
           "Harry Styles",
           "Saint Lucia"
          ]
         ],
         "geo": "geo",
         "hovertemplate": "<b>%{hovertext}</b><br><br>country=%{customdata[3]}<br>artist=%{customdata[2]}<extra></extra>",
         "hovertext": [
          "Harry's House"
         ],
         "lat": [
          14
         ],
         "legendgroup": "Saint Lucia",
         "lon": [
          -61
         ],
         "marker": {
          "color": "#000008",
          "symbol": "circle"
         },
         "mode": "markers",
         "name": "Saint Lucia",
         "showlegend": true,
         "type": "scattergeo"
        },
        {
         "customdata": [
          [
           13.1333333333333,
           -61.216667,
           "Harry Styles",
           "Saint Vincent and the Grenadines"
          ]
         ],
         "geo": "geo",
         "hovertemplate": "<b>%{hovertext}</b><br><br>country=%{customdata[3]}<br>artist=%{customdata[2]}<extra></extra>",
         "hovertext": [
          "Harry's House"
         ],
         "lat": [
          13.1333333333333
         ],
         "legendgroup": "Saint Vincent and the Grenadines",
         "lon": [
          -61.216667
         ],
         "marker": {
          "color": "#000009",
          "symbol": "circle"
         },
         "mode": "markers",
         "name": "Saint Vincent and the Grenadines",
         "showlegend": true,
         "type": "scattergeo"
        },
        {
         "customdata": [
          [
           -13.8166666666666,
           -171.766667,
           "Miliyah",
           "Samoa"
          ]
         ],
         "geo": "geo",
         "hovertemplate": "<b>%{hovertext}</b><br><br>country=%{customdata[3]}<br>artist=%{customdata[2]}<extra></extra>",
         "hovertext": [
          "BLONDE16"
         ],
         "lat": [
          -13.8166666666666
         ],
         "legendgroup": "Samoa",
         "lon": [
          -171.766667
         ],
         "marker": {
          "color": "#000010",
          "symbol": "circle"
         },
         "mode": "markers",
         "name": "Samoa",
         "showlegend": true,
         "type": "scattergeo"
        },
        {
         "customdata": [
          [
           43.9333333333333,
           12.416667,
           "Marlene Kuntz",
           "San Marino"
          ]
         ],
         "geo": "geo",
         "hovertemplate": "<b>%{hovertext}</b><br><br>country=%{customdata[3]}<br>artist=%{customdata[2]}<extra></extra>",
         "hovertext": [
          "Karma Clima"
         ],
         "lat": [
          43.9333333333333
         ],
         "legendgroup": "San Marino",
         "lon": [
          12.416667
         ],
         "marker": {
          "color": "#000001",
          "symbol": "circle"
         },
         "mode": "markers",
         "name": "San Marino",
         "showlegend": true,
         "type": "scattergeo"
        },
        {
         "customdata": [
          [
           0.333333333333333,
           6.733333,
           "Harry Styles",
           "Sao Tome and Principe"
          ]
         ],
         "geo": "geo",
         "hovertemplate": "<b>%{hovertext}</b><br><br>country=%{customdata[3]}<br>artist=%{customdata[2]}<extra></extra>",
         "hovertext": [
          "Harry's House"
         ],
         "lat": [
          0.333333333333333
         ],
         "legendgroup": "Sao Tome and Principe",
         "lon": [
          6.733333
         ],
         "marker": {
          "color": "#000002",
          "symbol": "circle"
         },
         "mode": "markers",
         "name": "Sao Tome and Principe",
         "showlegend": true,
         "type": "scattergeo"
        },
        {
         "customdata": [
          [
           24.65,
           46.7,
           "Doja Cat",
           "Saudi Arabia"
          ]
         ],
         "geo": "geo",
         "hovertemplate": "<b>%{hovertext}</b><br><br>country=%{customdata[3]}<br>artist=%{customdata[2]}<extra></extra>",
         "hovertext": [
          "Attention"
         ],
         "lat": [
          24.65
         ],
         "legendgroup": "Saudi Arabia",
         "lon": [
          46.7
         ],
         "marker": {
          "color": "#000003",
          "symbol": "circle"
         },
         "mode": "markers",
         "name": "Saudi Arabia",
         "showlegend": true,
         "type": "scattergeo"
        },
        {
         "customdata": [
          [
           14.7333333333333,
           -17.633333,
           "Harry Styles",
           "Senegal"
          ]
         ],
         "geo": "geo",
         "hovertemplate": "<b>%{hovertext}</b><br><br>country=%{customdata[3]}<br>artist=%{customdata[2]}<extra></extra>",
         "hovertext": [
          "Harry's House"
         ],
         "lat": [
          14.7333333333333
         ],
         "legendgroup": "Senegal",
         "lon": [
          -17.633333
         ],
         "marker": {
          "color": "#000004",
          "symbol": "circle"
         },
         "mode": "markers",
         "name": "Senegal",
         "showlegend": true,
         "type": "scattergeo"
        },
        {
         "customdata": [
          [
           44.8333333333333,
           20.5,
           "Harry Styles",
           "Serbia"
          ]
         ],
         "geo": "geo",
         "hovertemplate": "<b>%{hovertext}</b><br><br>country=%{customdata[3]}<br>artist=%{customdata[2]}<extra></extra>",
         "hovertext": [
          "Harry's House"
         ],
         "lat": [
          44.8333333333333
         ],
         "legendgroup": "Serbia",
         "lon": [
          20.5
         ],
         "marker": {
          "color": "#000005",
          "symbol": "circle"
         },
         "mode": "markers",
         "name": "Serbia",
         "showlegend": true,
         "type": "scattergeo"
        },
        {
         "customdata": [
          [
           -4.61666666666666,
           55.45,
           "Harry Styles",
           "Seychelles"
          ]
         ],
         "geo": "geo",
         "hovertemplate": "<b>%{hovertext}</b><br><br>country=%{customdata[3]}<br>artist=%{customdata[2]}<extra></extra>",
         "hovertext": [
          "Harry's House"
         ],
         "lat": [
          -4.61666666666666
         ],
         "legendgroup": "Seychelles",
         "lon": [
          55.45
         ],
         "marker": {
          "color": "#000006",
          "symbol": "circle"
         },
         "mode": "markers",
         "name": "Seychelles",
         "showlegend": true,
         "type": "scattergeo"
        },
        {
         "customdata": [
          [
           8.48333333333333,
           -13.233333,
           "Harry Styles",
           "Sierra Leone"
          ]
         ],
         "geo": "geo",
         "hovertemplate": "<b>%{hovertext}</b><br><br>country=%{customdata[3]}<br>artist=%{customdata[2]}<extra></extra>",
         "hovertext": [
          "Harry's House"
         ],
         "lat": [
          8.48333333333333
         ],
         "legendgroup": "Sierra Leone",
         "lon": [
          -13.233333
         ],
         "marker": {
          "color": "#000007",
          "symbol": "circle"
         },
         "mode": "markers",
         "name": "Sierra Leone",
         "showlegend": true,
         "type": "scattergeo"
        },
        {
         "customdata": [
          [
           1.28333333333333,
           103.85,
           "OHMYMEITING",
           "Singapore"
          ]
         ],
         "geo": "geo",
         "hovertemplate": "<b>%{hovertext}</b><br><br>country=%{customdata[3]}<br>artist=%{customdata[2]}<extra></extra>",
         "hovertext": [
          "Supernova"
         ],
         "lat": [
          1.28333333333333
         ],
         "legendgroup": "Singapore",
         "lon": [
          103.85
         ],
         "marker": {
          "color": "#000008",
          "symbol": "circle"
         },
         "mode": "markers",
         "name": "Singapore",
         "showlegend": true,
         "type": "scattergeo"
        },
        {
         "customdata": [
          [
           48.15,
           17.116667,
           "Pil C",
           "Slovakia"
          ]
         ],
         "geo": "geo",
         "hovertemplate": "<b>%{hovertext}</b><br><br>country=%{customdata[3]}<br>artist=%{customdata[2]}<extra></extra>",
         "hovertext": [
          "S láskou, Lukáš."
         ],
         "lat": [
          48.15
         ],
         "legendgroup": "Slovakia",
         "lon": [
          17.116667
         ],
         "marker": {
          "color": "#000009",
          "symbol": "circle"
         },
         "mode": "markers",
         "name": "Slovakia",
         "showlegend": true,
         "type": "scattergeo"
        },
        {
         "customdata": [
          [
           46.05,
           14.516667,
           "RM",
           "Slovenia"
          ]
         ],
         "geo": "geo",
         "hovertemplate": "<b>%{hovertext}</b><br><br>country=%{customdata[3]}<br>artist=%{customdata[2]}<extra></extra>",
         "hovertext": [
          "Indigo"
         ],
         "lat": [
          46.05
         ],
         "legendgroup": "Slovenia",
         "lon": [
          14.516667
         ],
         "marker": {
          "color": "#000010",
          "symbol": "circle"
         },
         "mode": "markers",
         "name": "Slovenia",
         "showlegend": true,
         "type": "scattergeo"
        },
        {
         "customdata": [
          [
           -9.43333333333333,
           159.95,
           "Harry Styles",
           "Solomon Islands"
          ]
         ],
         "geo": "geo",
         "hovertemplate": "<b>%{hovertext}</b><br><br>country=%{customdata[3]}<br>artist=%{customdata[2]}<extra></extra>",
         "hovertext": [
          "Harry's House"
         ],
         "lat": [
          -9.43333333333333
         ],
         "legendgroup": "Solomon Islands",
         "lon": [
          159.95
         ],
         "marker": {
          "color": "#000001",
          "symbol": "circle"
         },
         "mode": "markers",
         "name": "Solomon Islands",
         "showlegend": true,
         "type": "scattergeo"
        },
        {
         "customdata": [
          [
           -25.7,
           28.216667,
           "Summer Walker",
           "South Africa"
          ]
         ],
         "geo": "geo",
         "hovertemplate": "<b>%{hovertext}</b><br><br>country=%{customdata[3]}<br>artist=%{customdata[2]}<extra></extra>",
         "hovertext": [
          "CLEAR 2: SOFT LIFE EP"
         ],
         "lat": [
          -25.7
         ],
         "legendgroup": "South Africa",
         "lon": [
          28.216667
         ],
         "marker": {
          "color": "#000002",
          "symbol": "circle"
         },
         "mode": "markers",
         "name": "South Africa",
         "showlegend": true,
         "type": "scattergeo"
        },
        {
         "customdata": [
          [
           40.4,
           -3.683333,
           "KAROL G",
           "Spain"
          ]
         ],
         "geo": "geo",
         "hovertemplate": "<b>%{hovertext}</b><br><br>country=%{customdata[3]}<br>artist=%{customdata[2]}<extra></extra>",
         "hovertext": [
          "MAÑANA SERÁ BONITO"
         ],
         "lat": [
          40.4
         ],
         "legendgroup": "Spain",
         "lon": [
          -3.683333
         ],
         "marker": {
          "color": "#000003",
          "symbol": "circle"
         },
         "mode": "markers",
         "name": "Spain",
         "showlegend": true,
         "type": "scattergeo"
        },
        {
         "customdata": [
          [
           6.91666666666666,
           79.833333,
           "ADK",
           "Sri Lanka"
          ]
         ],
         "geo": "geo",
         "hovertemplate": "<b>%{hovertext}</b><br><br>country=%{customdata[3]}<br>artist=%{customdata[2]}<extra></extra>",
         "hovertext": [
          "Rider Fighter"
         ],
         "lat": [
          6.91666666666666
         ],
         "legendgroup": "Sri Lanka",
         "lon": [
          79.833333
         ],
         "marker": {
          "color": "#000004",
          "symbol": "circle"
         },
         "mode": "markers",
         "name": "Sri Lanka",
         "showlegend": true,
         "type": "scattergeo"
        },
        {
         "customdata": [
          [
           5.83333333333333,
           -55.166667,
           "RM",
           "Suriname"
          ]
         ],
         "geo": "geo",
         "hovertemplate": "<b>%{hovertext}</b><br><br>country=%{customdata[3]}<br>artist=%{customdata[2]}<extra></extra>",
         "hovertext": [
          "Indigo"
         ],
         "lat": [
          5.83333333333333
         ],
         "legendgroup": "Suriname",
         "lon": [
          -55.166667
         ],
         "marker": {
          "color": "#000005",
          "symbol": "circle"
         },
         "mode": "markers",
         "name": "Suriname",
         "showlegend": true,
         "type": "scattergeo"
        },
        {
         "customdata": [
          [
           -26.3166666666666,
           31.133333,
           "Mthandazo Gatya",
           "Swaziland"
          ]
         ],
         "geo": "geo",
         "hovertemplate": "<b>%{hovertext}</b><br><br>country=%{customdata[3]}<br>artist=%{customdata[2]}<extra></extra>",
         "hovertext": [
          "Journey To Infinity"
         ],
         "lat": [
          -26.3166666666666
         ],
         "legendgroup": "Swaziland",
         "lon": [
          31.133333
         ],
         "marker": {
          "color": "#000006",
          "symbol": "circle"
         },
         "mode": "markers",
         "name": "Swaziland",
         "showlegend": true,
         "type": "scattergeo"
        },
        {
         "customdata": [
          [
           59.3333333333333,
           18.05,
           "Medina",
           "Sweden"
          ]
         ],
         "geo": "geo",
         "hovertemplate": "<b>%{hovertext}</b><br><br>country=%{customdata[3]}<br>artist=%{customdata[2]}<extra></extra>",
         "hovertext": [
          "Tropicalisera"
         ],
         "lat": [
          59.3333333333333
         ],
         "legendgroup": "Sweden",
         "lon": [
          18.05
         ],
         "marker": {
          "color": "#000007",
          "symbol": "circle"
         },
         "mode": "markers",
         "name": "Sweden",
         "showlegend": true,
         "type": "scattergeo"
        },
        {
         "customdata": [
          [
           46.9166666666666,
           7.466667,
           "Montez",
           "Switzerland"
          ]
         ],
         "geo": "geo",
         "hovertemplate": "<b>%{hovertext}</b><br><br>country=%{customdata[3]}<br>artist=%{customdata[2]}<extra></extra>",
         "hovertext": [
          "LIEBE IN GEFAHR"
         ],
         "lat": [
          46.9166666666666
         ],
         "legendgroup": "Switzerland",
         "lon": [
          7.466667
         ],
         "marker": {
          "color": "#000008",
          "symbol": "circle"
         },
         "mode": "markers",
         "name": "Switzerland",
         "showlegend": true,
         "type": "scattergeo"
        },
        {
         "customdata": [
          [
           25.0333333333333,
           121.516667,
           "Wu Bai",
           "Taiwan"
          ]
         ],
         "geo": "geo",
         "hovertemplate": "<b>%{hovertext}</b><br><br>country=%{customdata[3]}<br>artist=%{customdata[2]}<extra></extra>",
         "hovertext": [
          "純白的起點"
         ],
         "lat": [
          25.0333333333333
         ],
         "legendgroup": "Taiwan",
         "lon": [
          121.516667
         ],
         "marker": {
          "color": "#000009",
          "symbol": "circle"
         },
         "mode": "markers",
         "name": "Taiwan",
         "showlegend": true,
         "type": "scattergeo"
        },
        {
         "customdata": [
          [
           38.55,
           68.766667,
           "Wet Leg",
           "Tajikistan"
          ]
         ],
         "geo": "geo",
         "hovertemplate": "<b>%{hovertext}</b><br><br>country=%{customdata[3]}<br>artist=%{customdata[2]}<extra></extra>",
         "hovertext": [
          "Wet Leg"
         ],
         "lat": [
          38.55
         ],
         "legendgroup": "Tajikistan",
         "lon": [
          68.766667
         ],
         "marker": {
          "color": "#000010",
          "symbol": "circle"
         },
         "mode": "markers",
         "name": "Tajikistan",
         "showlegend": true,
         "type": "scattergeo"
        },
        {
         "customdata": [
          [
           -6.8,
           39.283333,
           "Bussa J",
           "Tanzania"
          ]
         ],
         "geo": "geo",
         "hovertemplate": "<b>%{hovertext}</b><br><br>country=%{customdata[3]}<br>artist=%{customdata[2]}<extra></extra>",
         "hovertext": [
          "Fikiria"
         ],
         "lat": [
          -6.8
         ],
         "legendgroup": "Tanzania",
         "lon": [
          39.283333
         ],
         "marker": {
          "color": "#000001",
          "symbol": "circle"
         },
         "mode": "markers",
         "name": "Tanzania",
         "showlegend": true,
         "type": "scattergeo"
        },
        {
         "customdata": [
          [
           13.75,
           100.516667,
           "Laufey",
           "Thailand"
          ]
         ],
         "geo": "geo",
         "hovertemplate": "<b>%{hovertext}</b><br><br>country=%{customdata[3]}<br>artist=%{customdata[2]}<extra></extra>",
         "hovertext": [
          "Promise"
         ],
         "lat": [
          13.75
         ],
         "legendgroup": "Thailand",
         "lon": [
          100.516667
         ],
         "marker": {
          "color": "#000002",
          "symbol": "circle"
         },
         "mode": "markers",
         "name": "Thailand",
         "showlegend": true,
         "type": "scattergeo"
        },
        {
         "customdata": [
          [
           -8.58333333333333,
           125.6,
           "Harry Styles",
           "Timor-Leste"
          ]
         ],
         "geo": "geo",
         "hovertemplate": "<b>%{hovertext}</b><br><br>country=%{customdata[3]}<br>artist=%{customdata[2]}<extra></extra>",
         "hovertext": [
          "Harry's House"
         ],
         "lat": [
          -8.58333333333333
         ],
         "legendgroup": "Timor-Leste",
         "lon": [
          125.6
         ],
         "marker": {
          "color": "#000003",
          "symbol": "circle"
         },
         "mode": "markers",
         "name": "Timor-Leste",
         "showlegend": true,
         "type": "scattergeo"
        },
        {
         "customdata": [
          [
           6.11666666666666,
           1.216667,
           "Harry Styles",
           "Togo"
          ]
         ],
         "geo": "geo",
         "hovertemplate": "<b>%{hovertext}</b><br><br>country=%{customdata[3]}<br>artist=%{customdata[2]}<extra></extra>",
         "hovertext": [
          "Harry's House"
         ],
         "lat": [
          6.11666666666666
         ],
         "legendgroup": "Togo",
         "lon": [
          1.216667
         ],
         "marker": {
          "color": "#000004",
          "symbol": "circle"
         },
         "mode": "markers",
         "name": "Togo",
         "showlegend": true,
         "type": "scattergeo"
        },
        {
         "customdata": [
          [
           -21.1333333333333,
           -175.2,
           "Miliyah",
           "Tonga"
          ]
         ],
         "geo": "geo",
         "hovertemplate": "<b>%{hovertext}</b><br><br>country=%{customdata[3]}<br>artist=%{customdata[2]}<extra></extra>",
         "hovertext": [
          "BLONDE16"
         ],
         "lat": [
          -21.1333333333333
         ],
         "legendgroup": "Tonga",
         "lon": [
          -175.2
         ],
         "marker": {
          "color": "#000005",
          "symbol": "circle"
         },
         "mode": "markers",
         "name": "Tonga",
         "showlegend": true,
         "type": "scattergeo"
        },
        {
         "customdata": [
          [
           10.65,
           -61.516667,
           "Harry Styles",
           "Trinidad and Tobago"
          ]
         ],
         "geo": "geo",
         "hovertemplate": "<b>%{hovertext}</b><br><br>country=%{customdata[3]}<br>artist=%{customdata[2]}<extra></extra>",
         "hovertext": [
          "Harry's House"
         ],
         "lat": [
          10.65
         ],
         "legendgroup": "Trinidad and Tobago",
         "lon": [
          -61.516667
         ],
         "marker": {
          "color": "#000006",
          "symbol": "circle"
         },
         "mode": "markers",
         "name": "Trinidad and Tobago",
         "showlegend": true,
         "type": "scattergeo"
        },
        {
         "customdata": [
          [
           36.8,
           10.183333,
           "Zouhair Bahaoui",
           "Tunisia"
          ]
         ],
         "geo": "geo",
         "hovertemplate": "<b>%{hovertext}</b><br><br>country=%{customdata[3]}<br>artist=%{customdata[2]}<extra></extra>",
         "hovertext": [
          "YA LE3DOUWA"
         ],
         "lat": [
          36.8
         ],
         "legendgroup": "Tunisia",
         "lon": [
          10.183333
         ],
         "marker": {
          "color": "#000007",
          "symbol": "circle"
         },
         "mode": "markers",
         "name": "Tunisia",
         "showlegend": true,
         "type": "scattergeo"
        },
        {
         "customdata": [
          [
           39.9333333333333,
           32.866667,
           "KÖFN",
           "Turkey"
          ]
         ],
         "geo": "geo",
         "hovertemplate": "<b>%{hovertext}</b><br><br>country=%{customdata[3]}<br>artist=%{customdata[2]}<extra></extra>",
         "hovertext": [
          "POPSTAR"
         ],
         "lat": [
          39.9333333333333
         ],
         "legendgroup": "Turkey",
         "lon": [
          32.866667
         ],
         "marker": {
          "color": "#000008",
          "symbol": "circle"
         },
         "mode": "markers",
         "name": "Turkey",
         "showlegend": true,
         "type": "scattergeo"
        },
        {
         "customdata": [
          [
           -8.51666666666666,
           179.216667,
           "Miliyah",
           "Tuvalu"
          ]
         ],
         "geo": "geo",
         "hovertemplate": "<b>%{hovertext}</b><br><br>country=%{customdata[3]}<br>artist=%{customdata[2]}<extra></extra>",
         "hovertext": [
          "BLONDE16"
         ],
         "lat": [
          -8.51666666666666
         ],
         "legendgroup": "Tuvalu",
         "lon": [
          179.216667
         ],
         "marker": {
          "color": "#000009",
          "symbol": "circle"
         },
         "mode": "markers",
         "name": "Tuvalu",
         "showlegend": true,
         "type": "scattergeo"
        },
        {
         "customdata": [
          [
           0.316666666666666,
           32.55,
           "Christopher Martin",
           "Uganda"
          ]
         ],
         "geo": "geo",
         "hovertemplate": "<b>%{hovertext}</b><br><br>country=%{customdata[3]}<br>artist=%{customdata[2]}<extra></extra>",
         "hovertext": [
          "Guaranteed"
         ],
         "lat": [
          0.316666666666666
         ],
         "legendgroup": "Uganda",
         "lon": [
          32.55
         ],
         "marker": {
          "color": "#000010",
          "symbol": "circle"
         },
         "mode": "markers",
         "name": "Uganda",
         "showlegend": true,
         "type": "scattergeo"
        },
        {
         "customdata": [
          [
           50.4333333333333,
           30.516667,
           "Tiësto",
           "Ukraine"
          ]
         ],
         "geo": "geo",
         "hovertemplate": "<b>%{hovertext}</b><br><br>country=%{customdata[3]}<br>artist=%{customdata[2]}<extra></extra>",
         "hovertext": [
          "DRIVE"
         ],
         "lat": [
          50.4333333333333
         ],
         "legendgroup": "Ukraine",
         "lon": [
          30.516667
         ],
         "marker": {
          "color": "#000001",
          "symbol": "circle"
         },
         "mode": "markers",
         "name": "Ukraine",
         "showlegend": true,
         "type": "scattergeo"
        },
        {
         "customdata": [
          [
           24.4666666666666,
           54.366667,
           "Doja Cat",
           "United Arab Emirates"
          ]
         ],
         "geo": "geo",
         "hovertemplate": "<b>%{hovertext}</b><br><br>country=%{customdata[3]}<br>artist=%{customdata[2]}<extra></extra>",
         "hovertext": [
          "Attention"
         ],
         "lat": [
          24.4666666666666
         ],
         "legendgroup": "United Arab Emirates",
         "lon": [
          54.366667
         ],
         "marker": {
          "color": "#000002",
          "symbol": "circle"
         },
         "mode": "markers",
         "name": "United Arab Emirates",
         "showlegend": true,
         "type": "scattergeo"
        },
        {
         "customdata": [
          [
           51.5,
           -0.083333,
           "Tom Grennan",
           "United Kingdom"
          ]
         ],
         "geo": "geo",
         "hovertemplate": "<b>%{hovertext}</b><br><br>country=%{customdata[3]}<br>artist=%{customdata[2]}<extra></extra>",
         "hovertext": [
          "What Ifs & Maybes"
         ],
         "lat": [
          51.5
         ],
         "legendgroup": "United Kingdom",
         "lon": [
          -0.083333
         ],
         "marker": {
          "color": "#000003",
          "symbol": "circle"
         },
         "mode": "markers",
         "name": "United Kingdom",
         "showlegend": true,
         "type": "scattergeo"
        },
        {
         "customdata": [
          [
           38.883333,
           -77,
           "Doja Cat",
           "United States"
          ]
         ],
         "geo": "geo",
         "hovertemplate": "<b>%{hovertext}</b><br><br>country=%{customdata[3]}<br>artist=%{customdata[2]}<extra></extra>",
         "hovertext": [
          "Attention"
         ],
         "lat": [
          38.883333
         ],
         "legendgroup": "United States",
         "lon": [
          -77
         ],
         "marker": {
          "color": "#000004",
          "symbol": "circle"
         },
         "mode": "markers",
         "name": "United States",
         "showlegend": true,
         "type": "scattergeo"
        },
        {
         "customdata": [
          [
           -34.85,
           -56.166667,
           "Barbi Recanati",
           "Uruguay"
          ]
         ],
         "geo": "geo",
         "hovertemplate": "<b>%{hovertext}</b><br><br>country=%{customdata[3]}<br>artist=%{customdata[2]}<extra></extra>",
         "hovertext": [
          "El Final de Las Cosas"
         ],
         "lat": [
          -34.85
         ],
         "legendgroup": "Uruguay",
         "lon": [
          -56.166667
         ],
         "marker": {
          "color": "#000005",
          "symbol": "circle"
         },
         "mode": "markers",
         "name": "Uruguay",
         "showlegend": true,
         "type": "scattergeo"
        },
        {
         "customdata": [
          [
           41.3166666666666,
           69.25,
           "Xcho",
           "Uzbekistan"
          ]
         ],
         "geo": "geo",
         "hovertemplate": "<b>%{hovertext}</b><br><br>country=%{customdata[3]}<br>artist=%{customdata[2]}<extra></extra>",
         "hovertext": [
          "Январь"
         ],
         "lat": [
          41.3166666666666
         ],
         "legendgroup": "Uzbekistan",
         "lon": [
          69.25
         ],
         "marker": {
          "color": "#000006",
          "symbol": "circle"
         },
         "mode": "markers",
         "name": "Uzbekistan",
         "showlegend": true,
         "type": "scattergeo"
        },
        {
         "customdata": [
          [
           -17.7333333333333,
           168.316667,
           "Harry Styles",
           "Vanuatu"
          ]
         ],
         "geo": "geo",
         "hovertemplate": "<b>%{hovertext}</b><br><br>country=%{customdata[3]}<br>artist=%{customdata[2]}<extra></extra>",
         "hovertext": [
          "Harry's House"
         ],
         "lat": [
          -17.7333333333333
         ],
         "legendgroup": "Vanuatu",
         "lon": [
          168.316667
         ],
         "marker": {
          "color": "#000007",
          "symbol": "circle"
         },
         "mode": "markers",
         "name": "Vanuatu",
         "showlegend": true,
         "type": "scattergeo"
        },
        {
         "customdata": [
          [
           10.4833333333333,
           -66.866667,
           "Juan Pablo Vega",
           "Venezuela"
          ]
         ],
         "geo": "geo",
         "hovertemplate": "<b>%{hovertext}</b><br><br>country=%{customdata[3]}<br>artist=%{customdata[2]}<extra></extra>",
         "hovertext": [
          "Despídeme De Todxs"
         ],
         "lat": [
          10.4833333333333
         ],
         "legendgroup": "Venezuela",
         "lon": [
          -66.866667
         ],
         "marker": {
          "color": "#000008",
          "symbol": "circle"
         },
         "mode": "markers",
         "name": "Venezuela",
         "showlegend": true,
         "type": "scattergeo"
        },
        {
         "customdata": [
          [
           21.0333333333333,
           105.85,
           "Laufey",
           "Vietnam"
          ]
         ],
         "geo": "geo",
         "hovertemplate": "<b>%{hovertext}</b><br><br>country=%{customdata[3]}<br>artist=%{customdata[2]}<extra></extra>",
         "hovertext": [
          "Promise"
         ],
         "lat": [
          21.0333333333333
         ],
         "legendgroup": "Vietnam",
         "lon": [
          105.85
         ],
         "marker": {
          "color": "#000009",
          "symbol": "circle"
         },
         "mode": "markers",
         "name": "Vietnam",
         "showlegend": true,
         "type": "scattergeo"
        },
        {
         "customdata": [
          [
           -15.4166666666666,
           28.283333,
           "Harry Styles",
           "Zambia"
          ]
         ],
         "geo": "geo",
         "hovertemplate": "<b>%{hovertext}</b><br><br>country=%{customdata[3]}<br>artist=%{customdata[2]}<extra></extra>",
         "hovertext": [
          "Harry's House"
         ],
         "lat": [
          -15.4166666666666
         ],
         "legendgroup": "Zambia",
         "lon": [
          28.283333
         ],
         "marker": {
          "color": "#000010",
          "symbol": "circle"
         },
         "mode": "markers",
         "name": "Zambia",
         "showlegend": true,
         "type": "scattergeo"
        },
        {
         "customdata": [
          [
           -17.8166666666666,
           31.033333,
           "Harry Styles",
           "Zimbabwe"
          ]
         ],
         "geo": "geo",
         "hovertemplate": "<b>%{hovertext}</b><br><br>country=%{customdata[3]}<br>artist=%{customdata[2]}<extra></extra>",
         "hovertext": [
          "Harry's House"
         ],
         "lat": [
          -17.8166666666666
         ],
         "legendgroup": "Zimbabwe",
         "lon": [
          31.033333
         ],
         "marker": {
          "color": "#000001",
          "symbol": "circle"
         },
         "mode": "markers",
         "name": "Zimbabwe",
         "showlegend": true,
         "type": "scattergeo"
        },
        {
         "customdata": [
          [
           0,
           0,
           "Laufey",
           "Hong Kong"
          ]
         ],
         "geo": "geo",
         "hovertemplate": "<b>%{hovertext}</b><br><br>country=%{customdata[3]}<br>artist=%{customdata[2]}<extra></extra>",
         "hovertext": [
          "Promise"
         ],
         "lat": [
          0
         ],
         "legendgroup": "Hong Kong",
         "lon": [
          0
         ],
         "marker": {
          "color": "#000002",
          "symbol": "circle"
         },
         "mode": "markers",
         "name": "Hong Kong",
         "showlegend": true,
         "type": "scattergeo"
        },
        {
         "customdata": [
          [
           0,
           0,
           "ONF",
           "Macau"
          ]
         ],
         "geo": "geo",
         "hovertemplate": "<b>%{hovertext}</b><br><br>country=%{customdata[3]}<br>artist=%{customdata[2]}<extra></extra>",
         "hovertext": [
          "6TH MINI ALBUM [Goosebumps]"
         ],
         "lat": [
          0
         ],
         "legendgroup": "Macau",
         "lon": [
          0
         ],
         "marker": {
          "color": "#000003",
          "symbol": "circle"
         },
         "mode": "markers",
         "name": "Macau",
         "showlegend": true,
         "type": "scattergeo"
        }
       ],
       "layout": {
        "geo": {
         "center": {},
         "domain": {
          "x": [
           0,
           1
          ],
          "y": [
           0,
           1
          ]
         }
        },
        "legend": {
         "title": {
          "text": "country"
         },
         "tracegroupgap": 0
        },
        "margin": {
         "t": 60
        },
        "template": {
         "data": {
          "candlestick": [
           {
            "decreasing": {
             "line": {
              "color": "#000033"
             }
            },
            "increasing": {
             "line": {
              "color": "#000032"
             }
            },
            "type": "candlestick"
           }
          ],
          "contour": [
           {
            "colorscale": [
             [
              0,
              "#000011"
             ],
             [
              0.1111111111111111,
              "#000012"
             ],
             [
              0.2222222222222222,
              "#000013"
             ],
             [
              0.3333333333333333,
              "#000014"
             ],
             [
              0.4444444444444444,
              "#000015"
             ],
             [
              0.5555555555555556,
              "#000016"
             ],
             [
              0.6666666666666666,
              "#000017"
             ],
             [
              0.7777777777777778,
              "#000018"
             ],
             [
              0.8888888888888888,
              "#000019"
             ],
             [
              1,
              "#000020"
             ]
            ],
            "type": "contour"
           }
          ],
          "contourcarpet": [
           {
            "colorscale": [
             [
              0,
              "#000011"
             ],
             [
              0.1111111111111111,
              "#000012"
             ],
             [
              0.2222222222222222,
              "#000013"
             ],
             [
              0.3333333333333333,
              "#000014"
             ],
             [
              0.4444444444444444,
              "#000015"
             ],
             [
              0.5555555555555556,
              "#000016"
             ],
             [
              0.6666666666666666,
              "#000017"
             ],
             [
              0.7777777777777778,
              "#000018"
             ],
             [
              0.8888888888888888,
              "#000019"
             ],
             [
              1,
              "#000020"
             ]
            ],
            "type": "contourcarpet"
           }
          ],
          "heatmap": [
           {
            "colorscale": [
             [
              0,
              "#000011"
             ],
             [
              0.1111111111111111,
              "#000012"
             ],
             [
              0.2222222222222222,
              "#000013"
             ],
             [
              0.3333333333333333,
              "#000014"
             ],
             [
              0.4444444444444444,
              "#000015"
             ],
             [
              0.5555555555555556,
              "#000016"
             ],
             [
              0.6666666666666666,
              "#000017"
             ],
             [
              0.7777777777777778,
              "#000018"
             ],
             [
              0.8888888888888888,
              "#000019"
             ],
             [
              1,
              "#000020"
             ]
            ],
            "type": "heatmap"
           }
          ],
          "histogram2d": [
           {
            "colorscale": [
             [
              0,
              "#000011"
             ],
             [
              0.1111111111111111,
              "#000012"
             ],
             [
              0.2222222222222222,
              "#000013"
             ],
             [
              0.3333333333333333,
              "#000014"
             ],
             [
              0.4444444444444444,
              "#000015"
             ],
             [
              0.5555555555555556,
              "#000016"
             ],
             [
              0.6666666666666666,
              "#000017"
             ],
             [
              0.7777777777777778,
              "#000018"
             ],
             [
              0.8888888888888888,
              "#000019"
             ],
             [
              1,
              "#000020"
             ]
            ],
            "type": "histogram2d"
           }
          ],
          "icicle": [
           {
            "textfont": {
             "color": "white"
            },
            "type": "icicle"
           }
          ],
          "sankey": [
           {
            "textfont": {
             "color": "#000036"
            },
            "type": "sankey"
           }
          ],
          "scatter": [
           {
            "marker": {
             "line": {
              "width": 0
             }
            },
            "type": "scatter"
           }
          ],
          "table": [
           {
            "cells": {
             "fill": {
              "color": "#000038"
             },
             "font": {
              "color": "#000037"
             },
             "line": {
              "color": "#000039"
             }
            },
            "header": {
             "fill": {
              "color": "#000040"
             },
             "font": {
              "color": "#000036"
             },
             "line": {
              "color": "#000039"
             }
            },
            "type": "table"
           }
          ],
          "waterfall": [
           {
            "connector": {
             "line": {
              "color": "#000036",
              "width": 2
             }
            },
            "decreasing": {
             "marker": {
              "color": "#000033"
             }
            },
            "increasing": {
             "marker": {
              "color": "#000032"
             }
            },
            "totals": {
             "marker": {
              "color": "#000034"
             }
            },
            "type": "waterfall"
           }
          ]
         },
         "layout": {
          "coloraxis": {
           "colorscale": [
            [
             0,
             "#000011"
            ],
            [
             0.1111111111111111,
             "#000012"
            ],
            [
             0.2222222222222222,
             "#000013"
            ],
            [
             0.3333333333333333,
             "#000014"
            ],
            [
             0.4444444444444444,
             "#000015"
            ],
            [
             0.5555555555555556,
             "#000016"
            ],
            [
             0.6666666666666666,
             "#000017"
            ],
            [
             0.7777777777777778,
             "#000018"
            ],
            [
             0.8888888888888888,
             "#000019"
            ],
            [
             1,
             "#000020"
            ]
           ]
          },
          "colorscale": {
           "diverging": [
            [
             0,
             "#000021"
            ],
            [
             0.1,
             "#000022"
            ],
            [
             0.2,
             "#000023"
            ],
            [
             0.3,
             "#000024"
            ],
            [
             0.4,
             "#000025"
            ],
            [
             0.5,
             "#000026"
            ],
            [
             0.6,
             "#000027"
            ],
            [
             0.7,
             "#000028"
            ],
            [
             0.8,
             "#000029"
            ],
            [
             0.9,
             "#000030"
            ],
            [
             1,
             "#000031"
            ]
           ],
           "sequential": [
            [
             0,
             "#000011"
            ],
            [
             0.1111111111111111,
             "#000012"
            ],
            [
             0.2222222222222222,
             "#000013"
            ],
            [
             0.3333333333333333,
             "#000014"
            ],
            [
             0.4444444444444444,
             "#000015"
            ],
            [
             0.5555555555555556,
             "#000016"
            ],
            [
             0.6666666666666666,
             "#000017"
            ],
            [
             0.7777777777777778,
             "#000018"
            ],
            [
             0.8888888888888888,
             "#000019"
            ],
            [
             1,
             "#000020"
            ]
           ],
           "sequentialminus": [
            [
             0,
             "#000011"
            ],
            [
             0.1111111111111111,
             "#000012"
            ],
            [
             0.2222222222222222,
             "#000013"
            ],
            [
             0.3333333333333333,
             "#000014"
            ],
            [
             0.4444444444444444,
             "#000015"
            ],
            [
             0.5555555555555556,
             "#000016"
            ],
            [
             0.6666666666666666,
             "#000017"
            ],
            [
             0.7777777777777778,
             "#000018"
            ],
            [
             0.8888888888888888,
             "#000019"
            ],
            [
             1,
             "#000020"
            ]
           ]
          },
          "colorway": [
           "#000001",
           "#000002",
           "#000003",
           "#000004",
           "#000005",
           "#000006",
           "#000007",
           "#000008",
           "#000009",
           "#000010"
          ]
         }
        }
       }
      }
     },
     "metadata": {},
     "output_type": "display_data"
    }
   ],
   "source": [
    "fig = px.scatter_geo(df, lat='cap_lat', lon= 'cap_lon',\n",
    "                     hover_name='new_releases', color='country',\n",
    "                     hover_data={'cap_lat': False, # Don't show latitude and longitud\n",
    "                                 'cap_lon': False,\n",
    "                                 'artist': True,   # Show artist and country\n",
    "                                 'country': True}\n",
    "                     ) \n",
    "\n",
    "# Update the layout with the desired colors\n",
    "'''fig.update_layout(\n",
    "    geo=dict(\n",
    "        bgcolor='black',  # Set the background color to black\n",
    "        showland=True,\n",
    "        landcolor='white',  # Set the color of land areas to white\n",
    "        showocean=True,\n",
    "        oceancolor='black',  # Set the color of ocean areas to black\n",
    "        showlakes=True,\n",
    "        lakecolor='white'  # Set the color of lakes to white\n",
    "    ),\n",
    "    font=dict(\n",
    "        color='white'  # Set the text color to white\n",
    "    )\n",
    ")'''\n",
    "fig.show()"
   ]
  },
  {
   "cell_type": "code",
   "execution_count": 27,
   "metadata": {},
   "outputs": [
    {
     "data": {
      "application/vnd.plotly.v1+json": {
       "config": {
        "linkText": "Export to plot.ly",
        "plotlyServerURL": "https://plot.ly",
        "showLink": false
       },
       "data": [
        {
         "hovertemplate": "cap_lat=%{lat}<br>cap_lon=%{lon}<extra></extra>",
         "lat": [
          31.7666666666666,
          -0.5477,
          41.3166666666666,
          36.75,
          42.5,
          -8.83333333333333,
          17.1166666666666,
          -34.5833333333333,
          40.1666666666666,
          -35.2666666666666,
          48.2,
          40.3833333333333,
          25.0833333333333,
          26.2333333333333,
          23.7166666666666,
          13.1,
          53.9,
          50.8333333333333,
          17.25,
          6.48333333333333,
          27.4666666666666,
          -16.5,
          43.8666666666666,
          -24.6333333333333,
          -15.7833333333333,
          4.88333333333333,
          42.6833333333333,
          12.3666666666666,
          -3.36666666666666,
          11.55,
          3.86666666666666,
          45.4166666666666,
          14.9166666666666,
          12.1,
          -33.45,
          4.6,
          -11.7,
          -4.31666666666666,
          -4.25,
          9.93333333333333,
          6.81666666666666,
          45.8,
          12.1,
          35.1666666666666,
          50.0833333333333,
          55.6666666666666,
          11.5833333333333,
          15.3,
          18.4666666666666,
          -0.216666666666666,
          30.05,
          13.7,
          3.75,
          59.4333333333333,
          9.03333333333333,
          -18.1333333333333,
          60.1666666666666,
          48.8666666666666,
          0.383333333333333,
          13.45,
          41.6833333333333,
          52.5166666666666,
          5.55,
          37.9833333333333,
          12.05,
          14.6166666666666,
          9.5,
          11.85,
          6.8,
          18.5333333333333,
          14.1,
          47.5,
          64.15,
          28.6,
          -6.16666666666666,
          33.3333333333333,
          53.3166666666666,
          31.7666666666666,
          41.9,
          18,
          35.6833333333333,
          31.95,
          51.1666666666666,
          -1.28333333333333,
          -0.883333333333333,
          37.55,
          29.3666666666666,
          42.8666666666666,
          17.9666666666666,
          56.95,
          33.8666666666666,
          -29.3166666666666,
          6.3,
          32.8833333333333,
          47.1333333333333,
          54.6833333333333,
          49.6,
          42,
          -18.9166666666666,
          -13.9666666666666,
          3.16666666666666,
          4.16666666666666,
          12.65,
          35.8833333333333,
          7.1,
          18.0666666666666,
          -20.15,
          19.4333333333333,
          6.91666666666666,
          47,
          43.7333333333333,
          47.9166666666666,
          42.4333333333333,
          34.0166666666666,
          -25.95,
          -22.5666666666666,
          27.7166666666666,
          52.35,
          -41.3,
          12.1333333333333,
          13.5166666666666,
          9.08333333333333,
          59.9166666666666,
          23.6166666666666,
          33.6833333333333,
          7.48333333333333,
          8.96666666666666,
          -9.45,
          -25.2666666666666,
          -12.05,
          14.6,
          52.25,
          38.7166666666666,
          25.2833333333333,
          44.4333333333333,
          -1.95,
          17.3,
          14,
          13.1333333333333,
          -13.8166666666666,
          43.9333333333333,
          0.333333333333333,
          24.65,
          14.7333333333333,
          44.8333333333333,
          -4.61666666666666,
          8.48333333333333,
          1.28333333333333,
          48.15,
          46.05,
          -9.43333333333333,
          -25.7,
          40.4,
          6.91666666666666,
          5.83333333333333,
          -26.3166666666666,
          59.3333333333333,
          46.9166666666666,
          25.0333333333333,
          38.55,
          -6.8,
          13.75,
          -8.58333333333333,
          6.11666666666666,
          -21.1333333333333,
          10.65,
          36.8,
          39.9333333333333,
          -8.51666666666666,
          0.316666666666666,
          50.4333333333333,
          24.4666666666666,
          51.5,
          38.883333,
          -34.85,
          41.3166666666666,
          -17.7333333333333,
          10.4833333333333,
          21.0333333333333,
          -15.4166666666666,
          -17.8166666666666,
          0,
          0
         ],
         "legendgroup": "",
         "lon": [
          35.233333,
          166.920867,
          19.816667,
          3.05,
          1.516667,
          13.216667,
          -61.85,
          -58.666667,
          44.5,
          149.133333,
          16.366667,
          49.866667,
          -77.35,
          50.566667,
          90.4,
          -59.616667,
          27.566667,
          4.333333,
          -88.766667,
          2.616667,
          89.633333,
          -68.15,
          18.416667,
          25.9,
          -47.916667,
          114.933333,
          23.316667,
          -1.516667,
          29.35,
          104.916667,
          11.516667,
          -75.7,
          -23.516667,
          15.033333,
          -70.666667,
          -74.083333,
          43.233333,
          15.3,
          15.283333,
          -84.083333,
          -5.266667,
          16,
          -68.916667,
          33.366667,
          14.466667,
          12.583333,
          43.15,
          -61.4,
          -69.9,
          -78.5,
          31.25,
          -89.2,
          8.783333,
          24.716667,
          38.7,
          178.416667,
          24.933333,
          2.333333,
          9.45,
          -16.566667,
          44.833333,
          13.4,
          -0.216667,
          23.733333,
          -61.75,
          -90.516667,
          -13.7,
          -15.583333,
          -58.15,
          -72.333333,
          -87.216667,
          19.083333,
          -21.95,
          77.2,
          106.816667,
          44.4,
          -6.233333,
          35.233333,
          12.483333,
          -76.8,
          139.75,
          35.933333,
          71.416667,
          36.816667,
          169.533333,
          126.983333,
          47.966667,
          74.6,
          102.6,
          24.1,
          35.5,
          27.483333,
          -10.8,
          13.166667,
          9.516667,
          25.316667,
          6.116667,
          21.433333,
          47.516667,
          33.783333,
          101.7,
          73.5,
          -8,
          14.5,
          171.383333,
          -15.966667,
          57.483333,
          -99.133333,
          158.15,
          28.85,
          7.416667,
          106.916667,
          19.266667,
          -6.816667,
          32.583333,
          17.083333,
          85.316667,
          4.916667,
          174.783333,
          -86.25,
          2.116667,
          7.533333,
          10.75,
          58.583333,
          73.05,
          134.633333,
          -79.533333,
          147.183333,
          -57.666667,
          -77.05,
          120.966667,
          21,
          -9.133333,
          51.533333,
          26.1,
          30.05,
          -62.716667,
          -61,
          -61.216667,
          -171.766667,
          12.416667,
          6.733333,
          46.7,
          -17.633333,
          20.5,
          55.45,
          -13.233333,
          103.85,
          17.116667,
          14.516667,
          159.95,
          28.216667,
          -3.683333,
          79.833333,
          -55.166667,
          31.133333,
          18.05,
          7.466667,
          121.516667,
          68.766667,
          39.283333,
          100.516667,
          125.6,
          1.216667,
          -175.2,
          -61.516667,
          10.183333,
          32.866667,
          179.216667,
          32.55,
          30.516667,
          54.366667,
          -0.083333,
          -77,
          -56.166667,
          69.25,
          168.316667,
          -66.866667,
          105.85,
          28.283333,
          31.033333,
          0,
          0
         ],
         "marker": {
          "color": "#000001"
         },
         "mode": "markers",
         "name": "",
         "showlegend": false,
         "subplot": "mapbox",
         "type": "scattermapbox"
        }
       ],
       "layout": {
        "legend": {
         "tracegroupgap": 0
        },
        "mapbox": {
         "center": {
          "lat": 17.990358650273212,
          "lon": 19.48490454644809
         },
         "domain": {
          "x": [
           0,
           1
          ],
          "y": [
           0,
           1
          ]
         },
         "zoom": 8
        },
        "template": {
         "data": {
          "candlestick": [
           {
            "decreasing": {
             "line": {
              "color": "#000033"
             }
            },
            "increasing": {
             "line": {
              "color": "#000032"
             }
            },
            "type": "candlestick"
           }
          ],
          "contour": [
           {
            "colorscale": [
             [
              0,
              "#000011"
             ],
             [
              0.1111111111111111,
              "#000012"
             ],
             [
              0.2222222222222222,
              "#000013"
             ],
             [
              0.3333333333333333,
              "#000014"
             ],
             [
              0.4444444444444444,
              "#000015"
             ],
             [
              0.5555555555555556,
              "#000016"
             ],
             [
              0.6666666666666666,
              "#000017"
             ],
             [
              0.7777777777777778,
              "#000018"
             ],
             [
              0.8888888888888888,
              "#000019"
             ],
             [
              1,
              "#000020"
             ]
            ],
            "type": "contour"
           }
          ],
          "contourcarpet": [
           {
            "colorscale": [
             [
              0,
              "#000011"
             ],
             [
              0.1111111111111111,
              "#000012"
             ],
             [
              0.2222222222222222,
              "#000013"
             ],
             [
              0.3333333333333333,
              "#000014"
             ],
             [
              0.4444444444444444,
              "#000015"
             ],
             [
              0.5555555555555556,
              "#000016"
             ],
             [
              0.6666666666666666,
              "#000017"
             ],
             [
              0.7777777777777778,
              "#000018"
             ],
             [
              0.8888888888888888,
              "#000019"
             ],
             [
              1,
              "#000020"
             ]
            ],
            "type": "contourcarpet"
           }
          ],
          "heatmap": [
           {
            "colorscale": [
             [
              0,
              "#000011"
             ],
             [
              0.1111111111111111,
              "#000012"
             ],
             [
              0.2222222222222222,
              "#000013"
             ],
             [
              0.3333333333333333,
              "#000014"
             ],
             [
              0.4444444444444444,
              "#000015"
             ],
             [
              0.5555555555555556,
              "#000016"
             ],
             [
              0.6666666666666666,
              "#000017"
             ],
             [
              0.7777777777777778,
              "#000018"
             ],
             [
              0.8888888888888888,
              "#000019"
             ],
             [
              1,
              "#000020"
             ]
            ],
            "type": "heatmap"
           }
          ],
          "histogram2d": [
           {
            "colorscale": [
             [
              0,
              "#000011"
             ],
             [
              0.1111111111111111,
              "#000012"
             ],
             [
              0.2222222222222222,
              "#000013"
             ],
             [
              0.3333333333333333,
              "#000014"
             ],
             [
              0.4444444444444444,
              "#000015"
             ],
             [
              0.5555555555555556,
              "#000016"
             ],
             [
              0.6666666666666666,
              "#000017"
             ],
             [
              0.7777777777777778,
              "#000018"
             ],
             [
              0.8888888888888888,
              "#000019"
             ],
             [
              1,
              "#000020"
             ]
            ],
            "type": "histogram2d"
           }
          ],
          "icicle": [
           {
            "textfont": {
             "color": "white"
            },
            "type": "icicle"
           }
          ],
          "sankey": [
           {
            "textfont": {
             "color": "#000036"
            },
            "type": "sankey"
           }
          ],
          "scatter": [
           {
            "marker": {
             "line": {
              "width": 0
             }
            },
            "type": "scatter"
           }
          ],
          "table": [
           {
            "cells": {
             "fill": {
              "color": "#000038"
             },
             "font": {
              "color": "#000037"
             },
             "line": {
              "color": "#000039"
             }
            },
            "header": {
             "fill": {
              "color": "#000040"
             },
             "font": {
              "color": "#000036"
             },
             "line": {
              "color": "#000039"
             }
            },
            "type": "table"
           }
          ],
          "waterfall": [
           {
            "connector": {
             "line": {
              "color": "#000036",
              "width": 2
             }
            },
            "decreasing": {
             "marker": {
              "color": "#000033"
             }
            },
            "increasing": {
             "marker": {
              "color": "#000032"
             }
            },
            "totals": {
             "marker": {
              "color": "#000034"
             }
            },
            "type": "waterfall"
           }
          ]
         },
         "layout": {
          "coloraxis": {
           "colorscale": [
            [
             0,
             "#000011"
            ],
            [
             0.1111111111111111,
             "#000012"
            ],
            [
             0.2222222222222222,
             "#000013"
            ],
            [
             0.3333333333333333,
             "#000014"
            ],
            [
             0.4444444444444444,
             "#000015"
            ],
            [
             0.5555555555555556,
             "#000016"
            ],
            [
             0.6666666666666666,
             "#000017"
            ],
            [
             0.7777777777777778,
             "#000018"
            ],
            [
             0.8888888888888888,
             "#000019"
            ],
            [
             1,
             "#000020"
            ]
           ]
          },
          "colorscale": {
           "diverging": [
            [
             0,
             "#000021"
            ],
            [
             0.1,
             "#000022"
            ],
            [
             0.2,
             "#000023"
            ],
            [
             0.3,
             "#000024"
            ],
            [
             0.4,
             "#000025"
            ],
            [
             0.5,
             "#000026"
            ],
            [
             0.6,
             "#000027"
            ],
            [
             0.7,
             "#000028"
            ],
            [
             0.8,
             "#000029"
            ],
            [
             0.9,
             "#000030"
            ],
            [
             1,
             "#000031"
            ]
           ],
           "sequential": [
            [
             0,
             "#000011"
            ],
            [
             0.1111111111111111,
             "#000012"
            ],
            [
             0.2222222222222222,
             "#000013"
            ],
            [
             0.3333333333333333,
             "#000014"
            ],
            [
             0.4444444444444444,
             "#000015"
            ],
            [
             0.5555555555555556,
             "#000016"
            ],
            [
             0.6666666666666666,
             "#000017"
            ],
            [
             0.7777777777777778,
             "#000018"
            ],
            [
             0.8888888888888888,
             "#000019"
            ],
            [
             1,
             "#000020"
            ]
           ],
           "sequentialminus": [
            [
             0,
             "#000011"
            ],
            [
             0.1111111111111111,
             "#000012"
            ],
            [
             0.2222222222222222,
             "#000013"
            ],
            [
             0.3333333333333333,
             "#000014"
            ],
            [
             0.4444444444444444,
             "#000015"
            ],
            [
             0.5555555555555556,
             "#000016"
            ],
            [
             0.6666666666666666,
             "#000017"
            ],
            [
             0.7777777777777778,
             "#000018"
            ],
            [
             0.8888888888888888,
             "#000019"
            ],
            [
             1,
             "#000020"
            ]
           ]
          },
          "colorway": [
           "#000001",
           "#000002",
           "#000003",
           "#000004",
           "#000005",
           "#000006",
           "#000007",
           "#000008",
           "#000009",
           "#000010"
          ]
         }
        },
        "title": {
         "text": "Number of countries"
        }
       }
      }
     },
     "metadata": {},
     "output_type": "display_data"
    }
   ],
   "source": [
    "#test = df.groupby('continent')['continent'].count()\n",
    "fig2 = px.scatter_mapbox(df, lat='cap_lat', lon='cap_lon', title=\"Number of countries\")\n",
    "pyo.iplot(fig2)"
   ]
  },
  {
   "attachments": {},
   "cell_type": "markdown",
   "metadata": {},
   "source": [
    "# Updates"
   ]
  },
  {
   "cell_type": "code",
   "execution_count": 19,
   "metadata": {},
   "outputs": [],
   "source": [
    "# Read country data\n",
    "df_countries= pd.read_excel(r'C:\\Users\\sofia\\OneDrive\\Documentos\\GitHub\\bigdataproject\\app\\data\\country-available-final.xlsx')\n",
    "df_countries.iloc[115,4]='NA' #Modify for Namibia: it detects NaN instead of NA country code\n"
   ]
  },
  {
   "cell_type": "code",
   "execution_count": 20,
   "metadata": {},
   "outputs": [],
   "source": [
    "# Function to update new releases in the dataframe\n",
    "def update_new_releases(pickle_file_path):\n",
    "    # Load the new_releases\n",
    "    with open(pickle_file_path, 'rb') as file:\n",
    "        df_countries = pickle.load(file)\n",
    "    \n",
    "    #Modify for Namibia: it detects NaN instead of NA country code\n",
    "    df_countries.iloc[115,4]='NA' \n",
    "        \n",
    "    # Get the new releases per country\n",
    "    df_countries['new_releases'] = [get_new_releases(df_countries.loc[index, 'country']) for index in range(len(df_countries))]\n",
    "\n",
    "    # Get the new release artist\n",
    "    df_countries['artist'] = [get_artist_new_releases(df_countries.loc[index, 'country']) for index in range(len(df_countries))]\n",
    "\n",
    "     # Save the updated dataframe to a temporary pickle file\n",
    "    temp_pickle_file_path = os.path.splitext(pickle_file_path)[0] + '_temp.pkl'\n",
    "    with open(temp_pickle_file_path, 'wb') as file:\n",
    "        pickle.dump(df_countries, file)\n",
    "\n",
    "    # Replace the original pickle file with the updated one\n",
    "    os.replace(temp_pickle_file_path, pickle_file_path)\n",
    "    print(\"New releases updated successfully!\")\n"
   ]
  },
  {
   "cell_type": "code",
   "execution_count": 21,
   "metadata": {},
   "outputs": [
    {
     "name": "stdout",
     "output_type": "stream",
     "text": [
      "New releases updated successfully!\n"
     ]
    }
   ],
   "source": [
    "pickle_file_path= r\"C:\\Users\\sofia\\OneDrive\\Documentos\\GitHub\\bigdataproject\\app\\data\\new_releases.pkl\"\n",
    "update_new_releases(pickle_file_path)"
   ]
  },
  {
   "cell_type": "code",
   "execution_count": 22,
   "metadata": {},
   "outputs": [
    {
     "data": {
      "text/html": [
       "<div>\n",
       "<style scoped>\n",
       "    .dataframe tbody tr th:only-of-type {\n",
       "        vertical-align: middle;\n",
       "    }\n",
       "\n",
       "    .dataframe tbody tr th {\n",
       "        vertical-align: top;\n",
       "    }\n",
       "\n",
       "    .dataframe thead th {\n",
       "        text-align: right;\n",
       "    }\n",
       "</style>\n",
       "<table border=\"1\" class=\"dataframe\">\n",
       "  <thead>\n",
       "    <tr style=\"text-align: right;\">\n",
       "      <th></th>\n",
       "      <th>country</th>\n",
       "      <th>capital</th>\n",
       "      <th>cap_lat</th>\n",
       "      <th>cap_lon</th>\n",
       "      <th>country_code</th>\n",
       "      <th>continent</th>\n",
       "      <th>new_releases</th>\n",
       "      <th>artist</th>\n",
       "    </tr>\n",
       "  </thead>\n",
       "  <tbody>\n",
       "    <tr>\n",
       "      <th>0</th>\n",
       "      <td>Palestine</td>\n",
       "      <td>Jerusalem</td>\n",
       "      <td>31.766667</td>\n",
       "      <td>35.233333</td>\n",
       "      <td>PS</td>\n",
       "      <td>Asia</td>\n",
       "      <td>TUYA</td>\n",
       "      <td>ROSALÍA</td>\n",
       "    </tr>\n",
       "    <tr>\n",
       "      <th>1</th>\n",
       "      <td>Nauru</td>\n",
       "      <td>Yaren</td>\n",
       "      <td>-0.547700</td>\n",
       "      <td>166.920867</td>\n",
       "      <td>NR</td>\n",
       "      <td>Australia</td>\n",
       "      <td>BLONDE16</td>\n",
       "      <td>Miliyah</td>\n",
       "    </tr>\n",
       "    <tr>\n",
       "      <th>2</th>\n",
       "      <td>Albania</td>\n",
       "      <td>Tirana</td>\n",
       "      <td>41.316667</td>\n",
       "      <td>19.816667</td>\n",
       "      <td>AL</td>\n",
       "      <td>Europe</td>\n",
       "      <td>Ku Je Ti (feat. Ricky Rich &amp; Dafina Zeqiri)</td>\n",
       "      <td>DYSTINCT</td>\n",
       "    </tr>\n",
       "    <tr>\n",
       "      <th>3</th>\n",
       "      <td>Algeria</td>\n",
       "      <td>Algiers</td>\n",
       "      <td>36.750000</td>\n",
       "      <td>3.050000</td>\n",
       "      <td>DZ</td>\n",
       "      <td>Africa</td>\n",
       "      <td>Zarzour</td>\n",
       "      <td>Lartiste</td>\n",
       "    </tr>\n",
       "    <tr>\n",
       "      <th>4</th>\n",
       "      <td>Andorra</td>\n",
       "      <td>Andorra la Vella</td>\n",
       "      <td>42.500000</td>\n",
       "      <td>1.516667</td>\n",
       "      <td>AD</td>\n",
       "      <td>Europe</td>\n",
       "      <td>Alchemy</td>\n",
       "      <td>Disclosure</td>\n",
       "    </tr>\n",
       "  </tbody>\n",
       "</table>\n",
       "</div>"
      ],
      "text/plain": [
       "     country           capital    cap_lat     cap_lon country_code  continent  \\\n",
       "0  Palestine         Jerusalem  31.766667   35.233333           PS       Asia   \n",
       "1      Nauru             Yaren  -0.547700  166.920867           NR  Australia   \n",
       "2    Albania            Tirana  41.316667   19.816667           AL     Europe   \n",
       "3    Algeria           Algiers  36.750000    3.050000           DZ     Africa   \n",
       "4    Andorra  Andorra la Vella  42.500000    1.516667           AD     Europe   \n",
       "\n",
       "                                  new_releases      artist  \n",
       "0                                         TUYA     ROSALÍA  \n",
       "1                                     BLONDE16     Miliyah  \n",
       "2  Ku Je Ti (feat. Ricky Rich & Dafina Zeqiri)    DYSTINCT  \n",
       "3                                      Zarzour    Lartiste  \n",
       "4                                      Alchemy  Disclosure  "
      ]
     },
     "execution_count": 22,
     "metadata": {},
     "output_type": "execute_result"
    }
   ],
   "source": [
    "file= pd.read_pickle(r'C:\\Users\\sofia\\OneDrive\\Documentos\\GitHub\\bigdataproject\\app\\data\\new_releases.pkl')\n",
    "file.head()"
   ]
  },
  {
   "cell_type": "code",
   "execution_count": 23,
   "metadata": {},
   "outputs": [
    {
     "data": {
      "text/html": [
       "<div>\n",
       "<style scoped>\n",
       "    .dataframe tbody tr th:only-of-type {\n",
       "        vertical-align: middle;\n",
       "    }\n",
       "\n",
       "    .dataframe tbody tr th {\n",
       "        vertical-align: top;\n",
       "    }\n",
       "\n",
       "    .dataframe thead th {\n",
       "        text-align: right;\n",
       "    }\n",
       "</style>\n",
       "<table border=\"1\" class=\"dataframe\">\n",
       "  <thead>\n",
       "    <tr style=\"text-align: right;\">\n",
       "      <th></th>\n",
       "      <th>country</th>\n",
       "      <th>capital</th>\n",
       "      <th>cap_lat</th>\n",
       "      <th>cap_lon</th>\n",
       "      <th>country_code</th>\n",
       "      <th>continent</th>\n",
       "      <th>new_releases</th>\n",
       "      <th>artist</th>\n",
       "    </tr>\n",
       "  </thead>\n",
       "  <tbody>\n",
       "    <tr>\n",
       "      <th>7</th>\n",
       "      <td>Argentina</td>\n",
       "      <td>Buenos Aires</td>\n",
       "      <td>-34.583333</td>\n",
       "      <td>-58.666667</td>\n",
       "      <td>AR</td>\n",
       "      <td>South America</td>\n",
       "      <td>Antes de Ameri</td>\n",
       "      <td>Duki</td>\n",
       "    </tr>\n",
       "  </tbody>\n",
       "</table>\n",
       "</div>"
      ],
      "text/plain": [
       "     country       capital    cap_lat    cap_lon country_code      continent  \\\n",
       "7  Argentina  Buenos Aires -34.583333 -58.666667           AR  South America   \n",
       "\n",
       "     new_releases artist  \n",
       "7  Antes de Ameri   Duki  "
      ]
     },
     "execution_count": 23,
     "metadata": {},
     "output_type": "execute_result"
    }
   ],
   "source": [
    "file[file['country']=='Argentina']"
   ]
  },
  {
   "cell_type": "code",
   "execution_count": 47,
   "metadata": {},
   "outputs": [
    {
     "ename": "KeyboardInterrupt",
     "evalue": "",
     "output_type": "error",
     "traceback": [
      "\u001b[1;31m---------------------------------------------------------------------------\u001b[0m",
      "\u001b[1;31mKeyboardInterrupt\u001b[0m                         Traceback (most recent call last)",
      "Cell \u001b[1;32mIn[47], line 6\u001b[0m\n\u001b[0;32m      4\u001b[0m \u001b[39mwhile\u001b[39;00m \u001b[39mTrue\u001b[39;00m: \u001b[39m# This starts an infinite loop.\u001b[39;00m\n\u001b[0;32m      5\u001b[0m     schedule\u001b[39m.\u001b[39mrun_pending() \u001b[39m# This line checks if there are any scheduled tasks that are due to run and executes them. If there are no pending tasks, it does nothing.\u001b[39;00m\n\u001b[1;32m----> 6\u001b[0m     time\u001b[39m.\u001b[39;49msleep(\u001b[39m1\u001b[39;49m)\n",
      "\u001b[1;31mKeyboardInterrupt\u001b[0m: "
     ]
    }
   ],
   "source": [
    "\n",
    "pickle_file_path= r\"C:\\Users\\sofia\\OneDrive\\Documentos\\GitHub\\bigdataproject\\app\\data\\new_releases.pkl\"\n",
    "schedule.every(3).days.at(\"00:00\").do(update_new_releases, pickle_file_path)\n",
    "\n",
    "while True: # This starts an infinite loop.\n",
    "    schedule.run_pending() # This line checks if there are any scheduled tasks that are due to run and executes them. If there are no pending tasks, it does nothing.\n",
    "    time.sleep(1) #After checking for pending tasks, the program pauses for 1 second using the time.sleep() function. This ensures that the loop doesn't consume excessive resources and provides a delay between iterations."
   ]
  },
  {
   "cell_type": "code",
   "execution_count": 17,
   "metadata": {},
   "outputs": [
    {
     "data": {
      "text/html": [
       "<div>\n",
       "<style scoped>\n",
       "    .dataframe tbody tr th:only-of-type {\n",
       "        vertical-align: middle;\n",
       "    }\n",
       "\n",
       "    .dataframe tbody tr th {\n",
       "        vertical-align: top;\n",
       "    }\n",
       "\n",
       "    .dataframe thead th {\n",
       "        text-align: right;\n",
       "    }\n",
       "</style>\n",
       "<table border=\"1\" class=\"dataframe\">\n",
       "  <thead>\n",
       "    <tr style=\"text-align: right;\">\n",
       "      <th></th>\n",
       "      <th>country</th>\n",
       "      <th>capital</th>\n",
       "      <th>cap_lat</th>\n",
       "      <th>cap_lon</th>\n",
       "      <th>country_code</th>\n",
       "      <th>continent</th>\n",
       "      <th>new_releases</th>\n",
       "      <th>artist</th>\n",
       "    </tr>\n",
       "  </thead>\n",
       "  <tbody>\n",
       "    <tr>\n",
       "      <th>5</th>\n",
       "      <td>Angola</td>\n",
       "      <td>Luanda</td>\n",
       "      <td>-8.833333</td>\n",
       "      <td>13.216667</td>\n",
       "      <td>AO</td>\n",
       "      <td>Africa</td>\n",
       "      <td>Harry's House</td>\n",
       "      <td>Harry Styles</td>\n",
       "    </tr>\n",
       "    <tr>\n",
       "      <th>6</th>\n",
       "      <td>Antigua and Barbuda</td>\n",
       "      <td>Saint John's</td>\n",
       "      <td>17.116667</td>\n",
       "      <td>-61.850000</td>\n",
       "      <td>AG</td>\n",
       "      <td>North America</td>\n",
       "      <td>Harry's House</td>\n",
       "      <td>Harry Styles</td>\n",
       "    </tr>\n",
       "    <tr>\n",
       "      <th>7</th>\n",
       "      <td>Argentina</td>\n",
       "      <td>Buenos Aires</td>\n",
       "      <td>-34.583333</td>\n",
       "      <td>-58.666667</td>\n",
       "      <td>AR</td>\n",
       "      <td>South America</td>\n",
       "      <td>El Final de Las Cosas</td>\n",
       "      <td>Barbi Recanati</td>\n",
       "    </tr>\n",
       "    <tr>\n",
       "      <th>8</th>\n",
       "      <td>Armenia</td>\n",
       "      <td>Yerevan</td>\n",
       "      <td>40.166667</td>\n",
       "      <td>44.500000</td>\n",
       "      <td>AM</td>\n",
       "      <td>Europe</td>\n",
       "      <td>Harry's House</td>\n",
       "      <td>Harry Styles</td>\n",
       "    </tr>\n",
       "    <tr>\n",
       "      <th>9</th>\n",
       "      <td>Australia</td>\n",
       "      <td>Canberra</td>\n",
       "      <td>-35.266667</td>\n",
       "      <td>149.133333</td>\n",
       "      <td>AU</td>\n",
       "      <td>Australia</td>\n",
       "      <td>The Winding Way</td>\n",
       "      <td>The Teskey Brothers</td>\n",
       "    </tr>\n",
       "    <tr>\n",
       "      <th>...</th>\n",
       "      <td>...</td>\n",
       "      <td>...</td>\n",
       "      <td>...</td>\n",
       "      <td>...</td>\n",
       "      <td>...</td>\n",
       "      <td>...</td>\n",
       "      <td>...</td>\n",
       "      <td>...</td>\n",
       "    </tr>\n",
       "    <tr>\n",
       "      <th>178</th>\n",
       "      <td>Vietnam</td>\n",
       "      <td>Hanoi</td>\n",
       "      <td>21.033333</td>\n",
       "      <td>105.850000</td>\n",
       "      <td>VN</td>\n",
       "      <td>Asia</td>\n",
       "      <td>Promise</td>\n",
       "      <td>Laufey</td>\n",
       "    </tr>\n",
       "    <tr>\n",
       "      <th>179</th>\n",
       "      <td>Zambia</td>\n",
       "      <td>Lusaka</td>\n",
       "      <td>-15.416667</td>\n",
       "      <td>28.283333</td>\n",
       "      <td>ZM</td>\n",
       "      <td>Africa</td>\n",
       "      <td>Harry's House</td>\n",
       "      <td>Harry Styles</td>\n",
       "    </tr>\n",
       "    <tr>\n",
       "      <th>180</th>\n",
       "      <td>Zimbabwe</td>\n",
       "      <td>Harare</td>\n",
       "      <td>-17.816667</td>\n",
       "      <td>31.033333</td>\n",
       "      <td>ZW</td>\n",
       "      <td>Africa</td>\n",
       "      <td>Harry's House</td>\n",
       "      <td>Harry Styles</td>\n",
       "    </tr>\n",
       "    <tr>\n",
       "      <th>181</th>\n",
       "      <td>Hong Kong</td>\n",
       "      <td>NaN</td>\n",
       "      <td>0.000000</td>\n",
       "      <td>0.000000</td>\n",
       "      <td>HK</td>\n",
       "      <td>Asia</td>\n",
       "      <td>Promise</td>\n",
       "      <td>Laufey</td>\n",
       "    </tr>\n",
       "    <tr>\n",
       "      <th>182</th>\n",
       "      <td>Macau</td>\n",
       "      <td>NaN</td>\n",
       "      <td>0.000000</td>\n",
       "      <td>0.000000</td>\n",
       "      <td>MO</td>\n",
       "      <td>Asia</td>\n",
       "      <td>6TH MINI ALBUM [Goosebumps]</td>\n",
       "      <td>ONF</td>\n",
       "    </tr>\n",
       "  </tbody>\n",
       "</table>\n",
       "<p>178 rows × 8 columns</p>\n",
       "</div>"
      ],
      "text/plain": [
       "                 country       capital    cap_lat     cap_lon country_code  \\\n",
       "5                 Angola        Luanda  -8.833333   13.216667           AO   \n",
       "6    Antigua and Barbuda  Saint John's  17.116667  -61.850000           AG   \n",
       "7              Argentina  Buenos Aires -34.583333  -58.666667           AR   \n",
       "8                Armenia       Yerevan  40.166667   44.500000           AM   \n",
       "9              Australia      Canberra -35.266667  149.133333           AU   \n",
       "..                   ...           ...        ...         ...          ...   \n",
       "178              Vietnam         Hanoi  21.033333  105.850000           VN   \n",
       "179               Zambia        Lusaka -15.416667   28.283333           ZM   \n",
       "180             Zimbabwe        Harare -17.816667   31.033333           ZW   \n",
       "181            Hong Kong           NaN   0.000000    0.000000           HK   \n",
       "182                Macau           NaN   0.000000    0.000000           MO   \n",
       "\n",
       "         continent                 new_releases               artist  \n",
       "5           Africa                Harry's House         Harry Styles  \n",
       "6    North America                Harry's House         Harry Styles  \n",
       "7    South America        El Final de Las Cosas       Barbi Recanati  \n",
       "8           Europe                Harry's House         Harry Styles  \n",
       "9        Australia              The Winding Way  The Teskey Brothers  \n",
       "..             ...                          ...                  ...  \n",
       "178           Asia                      Promise               Laufey  \n",
       "179         Africa                Harry's House         Harry Styles  \n",
       "180         Africa                Harry's House         Harry Styles  \n",
       "181           Asia                      Promise               Laufey  \n",
       "182           Asia  6TH MINI ALBUM [Goosebumps]                  ONF  \n",
       "\n",
       "[178 rows x 8 columns]"
      ]
     },
     "execution_count": 17,
     "metadata": {},
     "output_type": "execute_result"
    }
   ],
   "source": [
    "df_countries.loc[5:183]"
   ]
  },
  {
   "cell_type": "code",
   "execution_count": null,
   "metadata": {},
   "outputs": [],
   "source": []
  }
 ],
 "metadata": {
  "kernelspec": {
   "display_name": "base",
   "language": "python",
   "name": "python3"
  },
  "language_info": {
   "codemirror_mode": {
    "name": "ipython",
    "version": 3
   },
   "file_extension": ".py",
   "mimetype": "text/x-python",
   "name": "python",
   "nbconvert_exporter": "python",
   "pygments_lexer": "ipython3",
   "version": "3.9.12"
  },
  "orig_nbformat": 4
 },
 "nbformat": 4,
 "nbformat_minor": 2
}
